{
  "nbformat": 4,
  "nbformat_minor": 0,
  "metadata": {
    "colab": {
      "provenance": []
    },
    "kernelspec": {
      "name": "python3",
      "display_name": "Python 3"
    },
    "language_info": {
      "name": "python"
    }
  },
  "cells": [
    {
      "cell_type": "code",
      "execution_count": 1,
      "metadata": {
        "colab": {
          "base_uri": "https://localhost:8080/"
        },
        "id": "x9UUHkxW-F3N",
        "outputId": "a314b398-fab1-4f44-d3bb-645a98644a7e"
      },
      "outputs": [
        {
          "output_type": "stream",
          "name": "stdout",
          "text": [
            "1 2 3\n"
          ]
        }
      ],
      "source": [
        "print(1, 2, 3)"
      ]
    },
    {
      "cell_type": "code",
      "source": [
        "print([1,2,3])"
      ],
      "metadata": {
        "colab": {
          "base_uri": "https://localhost:8080/"
        },
        "id": "k9pynK1O-Wc1",
        "outputId": "ee08eacc-3b0a-4be8-8bf3-4424fa136fa9"
      },
      "execution_count": 2,
      "outputs": [
        {
          "output_type": "stream",
          "name": "stdout",
          "text": [
            "[1, 2, 3]\n"
          ]
        }
      ]
    },
    {
      "cell_type": "code",
      "source": [
        "print(\"Hello World!\")"
      ],
      "metadata": {
        "colab": {
          "base_uri": "https://localhost:8080/"
        },
        "id": "TOrn6fuz-eT_",
        "outputId": "c879ca2a-2045-4129-9751-450a5dbeb2c1"
      },
      "execution_count": 3,
      "outputs": [
        {
          "output_type": "stream",
          "name": "stdout",
          "text": [
            "Hello World!\n"
          ]
        }
      ]
    },
    {
      "cell_type": "code",
      "source": [
        "print(\"Hello\", \"World\", \"!\")"
      ],
      "metadata": {
        "colab": {
          "base_uri": "https://localhost:8080/"
        },
        "id": "OlF-z9TN-mff",
        "outputId": "181c214d-b8b5-480b-e6db-8e7463c5e84d"
      },
      "execution_count": 4,
      "outputs": [
        {
          "output_type": "stream",
          "name": "stdout",
          "text": [
            "Hello World !\n"
          ]
        }
      ]
    },
    {
      "cell_type": "code",
      "source": [
        "a=1\n",
        "b=1\n",
        "a+b"
      ],
      "metadata": {
        "colab": {
          "base_uri": "https://localhost:8080/"
        },
        "id": "kdhidbkH-siI",
        "outputId": "ad62afef-8ef1-4d63-90ba-7d9fc3e7e017"
      },
      "execution_count": 5,
      "outputs": [
        {
          "output_type": "execute_result",
          "data": {
            "text/plain": [
              "2"
            ]
          },
          "metadata": {},
          "execution_count": 5
        }
      ]
    },
    {
      "cell_type": "code",
      "source": [
        "name=\"권도희\"\n",
        "print(name)"
      ],
      "metadata": {
        "colab": {
          "base_uri": "https://localhost:8080/"
        },
        "id": "3dc7ZbYz-yk7",
        "outputId": "ef2d1d5c-28dd-4735-f9c6-df0255c464f5"
      },
      "execution_count": 6,
      "outputs": [
        {
          "output_type": "stream",
          "name": "stdout",
          "text": [
            "권도희\n"
          ]
        }
      ]
    },
    {
      "cell_type": "code",
      "source": [
        "print('이건 한 줄 주석입니다')\n",
        "#과연 주석이 나타날까요?"
      ],
      "metadata": {
        "colab": {
          "base_uri": "https://localhost:8080/"
        },
        "id": "zTxyyw2N_OSY",
        "outputId": "47d06511-e0ea-49dc-9ad9-69582a13188b"
      },
      "execution_count": 7,
      "outputs": [
        {
          "output_type": "stream",
          "name": "stdout",
          "text": [
            "이건 한 줄 주석입니다\n"
          ]
        }
      ]
    },
    {
      "cell_type": "code",
      "source": [
        "print('이건 여러줄 주석입니다')"
      ],
      "metadata": {
        "colab": {
          "base_uri": "https://localhost:8080/"
        },
        "id": "GCm0Lpf4_WaJ",
        "outputId": "dd18e4c4-4b85-4e1e-f424-143acc9e137d"
      },
      "execution_count": 8,
      "outputs": [
        {
          "output_type": "stream",
          "name": "stdout",
          "text": [
            "이건 여러줄 주석입니다\n"
          ]
        }
      ]
    },
    {
      "cell_type": "code",
      "source": [
        "print('이건 여러 줄 주석입니다')\n",
        "'''\n",
        "안녕하세요. 이건 여러 줄 주석인데요.\n",
        "잘 실행이 될지 궁금하네요.\n",
        "'''"
      ],
      "metadata": {
        "colab": {
          "base_uri": "https://localhost:8080/",
          "height": 52
        },
        "id": "1RhncEEz_YiJ",
        "outputId": "92c5b630-a828-4958-b608-a941fa01be38"
      },
      "execution_count": 9,
      "outputs": [
        {
          "output_type": "stream",
          "name": "stdout",
          "text": [
            "이건 여러 줄 주석입니다\n"
          ]
        },
        {
          "output_type": "execute_result",
          "data": {
            "text/plain": [
              "'\\n안녕하세요. 이건 여러 줄 주석인데요.\\n잘 실행이 될지 궁금하네요.\\n'"
            ],
            "application/vnd.google.colaboratory.intrinsic+json": {
              "type": "string"
            }
          },
          "metadata": {},
          "execution_count": 9
        }
      ]
    },
    {
      "cell_type": "code",
      "source": [
        "print('여러줄주석의시작')\n",
        "'''\n",
        "여러줄\n",
        "주석을\n",
        "달아보\n",
        "아아요\n",
        "'''\n",
        "print('여러줄주석의끝')"
      ],
      "metadata": {
        "colab": {
          "base_uri": "https://localhost:8080/"
        },
        "id": "BFAUAloK_rHU",
        "outputId": "097ecc3f-6df5-4485-effd-d318355b0956"
      },
      "execution_count": 10,
      "outputs": [
        {
          "output_type": "stream",
          "name": "stdout",
          "text": [
            "여러줄주석의시작\n",
            "여러줄주석의끝\n"
          ]
        }
      ]
    },
    {
      "cell_type": "code",
      "source": [
        "print('신기하네요')"
      ],
      "metadata": {
        "colab": {
          "base_uri": "https://localhost:8080/"
        },
        "id": "xHrC0BsY_yHb",
        "outputId": "8491a1ab-75a3-43c2-d8ac-cc44d678e3b6"
      },
      "execution_count": 11,
      "outputs": [
        {
          "output_type": "stream",
          "name": "stdout",
          "text": [
            "신기하네요\n"
          ]
        }
      ]
    },
    {
      "cell_type": "code",
      "source": [
        "print('신기하네요')\n",
        "#여러줄\n",
        "#주석을\n",
        "#한줄씩"
      ],
      "metadata": {
        "colab": {
          "base_uri": "https://localhost:8080/"
        },
        "id": "ohxXtg-w_3Ey",
        "outputId": "da9857d7-6131-4603-b343-83867e83878e"
      },
      "execution_count": 12,
      "outputs": [
        {
          "output_type": "stream",
          "name": "stdout",
          "text": [
            "신기하네요\n"
          ]
        }
      ]
    },
    {
      "cell_type": "code",
      "source": [],
      "metadata": {
        "id": "2Gl_fk5H_7Uk"
      },
      "execution_count": null,
      "outputs": []
    }
  ]
}