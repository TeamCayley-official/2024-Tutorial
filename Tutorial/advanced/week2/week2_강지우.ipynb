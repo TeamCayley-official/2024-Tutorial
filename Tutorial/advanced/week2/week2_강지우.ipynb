{
 "cells": [
  {
   "cell_type": "markdown",
   "metadata": {},
   "source": [
    "도서관 정보나루(https://www.data4library.kr/)의 주소가 있는 데이터로 mapbox 이용해서 각자 지도 시각화"
   ]
  },
  {
   "cell_type": "code",
   "execution_count": 7,
   "metadata": {},
   "outputs": [],
   "source": [
    "import pandas as pd\n",
    "import numpy as np\n",
    "import glob as glob"
   ]
  },
  {
   "cell_type": "code",
   "execution_count": 16,
   "metadata": {},
   "outputs": [
    {
     "name": "stderr",
     "output_type": "stream",
     "text": [
      "c:\\Users\\kangj\\anaconda3\\Lib\\site-packages\\openpyxl\\styles\\stylesheet.py:226: UserWarning: Workbook contains no default style, apply openpyxl's default\n",
      "  warn(\"Workbook contains no default style, apply openpyxl's default\")\n"
     ]
    }
   ],
   "source": [
    "df2024 = pd.read_excel(\"C:/Users/kangj/Documents/팀케일리 실습용 폴더/대전 도서관 장서 대출목록/용운도서관 장서 대출목록 (2024년 04월).csv\")"
   ]
  },
  {
   "cell_type": "code",
   "execution_count": 22,
   "metadata": {},
   "outputs": [
    {
     "name": "stderr",
     "output_type": "stream",
     "text": [
      "c:\\Users\\kangj\\anaconda3\\Lib\\site-packages\\openpyxl\\styles\\stylesheet.py:226: UserWarning: Workbook contains no default style, apply openpyxl's default\n",
      "  warn(\"Workbook contains no default style, apply openpyxl's default\")\n",
      "c:\\Users\\kangj\\anaconda3\\Lib\\site-packages\\openpyxl\\styles\\stylesheet.py:226: UserWarning: Workbook contains no default style, apply openpyxl's default\n",
      "  warn(\"Workbook contains no default style, apply openpyxl's default\")\n",
      "c:\\Users\\kangj\\anaconda3\\Lib\\site-packages\\openpyxl\\styles\\stylesheet.py:226: UserWarning: Workbook contains no default style, apply openpyxl's default\n",
      "  warn(\"Workbook contains no default style, apply openpyxl's default\")\n",
      "c:\\Users\\kangj\\anaconda3\\Lib\\site-packages\\openpyxl\\styles\\stylesheet.py:226: UserWarning: Workbook contains no default style, apply openpyxl's default\n",
      "  warn(\"Workbook contains no default style, apply openpyxl's default\")\n",
      "c:\\Users\\kangj\\anaconda3\\Lib\\site-packages\\openpyxl\\styles\\stylesheet.py:226: UserWarning: Workbook contains no default style, apply openpyxl's default\n",
      "  warn(\"Workbook contains no default style, apply openpyxl's default\")\n",
      "c:\\Users\\kangj\\anaconda3\\Lib\\site-packages\\openpyxl\\styles\\stylesheet.py:226: UserWarning: Workbook contains no default style, apply openpyxl's default\n",
      "  warn(\"Workbook contains no default style, apply openpyxl's default\")\n"
     ]
    }
   ],
   "source": [
    "# 가오 도서관\n",
    "df_go = pd.read_excel(\"C:/Users/kangj/Documents/팀케일리 실습용 폴더/대전 도서관 장서 대출목록/가오도서관 장서 대출목록 (2024년 04월).csv\")\n",
    "\n",
    "# 용운 도서관\n",
    "df_yu = pd.read_excel(\"C:/Users/kangj/Documents/팀케일리 실습용 폴더/대전 도서관 장서 대출목록/용운도서관 장서 대출목록 (2024년 04월).csv\")"
   ]
  },
  {
   "cell_type": "code",
   "execution_count": 28,
   "metadata": {},
   "outputs": [
    {
     "name": "stdout",
     "output_type": "stream",
     "text": [
      "   번호                                    도서명           저자             출판사  \\\n",
      "0   1                  클래식의 클래식 : : . , /  =          이영록  Artlake(아트레이크)   \n",
      "1   2  일주일에 세 번, 동네문화센터에 놀러 갑니다 : : . , /  =          정경아            세미콜론   \n",
      "2   3           엄마의 세계는 준비가 필요해 : : . , /  =          김현정          지식과감성#   \n",
      "3   4         2024 9대 테마 투자 트렌드 : : . , /  =  상상인증권 리서치센터           한즈미디어   \n",
      "4   5               전기, 밀양 - 서울 : : . , /  =          김영희         교육공동체 벗   \n",
      "\n",
      "   발행년도           ISBN  세트 ISBN  부가기호    권 주제분류번호  도서권수  대출건수        등록일자  \n",
      "0  2024  9791198633804      NaN   NaN  NaN    NaN     1     0  2024-04-28  \n",
      "1  2023  9791192908588      NaN   NaN  NaN    NaN     1     0  2024-04-28  \n",
      "2  2023  9791139210576      NaN   NaN  NaN    NaN     1     0  2024-04-28  \n",
      "3  2024  9791193712023      NaN   NaN  NaN    NaN     1     0  2024-04-28  \n",
      "4  2024  9788968801822      NaN   NaN  NaN    NaN     1     0  2024-04-28  \n",
      "   번호                                         도서명                   저자    출판사  \\\n",
      "0   1              니들리스 거리의 마지막 집 : 캐트리오나 워드 장편소설       Ward, Catriona    시공사   \n",
      "1   2  초등아빠가 되어도 괜찮습니다 : 육아고수 아빠! 내 아이 바르게 키우는 법!                  임석재   지식공감   \n",
      "2   3                                    유다 컨스피러시                  옥성호    파람북   \n",
      "3   4                                   재능 있는 리플리  Highsmith, Patricia  을유문화사   \n",
      "4   5    나는 행복한 푸바오 할부지입니다 : 바오 가족과 함께한 기적 같은 나날들                  강철원    시공사   \n",
      "\n",
      "   발행년도           ISBN  세트 ISBN  부가기호    권  주제분류번호  도서권수  대출건수        등록일자  \n",
      "0  2023  9791171251858      NaN   NaN  NaN   843.6     1     0  2024-04-30  \n",
      "1  2024  9791156228554      NaN   NaN  NaN   598.6     1     0  2024-04-30  \n",
      "2  2023  9791192964447      NaN   NaN  NaN  232.84     1     0  2024-04-30  \n",
      "3  2023  9788932474939      NaN   NaN    1   843.5     1     0  2024-04-28  \n",
      "4  2024  9791171251179      NaN   NaN  NaN     818     1     0  2024-04-28  \n"
     ]
    }
   ],
   "source": [
    "print(df_go.head())\n",
    "print(df_yu.head())"
   ]
  },
  {
   "cell_type": "code",
   "execution_count": 27,
   "metadata": {},
   "outputs": [
    {
     "name": "stdout",
     "output_type": "stream",
     "text": [
      "0         0\n",
      "1         0\n",
      "2         0\n",
      "3         0\n",
      "4         0\n",
      "         ..\n",
      "140706    0\n",
      "140707    0\n",
      "140708    0\n",
      "140709    0\n",
      "140710    0\n",
      "Name: 대출건수, Length: 140711, dtype: int64\n"
     ]
    }
   ],
   "source": [
    "df_select_go = df_go['대출건수']\n",
    "\n",
    "print(df_select_go)"
   ]
  },
  {
   "cell_type": "code",
   "execution_count": 51,
   "metadata": {},
   "outputs": [
    {
     "name": "stdout",
     "output_type": "stream",
     "text": [
      "0         0\n",
      "1         0\n",
      "2         0\n",
      "3         0\n",
      "4         0\n",
      "         ..\n",
      "156508    0\n",
      "156509    0\n",
      "156510    0\n",
      "156511    0\n",
      "156512    0\n",
      "Name: 대출건수, Length: 156513, dtype: int64\n"
     ]
    }
   ],
   "source": [
    "df_select_yu = df_yu['대출건수']\n",
    "\n",
    "print(df_select_yu)"
   ]
  },
  {
   "cell_type": "code",
   "execution_count": 52,
   "metadata": {},
   "outputs": [
    {
     "name": "stdout",
     "output_type": "stream",
     "text": [
      "int32\n",
      "1680029\n"
     ]
    }
   ],
   "source": [
    "df_select_go = df_select_go.astype(int)\n",
    "print(df_select_go.dtypes)\n",
    "\n",
    "print(df_select_go.sum())"
   ]
  },
  {
   "cell_type": "code",
   "execution_count": 54,
   "metadata": {},
   "outputs": [
    {
     "name": "stdout",
     "output_type": "stream",
     "text": [
      "int32\n",
      "1151014\n"
     ]
    }
   ],
   "source": [
    "df_select_yu = df_select_yu.astype(int)\n",
    "print(df_select_yu.dtypes)\n",
    "\n",
    "print(df_select_yu.sum())"
   ]
  },
  {
   "cell_type": "code",
   "execution_count": 56,
   "metadata": {},
   "outputs": [
    {
     "name": "stdout",
     "output_type": "stream",
     "text": [
      "Collecting mapboxgl\n",
      "  Using cached mapboxgl-0.10.2-py2.py3-none-any.whl.metadata (1.1 kB)\n",
      "Requirement already satisfied: jinja2 in c:\\users\\kangj\\anaconda3\\lib\\site-packages (from mapboxgl) (3.1.3)\n",
      "Collecting geojson (from mapboxgl)\n",
      "  Using cached geojson-3.1.0-py3-none-any.whl.metadata (16 kB)\n",
      "Collecting chroma-py (from mapboxgl)\n",
      "  Using cached chroma-py-0.1.0.dev1.tar.gz (3.9 kB)\n",
      "  Preparing metadata (setup.py): started\n",
      "  Preparing metadata (setup.py): finished with status 'done'\n",
      "Collecting colour (from mapboxgl)\n",
      "  Using cached colour-0.1.5-py2.py3-none-any.whl.metadata (18 kB)\n",
      "Requirement already satisfied: matplotlib in c:\\users\\kangj\\anaconda3\\lib\\site-packages (from mapboxgl) (3.8.0)\n",
      "Requirement already satisfied: MarkupSafe>=2.0 in c:\\users\\kangj\\anaconda3\\lib\\site-packages (from jinja2->mapboxgl) (2.1.3)\n",
      "Requirement already satisfied: contourpy>=1.0.1 in c:\\users\\kangj\\anaconda3\\lib\\site-packages (from matplotlib->mapboxgl) (1.2.0)\n",
      "Requirement already satisfied: cycler>=0.10 in c:\\users\\kangj\\anaconda3\\lib\\site-packages (from matplotlib->mapboxgl) (0.11.0)\n",
      "Requirement already satisfied: fonttools>=4.22.0 in c:\\users\\kangj\\anaconda3\\lib\\site-packages (from matplotlib->mapboxgl) (4.25.0)\n",
      "Requirement already satisfied: kiwisolver>=1.0.1 in c:\\users\\kangj\\anaconda3\\lib\\site-packages (from matplotlib->mapboxgl) (1.4.4)\n",
      "Requirement already satisfied: numpy<2,>=1.21 in c:\\users\\kangj\\anaconda3\\lib\\site-packages (from matplotlib->mapboxgl) (1.26.4)\n",
      "Requirement already satisfied: packaging>=20.0 in c:\\users\\kangj\\anaconda3\\lib\\site-packages (from matplotlib->mapboxgl) (23.1)\n",
      "Requirement already satisfied: pillow>=6.2.0 in c:\\users\\kangj\\anaconda3\\lib\\site-packages (from matplotlib->mapboxgl) (10.2.0)\n",
      "Requirement already satisfied: pyparsing>=2.3.1 in c:\\users\\kangj\\anaconda3\\lib\\site-packages (from matplotlib->mapboxgl) (3.0.9)\n",
      "Requirement already satisfied: python-dateutil>=2.7 in c:\\users\\kangj\\anaconda3\\lib\\site-packages (from matplotlib->mapboxgl) (2.8.2)\n",
      "Requirement already satisfied: six>=1.5 in c:\\users\\kangj\\anaconda3\\lib\\site-packages (from python-dateutil>=2.7->matplotlib->mapboxgl) (1.16.0)\n",
      "Using cached mapboxgl-0.10.2-py2.py3-none-any.whl (43 kB)\n",
      "Using cached colour-0.1.5-py2.py3-none-any.whl (23 kB)\n",
      "Using cached geojson-3.1.0-py3-none-any.whl (15 kB)\n",
      "Building wheels for collected packages: chroma-py\n",
      "  Building wheel for chroma-py (setup.py): started\n",
      "  Building wheel for chroma-py (setup.py): finished with status 'done'\n",
      "  Created wheel for chroma-py: filename=chroma_py-0.1.0.dev1-py3-none-any.whl size=5096 sha256=7410144e8550564c73d6bdb9db5af66f2fa6b50a750bcbc5862c648a187191de\n",
      "  Stored in directory: c:\\users\\kangj\\appdata\\local\\pip\\cache\\wheels\\ae\\bd\\c4\\bc752b89d7e72f8c195f6aba0c6ffca10f030133602e1cf5e1\n",
      "Successfully built chroma-py\n",
      "Installing collected packages: colour, chroma-py, geojson, mapboxgl\n",
      "Successfully installed chroma-py-0.1.0.dev1 colour-0.1.5 geojson-3.1.0 mapboxgl-0.10.2\n",
      "Note: you may need to restart the kernel to use updated packages.\n"
     ]
    }
   ],
   "source": [
    "pip install mapboxgl"
   ]
  },
  {
   "cell_type": "code",
   "execution_count": 57,
   "metadata": {},
   "outputs": [],
   "source": [
    "import mapboxgl"
   ]
  },
  {
   "cell_type": "code",
   "execution_count": 58,
   "metadata": {},
   "outputs": [],
   "source": [
    "token = \"pk.eyJ1Ijoiaml3b29rYW5nIiwiYSI6ImNsd2Q3NTVyYzE1aDkyanA1b2V5MHo2dHUifQ.-i0OHeJF-O-wVF1GVusIGw\""
   ]
  },
  {
   "cell_type": "code",
   "execution_count": 59,
   "metadata": {},
   "outputs": [
    {
     "name": "stdout",
     "output_type": "stream",
     "text": [
      "코드 한계점 제시\n"
     ]
    }
   ],
   "source": [
    "print(\"코드 한계점 제시\")\n",
    "\n",
    "'''\n",
    "1. 데이터 수집 미숙\n",
    " - 도서관 정보나루 내에서 주소가 있는 데이터를 파악하지 못함.\n",
    "  여러 부분을 뒤져봤으나, 파악되지 않았다... 대체 왜?\n",
    " - 반성해야할 부분인 것 같음.\n",
    "\n",
    "2. 대출건수 파악\n",
    " - '대출건수'의 columns 값 합계를 구하면 아주 간단하게 2024.04의 대출 통계건수가 나온다고\n",
    "  생각했으나, 기대한 것보다 어마무시한 값이 나와버림. 처음에는 정수형 문제인 줄 알고 타입의\n",
    "  확인을 통해 수정하려고 했고, 두번째로는 0 자체를 NaN 처리해서 결측치를 제거하는 값으로\n",
    "  해결하고자 했으나, 이 역시 딱히 값의 차이가 나오지 않음.\n",
    " - 도서관 선정 자체가 본가 근처의 도서관은 선택한지라, 한 달에 1만6천권이라는 어마무시한 대출수가\n",
    " 나오지 않음을 알고 있었다.\n",
    " - 대체 어떤 문제인지 코드리뷰를 다시 해봐야할 것 같다.\n",
    "\n",
    "3. 데이터 자체에 주소 미포함\n",
    " - 시도하고자 하는 데이터 자체에 주소가 미포함되어 mapboxgl을 통한 지도 시각화를 도전하지 못함.\n",
    " - 양질의 데이터 및 수집이 기본인데, 이 부분에 대해 굉장히 자책스럽다.\n",
    " - 정리한 데이터(df_select_yu, df_select_go) 자체에 위도 및 경도를 부여하여 mapboxgl을\n",
    " 사용해볼까 라는 생각을 했으나, 파일 자체를 읽어야하기도 하고, 파일내부에 부여된 데이터 값이\n",
    " 아니다보니 조금 무리일 것 같다는 생각을 했다.\n",
    " - folium과 mapboxgl이 무슨 차이가 있는지 알아볼 필요가 있을 것 같다.\n",
    " \n",
    "'''"
   ]
  },
  {
   "cell_type": "code",
   "execution_count": null,
   "metadata": {},
   "outputs": [],
   "source": []
  }
 ],
 "metadata": {
  "kernelspec": {
   "display_name": "base",
   "language": "python",
   "name": "python3"
  },
  "language_info": {
   "codemirror_mode": {
    "name": "ipython",
    "version": 3
   },
   "file_extension": ".py",
   "mimetype": "text/x-python",
   "name": "python",
   "nbconvert_exporter": "python",
   "pygments_lexer": "ipython3",
   "version": "3.11.7"
  }
 },
 "nbformat": 4,
 "nbformat_minor": 2
}
