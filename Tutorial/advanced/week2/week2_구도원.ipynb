{
 "cells": [
  {
   "cell_type": "code",
   "execution_count": 24,
   "metadata": {},
   "outputs": [],
   "source": [
    "import pandas as pd\n",
    "import matplotlib as plt\n",
    "import plotly.express as px\n",
    "import glob\n",
    "\n"
   ]
  },
  {
   "cell_type": "markdown",
   "metadata": {},
   "source": [
    "'''\n",
    "도서관 정보나루(https://www.data4library.kr/)의 주소가 있는 데이터로 mapbox 이용해서 각자 지도 시각화 (커스텀) 하고 깃헙(https://github.com/TeamCayley-official/2024-Tutorial/tree/main/Tutorial/advanced)에 업로드\n",
    "\n",
    "면적이 비슷한 동작구와 성동구 내 도서관의 보유장서수, 대출수로 시각화 할 것.\n",
    "'''"
   ]
  },
  {
   "cell_type": "code",
   "execution_count": 25,
   "metadata": {},
   "outputs": [
    {
     "name": "stderr",
     "output_type": "stream",
     "text": [
      "C:\\Users\\user\\AppData\\Local\\Temp\\ipykernel_1540\\832948076.py:8: DtypeWarning: Columns (5,8,9) have mixed types. Specify dtype option on import or set low_memory=False.\n",
      "  df = pd.read_csv(file_name, encoding=\"utf-8\")\n"
     ]
    },
    {
     "name": "stdout",
     "output_type": "stream",
     "text": [
      "Processed 1/7: C:\\Users\\user\\Desktop\\sung\\성동구립금호도서관 장서 대출목록 (2024년 04월).csv\n"
     ]
    },
    {
     "name": "stderr",
     "output_type": "stream",
     "text": [
      "C:\\Users\\user\\AppData\\Local\\Temp\\ipykernel_1540\\832948076.py:8: DtypeWarning: Columns (5,8,9) have mixed types. Specify dtype option on import or set low_memory=False.\n",
      "  df = pd.read_csv(file_name, encoding=\"utf-8\")\n"
     ]
    },
    {
     "name": "stdout",
     "output_type": "stream",
     "text": [
      "Processed 2/7: C:\\Users\\user\\Desktop\\sung\\성동구립도서관 장서 대출목록 (2024년 04월).csv\n",
      "Processed 3/7: C:\\Users\\user\\Desktop\\sung\\성동구립무지개도서관 장서 대출목록 (2024년 04월).csv\n"
     ]
    },
    {
     "name": "stderr",
     "output_type": "stream",
     "text": [
      "C:\\Users\\user\\AppData\\Local\\Temp\\ipykernel_1540\\832948076.py:8: DtypeWarning: Columns (4,7,8,9) have mixed types. Specify dtype option on import or set low_memory=False.\n",
      "  df = pd.read_csv(file_name, encoding=\"utf-8\")\n"
     ]
    },
    {
     "name": "stdout",
     "output_type": "stream",
     "text": [
      "Processed 4/7: C:\\Users\\user\\Desktop\\sung\\성동구립성수도서관 장서 대출목록 (2024년 04월).csv\n",
      "Processed 5/7: C:\\Users\\user\\Desktop\\sung\\성동구립숲속도서관 장서 대출목록 (2024년 04월).csv\n"
     ]
    },
    {
     "name": "stderr",
     "output_type": "stream",
     "text": [
      "C:\\Users\\user\\AppData\\Local\\Temp\\ipykernel_1540\\832948076.py:8: DtypeWarning: Columns (5,8) have mixed types. Specify dtype option on import or set low_memory=False.\n",
      "  df = pd.read_csv(file_name, encoding=\"utf-8\")\n"
     ]
    },
    {
     "name": "stdout",
     "output_type": "stream",
     "text": [
      "Processed 6/7: C:\\Users\\user\\Desktop\\sung\\성동구립용답도서관 장서 대출목록 (2024년 04월).csv\n",
      "Processed 7/7: C:\\Users\\user\\Desktop\\sung\\성동구립청계도서관 장서 대출목록 (2024년 04월).csv\n",
      "   번호                    도서명             저자       출판사  발행년도           ISBN  \\\n",
      "0   1    잘하고 싶어서 자꾸만 애썼던 너에게         신고은 지음        힉스  2024  9791198704528   \n",
      "1   2  공부만 잘하는 아이는 AI로 대체됩니다         안재현 지음     카시오페아  2024  9791168271821   \n",
      "2   3               피크아웃 코리아  채상욱,김정훈 [공]지음  커넥티드그라운드  2024  9791198739704   \n",
      "\n",
      "   세트 ISBN 부가기호    권   주제분류번호  도서권수  대출건수        등록일자  \n",
      "0      NaN    0  NaN    186.5     1     0  2024-04-30  \n",
      "1      NaN    0  NaN    598.1     1     0  2024-04-30  \n",
      "2      NaN    0  NaN  320.911     1     0  2024-04-30  \n"
     ]
    }
   ],
   "source": [
    "\n",
    "\n",
    "def merge_csv_files(folder_path):\n",
    "    # 지정된 폴더 내의 모든 CSV 파일 경로를 가져옵니다.\n",
    "    files = glob.glob(f\"{folder_path}/*.csv\")\n",
    "\n",
    "    total_df = pd.DataFrame()\n",
    "\n",
    "    for i, file_name in enumerate(files):\n",
    "        df = pd.read_csv(file_name, encoding=\"utf-8\")\n",
    "        total_df = pd.concat([total_df, df], ignore_index=True)\n",
    "        print(f\"Processed {i+1}/{len(files)}: {file_name}\")\n",
    "\n",
    "    return total_df\n",
    "\n",
    "# 사용 예시\n",
    "folder_path = r\"C:\\Users\\user\\Desktop\\sung\"\n",
    "merged_df = merge_csv_files(folder_path)\n",
    "\n",
    "# 병합된 데이터프레임 출력\n",
    "print(merged_df.head(3))\n",
    "\n",
    "dfs=merged_df\n"
   ]
  },
  {
   "cell_type": "code",
   "execution_count": 26,
   "metadata": {},
   "outputs": [
    {
     "name": "stdout",
     "output_type": "stream",
     "text": [
      "Processed 1/11: C:\\Users\\user\\Desktop\\dong\\국사봉숲속작은도서관.csv\n",
      "Processed 2/11: C:\\Users\\user\\Desktop\\dong\\김영삼도서관.csv\n",
      "Processed 3/11: C:\\Users\\user\\Desktop\\dong\\까망돌도서관.csv\n",
      "Processed 4/11: C:\\Users\\user\\Desktop\\dong\\다울작은도서관.csv\n",
      "Processed 5/11: C:\\Users\\user\\Desktop\\dong\\대방어린이도서관.csv\n",
      "Processed 6/11: C:\\Users\\user\\Desktop\\dong\\동작상도국주도서관.csv\n",
      "Processed 7/11: C:\\Users\\user\\Desktop\\dong\\동작샘터도서관.csv\n",
      "Processed 8/11: C:\\Users\\user\\Desktop\\dong\\동작영어마루도서관.csv\n"
     ]
    },
    {
     "name": "stderr",
     "output_type": "stream",
     "text": [
      "C:\\Users\\user\\AppData\\Local\\Temp\\ipykernel_1540\\3633034463.py:8: DtypeWarning: Columns (7,8) have mixed types. Specify dtype option on import or set low_memory=False.\n",
      "  df = pd.read_csv(file_name, encoding=\"utf-8\")\n"
     ]
    },
    {
     "name": "stdout",
     "output_type": "stream",
     "text": [
      "Processed 9/11: C:\\Users\\user\\Desktop\\dong\\사당솔밭도서관.csv\n"
     ]
    },
    {
     "name": "stderr",
     "output_type": "stream",
     "text": [
      "C:\\Users\\user\\AppData\\Local\\Temp\\ipykernel_1540\\3633034463.py:8: DtypeWarning: Columns (5) have mixed types. Specify dtype option on import or set low_memory=False.\n",
      "  df = pd.read_csv(file_name, encoding=\"utf-8\")\n"
     ]
    },
    {
     "name": "stdout",
     "output_type": "stream",
     "text": [
      "Processed 10/11: C:\\Users\\user\\Desktop\\dong\\서울특별시교육청동작도서관.csv\n"
     ]
    },
    {
     "name": "stderr",
     "output_type": "stream",
     "text": [
      "C:\\Users\\user\\AppData\\Local\\Temp\\ipykernel_1540\\3633034463.py:8: DtypeWarning: Columns (8) have mixed types. Specify dtype option on import or set low_memory=False.\n",
      "  df = pd.read_csv(file_name, encoding=\"utf-8\")\n"
     ]
    },
    {
     "name": "stdout",
     "output_type": "stream",
     "text": [
      "Processed 11/11: C:\\Users\\user\\Desktop\\dong\\약수도서관.csv\n",
      "   번호               도서명                  저자        출판사  발행년도           ISBN  \\\n",
      "0   1        늪 100층짜리 집  이와이 도시오 글·그림;김숙 옮김        북뱅크  2024  9788966351985   \n",
      "1   2  내 아이를 위한 사교육은 없다              김현주 지음     청림Life  2024  9791193842010   \n",
      "2   3            일류의 조건    사이토 다카시 지음;정현 옮김  필름(Feelm)  2024  9791193262122   \n",
      "\n",
      "  세트 ISBN 부가기호    권   주제분류번호  도서권수  대출건수        등록일자        도서관명  \n",
      "0     NaN    7  NaN    833.0     1     1  2024-04-18  국사봉숲속작은도서관  \n",
      "1     NaN    0  NaN    378.9     1     1  2024-04-18  국사봉숲속작은도서관  \n",
      "2     NaN    0  NaN  325.211     1     1  2024-04-18  국사봉숲속작은도서관  \n"
     ]
    }
   ],
   "source": [
    "\n",
    "\n",
    "def merge_csv_files(folder_path):\n",
    "    # 지정된 폴더 내의 모든 CSV 파일 경로를 가져옵니다.\n",
    "    files = glob.glob(f\"{folder_path}/*.csv\")\n",
    "\n",
    "    total_df = pd.DataFrame()\n",
    "\n",
    "    for i, file_name in enumerate(files):\n",
    "        df = pd.read_csv(file_name, encoding=\"utf-8\")\n",
    "        total_df = pd.concat([total_df, df], ignore_index=True)\n",
    "        print(f\"Processed {i+1}/{len(files)}: {file_name}\")\n",
    "\n",
    "    return total_df\n",
    "\n",
    "# 사용 예시\n",
    "folder_path = r\"C:\\Users\\user\\Desktop\\dong\"\n",
    "merged_df = merge_csv_files(folder_path)\n",
    "\n",
    "# 병합된 데이터프레임 출력\n",
    "print(merged_df.head(3))\n",
    "\n",
    "dfd=merged_df\n"
   ]
  },
  {
   "cell_type": "code",
   "execution_count": 27,
   "metadata": {},
   "outputs": [
    {
     "name": "stdout",
     "output_type": "stream",
     "text": [
      "d총 열 수:  14\n",
      "d총 행 수:  676694\n",
      "d중복 제거 후 총 행 수 676694\n",
      "s총 열 수:  13\n",
      "s총 행 수:  607946\n",
      "s중복 제거 후 총 행 수 607945\n"
     ]
    }
   ],
   "source": [
    "print('d총 열 수: ', len(dfd.columns))\n",
    "print('d총 행 수: ', len(dfd))\n",
    "print('d중복 제거 후 총 행 수', len(dfd.drop_duplicates()))\n",
    "print('s총 열 수: ', len(dfs.columns))\n",
    "print('s총 행 수: ', len(dfs))\n",
    "print('s중복 제거 후 총 행 수', len(dfs.drop_duplicates()))\n"
   ]
  },
  {
   "cell_type": "code",
   "execution_count": 28,
   "metadata": {},
   "outputs": [
    {
     "name": "stdout",
     "output_type": "stream",
     "text": [
      "번호              0\n",
      "도서명             2\n",
      "저자            195\n",
      "출판사         14242\n",
      "발행년도          208\n",
      "ISBN            0\n",
      "세트 ISBN    624805\n",
      "부가기호       109179\n",
      "권          486997\n",
      "주제분류번호      10731\n",
      "도서권수            0\n",
      "대출건수            0\n",
      "등록일자            0\n",
      "도서관명            0\n",
      "dtype: int64\n",
      "번호              0\n",
      "도서명             5\n",
      "저자            158\n",
      "출판사         13853\n",
      "발행년도          139\n",
      "ISBN            0\n",
      "세트 ISBN    570807\n",
      "부가기호        59873\n",
      "권          586619\n",
      "주제분류번호       4017\n",
      "도서권수            0\n",
      "대출건수            0\n",
      "등록일자            0\n",
      "dtype: int64\n"
     ]
    }
   ],
   "source": [
    "# null이 있는 컬럼 확인\n",
    "print(dfd.isnull().sum())\n",
    "print(dfs.isnull().sum())"
   ]
  },
  {
   "cell_type": "code",
   "execution_count": 29,
   "metadata": {},
   "outputs": [
    {
     "data": {
      "text/plain": [
       "\"\\n#ISBN은 null값이 0이기 때문에 모두 식별가능하다고 판단하여 도서명을 통한 항목 제거는 하지 않았다.\\n\\nnull_books = df[df['도서명'].isnull()]\\nprint(null_books)\\n#도서명이 없는 경우 보유 장서 확인할 수 없기 때문에 해당 항목 제거\\ndf.drop(544995, inplace=True, axis=0 )\\ndf.drop(597738, inplace=True, axis=0 )\\n\""
      ]
     },
     "execution_count": 29,
     "metadata": {},
     "output_type": "execute_result"
    }
   ],
   "source": [
    "'''\n",
    "#ISBN은 null값이 0이기 때문에 모두 식별가능하다고 판단하여 도서명을 통한 항목 제거는 하지 않았다.\n",
    "\n",
    "null_books = df[df['도서명'].isnull()]\n",
    "print(null_books)\n",
    "#도서명이 없는 경우 보유 장서 확인할 수 없기 때문에 해당 항목 제거\n",
    "df.drop(544995, inplace=True, axis=0 )\n",
    "df.drop(597738, inplace=True, axis=0 )\n",
    "'''"
   ]
  },
  {
   "cell_type": "code",
   "execution_count": 30,
   "metadata": {},
   "outputs": [
    {
     "name": "stdout",
     "output_type": "stream",
     "text": [
      "번호 234448\n",
      "도서명 310564\n",
      "저자 235480\n",
      "출판사 16138\n",
      "발행년도 537\n",
      "ISBN 341859\n",
      "세트 ISBN 4751\n",
      "부가기호 34\n",
      "권 385\n",
      "주제분류번호 13059\n",
      "도서권수 6\n",
      "대출건수 382\n",
      "등록일자 6170\n",
      "번호 269678\n",
      "도서명 419694\n",
      "저자 313021\n",
      "출판사 22140\n",
      "발행년도 659\n",
      "ISBN 414458\n",
      "세트 ISBN 9073\n",
      "부가기호 28\n",
      "권 1712\n",
      "주제분류번호 16348\n",
      "도서권수 23\n",
      "대출건수 488\n",
      "등록일자 4819\n",
      "도서관명 11\n"
     ]
    }
   ],
   "source": [
    "# 각 컬럼별 유니크 개수 확인\n",
    "for i in dfs.columns:\n",
    "    print(i, len(dfs[i].unique()))\n",
    "for i in dfd.columns:\n",
    "    print(i, len(dfd[i].unique()))"
   ]
  },
  {
   "cell_type": "code",
   "execution_count": 31,
   "metadata": {},
   "outputs": [
    {
     "name": "stdout",
     "output_type": "stream",
     "text": [
      "676694 607946\n"
     ]
    }
   ],
   "source": [
    "#동작구와 성동구의 도서관 보유장서 수\n",
    "'''\n",
    "book = pd.DataFrame(dfd.groupby('도서관명')[\"ISBN\"].count())\n",
    "book.reset_index(inplace=True)\n",
    "print(book)\n",
    "'''\n",
    "s_book = dfs['ISBN'].count()\n",
    "d_book = dfd['ISBN'].count()\n",
    "print(d_book, s_book)"
   ]
  },
  {
   "cell_type": "code",
   "execution_count": 32,
   "metadata": {},
   "outputs": [],
   "source": [
    "import geopandas as gpd\n",
    "import progressbar as tqdm"
   ]
  },
  {
   "cell_type": "code",
   "execution_count": 33,
   "metadata": {},
   "outputs": [
    {
     "name": "stdout",
     "output_type": "stream",
     "text": [
      "Error reading C:/Users/user/Desktop/geojson\\36000\\TL_SCCO_CTPRVN.shp: Unable to open C:/Users/user/Desktop/geojson\\36000\\TL_SCCO_CTPRVN.shx or C:/Users/user/Desktop/geojson\\36000\\TL_SCCO_CTPRVN.SHX. Set SHAPE_RESTORE_SHX config option to YES to restore or create it.\n",
      "         code   eng_nm kor_nm  \\\n",
      "0  1100000000    Seoul  서울특별시   \n",
      "1  2600000000    Busan  부산광역시   \n",
      "2  2700000000    Daegu  대구광역시   \n",
      "3  2800000000  Incheon  인천광역시   \n",
      "4  2900000000  Gwangju  광주광역시   \n",
      "\n",
      "                                            geometry  \n",
      "0  POLYGON ((965645.274 1960046.271, 965641.199 1...  \n",
      "1  MULTIPOLYGON (((1132664.900 1655415.815, 11326...  \n",
      "2  POLYGON ((1090672.656 1766591.493, 1090673.465...  \n",
      "3  MULTIPOLYGON (((847834.755 1881816.658, 847840...  \n",
      "4  POLYGON ((932712.687 1696168.692, 932781.680 1...  \n"
     ]
    },
    {
     "data": {
      "text/plain": [
       "'\\n# 모든 파일 geopandas로 불러오고 하나의 df로 합쳐주기\\nfor file in lib_file_list:\\n    df_tmp = gpd.read_file(file, encoding=\"cp949\")\\n    lib_geojson = pd.concat([lib_geojson, df_tmp])\\n\\nprint(lib_geojson.head())\\n'"
      ]
     },
     "execution_count": 33,
     "metadata": {},
     "output_type": "execute_result"
    }
   ],
   "source": [
    "# 해당 경로에서 'CTPRVN.shp'로 끝나는 모든 파일 불러오기\n",
    "lib_file_list = glob.glob('C:/Users/user/Desktop/geojson/*/*_CTPRVN.shp')\n",
    "\n",
    "lib_geojson = pd.DataFrame()\n",
    "\n",
    "for file in lib_file_list:\n",
    "    try:\n",
    "        df_tmp = gpd.read_file(file, encoding=\"cp949\")\n",
    "        lib_geojson = pd.concat([lib_geojson, df_tmp], ignore_index=True)\n",
    "    except Exception as e:\n",
    "        print(f\"Error reading {file}: {e}\")\n",
    "\n",
    "lib_geojson.columns = [\"code\", \"eng_nm\", \"kor_nm\", \"geometry\"]\n",
    "lib_geojson[\"code\"] = lib_geojson[\"code\"].apply(lambda x: str(x) + \"00000000\")\n",
    "lib_geojson.reset_index(inplace=True, drop=True)\n",
    "print(lib_geojson.head())\n",
    "\n",
    "'''\n",
    "# 모든 파일 geopandas로 불러오고 하나의 df로 합쳐주기\n",
    "for file in lib_file_list:\n",
    "    df_tmp = gpd.read_file(file, encoding=\"cp949\")\n",
    "    lib_geojson = pd.concat([lib_geojson, df_tmp])\n",
    "\n",
    "print(lib_geojson.head())\n",
    "\n",
    "멀티폴리곤 뿐만 아니라 폴리곤도 같이 연결되는 이유를 모르겠습니다.\n",
    "'''"
   ]
  },
  {
   "cell_type": "code",
   "execution_count": 37,
   "metadata": {},
   "outputs": [],
   "source": [
    "df_total = {\n",
    "    '성동구' : ['676694'] ,\n",
    "    '동작구' : ['607946']\n",
    "}"
   ]
  },
  {
   "cell_type": "code",
   "execution_count": null,
   "metadata": {},
   "outputs": [],
   "source": [
    "'''\n",
    "geo 파일이랑 구역을 연결하는 방법을 모르겠다..\n",
    "'''"
   ]
  }
 ],
 "metadata": {
  "kernelspec": {
   "display_name": "Python 3",
   "language": "python",
   "name": "python3"
  },
  "language_info": {
   "codemirror_mode": {
    "name": "ipython",
    "version": 3
   },
   "file_extension": ".py",
   "mimetype": "text/x-python",
   "name": "python",
   "nbconvert_exporter": "python",
   "pygments_lexer": "ipython3",
   "version": "3.12.3"
  }
 },
 "nbformat": 4,
 "nbformat_minor": 2
}
