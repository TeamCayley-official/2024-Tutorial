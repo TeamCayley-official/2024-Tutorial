{
  "nbformat": 4,
  "nbformat_minor": 0,
  "metadata": {
    "colab": {
      "provenance": []
    },
    "kernelspec": {
      "name": "python3",
      "display_name": "Python 3"
    },
    "language_info": {
      "name": "python"
    }
  },
  "cells": [
    {
      "cell_type": "code",
      "execution_count": null,
      "metadata": {
        "id": "QxNLmq8Ho4f_"
      },
      "outputs": [],
      "source": [
        "#김영삼 도서관에서 가장 많이 대출되는 도서 종류와 사람들의 관심사\n",
        "#학생회 부스와 주말 알바로 인해 이번주는 거의 참여하지 못했습니다ㅜㅜ"
      ]
    },
    {
      "cell_type": "code",
      "source": [],
      "metadata": {
        "id": "dkSJ_4t2o_8O"
      },
      "execution_count": null,
      "outputs": []
    }
  ]
}