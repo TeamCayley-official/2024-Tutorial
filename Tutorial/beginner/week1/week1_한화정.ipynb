{
 "cells": [
  {
   "cell_type": "code",
   "execution_count": 12,
   "metadata": {},
   "outputs": [],
   "source": [
    "#코사다마 교안 1장 실습"
   ]
  },
  {
   "cell_type": "code",
   "execution_count": 2,
   "metadata": {},
   "outputs": [
    {
     "name": "stdout",
     "output_type": "stream",
     "text": [
      "2024-05-09 11:26:26.174141\n"
     ]
    }
   ],
   "source": [
    "import datetime\n",
    "print(datetime.datetime.now())"
   ]
  },
  {
   "cell_type": "code",
   "execution_count": 3,
   "metadata": {},
   "outputs": [
    {
     "name": "stdout",
     "output_type": "stream",
     "text": [
      "1 2 3\n"
     ]
    }
   ],
   "source": [
    "print(1,2,3)"
   ]
  },
  {
   "cell_type": "code",
   "execution_count": 4,
   "metadata": {},
   "outputs": [
    {
     "name": "stdout",
     "output_type": "stream",
     "text": [
      "[1, 2, 3]\n"
     ]
    }
   ],
   "source": [
    "print([1,2,3])"
   ]
  },
  {
   "cell_type": "code",
   "execution_count": 5,
   "metadata": {},
   "outputs": [
    {
     "name": "stdout",
     "output_type": "stream",
     "text": [
      "Hello World!\n"
     ]
    }
   ],
   "source": [
    "print(\"Hello World!\")"
   ]
  },
  {
   "cell_type": "code",
   "execution_count": 6,
   "metadata": {},
   "outputs": [
    {
     "name": "stdout",
     "output_type": "stream",
     "text": [
      "Hello World !\n"
     ]
    }
   ],
   "source": [
    "print(\"Hello\", \"World\", \"!\")"
   ]
  },
  {
   "cell_type": "code",
   "execution_count": 7,
   "metadata": {},
   "outputs": [
    {
     "data": {
      "text/plain": [
       "2"
      ]
     },
     "execution_count": 7,
     "metadata": {},
     "output_type": "execute_result"
    }
   ],
   "source": [
    "a=1\n",
    "b=1\n",
    "a+b"
   ]
  },
  {
   "cell_type": "code",
   "execution_count": 11,
   "metadata": {},
   "outputs": [
    {
     "name": "stdout",
     "output_type": "stream",
     "text": [
      "고다람\n"
     ]
    }
   ],
   "source": [
    "name=\"고다람\"\n",
    "print(name)"
   ]
  },
  {
   "cell_type": "code",
   "execution_count": 9,
   "metadata": {},
   "outputs": [
    {
     "name": "stdout",
     "output_type": "stream",
     "text": [
      "이건 한 줄 주석입니다.\n"
     ]
    }
   ],
   "source": [
    "print('이건 한 줄 주석입니다.')\n",
    "# 이건 실행이 될까요?"
   ]
  },
  {
   "cell_type": "code",
   "execution_count": 10,
   "metadata": {},
   "outputs": [
    {
     "name": "stdout",
     "output_type": "stream",
     "text": [
      "이건 여러 줄 주석입니다.\n"
     ]
    },
    {
     "data": {
      "text/plain": [
       "'이건 실행이 될까요?'"
      ]
     },
     "execution_count": 10,
     "metadata": {},
     "output_type": "execute_result"
    }
   ],
   "source": [
    "print('이건 여러 줄 주석입니다.')\n",
    "'''이건 실행이 될까요?'''"
   ]
  },
  {
   "cell_type": "code",
   "execution_count": 11,
   "metadata": {},
   "outputs": [
    {
     "name": "stdout",
     "output_type": "stream",
     "text": [
      "이건 여러 줄 주석입니다.\n",
      "이제 여러 줄 주석은 실행되지 않습니다.\n"
     ]
    }
   ],
   "source": [
    "print('이건 여러 줄 주석입니다.')\n",
    "'''이건 실행이 될까요?'''\n",
    "print('이제 여러 줄 주석은 실행되지 않습니다.')"
   ]
  },
  {
   "cell_type": "code",
   "execution_count": 13,
   "metadata": {},
   "outputs": [],
   "source": [
    "#코사다마 교안 2장 실습"
   ]
  },
  {
   "cell_type": "code",
   "execution_count": 16,
   "metadata": {},
   "outputs": [
    {
     "data": {
      "text/plain": [
       "314.0"
      ]
     },
     "execution_count": 16,
     "metadata": {},
     "output_type": "execute_result"
    }
   ],
   "source": [
    "float(314)"
   ]
  },
  {
   "cell_type": "code",
   "execution_count": 17,
   "metadata": {},
   "outputs": [
    {
     "data": {
      "text/plain": [
       "3"
      ]
     },
     "execution_count": 17,
     "metadata": {},
     "output_type": "execute_result"
    }
   ],
   "source": [
    "int(3.14)"
   ]
  },
  {
   "cell_type": "code",
   "execution_count": 18,
   "metadata": {},
   "outputs": [
    {
     "data": {
      "text/plain": [
       "3"
      ]
     },
     "execution_count": 18,
     "metadata": {},
     "output_type": "execute_result"
    }
   ],
   "source": [
    "# 반올림\n",
    "round(3.14)"
   ]
  },
  {
   "cell_type": "code",
   "execution_count": 20,
   "metadata": {},
   "outputs": [
    {
     "data": {
      "text/plain": [
       "4"
      ]
     },
     "execution_count": 20,
     "metadata": {},
     "output_type": "execute_result"
    }
   ],
   "source": [
    "from math import *\n",
    "#올림\n",
    "ceil(3.14)"
   ]
  },
  {
   "cell_type": "code",
   "execution_count": 27,
   "metadata": {},
   "outputs": [
    {
     "data": {
      "text/plain": [
       "3"
      ]
     },
     "execution_count": 27,
     "metadata": {},
     "output_type": "execute_result"
    }
   ],
   "source": [
    "#내림\n",
    "floor(3.14)"
   ]
  },
  {
   "cell_type": "code",
   "execution_count": 22,
   "metadata": {},
   "outputs": [
    {
     "data": {
      "text/plain": [
       "2"
      ]
     },
     "execution_count": 22,
     "metadata": {},
     "output_type": "execute_result"
    }
   ],
   "source": [
    "2000%30//8"
   ]
  },
  {
   "cell_type": "code",
   "execution_count": 24,
   "metadata": {},
   "outputs": [
    {
     "name": "stdout",
     "output_type": "stream",
     "text": [
      "목요일의 2 일 뒤인 토요일이다.\n"
     ]
    }
   ],
   "source": [
    "d=79%7\n",
    "print('목요일의', d, '일 뒤인 토요일이다.')"
   ]
  },
  {
   "cell_type": "code",
   "execution_count": 23,
   "metadata": {},
   "outputs": [
    {
     "name": "stdout",
     "output_type": "stream",
     "text": [
      "총 7833.333333333334 원을 지불해야 한다.\n"
     ]
    }
   ],
   "source": [
    "p=500*7+5000/3*2+1000\n",
    "print('총', p, '원을 지불해야 한다.')"
   ]
  },
  {
   "cell_type": "code",
   "execution_count": 25,
   "metadata": {},
   "outputs": [
    {
     "data": {
      "text/plain": [
       "int"
      ]
     },
     "execution_count": 25,
     "metadata": {},
     "output_type": "execute_result"
    }
   ],
   "source": [
    "a = 123\n",
    "type(a)"
   ]
  },
  {
   "cell_type": "code",
   "execution_count": 26,
   "metadata": {},
   "outputs": [
    {
     "data": {
      "text/plain": [
       "'123'"
      ]
     },
     "execution_count": 26,
     "metadata": {},
     "output_type": "execute_result"
    }
   ],
   "source": [
    "str(a)"
   ]
  },
  {
   "cell_type": "code",
   "execution_count": 28,
   "metadata": {},
   "outputs": [
    {
     "data": {
      "text/plain": [
       "str"
      ]
     },
     "execution_count": 28,
     "metadata": {},
     "output_type": "execute_result"
    }
   ],
   "source": [
    "type(str(a))"
   ]
  },
  {
   "cell_type": "code",
   "execution_count": 29,
   "metadata": {},
   "outputs": [
    {
     "name": "stdout",
     "output_type": "stream",
     "text": [
      "HelloWorld!\n"
     ]
    }
   ],
   "source": [
    "a = 'Hello'\n",
    "b = 'World'\n",
    "c = '!'\n",
    "print(a + b + c)"
   ]
  },
  {
   "cell_type": "code",
   "execution_count": 31,
   "metadata": {},
   "outputs": [
    {
     "name": "stdout",
     "output_type": "stream",
     "text": [
      "Hello World!\n"
     ]
    }
   ],
   "source": [
    "print(a + ' ' + b + c)"
   ]
  },
  {
   "cell_type": "code",
   "execution_count": 32,
   "metadata": {},
   "outputs": [
    {
     "name": "stdout",
     "output_type": "stream",
     "text": [
      "HelloHello\n"
     ]
    }
   ],
   "source": [
    "a = 'Hello'\n",
    "print(a * 2)"
   ]
  },
  {
   "cell_type": "code",
   "execution_count": 2,
   "metadata": {},
   "outputs": [
    {
     "name": "stdout",
     "output_type": "stream",
     "text": [
      "                                                                                                    \n"
     ]
    }
   ],
   "source": [
    "print(' '* 100)"
   ]
  },
  {
   "cell_type": "code",
   "execution_count": 6,
   "metadata": {},
   "outputs": [
    {
     "name": "stdout",
     "output_type": "stream",
     "text": [
      "코\n",
      "사\n",
      "다\n",
      "마\n"
     ]
    }
   ],
   "source": [
    "a = '코사다마'\n",
    "print(a[0])\n",
    "print(a[1])\n",
    "print(a[2])\n",
    "print(a[3])"
   ]
  },
  {
   "cell_type": "code",
   "execution_count": 7,
   "metadata": {},
   "outputs": [
    {
     "name": "stdout",
     "output_type": "stream",
     "text": [
      "코\n",
      "사\n",
      "다\n",
      "마\n"
     ]
    }
   ],
   "source": [
    "a = '코사다마'\n",
    "print(a[0])\n",
    "print(a[-3])\n",
    "print(a[-2])\n",
    "print(a[-1])"
   ]
  },
  {
   "cell_type": "code",
   "execution_count": 9,
   "metadata": {},
   "outputs": [
    {
     "data": {
      "text/plain": [
       "22"
      ]
     },
     "execution_count": 9,
     "metadata": {},
     "output_type": "execute_result"
    }
   ],
   "source": [
    "b = '코사다마와 함께하는 즐거운 파이썬 공부!'\n",
    "len(b)"
   ]
  },
  {
   "cell_type": "code",
   "execution_count": 10,
   "metadata": {},
   "outputs": [
    {
     "name": "stdout",
     "output_type": "stream",
     "text": [
      "딩을 \n",
      "코딩을 사\n",
      " 사랑하는 다람쥐와 마요네즈\n",
      "코딩을 사랑하는 다람쥐와 마요네즈\n",
      " 마요네\n"
     ]
    }
   ],
   "source": [
    "a = '코딩을 사랑하는 다람쥐와 마요네즈'\n",
    "print(a[1:4])\n",
    "print(a[:5])\n",
    "print(a[3:])\n",
    "print(a[:])\n",
    "print(a[-5:-1])"
   ]
  },
  {
   "cell_type": "code",
   "execution_count": 12,
   "metadata": {},
   "outputs": [
    {
     "name": "stdout",
     "output_type": "stream",
     "text": [
      "2020-01-13\n",
      "코사다마\n"
     ]
    }
   ],
   "source": [
    "a = '고다람은 2020-01-13에 코사다마에서 태어났습니다.'\n",
    "생년월일 = a[5:15]\n",
    "태어난곳 = a[17:21]\n",
    "print(생년월일)\n",
    "print(태어난곳)"
   ]
  },
  {
   "cell_type": "code",
   "execution_count": 13,
   "metadata": {},
   "outputs": [
    {
     "name": "stdout",
     "output_type": "stream",
     "text": [
      "car\n",
      "apple\n",
      "       car\n",
      "     apple\n",
      "car       \n",
      "apple     \n"
     ]
    }
   ],
   "source": [
    "print('%s'%'car')\n",
    "print('%s'%'apple')\n",
    "print('%10s'%'car')\n",
    "print('%10s'%'apple')\n",
    "print('%-10s'%'car')\n",
    "print('%-10s'%'apple')"
   ]
  },
  {
   "cell_type": "code",
   "execution_count": 15,
   "metadata": {},
   "outputs": [
    {
     "name": "stdout",
     "output_type": "stream",
     "text": [
      "['', 'Studying', 'Python', 'is', 'fun!', '']\n"
     ]
    }
   ],
   "source": [
    "a = ' Studying Python is fun! '\n",
    "b = a.split(' ')\n",
    "print(b)"
   ]
  },
  {
   "cell_type": "code",
   "execution_count": 16,
   "metadata": {},
   "outputs": [
    {
     "name": "stdout",
     "output_type": "stream",
     "text": [
      "1\n"
     ]
    }
   ],
   "source": [
    "#1\n",
    "#2로 나누었을 때 나머지가 1이면 홀수, 0이면 짝수\n",
    "print(17%2)"
   ]
  },
  {
   "cell_type": "code",
   "execution_count": 17,
   "metadata": {},
   "outputs": [
    {
     "name": "stdout",
     "output_type": "stream",
     "text": [
      "168.7\n"
     ]
    }
   ],
   "source": [
    "#2\n",
    "num = '168.7'\n",
    "print(float(num))"
   ]
  },
  {
   "cell_type": "code",
   "execution_count": 20,
   "metadata": {},
   "outputs": [
    {
     "name": "stdout",
     "output_type": "stream",
     "text": [
      "마다사코\n"
     ]
    }
   ],
   "source": [
    "#3\n",
    "a = '코사다마'\n",
    "print(a[::-1])"
   ]
  },
  {
   "cell_type": "code",
   "execution_count": 18,
   "metadata": {},
   "outputs": [
    {
     "data": {
      "text/plain": [
       "'01012341234'"
      ]
     },
     "execution_count": 18,
     "metadata": {},
     "output_type": "execute_result"
    }
   ],
   "source": [
    "#4 \n",
    "phone_num = '010-1234-1234'\n",
    "phone_num.replace('-', '')\n"
   ]
  },
  {
   "cell_type": "code",
   "execution_count": 19,
   "metadata": {},
   "outputs": [
    {
     "name": "stdout",
     "output_type": "stream",
     "text": [
      "입학연도: 2022 / 이름: 고다람 / 학번: 20221234\n"
     ]
    }
   ],
   "source": [
    "#5\n",
    "studentID = '20221234'\n",
    "name = '고다람'\n",
    "print('입학연도: {0} / 이름: {1} / 학번: {2}'.format(studentID[:4], name, studentID))"
   ]
  },
  {
   "cell_type": "code",
   "execution_count": null,
   "metadata": {},
   "outputs": [],
   "source": [
    "#코사다마 교안 3장 실습"
   ]
  },
  {
   "cell_type": "code",
   "execution_count": 2,
   "metadata": {},
   "outputs": [
    {
     "name": "stdout",
     "output_type": "stream",
     "text": [
      "38.48451000647496\n"
     ]
    }
   ],
   "source": [
    "#1\n",
    "import math\n",
    "\n",
    "radius = 3.5\n",
    "area = math.pi*radius**2\n",
    "print(area)"
   ]
  },
  {
   "cell_type": "code",
   "execution_count": 4,
   "metadata": {},
   "outputs": [
    {
     "name": "stdout",
     "output_type": "stream",
     "text": [
      "생년, 월, 일을 차례로 입력하세요.\n"
     ]
    }
   ],
   "source": [
    "#2\n",
    "print('생년, 월, 일을 차례로 입력하세요.')\n",
    "생년 = input('생년?')\n",
    "월 = input('월?')\n",
    "일 = input('일?')\n",
    "print('당신은 {0}년 {1}월 {2}일에 태어났습니다.'.format(생년, 월, 일))"
   ]
  },
  {
   "cell_type": "code",
   "execution_count": null,
   "metadata": {},
   "outputs": [],
   "source": [
    "#코사다마 교안 4장 실습"
   ]
  },
  {
   "cell_type": "code",
   "execution_count": 2,
   "metadata": {},
   "outputs": [
    {
     "name": "stdout",
     "output_type": "stream",
     "text": [
      "[1, 2, 'b', 'c', 4, 5]\n"
     ]
    }
   ],
   "source": [
    "a = [1, 2, 3, 4, 5]\n",
    "a[2:3] = ['b', 'c']\n",
    "print(a)"
   ]
  },
  {
   "cell_type": "code",
   "execution_count": 3,
   "metadata": {},
   "outputs": [
    {
     "name": "stdout",
     "output_type": "stream",
     "text": [
      "[1, 2, ['b', 'c'], 4, 5]\n"
     ]
    }
   ],
   "source": [
    "a = [1, 2, 3, 4, 5]\n",
    "a[2] = ['b', 'c']\n",
    "print(a)"
   ]
  },
  {
   "cell_type": "code",
   "execution_count": 2,
   "metadata": {},
   "outputs": [
    {
     "name": "stdout",
     "output_type": "stream",
     "text": [
      "61.11111111111111\n"
     ]
    }
   ],
   "source": [
    "#1\n",
    "비욘세 = [0, 100, 100]\n",
    "임영웅 = [70, 30, 0]\n",
    "장원영 = [100, 70, 80]\n",
    "비욘세.append((비욘세[0] + 비욘세[1] + 비욘세[2])/3)\n",
    "임영웅.append((임영웅[0] + 임영웅[1] + 임영웅[2])/3)\n",
    "장원영.append((장원영[0] + 장원영[1] + 장원영[2])/3)\n",
    "print((비욘세[3] + 임영웅[3] + 장원영[3])/3)"
   ]
  },
  {
   "cell_type": "code",
   "execution_count": 3,
   "metadata": {},
   "outputs": [
    {
     "name": "stdout",
     "output_type": "stream",
     "text": [
      "502 2\n"
     ]
    }
   ],
   "source": [
    "#2\n",
    "number = [11, 23, 72, 3, 502, 17, 34, 2, 96, 65]\n",
    "number.sort()\n",
    "print(number[-1], number[0])"
   ]
  }
 ],
 "metadata": {
  "kernelspec": {
   "display_name": "Python 3",
   "language": "python",
   "name": "python3"
  },
  "language_info": {
   "codemirror_mode": {
    "name": "ipython",
    "version": 3
   },
   "file_extension": ".py",
   "mimetype": "text/x-python",
   "name": "python",
   "nbconvert_exporter": "python",
   "pygments_lexer": "ipython3",
   "version": "3.12.3"
  }
 },
 "nbformat": 4,
 "nbformat_minor": 2
}
