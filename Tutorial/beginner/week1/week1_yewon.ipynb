{
  "nbformat": 4,
  "nbformat_minor": 0,
  "metadata": {
    "colab": {
      "provenance": []
    },
    "kernelspec": {
      "name": "python3",
      "display_name": "Python 3"
    },
    "language_info": {
      "name": "python"
    }
  },
  "cells": [
    {
      "cell_type": "code",
      "execution_count": 1,
      "metadata": {
        "colab": {
          "base_uri": "https://localhost:8080/"
        },
        "id": "rTyvPJE3y0cZ",
        "outputId": "3854363c-747e-4c02-9aaa-41fa80cd3d2b"
      },
      "outputs": [
        {
          "output_type": "stream",
          "name": "stdout",
          "text": [
            "1 2 3\n",
            "[1, 2, 3]\n",
            "Hello World!\n",
            "Hello World !\n",
            "고다람\n"
          ]
        }
      ],
      "source": [
        "print(1,2,3)\n",
        "print([1,2,3])\n",
        "print(\"Hello World!\")\n",
        "print(\"Hello\", \"World\", \"!\")\n",
        "a=1\n",
        "b=1\n",
        "a+b\n",
        "name=\"고다람\"\n",
        "print(name)"
      ]
    },
    {
      "cell_type": "markdown",
      "source": [],
      "metadata": {
        "id": "Hy_-FUABzLGN"
      }
    },
    {
      "cell_type": "code",
      "source": [
        "print(17%2)\n",
        "# 17을 2로 나누었을 때의 나머지를 확인\n",
        "float(168.7)\n",
        "int(168.7)\n",
        "\n"
      ],
      "metadata": {
        "colab": {
          "base_uri": "https://localhost:8080/"
        },
        "id": "-_oCTwhEzLqb",
        "outputId": "65ba9ee3-033c-4339-a776-f0bd42931cbb"
      },
      "execution_count": 6,
      "outputs": [
        {
          "output_type": "stream",
          "name": "stdout",
          "text": [
            "1\n"
          ]
        },
        {
          "output_type": "execute_result",
          "data": {
            "text/plain": [
              "168"
            ]
          },
          "metadata": {},
          "execution_count": 6
        }
      ]
    },
    {
      "cell_type": "code",
      "source": [
        "a = '코사다마'\n",
        "print(a[::-1])"
      ],
      "metadata": {
        "colab": {
          "base_uri": "https://localhost:8080/"
        },
        "id": "I3HdTOXL0DfD",
        "outputId": "7e9100e8-7ff9-42ef-b401-8a233bd61f1e"
      },
      "execution_count": 11,
      "outputs": [
        {
          "output_type": "stream",
          "name": "stdout",
          "text": [
            "마다사코\n"
          ]
        }
      ]
    },
    {
      "cell_type": "code",
      "source": [
        "phone_num = '010-1234-1234'\n",
        "print(phone_num.replace('-',''))"
      ],
      "metadata": {
        "colab": {
          "base_uri": "https://localhost:8080/"
        },
        "id": "Fr7Apa8f0vJz",
        "outputId": "4c768d66-040a-4a15-9930-5398ab2a8f0a"
      },
      "execution_count": 12,
      "outputs": [
        {
          "output_type": "stream",
          "name": "stdout",
          "text": [
            "01012341234\n"
          ]
        }
      ]
    },
    {
      "cell_type": "code",
      "source": [
        "studentID = '20221234'\n",
        "name = '고다람'\n",
        "print('입학연도: {0} / 이름: {1} / 학번: {2}'.format(studentID[0:4], name, studentID))"
      ],
      "metadata": {
        "colab": {
          "base_uri": "https://localhost:8080/"
        },
        "id": "1EMTks850-kI",
        "outputId": "66957d1a-7d4f-4505-ddff-b63695a1c16a"
      },
      "execution_count": 14,
      "outputs": [
        {
          "output_type": "stream",
          "name": "stdout",
          "text": [
            "입학연도: 2022 / 이름: 고다람 / 학번: 20221234\n"
          ]
        }
      ]
    },
    {
      "cell_type": "code",
      "source": [
        "radius=3.5\n",
        "area=radius**2*3.14\n",
        "print(area)"
      ],
      "metadata": {
        "colab": {
          "base_uri": "https://localhost:8080/"
        },
        "id": "LEAqD8-s6ieE",
        "outputId": "0af954e9-8c3f-46d7-dcf6-6a823e0eeab1"
      },
      "execution_count": 22,
      "outputs": [
        {
          "output_type": "stream",
          "name": "stdout",
          "text": [
            "38.465\n"
          ]
        }
      ]
    },
    {
      "cell_type": "code",
      "source": [
        "print('생년, 월, 일을 차례로 입력하세요.')\n",
        "year=int(input('생년?'))\n",
        "month=int(input('월?'))\n",
        "day=int(input('일?'))\n",
        "print('당신은',year,'년',month,'월',day,'일에 태어났습니다.')\n"
      ],
      "metadata": {
        "colab": {
          "base_uri": "https://localhost:8080/"
        },
        "id": "QXzvYitG7Jvb",
        "outputId": "823a63bc-5348-48ec-edcb-dab03376f49e"
      },
      "execution_count": 26,
      "outputs": [
        {
          "output_type": "stream",
          "name": "stdout",
          "text": [
            "생년, 월, 일을 차례로 입력하세요.\n",
            "생년?2004\n",
            "월?7\n",
            "일?4\n",
            "당신은 2004 년 7 월 4 일에 태어났습니다.\n"
          ]
        }
      ]
    },
    {
      "cell_type": "code",
      "source": [
        "a=[1,2,3,['이정윤', '조용주', '코사다마']]\n",
        "a[3] #출력값은 ['이정윤', '조용주', '코사다마']\n",
        "a[3][2]"
      ],
      "metadata": {
        "colab": {
          "base_uri": "https://localhost:8080/",
          "height": 35
        },
        "id": "BxKuUBC_-zCk",
        "outputId": "1e27d5a7-6b49-4841-8a4d-a5683db736c7"
      },
      "execution_count": 30,
      "outputs": [
        {
          "output_type": "execute_result",
          "data": {
            "text/plain": [
              "'코사다마'"
            ],
            "application/vnd.google.colaboratory.intrinsic+json": {
              "type": "string"
            }
          },
          "metadata": {},
          "execution_count": 30
        }
      ]
    },
    {
      "cell_type": "code",
      "source": [
        "beyonce=[0,100,100]\n",
        "hero=[70,30,0]\n",
        "wonyoung=[100,70,80]\n",
        "\n",
        "beyonce.append((beyonce[0]+beyonce[1]+beyonce[2])/3)\n",
        "hero.append((hero[0]+hero[1]+hero[2])/3)\n",
        "wonyoung.append((wonyoung[0]+wonyoung[1]+wonyoung[2])/3)\n",
        "\n",
        "print((beyonce[3] + hero[3] + wonyoung[3])/3)\n",
        "\n",
        "\n",
        "\n",
        "\n",
        "\n"
      ],
      "metadata": {
        "colab": {
          "base_uri": "https://localhost:8080/"
        },
        "id": "7U7_zl-VAmJE",
        "outputId": "84954982-e778-4d0c-b43c-4bfa09aaf1c5"
      },
      "execution_count": 32,
      "outputs": [
        {
          "output_type": "stream",
          "name": "stdout",
          "text": [
            "61.11111111111111\n"
          ]
        }
      ]
    },
    {
      "cell_type": "code",
      "source": [
        "number=[2,3,6,84,5,7,9,1,65,45]\n",
        "number.sort()\n",
        "print(number[0], number[-1])\n",
        "\n"
      ],
      "metadata": {
        "colab": {
          "base_uri": "https://localhost:8080/"
        },
        "id": "E88xs2aWCIjP",
        "outputId": "688d49bf-c0df-494e-de45-09b93425ec77"
      },
      "execution_count": 37,
      "outputs": [
        {
          "output_type": "stream",
          "name": "stdout",
          "text": [
            "1 84\n"
          ]
        }
      ]
    }
  ]
}