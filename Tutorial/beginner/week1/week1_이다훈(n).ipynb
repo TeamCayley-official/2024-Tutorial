{
 "cells": [
  {
   "cell_type": "code",
   "execution_count": 1,
   "metadata": {},
   "outputs": [
    {
     "name": "stdout",
     "output_type": "stream",
     "text": [
      "1 2 3\n",
      "[1, 2, 3]\n",
      "Hello World!\n",
      "Hello World !\n"
     ]
    }
   ],
   "source": [
    "print(1,2,3)\n",
    "print([1,2,3])\n",
    "print(\"Hello World!\")\n",
    "print(\"Hello\",\"World\",\"!\")"
   ]
  },
  {
   "cell_type": "code",
   "execution_count": 3,
   "metadata": {},
   "outputs": [
    {
     "name": "stdout",
     "output_type": "stream",
     "text": [
      "2\n",
      "고다림\n"
     ]
    }
   ],
   "source": [
    "a=1\n",
    "b=1\n",
    "print(a+b)\n",
    "name=\"고다림\"\n",
    "print(name)"
   ]
  },
  {
   "cell_type": "code",
   "execution_count": 6,
   "metadata": {},
   "outputs": [
    {
     "name": "stdout",
     "output_type": "stream",
     "text": [
      "이건 한 줄 주석입니다.\n"
     ]
    }
   ],
   "source": [
    "print('이건 한 줄 주석입니다.')\n",
    "# 이건 실행이 될까요?\n",
    "# 아니요.\n"
   ]
  },
  {
   "cell_type": "code",
   "execution_count": 6,
   "metadata": {},
   "outputs": [
    {
     "name": "stdout",
     "output_type": "stream",
     "text": [
      "이건 여러 줄 주석입니다.\n"
     ]
    },
    {
     "data": {
      "text/plain": [
       "'\\n이건 실행이 될까요?\\n'"
      ]
     },
     "execution_count": 6,
     "metadata": {},
     "output_type": "execute_result"
    }
   ],
   "source": [
    "print('이건 여러 줄 주석입니다.')\n",
    "'''\n",
    "이건 실행이 될까요?\n",
    "'''"
   ]
  },
  {
   "cell_type": "code",
   "execution_count": 7,
   "metadata": {},
   "outputs": [
    {
     "name": "stdout",
     "output_type": "stream",
     "text": [
      "이건 여러 줄 주석입니다.\n",
      "이제 여러 줄 주석은 실행되지 않습니다.\n"
     ]
    }
   ],
   "source": [
    "print('이건 여러 줄 주석입니다.')\n",
    "'''\n",
    "이건 실행이 될까요?\n",
    "'''\n",
    "print('이제 여러 줄 주석은 실행되지 않습니다.')\n",
    "# 여러 줄 주석만들기\n",
    "# 어렵지\n",
    "# 않아요!"
   ]
  },
  {
   "cell_type": "code",
   "execution_count": 12,
   "metadata": {},
   "outputs": [
    {
     "name": "stdout",
     "output_type": "stream",
     "text": [
      "False\n",
      "<class 'str'>\n",
      "마\n",
      "다\n",
      "사\n",
      "코\n"
     ]
    }
   ],
   "source": [
    "#2-1\n",
    "print(17%2==0)\n",
    "#2-2\n",
    "num = '168.6'\n",
    "float(num)\n",
    "print(type(num))\n",
    "#2-3\n",
    "a= \"코사다마\"\n",
    "print(a[-1])\n",
    "print(a[-2])\n",
    "print(a[-3])\n",
    "print(a[0])"
   ]
  },
  {
   "cell_type": "code",
   "execution_count": 16,
   "metadata": {},
   "outputs": [
    {
     "name": "stdout",
     "output_type": "stream",
     "text": [
      "01012341234\n",
      "입학연도: 2022 / 이름: 고다람 / 학번: 20221234\n"
     ]
    }
   ],
   "source": [
    "#2-4\n",
    "phone_num = \"010-1234-1234\"\n",
    "print(phone_num.replace('-',''))\n",
    "#2-5\n",
    "studentID = '20221234'\n",
    "name = '고다람'\n",
    "print(\"입학연도: {} / 이름: {} / 학번: {}\".format(studentID[0:4],name,studentID))"
   ]
  },
  {
   "cell_type": "code",
   "execution_count": 18,
   "metadata": {},
   "outputs": [
    {
     "name": "stdout",
     "output_type": "stream",
     "text": [
      "38.465\n",
      "생년, 월, 일을 차례로 입력하세요\n"
     ]
    }
   ],
   "source": [
    "#3-1\n",
    "radius = 3.5\n",
    "area = radius**2*3.14\n",
    "print(area)\n",
    "#3-2\n",
    "print('생년, 월, 일을 차례로 입력하세요')\n",
    "a = input(\"생년?\")\n",
    "b = input('월?')\n",
    "c = input('일?')\n",
    "print(\"당신은 {}년 {}월 {}일에 태어났습니다.\".format(a,b,c))"
   ]
  },
  {
   "cell_type": "code",
   "execution_count": 3,
   "metadata": {},
   "outputs": [
    {
     "name": "stdout",
     "output_type": "stream",
     "text": [
      "국어, 수학, 영어 점수의 평균\n",
      "비욘세: 66.66666666666667\n",
      "임영웅: 33.333333333333336\n",
      "장원영: 83.33333333333333\n"
     ]
    }
   ],
   "source": [
    "#4-1\n",
    "#이름[한국어 점수, 수학 점수, 영어 점수]\n",
    "비욘세 = [0, 100, 100]\n",
    "임영웅 = [70, 30, 0]\n",
    "장원영 = [100, 70, 80]\n",
    "비욘세.append((비욘세[0]+비욘세[1]+비욘세[2])/3)\n",
    "임영웅.append((임영웅[0]+임영웅[1]+임영웅[2])/3)\n",
    "장원영.append((장원영[0]+장원영[1]+장원영[2])/3)\n",
    "print(\"국어, 수학, 영어 점수의 평균\\n비욘세: {}\\n임영웅: {}\\n장원영: {}\".format(비욘세[3], 임영웅[3], 장원영[3]))"
   ]
  },
  {
   "cell_type": "code",
   "execution_count": 5,
   "metadata": {},
   "outputs": [
    {
     "name": "stdout",
     "output_type": "stream",
     "text": [
      "가장 큰 수: 1\n",
      "가장 작은 수: 93\n"
     ]
    }
   ],
   "source": [
    "#4-2\n",
    "number = [12,9,81,93,18,27,36,1,53,79]\n",
    "number.sort()\n",
    "print('가장 큰 수: {}\\n가장 작은 수: {}'.format(number[0],number[9]))"
   ]
  }
 ],
 "metadata": {
  "kernelspec": {
   "display_name": "Python 3",
   "language": "python",
   "name": "python3"
  },
  "language_info": {
   "codemirror_mode": {
    "name": "ipython",
    "version": 3
   },
   "file_extension": ".py",
   "mimetype": "text/x-python",
   "name": "python",
   "nbconvert_exporter": "python",
   "pygments_lexer": "ipython3",
   "version": "3.12.3"
  }
 },
 "nbformat": 4,
 "nbformat_minor": 2
}
