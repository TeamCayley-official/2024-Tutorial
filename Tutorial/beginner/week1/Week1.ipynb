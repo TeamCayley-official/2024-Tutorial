{
  "cells": [
    {
      "cell_type": "code",
      "execution_count": null,
      "metadata": {
        "colab": {
          "base_uri": "https://localhost:8080/"
        },
        "id": "U7uLzLR1sn0C",
        "outputId": "1c49dcab-a056-4a59-afa7-f1ba3a52de4e"
      },
      "outputs": [
        {
          "name": "stdout",
          "output_type": "stream",
          "text": [
            "1 2 3\n"
          ]
        }
      ],
      "source": [
        "print(1,2,3)"
      ]
    },
    {
      "cell_type": "code",
      "execution_count": null,
      "metadata": {
        "colab": {
          "base_uri": "https://localhost:8080/"
        },
        "id": "d8EctasktK27",
        "outputId": "015cf3c5-7da1-432c-d42c-f06e8d2b9fcb"
      },
      "outputs": [
        {
          "name": "stdout",
          "output_type": "stream",
          "text": [
            "[1, 2, 3]\n"
          ]
        }
      ],
      "source": [
        "print([1,2,3])"
      ]
    },
    {
      "cell_type": "code",
      "execution_count": null,
      "metadata": {
        "colab": {
          "base_uri": "https://localhost:8080/"
        },
        "id": "eu-nFeWItRK9",
        "outputId": "d31251d3-87aa-4766-b306-387148c1e1a5"
      },
      "outputs": [
        {
          "name": "stdout",
          "output_type": "stream",
          "text": [
            "Hello World\n"
          ]
        }
      ],
      "source": [
        "print(\"Hello World\")"
      ]
    },
    {
      "cell_type": "code",
      "execution_count": null,
      "metadata": {
        "colab": {
          "base_uri": "https://localhost:8080/"
        },
        "id": "8Fu3e9RMtWM_",
        "outputId": "450780e9-15bc-4e4c-95ac-b119c5adf07f"
      },
      "outputs": [
        {
          "name": "stdout",
          "output_type": "stream",
          "text": [
            "Hello World !\n"
          ]
        }
      ],
      "source": [
        "print(\"Hello\", \"World\", \"!\")"
      ]
    },
    {
      "cell_type": "code",
      "execution_count": null,
      "metadata": {
        "colab": {
          "base_uri": "https://localhost:8080/"
        },
        "id": "TaWGhTKutbzt",
        "outputId": "7569049b-f4b7-460a-820e-290a67862c00"
      },
      "outputs": [
        {
          "data": {
            "text/plain": [
              "2"
            ]
          },
          "execution_count": 10,
          "metadata": {},
          "output_type": "execute_result"
        }
      ],
      "source": [
        "a=1\n",
        "b=1\n",
        "a+b"
      ]
    },
    {
      "cell_type": "code",
      "execution_count": null,
      "metadata": {
        "colab": {
          "base_uri": "https://localhost:8080/"
        },
        "id": "thNaQrdWto9e",
        "outputId": "c15e585a-5ab4-4aaa-a365-e40e9797da91"
      },
      "outputs": [
        {
          "name": "stdout",
          "output_type": "stream",
          "text": [
            "고다람\n"
          ]
        }
      ],
      "source": [
        "name=\"고다람\"\n",
        "print(name)"
      ]
    },
    {
      "cell_type": "code",
      "execution_count": null,
      "metadata": {
        "colab": {
          "base_uri": "https://localhost:8080/"
        },
        "id": "IAel31GPvq3u",
        "outputId": "9ad7786e-6172-4da6-9b31-e6c8d979bf30"
      },
      "outputs": [
        {
          "name": "stdout",
          "output_type": "stream",
          "text": [
            "이건 한 줄 주석입니다\n"
          ]
        }
      ],
      "source": [
        "print('이건 한 줄 주석입니다')\n",
        "#이건 실행이 될까요?"
      ]
    },
    {
      "cell_type": "code",
      "execution_count": null,
      "metadata": {
        "colab": {
          "base_uri": "https://localhost:8080/",
          "height": 52
        },
        "id": "VJkKNqXLv37g",
        "outputId": "53468239-ac3b-437c-a8fa-0dac647d3d62"
      },
      "outputs": [
        {
          "name": "stdout",
          "output_type": "stream",
          "text": [
            "이건 여러 줄 주석입니다.\n"
          ]
        },
        {
          "data": {
            "application/vnd.google.colaboratory.intrinsic+json": {
              "type": "string"
            },
            "text/plain": [
              "'\\n이건 실행이 될까요?\\n'"
            ]
          },
          "execution_count": 15,
          "metadata": {},
          "output_type": "execute_result"
        }
      ],
      "source": [
        "print('이건 여러 줄 주석입니다.')\n",
        "'''\n",
        "이건 실행이 될까요?\n",
        "'''"
      ]
    },
    {
      "cell_type": "code",
      "execution_count": null,
      "metadata": {
        "colab": {
          "base_uri": "https://localhost:8080/"
        },
        "id": "zC5NOdGnv-Zw",
        "outputId": "094c631e-aca8-4312-a95c-67b2fb9510b1"
      },
      "outputs": [
        {
          "name": "stdout",
          "output_type": "stream",
          "text": [
            "이건 여러 줄 주석입니다.\n",
            "이제 여러 줄 주석은 실행되지 않습니다\n"
          ]
        }
      ],
      "source": [
        "print('이건 여러 줄 주석입니다.')\n",
        "'''\n",
        "이건 실행이 될까요?\n",
        "'''\n",
        "print('이제 여러 줄 주석은 실행되지 않습니다')\n"
      ]
    },
    {
      "cell_type": "code",
      "execution_count": null,
      "metadata": {
        "id": "HJAAz0bkxCGk"
      },
      "outputs": [],
      "source": [
        "# 여러 줄 주석만들기\n",
        "# 어렵지\n",
        "# # 않아요!"
      ]
    },
    {
      "cell_type": "markdown",
      "metadata": {
        "id": "9_0T71rrxO9s"
      },
      "source": [
        "챕터2"
      ]
    },
    {
      "cell_type": "code",
      "execution_count": null,
      "metadata": {
        "colab": {
          "base_uri": "https://localhost:8080/"
        },
        "id": "eOF-4IBWxRnN",
        "outputId": "b0ddca6d-d460-482b-84f3-ec0678a71918"
      },
      "outputs": [
        {
          "name": "stdout",
          "output_type": "stream",
          "text": [
            "1\n"
          ]
        }
      ],
      "source": [
        "#수를 2로 나눴을 때 나머지가 0이면 짝수, 1이면 홀수\n",
        "print(17%2)"
      ]
    },
    {
      "cell_type": "code",
      "execution_count": null,
      "metadata": {
        "colab": {
          "base_uri": "https://localhost:8080/"
        },
        "id": "745-zQqlyB59",
        "outputId": "3bbbc1b8-85db-41bb-ba88-4bddeb827f16"
      },
      "outputs": [
        {
          "name": "stdout",
          "output_type": "stream",
          "text": [
            "168.7\n"
          ]
        }
      ],
      "source": [
        "num='168.7'\n",
        "print(float('168.7'))"
      ]
    },
    {
      "cell_type": "code",
      "execution_count": null,
      "metadata": {
        "colab": {
          "base_uri": "https://localhost:8080/"
        },
        "id": "cS-00F9aygYz",
        "outputId": "2f634844-0df1-4ee3-f720-4d1b98adfa2c"
      },
      "outputs": [
        {
          "name": "stdout",
          "output_type": "stream",
          "text": [
            "마다사코\n"
          ]
        }
      ],
      "source": [
        "a='코사다마'\n",
        "print(a[::-1])"
      ]
    },
    {
      "cell_type": "code",
      "execution_count": null,
      "metadata": {
        "colab": {
          "base_uri": "https://localhost:8080/"
        },
        "id": "67S-8m_vy7Yj",
        "outputId": "7636bfde-b0a1-40d2-f0f6-c67bc1202f3a"
      },
      "outputs": [
        {
          "name": "stdout",
          "output_type": "stream",
          "text": [
            "010 1234 1234\n"
          ]
        }
      ],
      "source": [
        "phone_num='010-1234-1234'\n",
        "print(phone_num.replace('-',' '))"
      ]
    },
    {
      "cell_type": "code",
      "execution_count": null,
      "metadata": {
        "colab": {
          "base_uri": "https://localhost:8080/"
        },
        "id": "0_7Oe83IzX0x",
        "outputId": "8020cd80-0384-499f-a69e-e67021e5d854"
      },
      "outputs": [
        {
          "name": "stdout",
          "output_type": "stream",
          "text": [
            "입학연도: 2022 / 이름: 고다람 / 학번: 20221234\n"
          ]
        }
      ],
      "source": [
        "studentID='20221234'\n",
        "name='고다람'\n",
        "\n",
        "print('입학연도: {0} / 이름: {1} / 학번: {2}'.format(studentID[:4], name, studentID))"
      ]
    },
    {
      "cell_type": "code",
      "execution_count": null,
      "metadata": {
        "colab": {
          "base_uri": "https://localhost:8080/"
        },
        "id": "SYwe-EKZzTIe",
        "outputId": "d4b28d8c-87a8-4feb-ef0a-b43db3e9ed51"
      },
      "outputs": [
        {
          "name": "stdout",
          "output_type": "stream",
          "text": [
            "38.48451000647496\n"
          ]
        }
      ],
      "source": [
        "import math\n",
        "\n",
        "radius=3.5\n",
        "area=math.pi*radius**2\n",
        "print(area)"
      ]
    },
    {
      "cell_type": "markdown",
      "metadata": {
        "id": "paoDxy4E98VZ"
      },
      "source": [
        "챕터3"
      ]
    },
    {
      "cell_type": "code",
      "execution_count": null,
      "metadata": {
        "colab": {
          "base_uri": "https://localhost:8080/"
        },
        "id": "2m7LjQZP1uHf",
        "outputId": "7f9d7fab-a105-4f62-89a0-b899ac9cbaa4"
      },
      "outputs": [
        {
          "name": "stdout",
          "output_type": "stream",
          "text": [
            "당신의 생년, 월, 일을 차례로 입력하세요\n",
            "생년?2004\n",
            "월?3\n",
            "일?5\n",
            "당신은 2004 년 3 월 5 일에 태어났습니다.\n"
          ]
        }
      ],
      "source": [
        "print('당신의 생년, 월, 일을 차례로 입력하세요')\n",
        "year=int(input('생년?'))\n",
        "month=int(input('월?'))\n",
        "daylight=int(input('일?'))\n",
        "print('당신은', year,'년',month,'월',daylight,'일에 태어났습니다.')"
      ]
    },
    {
      "cell_type": "markdown",
      "metadata": {
        "id": "S2R6K7mB9_y_"
      },
      "source": [
        "챕터4"
      ]
    },
    {
      "cell_type": "code",
      "execution_count": null,
      "metadata": {
        "colab": {
          "base_uri": "https://localhost:8080/"
        },
        "id": "4lzehR1p3Nb3",
        "outputId": "233735d2-112d-4b14-e219-4fa47460c888"
      },
      "outputs": [
        {
          "name": "stdout",
          "output_type": "stream",
          "text": [
            "66.66666666666667 33.333333333333336 83.33333333333333\n"
          ]
        }
      ],
      "source": [
        "beyonce = [0, 100, 100]\n",
        "hero = [70, 30, 0]\n",
        "won0 = [100, 70, 80]\n",
        "beyonce.append((beyonce[0]+beyonce[1]+beyonce[2])/3)\n",
        "hero.append((hero[0]+hero[1]+hero[2])/3)\n",
        "won0.append((won0[0]+won0[1]+won0[2])/3)\n",
        "print(beyonce[3] , hero[3] ,  won0[3])"
      ]
    },
    {
      "cell_type": "code",
      "execution_count": null,
      "metadata": {
        "colab": {
          "base_uri": "https://localhost:8080/"
        },
        "id": "YHdHuulP75hQ",
        "outputId": "3a3f8734-9f54-40a3-f58c-01ca684a430c"
      },
      "outputs": [
        {
          "name": "stdout",
          "output_type": "stream",
          "text": [
            "1 100\n"
          ]
        }
      ],
      "source": [
        "number = [10, 1, 3, 4, 25, 7, 61, 8, 99, 100]\n",
        "number.sort()\n",
        "print(number[0], number[-1])"
      ]
    },
    {
      "cell_type": "markdown",
      "metadata": {
        "id": "uBfa-FHzxMUr"
      },
      "source": []
    }
  ],
  "metadata": {
    "colab": {
      "provenance": []
    },
    "kernelspec": {
      "display_name": "Python 3",
      "name": "python3"
    },
    "language_info": {
      "name": "python"
    }
  },
  "nbformat": 4,
  "nbformat_minor": 0
}
