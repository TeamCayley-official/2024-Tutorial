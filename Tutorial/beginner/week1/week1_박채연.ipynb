{
  "nbformat": 4,
  "nbformat_minor": 0,
  "metadata": {
    "colab": {
      "provenance": []
    },
    "kernelspec": {
      "name": "python3",
      "display_name": "Python 3"
    },
    "language_info": {
      "name": "python"
    }
  },
  "cells": [
    {
      "cell_type": "code",
      "source": [
        "print(1,2,3)\n",
        "print([1,2,3])\n",
        "print(\"Hello World\")\n",
        "print(\"Hello\", \"World\", \"!\")"
      ],
      "metadata": {
        "id": "NjRybtIpzydt",
        "colab": {
          "base_uri": "https://localhost:8080/"
        },
        "outputId": "5e7ebfdf-1c09-4cc5-fbfd-dc76d5957a53"
      },
      "execution_count": 3,
      "outputs": [
        {
          "output_type": "stream",
          "name": "stdout",
          "text": [
            "1 2 3\n",
            "[1, 2, 3]\n",
            "Hello World\n",
            "Hello World !\n"
          ]
        }
      ]
    },
    {
      "cell_type": "code",
      "source": [
        "a=1\n",
        "b=1\n",
        "a+b"
      ],
      "metadata": {
        "colab": {
          "base_uri": "https://localhost:8080/"
        },
        "id": "3c6YIK5C2mEa",
        "outputId": "8934b148-b054-4994-a544-e1c88007d4ce"
      },
      "execution_count": 4,
      "outputs": [
        {
          "output_type": "execute_result",
          "data": {
            "text/plain": [
              "2"
            ]
          },
          "metadata": {},
          "execution_count": 4
        }
      ]
    },
    {
      "cell_type": "code",
      "source": [
        "name='박채연'\n",
        "print(name)"
      ],
      "metadata": {
        "colab": {
          "base_uri": "https://localhost:8080/"
        },
        "id": "C0mDSCJP2oWT",
        "outputId": "38c023d9-6609-43f2-c17a-1db35e6ef5af"
      },
      "execution_count": 48,
      "outputs": [
        {
          "output_type": "stream",
          "name": "stdout",
          "text": [
            "박채연\n"
          ]
        }
      ]
    },
    {
      "cell_type": "code",
      "source": [
        "print('이건 한 줄 주석입니다.')\n",
        "# 이건 실행이 될까요?"
      ],
      "metadata": {
        "colab": {
          "base_uri": "https://localhost:8080/"
        },
        "id": "KJ8WAQPN21Es",
        "outputId": "50428e00-408d-4c8c-a03f-e25e8445829f"
      },
      "execution_count": 6,
      "outputs": [
        {
          "output_type": "stream",
          "name": "stdout",
          "text": [
            "이건 한 줄 주석입니다.\n"
          ]
        }
      ]
    },
    {
      "cell_type": "code",
      "source": [
        "print('이건 여러 줄 주석입니다.')\n",
        "'''\n",
        "이건 실행이 될까요?\n",
        "'''"
      ],
      "metadata": {
        "colab": {
          "base_uri": "https://localhost:8080/",
          "height": 52
        },
        "id": "TiaxJsPJ31Xr",
        "outputId": "96335a66-13c7-4210-f852-caaee339cefe"
      },
      "execution_count": 7,
      "outputs": [
        {
          "output_type": "stream",
          "name": "stdout",
          "text": [
            "이건 여러 줄 주석입니다.\n"
          ]
        },
        {
          "output_type": "execute_result",
          "data": {
            "text/plain": [
              "'\\n이건 실행이 될까요?\\n'"
            ],
            "application/vnd.google.colaboratory.intrinsic+json": {
              "type": "string"
            }
          },
          "metadata": {},
          "execution_count": 7
        }
      ]
    },
    {
      "cell_type": "code",
      "source": [
        "print('이건 여러 줄 주석입니다.')\n",
        "'''\n",
        "이건 실행이 될까요?\n",
        "'''\n",
        "print('이제 여러 줄 주석은 실행되지 않습니다.')"
      ],
      "metadata": {
        "colab": {
          "base_uri": "https://localhost:8080/"
        },
        "id": "d_cPGeHk4GR5",
        "outputId": "429cd454-3ff6-459f-d521-8ddeac4742c0"
      },
      "execution_count": 8,
      "outputs": [
        {
          "output_type": "stream",
          "name": "stdout",
          "text": [
            "이건 여러 줄 주석입니다.\n",
            "이제 여러 줄 주석은 실행되지 않습니다.\n"
          ]
        }
      ]
    },
    {
      "cell_type": "code",
      "source": [
        "# 여러 줄 주석만들기\n",
        "# 어렵지\n",
        "# 않아요!"
      ],
      "metadata": {
        "id": "C0ni25IK4RlQ"
      },
      "execution_count": 9,
      "outputs": []
    },
    {
      "cell_type": "code",
      "source": [
        "# 314 정수 -> 실수\n",
        "float(314)\n",
        "\n",
        "# 3.14 실수 -> 정수\n",
        "int(3.14)"
      ],
      "metadata": {
        "colab": {
          "base_uri": "https://localhost:8080/"
        },
        "id": "GMi56xgdBjuf",
        "outputId": "6a1ea278-d5a9-46fa-825b-d1b63fa854f5"
      },
      "execution_count": 10,
      "outputs": [
        {
          "output_type": "execute_result",
          "data": {
            "text/plain": [
              "3"
            ]
          },
          "metadata": {},
          "execution_count": 10
        }
      ]
    },
    {
      "cell_type": "code",
      "source": [
        "# 반올림 (결과: 3)\n",
        "round(3.14)"
      ],
      "metadata": {
        "colab": {
          "base_uri": "https://localhost:8080/"
        },
        "id": "FzCXf0W6Byh8",
        "outputId": "c7cd30be-e39e-4636-b86b-8c17faef3d0a"
      },
      "execution_count": 12,
      "outputs": [
        {
          "output_type": "execute_result",
          "data": {
            "text/plain": [
              "3"
            ]
          },
          "metadata": {},
          "execution_count": 12
        }
      ]
    },
    {
      "cell_type": "code",
      "source": [
        "from math import *\n",
        "# 올림 (결과: 4)\n",
        "ceil(3.14)"
      ],
      "metadata": {
        "colab": {
          "base_uri": "https://localhost:8080/"
        },
        "id": "DukS7NNMB7u2",
        "outputId": "640bdbbe-7a7f-4a11-9c13-a5cf7c3727c1"
      },
      "execution_count": 14,
      "outputs": [
        {
          "output_type": "execute_result",
          "data": {
            "text/plain": [
              "4"
            ]
          },
          "metadata": {},
          "execution_count": 14
        }
      ]
    },
    {
      "cell_type": "code",
      "source": [
        "from math import *\n",
        "# 내림 (결과: 3)\n",
        "floor(3.14)"
      ],
      "metadata": {
        "colab": {
          "base_uri": "https://localhost:8080/"
        },
        "id": "9zgWaiYVCA4S",
        "outputId": "833872d5-f3ed-4e60-b0ab-a8ce109c86d5"
      },
      "execution_count": 15,
      "outputs": [
        {
          "output_type": "execute_result",
          "data": {
            "text/plain": [
              "3"
            ]
          },
          "metadata": {},
          "execution_count": 15
        }
      ]
    },
    {
      "cell_type": "code",
      "source": [
        "print(2000%30//8)"
      ],
      "metadata": {
        "colab": {
          "base_uri": "https://localhost:8080/"
        },
        "id": "vbLk06UkCxUI",
        "outputId": "3b4b3772-c9e0-4dc4-a2cb-01a94d27dd5f"
      },
      "execution_count": 18,
      "outputs": [
        {
          "output_type": "stream",
          "name": "stdout",
          "text": [
            "2\n"
          ]
        }
      ]
    },
    {
      "cell_type": "code",
      "source": [
        "print(79%7)\n",
        "#79일 뒤는 토요일이다."
      ],
      "metadata": {
        "colab": {
          "base_uri": "https://localhost:8080/"
        },
        "id": "rnO-Qs5dDt8l",
        "outputId": "fe49aa1e-c957-4c88-9329-db87c3e91aac"
      },
      "execution_count": 20,
      "outputs": [
        {
          "output_type": "stream",
          "name": "stdout",
          "text": [
            "2\n"
          ]
        }
      ]
    },
    {
      "cell_type": "code",
      "source": [
        "print(500*7+5000/3*2+1000)"
      ],
      "metadata": {
        "colab": {
          "base_uri": "https://localhost:8080/"
        },
        "id": "dQwS4kwKD-j2",
        "outputId": "1bfb3b1a-db27-4630-88fa-70351c7d5c85"
      },
      "execution_count": 21,
      "outputs": [
        {
          "output_type": "stream",
          "name": "stdout",
          "text": [
            "7833.333333333334\n"
          ]
        }
      ]
    },
    {
      "cell_type": "code",
      "source": [
        "a = 123\n",
        "type(a)"
      ],
      "metadata": {
        "colab": {
          "base_uri": "https://localhost:8080/"
        },
        "id": "9iAeX-oYIF3G",
        "outputId": "4e06866d-3116-490e-91f8-ac7191c6c981"
      },
      "execution_count": 22,
      "outputs": [
        {
          "output_type": "execute_result",
          "data": {
            "text/plain": [
              "int"
            ]
          },
          "metadata": {},
          "execution_count": 22
        }
      ]
    },
    {
      "cell_type": "code",
      "source": [
        "str(a)"
      ],
      "metadata": {
        "colab": {
          "base_uri": "https://localhost:8080/",
          "height": 35
        },
        "id": "aLhauJ8bIKSL",
        "outputId": "3d81edd0-044b-4fa3-fb1e-59f2f00d497d"
      },
      "execution_count": 23,
      "outputs": [
        {
          "output_type": "execute_result",
          "data": {
            "text/plain": [
              "'123'"
            ],
            "application/vnd.google.colaboratory.intrinsic+json": {
              "type": "string"
            }
          },
          "metadata": {},
          "execution_count": 23
        }
      ]
    },
    {
      "cell_type": "code",
      "source": [
        "type(str(a))"
      ],
      "metadata": {
        "colab": {
          "base_uri": "https://localhost:8080/"
        },
        "id": "D-e4YehyINqU",
        "outputId": "18eea841-aa9d-418f-b24e-a317bbab235a"
      },
      "execution_count": 24,
      "outputs": [
        {
          "output_type": "execute_result",
          "data": {
            "text/plain": [
              "str"
            ]
          },
          "metadata": {},
          "execution_count": 24
        }
      ]
    },
    {
      "cell_type": "code",
      "source": [
        "a = 'Hello'\n",
        "b = 'World'\n",
        "c = '!'\n",
        "print(a + b + c)"
      ],
      "metadata": {
        "colab": {
          "base_uri": "https://localhost:8080/"
        },
        "id": "Y4zAoBBWIw1u",
        "outputId": "4b0fbfff-a34c-4163-87ed-17893ebce0eb"
      },
      "execution_count": 25,
      "outputs": [
        {
          "output_type": "stream",
          "name": "stdout",
          "text": [
            "HelloWorld!\n"
          ]
        }
      ]
    },
    {
      "cell_type": "code",
      "source": [
        "print(a + ' ' + b + c)"
      ],
      "metadata": {
        "colab": {
          "base_uri": "https://localhost:8080/"
        },
        "id": "NT6-HtJRIyfc",
        "outputId": "73f8c775-017e-4f1b-dac4-323bc5d6982f"
      },
      "execution_count": 26,
      "outputs": [
        {
          "output_type": "stream",
          "name": "stdout",
          "text": [
            "Hello World!\n"
          ]
        }
      ]
    },
    {
      "cell_type": "code",
      "source": [
        "b = '코사다마와 함께하는 즐거운 파이썬 공부!'\n",
        "len(b)"
      ],
      "metadata": {
        "colab": {
          "base_uri": "https://localhost:8080/"
        },
        "id": "O6_ZUTghKIh0",
        "outputId": "939dce07-37b7-4110-90ed-82fe334cfb48"
      },
      "execution_count": 27,
      "outputs": [
        {
          "output_type": "execute_result",
          "data": {
            "text/plain": [
              "22"
            ]
          },
          "metadata": {},
          "execution_count": 27
        }
      ]
    },
    {
      "cell_type": "code",
      "source": [
        "a = '코딩을 사랑하는 다람쥐와 마요네즈'\n",
        "a[1:4] #결과: a문자열의 1번부터 3번까지"
      ],
      "metadata": {
        "colab": {
          "base_uri": "https://localhost:8080/",
          "height": 35
        },
        "id": "R91vvSeQOPtj",
        "outputId": "50f761ef-eb7a-4512-caa3-523109a7312e"
      },
      "execution_count": 28,
      "outputs": [
        {
          "output_type": "execute_result",
          "data": {
            "text/plain": [
              "'딩을 '"
            ],
            "application/vnd.google.colaboratory.intrinsic+json": {
              "type": "string"
            }
          },
          "metadata": {},
          "execution_count": 28
        }
      ]
    },
    {
      "cell_type": "code",
      "source": [
        "a = '코딩을 사랑하는 다람쥐와 마요네즈'\n",
        "a[:5] #결과: a문자열의 0번부터 4번까지"
      ],
      "metadata": {
        "colab": {
          "base_uri": "https://localhost:8080/",
          "height": 35
        },
        "id": "rjNfgOdLOVbB",
        "outputId": "fe27b25a-05e4-4fb1-96a9-1e868e3aba52"
      },
      "execution_count": 29,
      "outputs": [
        {
          "output_type": "execute_result",
          "data": {
            "text/plain": [
              "'코딩을 사'"
            ],
            "application/vnd.google.colaboratory.intrinsic+json": {
              "type": "string"
            }
          },
          "metadata": {},
          "execution_count": 29
        }
      ]
    },
    {
      "cell_type": "code",
      "source": [
        "a = '코딩을 사랑하는 다람쥐와 마요네즈'\n",
        "a[3:] #결과: a문자열의 3번부터 끝까지"
      ],
      "metadata": {
        "colab": {
          "base_uri": "https://localhost:8080/",
          "height": 35
        },
        "id": "39RnCUA5Oakm",
        "outputId": "47171d1c-16a1-4c61-ff3e-b56c49509edd"
      },
      "execution_count": 30,
      "outputs": [
        {
          "output_type": "execute_result",
          "data": {
            "text/plain": [
              "' 사랑하는 다람쥐와 마요네즈'"
            ],
            "application/vnd.google.colaboratory.intrinsic+json": {
              "type": "string"
            }
          },
          "metadata": {},
          "execution_count": 30
        }
      ]
    },
    {
      "cell_type": "code",
      "source": [
        "a = '코딩을 사랑하는 다람쥐와 마요네즈'\n",
        "a[:] #결과: a문자열 전체 다"
      ],
      "metadata": {
        "colab": {
          "base_uri": "https://localhost:8080/",
          "height": 35
        },
        "id": "JMCX7mfVOflt",
        "outputId": "5c9a9534-c42e-4f2b-8592-5c4cb17b25a3"
      },
      "execution_count": 32,
      "outputs": [
        {
          "output_type": "execute_result",
          "data": {
            "text/plain": [
              "'코딩을 사랑하는 다람쥐와 마요네즈'"
            ],
            "application/vnd.google.colaboratory.intrinsic+json": {
              "type": "string"
            }
          },
          "metadata": {},
          "execution_count": 32
        }
      ]
    },
    {
      "cell_type": "code",
      "source": [
        "a = '코딩을 사랑하는 다람쥐와 마요네즈'\n",
        "a[-5:-1] #결과: a문자열의 -5번부터 -2까지"
      ],
      "metadata": {
        "colab": {
          "base_uri": "https://localhost:8080/",
          "height": 35
        },
        "id": "0TDyuCVzOkpf",
        "outputId": "719ccc57-71f1-4a5d-d89c-764ab873b505"
      },
      "execution_count": 33,
      "outputs": [
        {
          "output_type": "execute_result",
          "data": {
            "text/plain": [
              "' 마요네'"
            ],
            "application/vnd.google.colaboratory.intrinsic+json": {
              "type": "string"
            }
          },
          "metadata": {},
          "execution_count": 33
        }
      ]
    },
    {
      "cell_type": "code",
      "source": [
        "a = '고다람은 2020-01-13에 코사다마에서 태어났습니다.'\n",
        "a[5:15]"
      ],
      "metadata": {
        "colab": {
          "base_uri": "https://localhost:8080/",
          "height": 35
        },
        "id": "OG7HwchbOnRs",
        "outputId": "05fa9ca4-603d-4738-9923-6d05ec62c2e6"
      },
      "execution_count": 37,
      "outputs": [
        {
          "output_type": "execute_result",
          "data": {
            "text/plain": [
              "'2020-01-13'"
            ],
            "application/vnd.google.colaboratory.intrinsic+json": {
              "type": "string"
            }
          },
          "metadata": {},
          "execution_count": 37
        }
      ]
    },
    {
      "cell_type": "code",
      "source": [
        "a = '고다람은 2020-01-13에 코사다마에서 태어났습니다.'\n",
        "a[17:21]"
      ],
      "metadata": {
        "colab": {
          "base_uri": "https://localhost:8080/",
          "height": 35
        },
        "id": "zR5VoxsyPCx7",
        "outputId": "5b6c658a-2bf9-4873-9a59-4522af7557e0"
      },
      "execution_count": 38,
      "outputs": [
        {
          "output_type": "execute_result",
          "data": {
            "text/plain": [
              "'코사다마'"
            ],
            "application/vnd.google.colaboratory.intrinsic+json": {
              "type": "string"
            }
          },
          "metadata": {},
          "execution_count": 38
        }
      ]
    },
    {
      "cell_type": "code",
      "source": [
        "print('%s'%'car')"
      ],
      "metadata": {
        "colab": {
          "base_uri": "https://localhost:8080/"
        },
        "id": "2RTsyIHuP_vP",
        "outputId": "0295891d-8d2c-4c98-f4d6-1affc2e31d79"
      },
      "execution_count": 39,
      "outputs": [
        {
          "output_type": "stream",
          "name": "stdout",
          "text": [
            "car\n"
          ]
        }
      ]
    },
    {
      "cell_type": "code",
      "source": [
        "print('%s'%'apple')"
      ],
      "metadata": {
        "colab": {
          "base_uri": "https://localhost:8080/"
        },
        "id": "nuOfG6ptQCc_",
        "outputId": "40107e70-64a5-4ddf-d1b4-0aacc037bebe"
      },
      "execution_count": 40,
      "outputs": [
        {
          "output_type": "stream",
          "name": "stdout",
          "text": [
            "apple\n"
          ]
        }
      ]
    },
    {
      "cell_type": "code",
      "source": [
        "print('%10s'%'car')"
      ],
      "metadata": {
        "colab": {
          "base_uri": "https://localhost:8080/"
        },
        "id": "7PR2dRH5QE2F",
        "outputId": "e4a3e65a-a72d-42c8-89b2-989a31e9a939"
      },
      "execution_count": 41,
      "outputs": [
        {
          "output_type": "stream",
          "name": "stdout",
          "text": [
            "       car\n"
          ]
        }
      ]
    },
    {
      "cell_type": "code",
      "source": [
        "print('%10s'%'apple')"
      ],
      "metadata": {
        "colab": {
          "base_uri": "https://localhost:8080/"
        },
        "id": "dD33lxL9QPSh",
        "outputId": "b781b314-bac8-4301-ffe3-f3188eba6b9a"
      },
      "execution_count": 42,
      "outputs": [
        {
          "output_type": "stream",
          "name": "stdout",
          "text": [
            "     apple\n"
          ]
        }
      ]
    },
    {
      "cell_type": "code",
      "source": [
        "print('%-10s'%'car')"
      ],
      "metadata": {
        "colab": {
          "base_uri": "https://localhost:8080/"
        },
        "id": "5G4niCwlQSTw",
        "outputId": "fefec735-55ef-44ea-fb99-d0930a1c39d0"
      },
      "execution_count": 43,
      "outputs": [
        {
          "output_type": "stream",
          "name": "stdout",
          "text": [
            "car       \n"
          ]
        }
      ]
    },
    {
      "cell_type": "code",
      "source": [
        "print('%-10s'%'apple')"
      ],
      "metadata": {
        "colab": {
          "base_uri": "https://localhost:8080/"
        },
        "id": "21Kq315uQVT3",
        "outputId": "fbf6d796-bb76-4918-aa70-a2a578ac0d8a"
      },
      "execution_count": 44,
      "outputs": [
        {
          "output_type": "stream",
          "name": "stdout",
          "text": [
            "apple     \n"
          ]
        }
      ]
    },
    {
      "cell_type": "code",
      "source": [
        "'오늘은 {0}월 {1}일 입니다.'.format(1, 15)"
      ],
      "metadata": {
        "colab": {
          "base_uri": "https://localhost:8080/",
          "height": 35
        },
        "id": "2f3n3hl7QtPr",
        "outputId": "3beca2f8-0bd5-460e-af26-66553022a02b"
      },
      "execution_count": 45,
      "outputs": [
        {
          "output_type": "execute_result",
          "data": {
            "text/plain": [
              "'오늘은 1월 15일 입니다.'"
            ],
            "application/vnd.google.colaboratory.intrinsic+json": {
              "type": "string"
            }
          },
          "metadata": {},
          "execution_count": 45
        }
      ]
    },
    {
      "cell_type": "code",
      "source": [
        "'오늘은 {month}월 {date}일 입니다.'.format(month=1, date=15)"
      ],
      "metadata": {
        "colab": {
          "base_uri": "https://localhost:8080/",
          "height": 35
        },
        "id": "ql89AFoWQugD",
        "outputId": "f5d23da4-7a40-4f1d-bdce-2d4a8f257701"
      },
      "execution_count": 46,
      "outputs": [
        {
          "output_type": "execute_result",
          "data": {
            "text/plain": [
              "'오늘은 1월 15일 입니다.'"
            ],
            "application/vnd.google.colaboratory.intrinsic+json": {
              "type": "string"
            }
          },
          "metadata": {},
          "execution_count": 46
        }
      ]
    },
    {
      "cell_type": "code",
      "source": [
        "print((100 < 10) or (40 >= 4))\n",
        "print((100 < 10) and (40 >= 4))\n",
        "print(not(100 < 10))"
      ],
      "metadata": {
        "colab": {
          "base_uri": "https://localhost:8080/"
        },
        "id": "LaQFlKb9TG1g",
        "outputId": "e7937eb5-70f2-4952-c556-fd9ddb363088"
      },
      "execution_count": 49,
      "outputs": [
        {
          "output_type": "stream",
          "name": "stdout",
          "text": [
            "True\n",
            "False\n",
            "True\n"
          ]
        }
      ]
    },
    {
      "cell_type": "code",
      "source": [
        "print(17%2)"
      ],
      "metadata": {
        "colab": {
          "base_uri": "https://localhost:8080/"
        },
        "id": "h_C93Yk3TWKB",
        "outputId": "368a848a-cf67-4514-e966-96e504dc77a1"
      },
      "execution_count": 50,
      "outputs": [
        {
          "output_type": "stream",
          "name": "stdout",
          "text": [
            "1\n"
          ]
        }
      ]
    },
    {
      "cell_type": "code",
      "source": [
        "num = '168.7'\n",
        "print(float(num))\n",
        "print(type(float(num)))"
      ],
      "metadata": {
        "colab": {
          "base_uri": "https://localhost:8080/"
        },
        "id": "3LG1wX1XTZIH",
        "outputId": "abd7400a-d45b-45b6-cbf6-c3a81b3f4bae"
      },
      "execution_count": 51,
      "outputs": [
        {
          "output_type": "stream",
          "name": "stdout",
          "text": [
            "168.7\n",
            "<class 'float'>\n"
          ]
        }
      ]
    },
    {
      "cell_type": "code",
      "source": [
        "a = '코사다마'\n",
        "print(a[::-1])"
      ],
      "metadata": {
        "colab": {
          "base_uri": "https://localhost:8080/"
        },
        "id": "1lqdbx80TnqV",
        "outputId": "28716b5f-5bf4-49e8-f7da-ff3e69f10d22"
      },
      "execution_count": 52,
      "outputs": [
        {
          "output_type": "stream",
          "name": "stdout",
          "text": [
            "마다사코\n"
          ]
        }
      ]
    },
    {
      "cell_type": "code",
      "source": [
        "phone_num = '010-1234-1234'\n",
        "print(phone_num.replace('-', ''))"
      ],
      "metadata": {
        "colab": {
          "base_uri": "https://localhost:8080/"
        },
        "id": "Cxdz2t39Tspw",
        "outputId": "ea0c6656-c5ad-4119-c062-5b72773b764a"
      },
      "execution_count": 53,
      "outputs": [
        {
          "output_type": "stream",
          "name": "stdout",
          "text": [
            "01012341234\n"
          ]
        }
      ]
    },
    {
      "cell_type": "code",
      "source": [
        "studentID = '20240184'\n",
        "name = '박채연'\n",
        "print('입학연도: {0} / 이름: {1} / 학번: {2}'.format(studentID[:4], name, studentID))"
      ],
      "metadata": {
        "colab": {
          "base_uri": "https://localhost:8080/"
        },
        "id": "jf-nP2_bTwc_",
        "outputId": "434490fa-fac4-43c0-924b-ea2bc668e100"
      },
      "execution_count": 55,
      "outputs": [
        {
          "output_type": "stream",
          "name": "stdout",
          "text": [
            "입학연도: 2024 / 이름: 박채연 / 학번: 20240184\n"
          ]
        }
      ]
    },
    {
      "cell_type": "code",
      "source": [
        "user_name = input(\"What's your name?\")"
      ],
      "metadata": {
        "colab": {
          "base_uri": "https://localhost:8080/"
        },
        "id": "yNzyJK5rYM32",
        "outputId": "3e0c08d6-2302-4c15-e776-167dd1d6b7dc"
      },
      "execution_count": 56,
      "outputs": [
        {
          "name": "stdout",
          "output_type": "stream",
          "text": [
            "What's your name?박채연\n"
          ]
        }
      ]
    },
    {
      "cell_type": "code",
      "source": [
        "user_name"
      ],
      "metadata": {
        "colab": {
          "base_uri": "https://localhost:8080/",
          "height": 35
        },
        "id": "nFRaFT0qYYV9",
        "outputId": "3f30b474-063c-45c1-ae46-6688d29f4976"
      },
      "execution_count": 57,
      "outputs": [
        {
          "output_type": "execute_result",
          "data": {
            "text/plain": [
              "'박채연'"
            ],
            "application/vnd.google.colaboratory.intrinsic+json": {
              "type": "string"
            }
          },
          "metadata": {},
          "execution_count": 57
        }
      ]
    },
    {
      "cell_type": "code",
      "source": [
        "import math\n",
        "radius = 3.5\n",
        "area = math.pi*radius**2\n",
        "print(area)"
      ],
      "metadata": {
        "colab": {
          "base_uri": "https://localhost:8080/"
        },
        "id": "QdSSI7rxYt08",
        "outputId": "6205760e-d6e9-4aff-d9d0-c75381fc3ea5"
      },
      "execution_count": 59,
      "outputs": [
        {
          "output_type": "stream",
          "name": "stdout",
          "text": [
            "38.48451000647496\n"
          ]
        }
      ]
    },
    {
      "cell_type": "code",
      "source": [
        "print(\"당신의 생년,월,일을 차례로 입력하세요\")\n",
        "year=int(input('생년?'))\n",
        "month=int(input('월?'))\n",
        "day=int(input('일?'))\n",
        "print('당신은',year,'년',month,'월',day,'일에 태어났습니다.')\n",
        "print('생년월일을 합하면',year+month+day,\"입니다.\")"
      ],
      "metadata": {
        "colab": {
          "base_uri": "https://localhost:8080/"
        },
        "id": "ysSCRq6HY7Yr",
        "outputId": "bff423fd-c788-4ca4-de8c-0f75a9bea21e"
      },
      "execution_count": 60,
      "outputs": [
        {
          "output_type": "stream",
          "name": "stdout",
          "text": [
            "당신의 생년,월,일을 차례로 입력하세요\n",
            "생년?2003\n",
            "월?8\n",
            "일?8\n",
            "당신은 2003 년 8 월 8 일에 태어났습니다.\n",
            "생년월일을 합하면 2019 입니다.\n"
          ]
        }
      ]
    },
    {
      "cell_type": "code",
      "source": [
        "a=[1,2,3,4,5]\n",
        "a[2:3]=['b','c']\n",
        "a"
      ],
      "metadata": {
        "colab": {
          "base_uri": "https://localhost:8080/"
        },
        "id": "gO2ECRvsZNKq",
        "outputId": "7706472e-39cf-458b-ec56-55f0d50a5176"
      },
      "execution_count": 63,
      "outputs": [
        {
          "output_type": "execute_result",
          "data": {
            "text/plain": [
              "[1, 2, 'b', 'c', 4, 5]"
            ]
          },
          "metadata": {},
          "execution_count": 63
        }
      ]
    },
    {
      "cell_type": "code",
      "source": [
        "a=[1,2,3,4,5]\n",
        "a[2]=['b','c']\n",
        "a"
      ],
      "metadata": {
        "colab": {
          "base_uri": "https://localhost:8080/"
        },
        "id": "nX1L0qOecJkd",
        "outputId": "99fbdac8-8025-46be-d637-7f0a6bb889a8"
      },
      "execution_count": 64,
      "outputs": [
        {
          "output_type": "execute_result",
          "data": {
            "text/plain": [
              "[1, 2, ['b', 'c'], 4, 5]"
            ]
          },
          "metadata": {},
          "execution_count": 64
        }
      ]
    },
    {
      "cell_type": "code",
      "source": [
        "비욘세 = [0, 100, 100]\n",
        "임영웅 = [70, 30, 0]\n",
        "장원영 = [100, 70, 80]\n",
        "비욘세.append((비욘세[0]+비욘세[1]+비욘세[2])/3)\n",
        "임영웅.append((임영웅[0]+임영웅[1]+임영웅[2])/3)\n",
        "장원영.append((장원영[0]+장원영[1]+장원영[2])/3)\n",
        "print((비욘세[3] + 임영웅[3] + 장원영[3])/3)"
      ],
      "metadata": {
        "colab": {
          "base_uri": "https://localhost:8080/"
        },
        "id": "GX2H0AIzi3Pw",
        "outputId": "b2d1f119-981f-46d8-fd21-914ce17758a1"
      },
      "execution_count": 65,
      "outputs": [
        {
          "output_type": "stream",
          "name": "stdout",
          "text": [
            "61.11111111111111\n"
          ]
        }
      ]
    },
    {
      "cell_type": "code",
      "source": [
        "number = [4542, 64, 45, 99, 1, 998, 34, 17, 55, 10]\n",
        "number.sort()\n",
        "print(number[0], number[-1])"
      ],
      "metadata": {
        "colab": {
          "base_uri": "https://localhost:8080/"
        },
        "id": "m3ZbF6uUjbvc",
        "outputId": "fc25feda-9ac0-4008-8de3-1ea3de329af0"
      },
      "execution_count": 66,
      "outputs": [
        {
          "output_type": "stream",
          "name": "stdout",
          "text": [
            "1 4542\n"
          ]
        }
      ]
    }
  ]
}