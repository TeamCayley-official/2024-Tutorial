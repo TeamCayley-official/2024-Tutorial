{
  "nbformat": 4,
  "nbformat_minor": 0,
  "metadata": {
    "colab": {
      "provenance": []
    },
    "kernelspec": {
      "name": "python3",
      "display_name": "Python 3"
    },
    "language_info": {
      "name": "python"
    }
  },
  "cells": [
    {
      "cell_type": "code",
      "execution_count": null,
      "metadata": {
        "id": "l5z3BQKhSnDq"
      },
      "outputs": [],
      "source": [
        "print(17%2)"
      ]
    },
    {
      "cell_type": "code",
      "source": [
        "num = \"168.7\"\n",
        "print(float(num))"
      ],
      "metadata": {
        "id": "jj5WbotUSqhD"
      },
      "execution_count": null,
      "outputs": []
    },
    {
      "cell_type": "code",
      "source": [
        "a = '코사다마'"
      ],
      "metadata": {
        "id": "6ChJf6cFSu6d"
      },
      "execution_count": null,
      "outputs": []
    },
    {
      "cell_type": "code",
      "source": [
        "phone_num = 010-1234-1234\n",
        "print(phone_num.replace('-',''))"
      ],
      "metadata": {
        "id": "NVaQcQUGSxB6"
      },
      "execution_count": null,
      "outputs": []
    },
    {
      "cell_type": "code",
      "source": [
        "studentID = '20221234'\n",
        "name = '고다람'\n",
        "\n",
        "print('입학연도:{0} / 이름:{1} / 학번:{2}'.format(studentID[:4], name, studentID))"
      ],
      "metadata": {
        "id": "PPg_Q8SbS0B0"
      },
      "execution_count": null,
      "outputs": []
    },
    {
      "cell_type": "code",
      "source": [
        "#3-6 실습\n",
        "import math\n",
        "radius = 3.5\n",
        "area = math.pi*radius**2\n",
        "print(area)"
      ],
      "metadata": {
        "id": "FMe1_5EoS3UQ"
      },
      "execution_count": null,
      "outputs": []
    },
    {
      "cell_type": "code",
      "source": [
        "print(\"생년, 월, 일을 차례로 입력하세요.\")\n",
        "year = int(input(\"생년?\"))\n",
        "month = int(input(\"월?\"))\n",
        "day = int(input(\"일?\"))\n",
        "print(\"당신은 %d년 %d월 %d일에 태어났습니다.\"%(year, month, day))"
      ],
      "metadata": {
        "id": "ZGou3JgBS-8x"
      },
      "execution_count": null,
      "outputs": []
    },
    {
      "cell_type": "code",
      "source": [
        "#4-5 실습\n",
        "#Q1\n",
        "beyonce = [0,100,100]\n",
        "임영웅 = [70,30,0]\n",
        "장원영 = [100,70,80]\n",
        "\n",
        "beyonce.append(200/3)\n",
        "임영웅.append(100/3)\n",
        "장원영.append(250/3)\n",
        "\n",
        "print(beyonce[3]+임영웅[3]+장원영[3]/3)"
      ],
      "metadata": {
        "id": "Tsc04FiXTCqT"
      },
      "execution_count": null,
      "outputs": []
    }
  ]
}