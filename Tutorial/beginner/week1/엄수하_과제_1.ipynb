{
  "nbformat": 4,
  "nbformat_minor": 0,
  "metadata": {
    "colab": {
      "provenance": []
    },
    "kernelspec": {
      "name": "python3",
      "display_name": "Python 3"
    },
    "language_info": {
      "name": "python"
    }
  },
  "cells": [
    {
      "cell_type": "markdown",
      "source": [
        "1주차 실습 - 1"
      ],
      "metadata": {
        "id": "4z03DIbHvOA8"
      }
    },
    {
      "cell_type": "code",
      "source": [
        "print(1,2,3)"
      ],
      "metadata": {
        "colab": {
          "base_uri": "https://localhost:8080/"
        },
        "id": "sDNkx4qovUmm",
        "outputId": "b618bc9a-def7-4479-b0ca-440fd1475974"
      },
      "execution_count": 1,
      "outputs": [
        {
          "output_type": "stream",
          "name": "stdout",
          "text": [
            "1 2 3\n"
          ]
        }
      ]
    },
    {
      "cell_type": "code",
      "source": [
        "print([1,2,3])"
      ],
      "metadata": {
        "colab": {
          "base_uri": "https://localhost:8080/"
        },
        "id": "n4SJjpOIvXEJ",
        "outputId": "b52ce02b-7768-4e9b-f2d3-e09b8ba075ca"
      },
      "execution_count": 2,
      "outputs": [
        {
          "output_type": "stream",
          "name": "stdout",
          "text": [
            "[1, 2, 3]\n"
          ]
        }
      ]
    },
    {
      "cell_type": "code",
      "source": [
        "print(\"Hello World\")"
      ],
      "metadata": {
        "colab": {
          "base_uri": "https://localhost:8080/"
        },
        "id": "BXqa9achvb12",
        "outputId": "0343d264-def2-4040-de69-ddc9c56fc0b5"
      },
      "execution_count": 3,
      "outputs": [
        {
          "output_type": "stream",
          "name": "stdout",
          "text": [
            "Hello World\n"
          ]
        }
      ]
    },
    {
      "cell_type": "code",
      "source": [
        "print(\"Hello\", \"World\", \"!\")"
      ],
      "metadata": {
        "colab": {
          "base_uri": "https://localhost:8080/"
        },
        "id": "Q0KJukCBvgbx",
        "outputId": "a50256e4-c3d7-4af3-948f-6b5091aa931c"
      },
      "execution_count": 4,
      "outputs": [
        {
          "output_type": "stream",
          "name": "stdout",
          "text": [
            "Hello World !\n"
          ]
        }
      ]
    },
    {
      "cell_type": "code",
      "source": [
        "a=1\n",
        "b=1\n",
        "a+b"
      ],
      "metadata": {
        "colab": {
          "base_uri": "https://localhost:8080/"
        },
        "id": "f6yFzh0Wvl27",
        "outputId": "58be75bb-88f2-403f-891e-55716d96a387"
      },
      "execution_count": 5,
      "outputs": [
        {
          "output_type": "execute_result",
          "data": {
            "text/plain": [
              "2"
            ]
          },
          "metadata": {},
          "execution_count": 5
        }
      ]
    },
    {
      "cell_type": "code",
      "source": [
        "name=\"고다람\"\n",
        "print(name)"
      ],
      "metadata": {
        "colab": {
          "base_uri": "https://localhost:8080/"
        },
        "id": "q-LgY-JGvpQt",
        "outputId": "52ce01ae-1baa-4926-da91-118a2e71d799"
      },
      "execution_count": 6,
      "outputs": [
        {
          "output_type": "stream",
          "name": "stdout",
          "text": [
            "고다람\n"
          ]
        }
      ]
    },
    {
      "cell_type": "code",
      "source": [
        "print('이건 한 줄 주석입니다.')\n",
        "#이건 실행이 될까요?"
      ],
      "metadata": {
        "colab": {
          "base_uri": "https://localhost:8080/"
        },
        "id": "0k3QlIUpvt9F",
        "outputId": "f3e678a0-86e1-47b5-8086-f50fdb674192"
      },
      "execution_count": 7,
      "outputs": [
        {
          "output_type": "stream",
          "name": "stdout",
          "text": [
            "이건 한 줄 주석입니다.\n"
          ]
        }
      ]
    },
    {
      "cell_type": "code",
      "source": [
        "print('이건 여러 줄 주석입니다.')\n",
        "'''\n",
        "이건 실행이 될까요?\n",
        "'''\n",
        "print('이제 여러 줄 주석은 실행되지 않습니다.')"
      ],
      "metadata": {
        "colab": {
          "base_uri": "https://localhost:8080/"
        },
        "id": "XkLyV4Srv3zb",
        "outputId": "15944afd-123b-4287-d8c8-c9c0ba5a9861"
      },
      "execution_count": 8,
      "outputs": [
        {
          "output_type": "stream",
          "name": "stdout",
          "text": [
            "이건 여러 줄 주석입니다.\n",
            "이제 여러 줄 주석은 실행되지 않습니다.\n"
          ]
        }
      ]
    },
    {
      "cell_type": "code",
      "source": [
        "# 여러 줄 주석만들기\n",
        "# 어렵지\n",
        "# 않아요1"
      ],
      "metadata": {
        "id": "fiWIxtmRwEvc"
      },
      "execution_count": 9,
      "outputs": []
    },
    {
      "cell_type": "markdown",
      "source": [
        "1주차 실습 - 2"
      ],
      "metadata": {
        "id": "n8wKqmmdwfD5"
      }
    },
    {
      "cell_type": "code",
      "source": [
        "# 314 정수 -> 실수\n",
        "float(314)\n",
        "\n",
        "# 3.14 실수 -> 정수\n",
        "int(3.14)"
      ],
      "metadata": {
        "colab": {
          "base_uri": "https://localhost:8080/"
        },
        "id": "MVroncO8wxtE",
        "outputId": "d78981fb-4df4-41c1-973b-bd9e76e75594"
      },
      "execution_count": 10,
      "outputs": [
        {
          "output_type": "execute_result",
          "data": {
            "text/plain": [
              "3"
            ]
          },
          "metadata": {},
          "execution_count": 10
        }
      ]
    },
    {
      "cell_type": "code",
      "source": [
        "#반올림 (결과:3)\n",
        "round(3.14)\n",
        "\n",
        "from math import *\n",
        "# 올림 (결과:4)\n",
        "ceil(3.14)\n",
        "# 내림 (결과:3)\n",
        "floor(3.14)"
      ],
      "metadata": {
        "colab": {
          "base_uri": "https://localhost:8080/"
        },
        "id": "mag4-HymxMci",
        "outputId": "03c045fe-9dd3-4094-90d5-c52f0ee331b9"
      },
      "execution_count": 13,
      "outputs": [
        {
          "output_type": "execute_result",
          "data": {
            "text/plain": [
              "3"
            ]
          },
          "metadata": {},
          "execution_count": 13
        }
      ]
    },
    {
      "cell_type": "code",
      "source": [
        "# 2000을 30으로 나눈 나머지를 8로 나눈 몫을 구하세요.\n",
        "remainder = 2000 % 30\n",
        "\n",
        "quotient = remainder // 8\n",
        "\n",
        "print(quotient)"
      ],
      "metadata": {
        "colab": {
          "base_uri": "https://localhost:8080/"
        },
        "id": "w6UHTzRexjft",
        "outputId": "3e2670d4-00f7-447d-e4e6-517bca8a18d2"
      },
      "execution_count": 15,
      "outputs": [
        {
          "output_type": "stream",
          "name": "stdout",
          "text": [
            "2\n"
          ]
        }
      ]
    },
    {
      "cell_type": "code",
      "source": [
        "#오늘은 목요일 입니다. 79일 뒤는 몇 요일 일까요?\n",
        "79 % 7\n",
        "\n",
        "print(\"토요일\")"
      ],
      "metadata": {
        "colab": {
          "base_uri": "https://localhost:8080/"
        },
        "id": "_lyL51cuyA44",
        "outputId": "4231a632-ea9f-4e19-f9ef-0d7481427138"
      },
      "execution_count": 17,
      "outputs": [
        {
          "output_type": "stream",
          "name": "stdout",
          "text": [
            "토요일\n"
          ]
        }
      ]
    },
    {
      "cell_type": "code",
      "source": [
        "# 500원짜리 사탕 7개, 3개에 5000원인 과자 2개, 1+1인 1000원짜리 아이스크림 2개를 사면 총 얼마를 지불해야 할까요?\n",
        "candy = 500 * 7\n",
        "snack = 5000 / 3 * 2\n",
        "icecream = 1000\n",
        "\n",
        "candy + snack + icecream"
      ],
      "metadata": {
        "colab": {
          "base_uri": "https://localhost:8080/"
        },
        "id": "D6G_D9vsy2Wj",
        "outputId": "23b9c74e-2214-4bdb-b70c-1b13ed710c32"
      },
      "execution_count": 18,
      "outputs": [
        {
          "output_type": "execute_result",
          "data": {
            "text/plain": [
              "7833.333333333334"
            ]
          },
          "metadata": {},
          "execution_count": 18
        }
      ]
    },
    {
      "cell_type": "code",
      "source": [
        "a = 123\n",
        "type(a)"
      ],
      "metadata": {
        "colab": {
          "base_uri": "https://localhost:8080/"
        },
        "id": "r38DQFgT0X6S",
        "outputId": "30bba25b-dbf5-4f1f-9c16-d72e60b0272c"
      },
      "execution_count": 19,
      "outputs": [
        {
          "output_type": "execute_result",
          "data": {
            "text/plain": [
              "int"
            ]
          },
          "metadata": {},
          "execution_count": 19
        }
      ]
    },
    {
      "cell_type": "code",
      "source": [
        "str(a)"
      ],
      "metadata": {
        "colab": {
          "base_uri": "https://localhost:8080/",
          "height": 35
        },
        "id": "_j0haVln0fam",
        "outputId": "9e6266ef-8619-4fa5-d452-d019c3e1c6df"
      },
      "execution_count": 20,
      "outputs": [
        {
          "output_type": "execute_result",
          "data": {
            "text/plain": [
              "'123'"
            ],
            "application/vnd.google.colaboratory.intrinsic+json": {
              "type": "string"
            }
          },
          "metadata": {},
          "execution_count": 20
        }
      ]
    },
    {
      "cell_type": "code",
      "source": [
        "type(str(a))"
      ],
      "metadata": {
        "colab": {
          "base_uri": "https://localhost:8080/"
        },
        "id": "15Ca_heO0gjk",
        "outputId": "8aaed326-5b2b-4ae8-f20d-74573282f5d3"
      },
      "execution_count": 21,
      "outputs": [
        {
          "output_type": "execute_result",
          "data": {
            "text/plain": [
              "str"
            ]
          },
          "metadata": {},
          "execution_count": 21
        }
      ]
    },
    {
      "cell_type": "code",
      "source": [
        "a= 'Hello'\n",
        "b = 'World'\n",
        "c = '!'\n",
        "print (a + b + c )"
      ],
      "metadata": {
        "colab": {
          "base_uri": "https://localhost:8080/"
        },
        "id": "gHquhd2K0in2",
        "outputId": "c6d1fe7d-61d8-4c7f-e1ae-8009825992e2"
      },
      "execution_count": 22,
      "outputs": [
        {
          "output_type": "stream",
          "name": "stdout",
          "text": [
            "HelloWorld!\n"
          ]
        }
      ]
    },
    {
      "cell_type": "code",
      "source": [
        "print(a + '' + b + c)"
      ],
      "metadata": {
        "colab": {
          "base_uri": "https://localhost:8080/"
        },
        "id": "TLYubXg30r2u",
        "outputId": "ed341321-610b-4f28-8a47-456aaf2992c0"
      },
      "execution_count": 23,
      "outputs": [
        {
          "output_type": "stream",
          "name": "stdout",
          "text": [
            "HelloWorld!\n"
          ]
        }
      ]
    },
    {
      "cell_type": "code",
      "source": [
        "a = '코딩을 사랑하는 다람쥐와 마요네즈'\n",
        "a[1:4] #결과: a문자열의 1번부터 3번까지\n",
        "a[:5] #결과 : a문자열의 0번부터 4번까지\n",
        "a[3:] #결과: a문자열의 3번부터 끝까지\n",
        "a[:] #결과: a문자열 전체 다\n",
        "a[-5:-1] #결과:a문자열의 -5번부터 -2까지"
      ],
      "metadata": {
        "colab": {
          "base_uri": "https://localhost:8080/",
          "height": 35
        },
        "id": "dS-gmxww064m",
        "outputId": "ae8ef964-f4d0-4cf3-8e7a-6cb2f57d3055"
      },
      "execution_count": 24,
      "outputs": [
        {
          "output_type": "execute_result",
          "data": {
            "text/plain": [
              "' 마요네'"
            ],
            "application/vnd.google.colaboratory.intrinsic+json": {
              "type": "string"
            }
          },
          "metadata": {},
          "execution_count": 24
        }
      ]
    },
    {
      "cell_type": "code",
      "source": [
        "# 17이 홀수인지 짝수인지 판별해보세요.\n",
        "print(17%2)"
      ],
      "metadata": {
        "colab": {
          "base_uri": "https://localhost:8080/"
        },
        "id": "W1SOw-Wj1u2C",
        "outputId": "13f11aa9-45e4-466b-ba0a-6486eb10d5d5"
      },
      "execution_count": 26,
      "outputs": [
        {
          "output_type": "stream",
          "name": "stdout",
          "text": [
            "1\n"
          ]
        }
      ]
    },
    {
      "cell_type": "code",
      "source": [
        "# 아래 문자열의 자료형을 실수로 바꿔서 출력해보세요.\n",
        "num = '168.7'\n",
        "print(float(num))\n",
        "print(type(float(num)))"
      ],
      "metadata": {
        "colab": {
          "base_uri": "https://localhost:8080/"
        },
        "id": "sjZaQUgP2byy",
        "outputId": "9212396a-53dc-4ec3-c9aa-89b1d2e580b1"
      },
      "execution_count": 27,
      "outputs": [
        {
          "output_type": "stream",
          "name": "stdout",
          "text": [
            "168.7\n",
            "<class 'float'>\n"
          ]
        }
      ]
    },
    {
      "cell_type": "code",
      "source": [
        "# 아래 문자열을 거꾸로 출력해보세요.\n",
        "a = '코사다마'\n",
        "print(a[::-1])"
      ],
      "metadata": {
        "colab": {
          "base_uri": "https://localhost:8080/"
        },
        "id": "aYdDjIjY2vxH",
        "outputId": "fcc799d6-08a9-49cc-dd59-4d2941a0af19"
      },
      "execution_count": 30,
      "outputs": [
        {
          "output_type": "stream",
          "name": "stdout",
          "text": [
            "마다사코\n"
          ]
        }
      ]
    },
    {
      "cell_type": "code",
      "source": [
        "# 아래 문자열에서 - 을 제거하여 출력해보세요.\n",
        "phone_num = '010-1234-1234'\n",
        "\n",
        "print(phone_num.replace('-',''))"
      ],
      "metadata": {
        "colab": {
          "base_uri": "https://localhost:8080/"
        },
        "id": "ZVTDpFYh25yC",
        "outputId": "5f126cac-5b32-4850-976e-ff23db1ac26c"
      },
      "execution_count": 34,
      "outputs": [
        {
          "output_type": "stream",
          "name": "stdout",
          "text": [
            "01012341234\n"
          ]
        }
      ]
    },
    {
      "cell_type": "code",
      "source": [
        "# 다음 변수를 활용하여 아래와 같은 결과가 나오게 출력해보세요.\n",
        "\n",
        "# 입학연도: 2022 / 이름: 고다람 / 학번: 20221234\n",
        "\n",
        "studentID = '20221234'\n",
        "name = '고다람'\n",
        "print('입학연도: {0} / 이름: {1} / 학번: {2}'.format(studentID[:4], name, studentID ))\n"
      ],
      "metadata": {
        "colab": {
          "base_uri": "https://localhost:8080/"
        },
        "id": "Vtf204fH3aLP",
        "outputId": "ddb851a6-6587-4d36-a5ab-c513550c1348"
      },
      "execution_count": 35,
      "outputs": [
        {
          "output_type": "stream",
          "name": "stdout",
          "text": [
            "입학연도: 2022 / 이름: 고다람 / 학번: 20221234\n"
          ]
        }
      ]
    },
    {
      "cell_type": "markdown",
      "source": [
        "1주차 실습 - 3"
      ],
      "metadata": {
        "id": "msCTv7Io4lHH"
      }
    },
    {
      "cell_type": "code",
      "source": [
        "a = 6\n",
        "a += 1 # a = 7\n",
        "a -= 1 # a = 5\n",
        "a *= 2 # a = 12\n",
        "a /= 3 # a = 2\n",
        "a %= 3 # a = 0"
      ],
      "metadata": {
        "id": "xvVQKonF4bs8"
      },
      "execution_count": 37,
      "outputs": []
    },
    {
      "cell_type": "code",
      "source": [
        "# 반지름의 값이 3.5인 원이 있습니다. 반지름의 값을 radius라는 변수에 넣으세요. area라는 변수는 원의 면적을 의미합니다. 변수 area의 값을 radius 변수를 이용해 식으로 할당하고, 그 값을 숫자로 출력하세요.\n",
        "\n",
        "import math\n",
        "\n",
        "radius = 3.5\n",
        "area = math.pi*radius**2\n",
        "print(area)"
      ],
      "metadata": {
        "colab": {
          "base_uri": "https://localhost:8080/"
        },
        "id": "mjuWQPsn7yKZ",
        "outputId": "9e4495b8-d667-43aa-e42a-99b5f86ed736"
      },
      "execution_count": 38,
      "outputs": [
        {
          "output_type": "stream",
          "name": "stdout",
          "text": [
            "38.48451000647496\n"
          ]
        }
      ]
    },
    {
      "cell_type": "code",
      "source": [
        "# 사용자로부터 생년월일을 입력받아 다음을 출력하는 프로그램을 작성하세요.\n",
        "\n",
        "# 생년, 월, 일을 차례로 입력하세요.\n",
        "# 생년?\n",
        "# 월?\n",
        "# 일?\n",
        "# 당신은 XXXX년 X월 X일에 태어났습니다.\n",
        "\n",
        "print(\"당신의 생년, 월, 일을 차례로 입력하세요.\")\n",
        "year=int(input('생년?'))\n",
        "month=int(input('월?'))\n",
        "day=int(input('일?'))\n",
        "print('당신은',year,'년',month,'월',day,'일에 태어났습니다.')\n",
        "print('생년월일을 합하면', year+month+day, \"입니다.\")"
      ],
      "metadata": {
        "colab": {
          "base_uri": "https://localhost:8080/"
        },
        "id": "Tiw6wHf18tXu",
        "outputId": "ca88c248-acad-41d5-f9af-94fea056575e"
      },
      "execution_count": 39,
      "outputs": [
        {
          "output_type": "stream",
          "name": "stdout",
          "text": [
            "당신의 생년, 월, 일을 차례로 입력하세요.\n",
            "생년?1999\n",
            "월?1\n",
            "일?10\n",
            "당신은 1999 년 1 월 10 일에 태어났습니다.\n",
            "생년월일을 합하면 2010 입니다.\n"
          ]
        }
      ]
    },
    {
      "cell_type": "markdown",
      "source": [
        "1주차 실습 - 4"
      ],
      "metadata": {
        "id": "wcLps4aO-M_3"
      }
    },
    {
      "cell_type": "code",
      "source": [
        "a=[1,2,3,4,5]\n",
        "a[2]=5\n",
        "a[2:3]=['b','c']\n",
        "a[2]=['b','c']"
      ],
      "metadata": {
        "id": "n94Ahnew95Oc"
      },
      "execution_count": 40,
      "outputs": []
    },
    {
      "cell_type": "code",
      "source": [
        "#1\n",
        "a = [1, 2, 'b', 'c', 4, 5]"
      ],
      "metadata": {
        "id": "vJp2PxxF-0ru"
      },
      "execution_count": 43,
      "outputs": []
    },
    {
      "cell_type": "code",
      "source": [
        "#2\n",
        "a =[1, 2, ['b', 'c'], 4, 5]"
      ],
      "metadata": {
        "id": "ZIes2YIC-2wx"
      },
      "execution_count": 44,
      "outputs": []
    },
    {
      "cell_type": "code",
      "source": [
        "#비욘세의 한국어 점수는 0점, 수학 점수는 100점, 영어 점수는 100점입니다. 임영웅의 한국어 점수는 70점, 수학 점수는 30점, 영어 점수는 0점입니다. 장원영의 한국어 점수는 100점, 수학 점수는 70점, 영어 점수는 80점입니다. 세 학생의 점수들을 담은 리스트를 만들고, 각 학생의 국어, 수학, 영어 점수의 평균을 네번째 데이터로 리스트에 넣으세요. 세 학생의 국어, 수학, 영어 점수의 평균을 print() 함수를 통해 출력하세요.\n",
        "\n",
        "beyonce = [0, 100, 100]\n",
        "youngwoong = [70, 30, 0]\n",
        "wonyoung = [100, 70, 80]\n",
        "\n",
        "beyonce.append((beyonce[0]+beyonce[1]+beyonce[2])/3)\n",
        "youngwoong.append(youngwoong[0]+youngwoong[1]+youngwoong[2]/3)\n",
        "wonyoung.append((wonyoung[0]+wonyoung[1]+wonyoung[2])/3)\n",
        "\n",
        "print(beyonce[3]+youngwoong[3]+wonyoung[3]/3)"
      ],
      "metadata": {
        "colab": {
          "base_uri": "https://localhost:8080/"
        },
        "id": "4rdkQ6nK_d53",
        "outputId": "f45a278a-de8c-4fb5-848d-c9bbf7b3973b"
      },
      "execution_count": 47,
      "outputs": [
        {
          "output_type": "stream",
          "name": "stdout",
          "text": [
            "194.44444444444446\n"
          ]
        }
      ]
    },
    {
      "cell_type": "code",
      "source": [
        "#number라는 변수에 임의의 숫자 10개를 넣으세요. 그 중 가장 큰 수와 가장 작은 수를 print() 함수를 통해 출력하세요.\n",
        "\n",
        "number = [1, 2, 3, 4, 5, 6, 7, 8, 9, 10]\n",
        "number.sort()\n",
        "print(number[0], number[-1])"
      ],
      "metadata": {
        "colab": {
          "base_uri": "https://localhost:8080/"
        },
        "id": "PEs5q6qKApfM",
        "outputId": "9558df63-84b0-4e7a-9d9b-287e5745d879"
      },
      "execution_count": 48,
      "outputs": [
        {
          "output_type": "stream",
          "name": "stdout",
          "text": [
            "1 10\n"
          ]
        }
      ]
    },
    {
      "cell_type": "code",
      "source": [],
      "metadata": {
        "id": "oNCnH9NDBNrJ"
      },
      "execution_count": null,
      "outputs": []
    }
  ]
}