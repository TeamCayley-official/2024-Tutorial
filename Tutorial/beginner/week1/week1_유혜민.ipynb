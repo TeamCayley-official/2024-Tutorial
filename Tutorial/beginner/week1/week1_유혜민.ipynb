{
 "cells": [
  {
   "cell_type": "code",
   "execution_count": 74,
   "metadata": {},
   "outputs": [
    {
     "name": "stdout",
     "output_type": "stream",
     "text": [
      "1 2 3\n"
     ]
    }
   ],
   "source": [
    "print(1,2,3)"
   ]
  },
  {
   "cell_type": "code",
   "execution_count": 75,
   "metadata": {},
   "outputs": [
    {
     "name": "stdout",
     "output_type": "stream",
     "text": [
      "[1, 2, 3]\n"
     ]
    }
   ],
   "source": [
    "print([1,2,3])"
   ]
  },
  {
   "cell_type": "code",
   "execution_count": 76,
   "metadata": {},
   "outputs": [
    {
     "name": "stdout",
     "output_type": "stream",
     "text": [
      "Hello World!\n"
     ]
    }
   ],
   "source": [
    "print(\"Hello World!\")"
   ]
  },
  {
   "cell_type": "code",
   "execution_count": 77,
   "metadata": {},
   "outputs": [
    {
     "data": {
      "text/plain": [
       "2"
      ]
     },
     "execution_count": 77,
     "metadata": {},
     "output_type": "execute_result"
    }
   ],
   "source": [
    "a=1\n",
    "b=1\n",
    "a+b"
   ]
  },
  {
   "cell_type": "code",
   "execution_count": 78,
   "metadata": {},
   "outputs": [
    {
     "name": "stdout",
     "output_type": "stream",
     "text": [
      "유혜민\n"
     ]
    }
   ],
   "source": [
    "name=\"유혜민\"\n",
    "print(name)"
   ]
  },
  {
   "cell_type": "code",
   "execution_count": 79,
   "metadata": {},
   "outputs": [
    {
     "name": "stdout",
     "output_type": "stream",
     "text": [
      "이건 한 줄 주석입니다.\n"
     ]
    }
   ],
   "source": [
    "print('이건 한 줄 주석입니다.')\n",
    "#이건 실행이 될까요?"
   ]
  },
  {
   "cell_type": "code",
   "execution_count": 80,
   "metadata": {},
   "outputs": [],
   "source": [
    "# print('이건 여러 줄 주석입니다.')\n",
    "# '''\n",
    "# 이건 실행이 될까요?\n",
    "# '''\n",
    "# # print('이제 여러 줄 주석은 실행되지 않습니다.')"
   ]
  },
  {
   "cell_type": "code",
   "execution_count": 81,
   "metadata": {},
   "outputs": [
    {
     "data": {
      "text/plain": [
       "314.0"
      ]
     },
     "execution_count": 81,
     "metadata": {},
     "output_type": "execute_result"
    }
   ],
   "source": [
    "#정수->실수\n",
    "float(314)"
   ]
  },
  {
   "cell_type": "code",
   "execution_count": 82,
   "metadata": {},
   "outputs": [
    {
     "data": {
      "text/plain": [
       "3"
      ]
     },
     "execution_count": 82,
     "metadata": {},
     "output_type": "execute_result"
    }
   ],
   "source": [
    "#실수->정수\n",
    "int(3.14)"
   ]
  },
  {
   "cell_type": "code",
   "execution_count": 83,
   "metadata": {},
   "outputs": [
    {
     "data": {
      "text/plain": [
       "3"
      ]
     },
     "execution_count": 83,
     "metadata": {},
     "output_type": "execute_result"
    }
   ],
   "source": [
    "round(3.14) #반올림"
   ]
  },
  {
   "cell_type": "code",
   "execution_count": 84,
   "metadata": {},
   "outputs": [
    {
     "name": "stdout",
     "output_type": "stream",
     "text": [
      "4\n",
      "3\n"
     ]
    }
   ],
   "source": [
    "from math import *\n",
    "print (ceil(3.14)) #올림\n",
    "print (floor(3.14)) #내림"
   ]
  },
  {
   "cell_type": "code",
   "execution_count": 85,
   "metadata": {},
   "outputs": [
    {
     "data": {
      "text/plain": [
       "2"
      ]
     },
     "execution_count": 85,
     "metadata": {},
     "output_type": "execute_result"
    }
   ],
   "source": [
    "#2000을 30으로 나눈 나머지를 8로 나눈 몫을 구하세요.\n",
    "2000%30//8"
   ]
  },
  {
   "cell_type": "code",
   "execution_count": 86,
   "metadata": {},
   "outputs": [
    {
     "data": {
      "text/plain": [
       "2"
      ]
     },
     "execution_count": 86,
     "metadata": {},
     "output_type": "execute_result"
    }
   ],
   "source": [
    "#오늘은 목요일 입니다. 79일 뒤는 몇 요일 일까요?\n",
    "79%7\n",
    "#정답: 토요일"
   ]
  },
  {
   "cell_type": "code",
   "execution_count": 87,
   "metadata": {},
   "outputs": [
    {
     "data": {
      "text/plain": [
       "7833.333333333334"
      ]
     },
     "execution_count": 87,
     "metadata": {},
     "output_type": "execute_result"
    }
   ],
   "source": [
    "#500원짜리 사탕 7개, 3개에 5000원인 과자 2개, 1+1인 1000원짜리 아이스림 2개를 사면 총 얼마를 지불해야 할까요?\n",
    "500*7 + 5000/3*2 + 1000"
   ]
  },
  {
   "cell_type": "code",
   "execution_count": 88,
   "metadata": {},
   "outputs": [
    {
     "data": {
      "text/plain": [
       "str"
      ]
     },
     "execution_count": 88,
     "metadata": {},
     "output_type": "execute_result"
    }
   ],
   "source": [
    "a = 'Hello World!'\n",
    "type(a)"
   ]
  },
  {
   "cell_type": "code",
   "execution_count": 89,
   "metadata": {},
   "outputs": [
    {
     "data": {
      "text/plain": [
       "int"
      ]
     },
     "execution_count": 89,
     "metadata": {},
     "output_type": "execute_result"
    }
   ],
   "source": [
    "a = 123\n",
    "type(a)"
   ]
  },
  {
   "cell_type": "code",
   "execution_count": 90,
   "metadata": {},
   "outputs": [
    {
     "data": {
      "text/plain": [
       "'123'"
      ]
     },
     "execution_count": 90,
     "metadata": {},
     "output_type": "execute_result"
    }
   ],
   "source": [
    "str(a)"
   ]
  },
  {
   "cell_type": "code",
   "execution_count": 91,
   "metadata": {},
   "outputs": [
    {
     "data": {
      "text/plain": [
       "str"
      ]
     },
     "execution_count": 91,
     "metadata": {},
     "output_type": "execute_result"
    }
   ],
   "source": [
    "type(str(a))"
   ]
  },
  {
   "cell_type": "code",
   "execution_count": 92,
   "metadata": {},
   "outputs": [
    {
     "name": "stdout",
     "output_type": "stream",
     "text": [
      "HelloWorld!\n",
      "Hello World!\n"
     ]
    }
   ],
   "source": [
    "a = 'Hello'\n",
    "b = 'World'\n",
    "c = '!'\n",
    "print(a + b + c)\n",
    "print(a + ' ' + b + c)"
   ]
  },
  {
   "cell_type": "code",
   "execution_count": 93,
   "metadata": {},
   "outputs": [
    {
     "name": "stdout",
     "output_type": "stream",
     "text": [
      "HelloHello\n"
     ]
    }
   ],
   "source": [
    "a = 'Hello'\n",
    "print(a * 2)"
   ]
  },
  {
   "cell_type": "code",
   "execution_count": 94,
   "metadata": {},
   "outputs": [
    {
     "name": "stdout",
     "output_type": "stream",
     "text": [
      "                                                                                                    \n"
     ]
    }
   ],
   "source": [
    "print(' ' * 100)"
   ]
  },
  {
   "cell_type": "code",
   "execution_count": 95,
   "metadata": {},
   "outputs": [
    {
     "name": "stdout",
     "output_type": "stream",
     "text": [
      "코\n",
      "사\n",
      "다\n",
      "마\n"
     ]
    }
   ],
   "source": [
    "a = '코사다마'\n",
    "print (a[0]) \n",
    "print (a[1])\n",
    "print (a[2]) \n",
    "print (a[3]) "
   ]
  },
  {
   "cell_type": "code",
   "execution_count": 96,
   "metadata": {},
   "outputs": [
    {
     "name": "stdout",
     "output_type": "stream",
     "text": [
      "코\n",
      "사\n",
      "다\n",
      "마\n"
     ]
    }
   ],
   "source": [
    "a = '코사다마'\n",
    "print (a[0]) \n",
    "print (a[-3])\n",
    "print (a[-2]) \n",
    "print (a[-1]) "
   ]
  },
  {
   "cell_type": "code",
   "execution_count": 97,
   "metadata": {},
   "outputs": [
    {
     "data": {
      "text/plain": [
       "22"
      ]
     },
     "execution_count": 97,
     "metadata": {},
     "output_type": "execute_result"
    }
   ],
   "source": [
    "b = '코사다마와 함께하는 즐거운 파이썬 공부!'\n",
    "len(b)"
   ]
  },
  {
   "cell_type": "code",
   "execution_count": 98,
   "metadata": {},
   "outputs": [
    {
     "name": "stdout",
     "output_type": "stream",
     "text": [
      "딩을 \n",
      "코딩을 사\n",
      " 사랑하는 다람쥐와 마요네즈\n",
      "코딩을 사랑하는 다람쥐와 마요네즈\n",
      " 마요네\n"
     ]
    }
   ],
   "source": [
    "a = '코딩을 사랑하는 다람쥐와 마요네즈'\n",
    "print (a[1:4])\n",
    "print (a[:5])\n",
    "print (a[3:])\n",
    "print (a[:])\n",
    "print (a[-5:-1]) "
   ]
  },
  {
   "cell_type": "code",
   "execution_count": 99,
   "metadata": {},
   "outputs": [
    {
     "name": "stdout",
     "output_type": "stream",
     "text": [
      "2020-01-13\n",
      "코사다마\n"
     ]
    }
   ],
   "source": [
    "a = '고다람은 2020-01-13에 코사다마에서 태어났습니다.'\n",
    "print (a[5:15])\n",
    "print (a[17:21])"
   ]
  },
  {
   "cell_type": "code",
   "execution_count": 100,
   "metadata": {},
   "outputs": [
    {
     "data": {
      "text/plain": [
       "'오늘은 1월 15일 입니다.'"
      ]
     },
     "execution_count": 100,
     "metadata": {},
     "output_type": "execute_result"
    }
   ],
   "source": [
    "'오늘은 1월 %d일 입니다.'%15"
   ]
  },
  {
   "cell_type": "code",
   "execution_count": 101,
   "metadata": {},
   "outputs": [
    {
     "data": {
      "text/plain": [
       "'유혜민의 키는 170cm 이고 혈액형은 ab형 입니다.'"
      ]
     },
     "execution_count": 101,
     "metadata": {},
     "output_type": "execute_result"
    }
   ],
   "source": [
    "'%s의 키는 %dcm 이고 혈액형은 %s형 입니다.'%('유혜민', 170, 'ab')"
   ]
  },
  {
   "cell_type": "code",
   "execution_count": 102,
   "metadata": {},
   "outputs": [
    {
     "name": "stdout",
     "output_type": "stream",
     "text": [
      "2.30\n",
      "2.30\n",
      "2.35\n",
      " 232.3\n"
     ]
    }
   ],
   "source": [
    "print ('%.2f'%2.3)\n",
    "print ('%0.2f'%2.3)\n",
    "print ('%.2f'%2.34567)\n",
    "print ('%6.1f'%232.34567)"
   ]
  },
  {
   "cell_type": "code",
   "execution_count": 103,
   "metadata": {},
   "outputs": [
    {
     "name": "stdout",
     "output_type": "stream",
     "text": [
      "car\n",
      "apple\n",
      "       car\n",
      "     apple\n",
      "car       \n",
      "apple     \n"
     ]
    }
   ],
   "source": [
    "print('%s'%'car')\n",
    "print('%s'%'apple')\n",
    "print('%10s'%'car')\n",
    "print('%10s'%'apple')\n",
    "print('%-10s'%'car')\n",
    "print('%-10s'%'apple')\n"
   ]
  },
  {
   "cell_type": "code",
   "execution_count": 104,
   "metadata": {},
   "outputs": [
    {
     "name": "stdout",
     "output_type": "stream",
     "text": [
      "오늘은 4월 16일 입니다.\n"
     ]
    },
    {
     "data": {
      "text/plain": [
       "'유혜민의 키는 170cm이고 혈액형은 ab형 입니다.'"
      ]
     },
     "execution_count": 104,
     "metadata": {},
     "output_type": "execute_result"
    }
   ],
   "source": [
    "print ('오늘은 {0}월 {1}일 입니다.'.format(4,16))\n",
    "'{0}의 키는 {1}cm이고 혈액형은 {2}형 입니다.'.format('유혜민', 170, 'ab')"
   ]
  },
  {
   "cell_type": "code",
   "execution_count": 105,
   "metadata": {},
   "outputs": [
    {
     "data": {
      "text/plain": [
       "'오늘은 1월 15일 입니다.'"
      ]
     },
     "execution_count": 105,
     "metadata": {},
     "output_type": "execute_result"
    }
   ],
   "source": [
    "'오늘은 {month}월 {date}일 입니다.'.format(month=1, date=15)"
   ]
  },
  {
   "cell_type": "code",
   "execution_count": 106,
   "metadata": {},
   "outputs": [
    {
     "name": "stdout",
     "output_type": "stream",
     "text": [
      "3\n",
      "9\n",
      "9\n",
      "17\n",
      " HYEMIN IS NICE! \n",
      " hyemin is nice! \n",
      "Hyemin is nice! \n",
      " Hyemin is nice!\n",
      "Hyemin is nice!\n",
      " Sakuya is nice! \n",
      "['', 'Hyemin', 'is', 'nice!', '']\n",
      " ,H,y,e,m,i,n, ,i,s, ,n,i,c,e,!, \n"
     ]
    }
   ],
   "source": [
    "a = ' Hyemin is nice! '\n",
    "print (a.count('i'))\n",
    "print (a.find('s'))\n",
    "print (a.index('s'))\n",
    "print (len(a))\n",
    "print (a.upper())\n",
    "print (a.lower())\n",
    "print (a.lstrip())\n",
    "print (a.rstrip())\n",
    "print (a.strip())\n",
    "print (a.replace('Hyemin', 'Sakuya'))\n",
    "print (a.split(' '))\n",
    "print (\",\".join(a))"
   ]
  },
  {
   "cell_type": "code",
   "execution_count": 107,
   "metadata": {},
   "outputs": [
    {
     "name": "stdout",
     "output_type": "stream",
     "text": [
      "Hyeminisnice\n",
      " Hyemin is nice\n"
     ]
    }
   ],
   "source": [
    "a = ' Hyemin is nice'\n",
    "b = a.split(' ')\n",
    "print (''.join(b))\n",
    "print (' '.join(b))"
   ]
  },
  {
   "cell_type": "code",
   "execution_count": 108,
   "metadata": {},
   "outputs": [
    {
     "name": "stdout",
     "output_type": "stream",
     "text": [
      "Hello\n",
      "World!\n"
     ]
    }
   ],
   "source": [
    "print('Hello\\nWorld!')"
   ]
  },
  {
   "cell_type": "code",
   "execution_count": 109,
   "metadata": {},
   "outputs": [
    {
     "name": "stdout",
     "output_type": "stream",
     "text": [
      "Hello\tworld!\n"
     ]
    }
   ],
   "source": [
    "print('Hello\\tworld!')"
   ]
  },
  {
   "cell_type": "code",
   "execution_count": 110,
   "metadata": {},
   "outputs": [
    {
     "name": "stdout",
     "output_type": "stream",
     "text": [
      "Helloc\\World!\n"
     ]
    }
   ],
   "source": [
    "print( 'Helloc\\\\World!')"
   ]
  },
  {
   "cell_type": "code",
   "execution_count": 111,
   "metadata": {},
   "outputs": [
    {
     "name": "stdout",
     "output_type": "stream",
     "text": [
      "hello\\world!\n"
     ]
    }
   ],
   "source": [
    "print('hello\\\\world!')"
   ]
  },
  {
   "cell_type": "code",
   "execution_count": 112,
   "metadata": {},
   "outputs": [
    {
     "data": {
      "text/plain": [
       "bool"
      ]
     },
     "execution_count": 112,
     "metadata": {},
     "output_type": "execute_result"
    }
   ],
   "source": [
    "a = True\n",
    "b = False\n",
    "type(a)\n",
    "type(b)"
   ]
  },
  {
   "cell_type": "code",
   "execution_count": 113,
   "metadata": {},
   "outputs": [
    {
     "data": {
      "text/plain": [
       "True"
      ]
     },
     "execution_count": 113,
     "metadata": {},
     "output_type": "execute_result"
    }
   ],
   "source": [
    "a = 10\n",
    "b = 100\n",
    "a < b"
   ]
  },
  {
   "cell_type": "code",
   "execution_count": 114,
   "metadata": {},
   "outputs": [
    {
     "name": "stdout",
     "output_type": "stream",
     "text": [
      "True\n",
      "False\n",
      "True\n"
     ]
    }
   ],
   "source": [
    "print((100 < 10) or (40 >= 4))\n",
    "print((100 < 10) and (40 >= 4))\n",
    "print(not(100 < 10))"
   ]
  },
  {
   "cell_type": "code",
   "execution_count": 115,
   "metadata": {},
   "outputs": [
    {
     "data": {
      "text/plain": [
       "1"
      ]
     },
     "execution_count": 115,
     "metadata": {},
     "output_type": "execute_result"
    }
   ],
   "source": [
    "# 1. 17이 홀수 인지 짝수인지 판별해보세요. = 홀수임.\n",
    "17%2"
   ]
  },
  {
   "cell_type": "code",
   "execution_count": 116,
   "metadata": {},
   "outputs": [
    {
     "data": {
      "text/plain": [
       "'169'"
      ]
     },
     "execution_count": 116,
     "metadata": {},
     "output_type": "execute_result"
    }
   ],
   "source": [
    "# 2. 문자열의 자료형->실수\n",
    "'%.0f'%168.7"
   ]
  },
  {
   "cell_type": "code",
   "execution_count": 117,
   "metadata": {},
   "outputs": [
    {
     "name": "stdout",
     "output_type": "stream",
     "text": [
      "마다사코\n"
     ]
    }
   ],
   "source": [
    "# 3. 아래 문자열을 거꾸로 출력해보세요.\n",
    "a = '코사다마'\n",
    "print (a[::-1])"
   ]
  },
  {
   "cell_type": "code",
   "execution_count": 118,
   "metadata": {},
   "outputs": [
    {
     "name": "stdout",
     "output_type": "stream",
     "text": [
      "01012345678\n"
     ]
    }
   ],
   "source": [
    "# 4. 아래 문자열을 거꾸로 출력해보세요.\n",
    "phone_num = '010-1234-5678'\n",
    "print (phone_num.replace('-', ''))"
   ]
  },
  {
   "cell_type": "code",
   "execution_count": 119,
   "metadata": {},
   "outputs": [
    {
     "name": "stdout",
     "output_type": "stream",
     "text": [
      "입학연도: 2024 / 이름: 유혜민 / 학번: 20240305\n"
     ]
    }
   ],
   "source": [
    "# 5. 다음 변수를 활용하여 아래와 같은 결과가 나오게 출력해보세요\n",
    "studentID = '20240305'\n",
    "name = '유혜민'\n",
    "print ('입학연도: {0} / 이름: {1} / 학번: {2}'.format(studentID[:4], name, studentID))"
   ]
  },
  {
   "cell_type": "code",
   "execution_count": 120,
   "metadata": {},
   "outputs": [
    {
     "name": "stdout",
     "output_type": "stream",
     "text": [
      "입학연도: 2024 \n",
      "이름: 유혜민 \n",
      "학번: 20240305\n"
     ]
    }
   ],
   "source": [
    "print('입학연도: {0} \\n이름: {1} \\n학번: {2}'.format(studentID[:4], name, studentID))"
   ]
  },
  {
   "cell_type": "code",
   "execution_count": 121,
   "metadata": {},
   "outputs": [],
   "source": [
    "score=100\n",
    "score=90.23\n",
    "score='90점'"
   ]
  },
  {
   "cell_type": "code",
   "execution_count": 122,
   "metadata": {},
   "outputs": [],
   "source": [
    "score=100 #정수형  \n",
    "score=score+0.03 #정수형->실수형\n",
    "a_score=90 #정수형 \n",
    "b_score=80.5 #실수형"
   ]
  },
  {
   "cell_type": "code",
   "execution_count": 123,
   "metadata": {},
   "outputs": [],
   "source": [
    "score=100\n",
    "mean=score/3\n",
    "a,b=1,2\n",
    "c=d=e=3"
   ]
  },
  {
   "cell_type": "code",
   "execution_count": 127,
   "metadata": {},
   "outputs": [],
   "source": [
    "a = 6\n",
    "a += 1\n",
    "a -= 1\n",
    "a *= 2\n",
    "a /= 3\n",
    "a %= 3"
   ]
  },
  {
   "cell_type": "code",
   "execution_count": 130,
   "metadata": {},
   "outputs": [
    {
     "name": "stdout",
     "output_type": "stream",
     "text": [
      "38.465\n"
     ]
    }
   ],
   "source": [
    "# 1. 반지름의 값이 3.5인 원이 있습니다. 반지름의 값을 radius라는 변수에 넣으세요. area라는 변수는 원의 면적을 의미합니다. 변수 area의 값을 radius 변수를 이용해 식으로 할당하고, 그 값을 숫자로 출력하세요.\n",
    "import math\n",
    "radius = 3.5\n",
    "area = 3.14 * radius**2\n",
    "print (area)"
   ]
  },
  {
   "cell_type": "code",
   "execution_count": 131,
   "metadata": {},
   "outputs": [
    {
     "name": "stdout",
     "output_type": "stream",
     "text": [
      "생년, 월, 일을 차례로 입력하세요.\n",
      "당신은 2004 년 11 월 24 일에 태어났습니다.\n",
      "생년월일을 핮하면 2039 입니다.\n"
     ]
    }
   ],
   "source": [
    "# 2. 사용자로부터 생년월일을 입력받아 다음을 출력하는 프로그램을 작성하세요.\n",
    "print (\"생년, 월, 일을 차례로 입력하세요.\")\n",
    "year = int(input('생년?'))\n",
    "month = int(input('월?'))\n",
    "day = int(input('일?'))\n",
    "print ('당신은', year, '년', month, '월', day, '일에 태어났습니다.')\n",
    "print ('생년월일을 핮하면', year + month + day, '입니다.')"
   ]
  },
  {
   "cell_type": "code",
   "execution_count": 132,
   "metadata": {},
   "outputs": [],
   "source": [
    "[1, 2, 3, 4, 5]\n",
    "a = [1, 2, 3, 4, 5]\n",
    "a = [[1, 2, 3, 4, 5], 'Hello']"
   ]
  },
  {
   "cell_type": "code",
   "execution_count": 135,
   "metadata": {},
   "outputs": [
    {
     "data": {
      "text/plain": [
       "6"
      ]
     },
     "execution_count": 135,
     "metadata": {},
     "output_type": "execute_result"
    }
   ],
   "source": [
    "a = [1, 2, 3, 4, 5]\n",
    "a[0]\n",
    "a[0]+a[4]"
   ]
  },
  {
   "cell_type": "code",
   "execution_count": 139,
   "metadata": {},
   "outputs": [
    {
     "data": {
      "text/plain": [
       "'코사다마'"
      ]
     },
     "execution_count": 139,
     "metadata": {},
     "output_type": "execute_result"
    }
   ],
   "source": [
    "a=[1, 2, 3, ['유혜민', '코사다마', '문정과']]\n",
    "a[3]\n",
    "a[3][1] #퀴즈"
   ]
  },
  {
   "cell_type": "code",
   "execution_count": 141,
   "metadata": {},
   "outputs": [],
   "source": [
    "a=[1, 2, 3, 4, 5]\n",
    "a=[]\n"
   ]
  },
  {
   "cell_type": "code",
   "execution_count": 148,
   "metadata": {},
   "outputs": [
    {
     "name": "stdout",
     "output_type": "stream",
     "text": [
      "[2, 3, 4]\n",
      "[1, 2, 3]\n",
      "[3]\n",
      "3\n",
      "[1, 2]\n",
      "[3, 4, 5]\n",
      "[3, 4]\n"
     ]
    },
    {
     "data": {
      "text/plain": [
       "[2, 4, 6, 8]"
      ]
     },
     "execution_count": 148,
     "metadata": {},
     "output_type": "execute_result"
    }
   ],
   "source": [
    "a=[1, 2, 3, 4, 5]\n",
    "print (a[1:4])\n",
    "print (a[:3])\n",
    "print (a[2:3])\n",
    "print (a[2])\n",
    "print (a[:-3])\n",
    "print (a[-3:])\n",
    "print (a[-3:-1])\n",
    "a=[1, 2, 3, 4, 5, 6, 7, 8, 9]\n",
    "a[1:8:2]"
   ]
  },
  {
   "cell_type": "code",
   "execution_count": 149,
   "metadata": {},
   "outputs": [
    {
     "data": {
      "text/plain": [
       "[1, 2, 3, 4, 5, 6, 7, 8]"
      ]
     },
     "execution_count": 149,
     "metadata": {},
     "output_type": "execute_result"
    }
   ],
   "source": [
    "a=[1, 2, 3, 4, 5]\n",
    "b=[6, 7, 8]\n",
    "a+b"
   ]
  },
  {
   "cell_type": "code",
   "execution_count": 150,
   "metadata": {},
   "outputs": [
    {
     "data": {
      "text/plain": [
       "[6, 7, 8, 6, 7, 8, 6, 7, 8]"
      ]
     },
     "execution_count": 150,
     "metadata": {},
     "output_type": "execute_result"
    }
   ],
   "source": [
    "b=[6, 7, 8]\n",
    "b*3"
   ]
  },
  {
   "cell_type": "code",
   "execution_count": 154,
   "metadata": {},
   "outputs": [
    {
     "name": "stdout",
     "output_type": "stream",
     "text": [
      "[1, 2, 'b', 'c', 4, 5]\n",
      "[1, 2, ['b', 'c'], 4, 5]\n"
     ]
    }
   ],
   "source": [
    "a=[1, 2, 3, 4, 5]\n",
    "a[2]=5\n",
    "a[2:3]=['b','c']\n",
    "print (a) # 퀴즈1: [1, 2, 'b', 'c', 4, 5]\n",
    "a=[1, 2, 3, 4, 5]\n",
    "a[2]=['b','c'] \n",
    "print (a) # 퀴즈2: [1, 2, ['b', 'c'], 4, 5]"
   ]
  },
  {
   "cell_type": "code",
   "execution_count": 158,
   "metadata": {},
   "outputs": [
    {
     "name": "stdout",
     "output_type": "stream",
     "text": [
      "[1, 2, 5]\n",
      "[2, 5]\n"
     ]
    }
   ],
   "source": [
    "a=[1, 2, 3, 4, 5]\n",
    "a[2:4]=[]\n",
    "print (a)\n",
    "a=[1, 2, 3, 4, 5]\n",
    "del a[2:4]\n",
    "del a[0]\n",
    "print (a)"
   ]
  },
  {
   "cell_type": "code",
   "execution_count": 160,
   "metadata": {},
   "outputs": [
    {
     "name": "stdout",
     "output_type": "stream",
     "text": [
      "[1, 2, 3, 4, 5, 6, 'hyemin', [7, 8], 7]\n"
     ]
    }
   ],
   "source": [
    "a=[1, 2, 3, 4, 5]\n",
    "a.append(6)\n",
    "a.append(\"hyemin\")\n",
    "a.append([7,8])\n",
    "a.append(7)\n",
    "print (a)"
   ]
  },
  {
   "cell_type": "code",
   "execution_count": 163,
   "metadata": {},
   "outputs": [
    {
     "name": "stdout",
     "output_type": "stream",
     "text": [
      "[1, 2, 3, 4, 5]\n",
      "['수정', '엥', '채연', '혜민']\n"
     ]
    }
   ],
   "source": [
    "a=[5, 2, 3, 1, 4]\n",
    "a.sort()\n",
    "print (a)\n",
    "b=['혜민', '채연', '수정', '엥']\n",
    "b.sort()\n",
    "print (b)"
   ]
  },
  {
   "cell_type": "code",
   "execution_count": 165,
   "metadata": {},
   "outputs": [
    {
     "name": "stdout",
     "output_type": "stream",
     "text": [
      "[5, 4, 3, 2, 1]\n"
     ]
    }
   ],
   "source": [
    "a=[1, 2, 3, 4, 5]\n",
    "a.reverse()\n",
    "print (a)\n"
   ]
  },
  {
   "cell_type": "code",
   "execution_count": 167,
   "metadata": {},
   "outputs": [
    {
     "name": "stdout",
     "output_type": "stream",
     "text": [
      "[5, 4, 3, 2, 1]\n"
     ]
    }
   ],
   "source": [
    "a=[1, 2, 3, 4, 5]\n",
    "a.sort(reverse=True)\n",
    "print (a)"
   ]
  },
  {
   "cell_type": "code",
   "execution_count": 168,
   "metadata": {},
   "outputs": [
    {
     "data": {
      "text/plain": [
       "9"
      ]
     },
     "execution_count": 168,
     "metadata": {},
     "output_type": "execute_result"
    }
   ],
   "source": [
    "a=[1,2,3,4,5,6,7,8,9]\n",
    "len(a)"
   ]
  },
  {
   "cell_type": "code",
   "execution_count": 170,
   "metadata": {},
   "outputs": [
    {
     "name": "stdout",
     "output_type": "stream",
     "text": [
      "2\n",
      "5\n",
      "5\n"
     ]
    }
   ],
   "source": [
    "a=[1,2,3,4,5,3,6,7]\n",
    "print (a.index(3))\n",
    "print (a.index(3,3,7))\n",
    "print (a.index(3,3))\n"
   ]
  },
  {
   "cell_type": "code",
   "execution_count": 172,
   "metadata": {},
   "outputs": [
    {
     "name": "stdout",
     "output_type": "stream",
     "text": [
      "[1, 2, 3, 4, 4]\n"
     ]
    }
   ],
   "source": [
    "a=[1,2,3,4]\n",
    "a.insert(3,4)\n",
    "print (a)"
   ]
  },
  {
   "cell_type": "code",
   "execution_count": 173,
   "metadata": {},
   "outputs": [
    {
     "name": "stdout",
     "output_type": "stream",
     "text": [
      "[1, 3, 4, 5, 2]\n"
     ]
    }
   ],
   "source": [
    "a=[1,2,3,4,5,2]\n",
    "a.remove(2)\n",
    "print(a)"
   ]
  },
  {
   "cell_type": "code",
   "execution_count": 175,
   "metadata": {},
   "outputs": [
    {
     "data": {
      "text/plain": [
       "2"
      ]
     },
     "execution_count": 175,
     "metadata": {},
     "output_type": "execute_result"
    }
   ],
   "source": [
    "a=[1,2,3,4,5,2]\n",
    "a.count(2)"
   ]
  },
  {
   "cell_type": "code",
   "execution_count": 176,
   "metadata": {},
   "outputs": [
    {
     "name": "stdout",
     "output_type": "stream",
     "text": [
      "61.11111111111111\n"
     ]
    }
   ],
   "source": [
    "B_score=[0,100,100]\n",
    "I_score=[70,30,0]\n",
    "J_score=[100,70,80]\n",
    "B_score.append((0 + 100 + 100) / 3)\n",
    "I_score.append((70 + 30 + 0) / 3)\n",
    "J_score.append((100 + 70 + 80) / 3)\n",
    "print ((B_score[3] + I_score[3] + J_score[3]) / 3)"
   ]
  },
  {
   "cell_type": "code",
   "execution_count": 180,
   "metadata": {},
   "outputs": [
    {
     "name": "stdout",
     "output_type": "stream",
     "text": [
      "1 22\n"
     ]
    }
   ],
   "source": [
    "number = [1,11,18,5,22,2,3,4,7,8]\n",
    "number.sort()\n",
    "print (number[0], number[9])\n"
   ]
  }
 ],
 "metadata": {
  "kernelspec": {
   "display_name": "Python 3",
   "language": "python",
   "name": "python3"
  },
  "language_info": {
   "codemirror_mode": {
    "name": "ipython",
    "version": 3
   },
   "file_extension": ".py",
   "mimetype": "text/x-python",
   "name": "python",
   "nbconvert_exporter": "python",
   "pygments_lexer": "ipython3",
   "version": "3.12.3"
  }
 },
 "nbformat": 4,
 "nbformat_minor": 2
}
