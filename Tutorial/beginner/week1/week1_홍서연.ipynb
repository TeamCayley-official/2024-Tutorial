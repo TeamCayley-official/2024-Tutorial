{
  "cells": [
    {
      "cell_type": "markdown",
      "metadata": {},
      "source": []
    },
    {
      "cell_type": "code",
      "execution_count": null,
      "metadata": {
        "colab": {
          "base_uri": "https://localhost:8080/"
        },
        "id": "Tl6J05xFDkuS",
        "outputId": "e87d21bf-82cd-4ec2-e9e3-b891474c5215"
      },
      "outputs": [
        {
          "name": "stdout",
          "output_type": "stream",
          "text": [
            "1 2 3\n",
            "[1, 2, 3]\n",
            "Hello World!\n",
            "Hello world !\n",
            "2\n",
            "홍서연\n",
            "이건 한 줄 주석입니다.\n",
            "이건 여러 줄 주석입니다.\n",
            "이건 여러 줄 주석입니다.\n",
            "이제 여러 줄 주석은 실행되지 않습니다.\n"
          ]
        }
      ],
      "source": [
        "print(1,2,3)\n",
        "\n",
        "print([1,2,3])\n",
        "\n",
        "print(\"Hello World!\")\n",
        "\n",
        "print(\"Hello\",\"world\",\"!\")\n",
        "\n",
        "a=1\n",
        "b=1\n",
        "a+b\n",
        "print(a+b)\n",
        "\n",
        "print(\"홍서연\")\n",
        "\n",
        "print('이건 한 줄 주석입니다.')\n",
        "# 이건 실행이 될까요?\n",
        "\n",
        "print('이건 여러 줄 주석입니다.')\n",
        "'''\n",
        "이건 실행이 될까요?\n",
        "'''\n",
        "print('이건 여러 줄 주석입니다.')\n",
        "'''\n",
        "이건 실행이 될까요?\n",
        "'''\n",
        "print('이제 여러 줄 주석은 실행되지 않습니다.')\n",
        "\n",
        "# print(1,2,3)\n",
        "\n",
        "# print([1,2,3])\n",
        "\n",
        "# print(\"Hello World!\")\n",
        "\n",
        "# print(\"Hello\",\"world\",\"!\")\n",
        "\n",
        "\n"
      ]
    },
    {
      "cell_type": "code",
      "execution_count": null,
      "metadata": {},
      "outputs": [
        {
          "name": "stdout",
          "output_type": "stream",
          "text": [
            "1\n",
            "168.7\n",
            "<class 'float'>\n",
            "마다사코\n",
            "01049139736\n",
            "입학연도: 2022 / 이름: 홍서연 / 학번: 20226772\n"
          ]
        }
      ],
      "source": [
        "print(17%2)\n",
        "\n",
        "num = '168.7'\n",
        "print(float(num))\n",
        "print(type(float(num)))\n",
        "\n",
        "a = '코사다마'\n",
        "print(a[::-1])\n",
        "\n",
        "phone_num = '010-4913-9736'\n",
        "print(phone_num.replace('-', ''))\n",
        "\n",
        "studentID = '20226772'\n",
        "name = '홍서연'\n",
        "print('입학연도: {0} / 이름: {1} / 학번: {2}'. format(studentID[:4], name, studentID))"
      ]
    },
    {
      "cell_type": "code",
      "execution_count": 1,
      "metadata": {},
      "outputs": [
        {
          "name": "stdout",
          "output_type": "stream",
          "text": [
            "당신의 생년,월,일을 차례로 입력하세요\n",
            "당신은 2002 년 2 월 1 일에 태어났습니다.\n"
          ]
        }
      ],
      "source": [
        "print(\"당신의 생년,월,일을 차례로 입력하세요\")\n",
        "year=int(input('2002')) # 정수형으로 바꾸기 위해 int 함수 사용\n",
        "month=int(input('02'))\n",
        "day=int(input('01'))\n",
        "print('당신은',year,'년',month,'월',day,'일에 태어났습니다.') "
      ]
    },
    {
      "cell_type": "code",
      "execution_count": 2,
      "metadata": {},
      "outputs": [
        {
          "name": "stdout",
          "output_type": "stream",
          "text": [
            "61.11111111111111\n"
          ]
        }
      ],
      "source": [
        "비욘세 = [0, 100, 100]\n",
        "임영웅 = [70, 30, 0]\n",
        "장원영 = [100, 70, 80]\n",
        "비욘세.append((비욘세[0]+비욘세[1]+비욘세[2])/3)\n",
        "임영웅.append((임영웅[0]+임영웅[1]+임영웅[2])/3)\n",
        "장원영.append((장원영[0]+장원영[1]+장원영[2])/3)\n",
        "print((비욘세[3] + 임영웅[3] + 장원영[3])/3)"
      ]
    },
    {
      "cell_type": "code",
      "execution_count": 3,
      "metadata": {},
      "outputs": [
        {
          "name": "stdout",
          "output_type": "stream",
          "text": [
            "2 100\n"
          ]
        }
      ],
      "source": [
        "number = [10, 2, 3, 4, 5, 7, 6, 8, 9, 100]\n",
        "number.sort() \n",
        "print(number[0], number[-1])"
      ]
    }
  ],
  "metadata": {
    "colab": {
      "provenance": []
    },
    "kernelspec": {
      "display_name": "Python 3",
      "name": "python3"
    },
    "language_info": {
      "codemirror_mode": {
        "name": "ipython",
        "version": 3
      },
      "file_extension": ".py",
      "mimetype": "text/x-python",
      "name": "python",
      "nbconvert_exporter": "python",
      "pygments_lexer": "ipython3",
      "version": "3.12.3"
    }
  },
  "nbformat": 4,
  "nbformat_minor": 0
}
