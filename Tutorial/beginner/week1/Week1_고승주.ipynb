{
  "nbformat": 4,
  "nbformat_minor": 0,
  "metadata": {
    "colab": {
      "provenance": []
    },
    "kernelspec": {
      "name": "python3",
      "display_name": "Python 3"
    },
    "language_info": {
      "name": "python"
    }
  },
  "cells": [
    {
      "cell_type": "code",
      "execution_count": null,
      "metadata": {
        "colab": {
          "base_uri": "https://localhost:8080/"
        },
        "id": "Rw87D2MyK_nw",
        "outputId": "7a4e999b-4cf1-4954-ec1b-f0662ea61075"
      },
      "outputs": [
        {
          "output_type": "stream",
          "name": "stdout",
          "text": [
            "1 2 3\n"
          ]
        }
      ],
      "source": [
        "print(1,2,3)"
      ]
    },
    {
      "cell_type": "code",
      "source": [
        "print([1,2,3])"
      ],
      "metadata": {
        "colab": {
          "base_uri": "https://localhost:8080/"
        },
        "id": "JhP7FTmfLHjZ",
        "outputId": "a275d4f5-9bf0-4dbf-edf2-eae998c6a78f"
      },
      "execution_count": null,
      "outputs": [
        {
          "output_type": "stream",
          "name": "stdout",
          "text": [
            "[1, 2, 3]\n"
          ]
        }
      ]
    },
    {
      "cell_type": "code",
      "source": [
        "print(\"hello World!\")"
      ],
      "metadata": {
        "colab": {
          "base_uri": "https://localhost:8080/"
        },
        "id": "_71PTfsRLMWL",
        "outputId": "4534f07a-9ce8-4415-ec2d-9ee5254316bc"
      },
      "execution_count": null,
      "outputs": [
        {
          "output_type": "stream",
          "name": "stdout",
          "text": [
            "hello World!\n"
          ]
        }
      ]
    },
    {
      "cell_type": "code",
      "source": [
        "print(\"hello\",\"world\",\"!\")"
      ],
      "metadata": {
        "colab": {
          "base_uri": "https://localhost:8080/"
        },
        "id": "yTsENJJ9LUBg",
        "outputId": "a04053c5-55a1-499b-e49a-9f7f58b0ecf0"
      },
      "execution_count": null,
      "outputs": [
        {
          "output_type": "stream",
          "name": "stdout",
          "text": [
            "hello world !\n"
          ]
        }
      ]
    },
    {
      "cell_type": "code",
      "source": [
        "a=1\n",
        "b=1\n",
        "a+b"
      ],
      "metadata": {
        "colab": {
          "base_uri": "https://localhost:8080/"
        },
        "id": "qgXQRd-RLaPm",
        "outputId": "986d264b-9209-4d99-bf3e-4ce0b312d652"
      },
      "execution_count": null,
      "outputs": [
        {
          "output_type": "execute_result",
          "data": {
            "text/plain": [
              "2"
            ]
          },
          "metadata": {},
          "execution_count": 6
        }
      ]
    },
    {
      "cell_type": "code",
      "source": [
        "name=\"고다람\"\n",
        "print(name)"
      ],
      "metadata": {
        "colab": {
          "base_uri": "https://localhost:8080/"
        },
        "id": "cXIoPja5LdoG",
        "outputId": "20dfd9d4-a322-45f9-bd23-aa3fb67213cd"
      },
      "execution_count": null,
      "outputs": [
        {
          "output_type": "stream",
          "name": "stdout",
          "text": [
            "고다람\n"
          ]
        }
      ]
    },
    {
      "cell_type": "code",
      "source": [
        "print('이건 한 줄 주석입니다.')\n",
        "# 이건 실행이 될까요?"
      ],
      "metadata": {
        "colab": {
          "base_uri": "https://localhost:8080/"
        },
        "id": "XiPaIjibLmyJ",
        "outputId": "2ce0dae9-dfa3-4bfe-8974-02e053dd30e7"
      },
      "execution_count": null,
      "outputs": [
        {
          "output_type": "stream",
          "name": "stdout",
          "text": [
            "이건 한 줄 주석입니다.\n"
          ]
        }
      ]
    },
    {
      "cell_type": "code",
      "source": [
        "print('이건 여러 줄 주석입니다.')\n",
        "# 이건 실행이 될까요?\n",
        "# 이건요?"
      ],
      "metadata": {
        "colab": {
          "base_uri": "https://localhost:8080/"
        },
        "id": "cLxyHbDgLwKW",
        "outputId": "9cfbaf0d-5c67-4838-8f9a-8200b0f35028"
      },
      "execution_count": null,
      "outputs": [
        {
          "output_type": "stream",
          "name": "stdout",
          "text": [
            "이건 여러 줄 주석입니다.\n"
          ]
        }
      ]
    },
    {
      "cell_type": "code",
      "source": [
        "1!=2"
      ],
      "metadata": {
        "colab": {
          "base_uri": "https://localhost:8080/"
        },
        "id": "QcUH2Redn_C8",
        "outputId": "45a3f5bb-bb0d-4b69-918f-82af147d6a71"
      },
      "execution_count": null,
      "outputs": [
        {
          "output_type": "execute_result",
          "data": {
            "text/plain": [
              "True"
            ]
          },
          "metadata": {},
          "execution_count": 1
        }
      ]
    },
    {
      "cell_type": "code",
      "source": [
        "3 <= 4"
      ],
      "metadata": {
        "colab": {
          "base_uri": "https://localhost:8080/"
        },
        "id": "XM-124iboev1",
        "outputId": "29d05fa5-4ff3-41f2-aa06-1fe467ad91e8"
      },
      "execution_count": null,
      "outputs": [
        {
          "output_type": "execute_result",
          "data": {
            "text/plain": [
              "True"
            ]
          },
          "metadata": {},
          "execution_count": 5
        }
      ]
    },
    {
      "cell_type": "code",
      "source": [
        "print('4+2')"
      ],
      "metadata": {
        "colab": {
          "base_uri": "https://localhost:8080/"
        },
        "id": "5LyZvdzspS70",
        "outputId": "a875d0bf-2f0b-4f05-b043-072b5a66edd3"
      },
      "execution_count": null,
      "outputs": [
        {
          "output_type": "stream",
          "name": "stdout",
          "text": [
            "4+2\n"
          ]
        }
      ]
    },
    {
      "cell_type": "code",
      "source": [
        "float(345)"
      ],
      "metadata": {
        "colab": {
          "base_uri": "https://localhost:8080/"
        },
        "id": "SxRzi20gpVw-",
        "outputId": "c5be04a3-34e2-4451-baea-c358b43c83a3"
      },
      "execution_count": null,
      "outputs": [
        {
          "output_type": "execute_result",
          "data": {
            "text/plain": [
              "345.0"
            ]
          },
          "metadata": {},
          "execution_count": 7
        }
      ]
    },
    {
      "cell_type": "code",
      "source": [
        "int(3.14)"
      ],
      "metadata": {
        "colab": {
          "base_uri": "https://localhost:8080/"
        },
        "id": "Z2wbSB5JpcDs",
        "outputId": "1ee8aadb-4a98-4fe2-983e-23b35909ffe0"
      },
      "execution_count": null,
      "outputs": [
        {
          "output_type": "execute_result",
          "data": {
            "text/plain": [
              "3"
            ]
          },
          "metadata": {},
          "execution_count": 8
        }
      ]
    },
    {
      "cell_type": "code",
      "source": [
        "round(3.14)"
      ],
      "metadata": {
        "colab": {
          "base_uri": "https://localhost:8080/"
        },
        "id": "pEReCGPzpeew",
        "outputId": "ef0425b5-9273-4386-ec0d-eeb5aa1baa54"
      },
      "execution_count": null,
      "outputs": [
        {
          "output_type": "execute_result",
          "data": {
            "text/plain": [
              "3"
            ]
          },
          "metadata": {},
          "execution_count": 9
        }
      ]
    },
    {
      "cell_type": "code",
      "source": [
        "type(3.3)"
      ],
      "metadata": {
        "colab": {
          "base_uri": "https://localhost:8080/"
        },
        "id": "4HAMmOAAphw-",
        "outputId": "a72cd541-bad0-4cb5-be54-6b7795d4006f"
      },
      "execution_count": null,
      "outputs": [
        {
          "output_type": "execute_result",
          "data": {
            "text/plain": [
              "float"
            ]
          },
          "metadata": {},
          "execution_count": 15
        }
      ]
    },
    {
      "cell_type": "code",
      "source": [
        "sk='1'\n",
        "type(sk)"
      ],
      "metadata": {
        "colab": {
          "base_uri": "https://localhost:8080/"
        },
        "id": "NjLLA7xlpxIT",
        "outputId": "bdd3fc91-e55d-4e5a-fcc6-7512f0759964"
      },
      "execution_count": null,
      "outputs": [
        {
          "output_type": "execute_result",
          "data": {
            "text/plain": [
              "str"
            ]
          },
          "metadata": {},
          "execution_count": 18
        }
      ]
    },
    {
      "cell_type": "code",
      "source": [
        "a=124\n",
        "type(a)"
      ],
      "metadata": {
        "colab": {
          "base_uri": "https://localhost:8080/"
        },
        "id": "VVvMr6cfwIZC",
        "outputId": "6ec6833a-5fd3-4ff4-874b-d1f40d20e61c"
      },
      "execution_count": null,
      "outputs": [
        {
          "output_type": "execute_result",
          "data": {
            "text/plain": [
              "int"
            ]
          },
          "metadata": {},
          "execution_count": 19
        }
      ]
    },
    {
      "cell_type": "code",
      "source": [
        "str(a)"
      ],
      "metadata": {
        "colab": {
          "base_uri": "https://localhost:8080/",
          "height": 35
        },
        "id": "KXvp_Ak1wT74",
        "outputId": "2f28b3ae-c6e8-461b-f86c-b0ce47abf51c"
      },
      "execution_count": null,
      "outputs": [
        {
          "output_type": "execute_result",
          "data": {
            "text/plain": [
              "'124'"
            ],
            "application/vnd.google.colaboratory.intrinsic+json": {
              "type": "string"
            }
          },
          "metadata": {},
          "execution_count": 20
        }
      ]
    },
    {
      "cell_type": "code",
      "source": [
        "type(str(a))"
      ],
      "metadata": {
        "colab": {
          "base_uri": "https://localhost:8080/"
        },
        "id": "N-dDfEaLwU68",
        "outputId": "48eb6129-34fe-4be7-975e-3152fdce8e7e"
      },
      "execution_count": null,
      "outputs": [
        {
          "output_type": "execute_result",
          "data": {
            "text/plain": [
              "str"
            ]
          },
          "metadata": {},
          "execution_count": 21
        }
      ]
    },
    {
      "cell_type": "code",
      "source": [
        "a='코딩을 사랑하는 다람쥐와 마요네즈'\n",
        "a[1:4]\n",
        "a[:5]\n",
        "a[3:]\n",
        "a[:]\n",
        "a[-5:-1]"
      ],
      "metadata": {
        "colab": {
          "base_uri": "https://localhost:8080/",
          "height": 35
        },
        "id": "9qAxSF0RwXey",
        "outputId": "105b5323-d6cd-42fb-9acb-10bfd25459d8"
      },
      "execution_count": null,
      "outputs": [
        {
          "output_type": "execute_result",
          "data": {
            "text/plain": [
              "' 마요네'"
            ],
            "application/vnd.google.colaboratory.intrinsic+json": {
              "type": "string"
            }
          },
          "metadata": {},
          "execution_count": 23
        }
      ]
    },
    {
      "cell_type": "code",
      "source": [
        "'오늘은 1월 %d일 입니다.'%15"
      ],
      "metadata": {
        "colab": {
          "base_uri": "https://localhost:8080/",
          "height": 35
        },
        "id": "XSm_ZaR9yDm4",
        "outputId": "03145f45-af56-401d-9815-2ba40989bf19"
      },
      "execution_count": null,
      "outputs": [
        {
          "output_type": "execute_result",
          "data": {
            "text/plain": [
              "'오늘은 1월 15일 입니다.'"
            ],
            "application/vnd.google.colaboratory.intrinsic+json": {
              "type": "string"
            }
          },
          "metadata": {},
          "execution_count": 24
        }
      ]
    },
    {
      "cell_type": "code",
      "source": [
        "'%2.5f'f2.5'"
      ],
      "metadata": {
        "colab": {
          "base_uri": "https://localhost:8080/",
          "height": 106
        },
        "id": "GGyN2HnCztRM",
        "outputId": "3502c5fd-dae0-495c-e941-03785c21bacb"
      },
      "execution_count": null,
      "outputs": [
        {
          "output_type": "error",
          "ename": "SyntaxError",
          "evalue": "unterminated string literal (detected at line 1) (<ipython-input-28-a120aff05720>, line 1)",
          "traceback": [
            "\u001b[0;36m  File \u001b[0;32m\"<ipython-input-28-a120aff05720>\"\u001b[0;36m, line \u001b[0;32m1\u001b[0m\n\u001b[0;31m    '%2.5f'f2.5'\u001b[0m\n\u001b[0m               ^\u001b[0m\n\u001b[0;31mSyntaxError\u001b[0m\u001b[0;31m:\u001b[0m unterminated string literal (detected at line 1)\n"
          ]
        }
      ]
    },
    {
      "cell_type": "code",
      "source": [
        "print(17%2)"
      ],
      "metadata": {
        "colab": {
          "base_uri": "https://localhost:8080/"
        },
        "id": "lRkF5r1c00cd",
        "outputId": "232b7213-bdb3-4f47-90c4-13a66f68aed0"
      },
      "execution_count": null,
      "outputs": [
        {
          "output_type": "stream",
          "name": "stdout",
          "text": [
            "1\n"
          ]
        }
      ]
    },
    {
      "cell_type": "code",
      "source": [
        "num = '168.7'\n",
        "print(float(num))"
      ],
      "metadata": {
        "colab": {
          "base_uri": "https://localhost:8080/"
        },
        "id": "PUxfr2BN5k2C",
        "outputId": "e3d2dbdc-5ec4-4162-c801-38243171597f"
      },
      "execution_count": null,
      "outputs": [
        {
          "output_type": "stream",
          "name": "stdout",
          "text": [
            "168.7\n"
          ]
        }
      ]
    },
    {
      "cell_type": "code",
      "source": [
        "a = '코사다마'\n",
        "print(a[::-1])"
      ],
      "metadata": {
        "colab": {
          "base_uri": "https://localhost:8080/"
        },
        "id": "rBt6P9xr5txv",
        "outputId": "f791689d-5906-43db-d415-39031abd6506"
      },
      "execution_count": null,
      "outputs": [
        {
          "output_type": "stream",
          "name": "stdout",
          "text": [
            "마다사코\n"
          ]
        }
      ]
    },
    {
      "cell_type": "code",
      "source": [
        "phone_num = '010-1234-1234'\n",
        "print(phone_num.replace('-',''))"
      ],
      "metadata": {
        "colab": {
          "base_uri": "https://localhost:8080/"
        },
        "id": "GyNR5aVw6GQd",
        "outputId": "14ad0618-dcaf-4404-90c7-4d5aa8c85525"
      },
      "execution_count": null,
      "outputs": [
        {
          "output_type": "stream",
          "name": "stdout",
          "text": [
            "01012341234\n"
          ]
        }
      ]
    },
    {
      "cell_type": "code",
      "source": [
        "studentID = '20221234'\n",
        "name = '고다람'\n",
        "print('입학연도 : {0} / 이름 ; {1} / 학번 : {2}'.format(studentID[:4], name, studentID))"
      ],
      "metadata": {
        "colab": {
          "base_uri": "https://localhost:8080/"
        },
        "id": "-QlOyMef6c3b",
        "outputId": "d0f90c59-95bf-4279-9378-d4643ea3f2c1"
      },
      "execution_count": null,
      "outputs": [
        {
          "output_type": "stream",
          "name": "stdout",
          "text": [
            "입학연도 : 2022 / 이름 ; 고다람 / 학번 : 20221234\n"
          ]
        }
      ]
    },
    {
      "cell_type": "code",
      "source": [
        "a=35"
      ],
      "metadata": {
        "id": "rcBIL3GU66F7"
      },
      "execution_count": null,
      "outputs": []
    },
    {
      "cell_type": "code",
      "source": [
        "a+5325"
      ],
      "metadata": {
        "colab": {
          "base_uri": "https://localhost:8080/"
        },
        "id": "ibt1uDew9J3y",
        "outputId": "fd63b98c-3cb7-43b9-8733-92fa001406dd"
      },
      "execution_count": null,
      "outputs": [
        {
          "output_type": "execute_result",
          "data": {
            "text/plain": [
              "5360"
            ]
          },
          "metadata": {},
          "execution_count": 40
        }
      ]
    },
    {
      "cell_type": "code",
      "source": [
        "a*3532"
      ],
      "metadata": {
        "colab": {
          "base_uri": "https://localhost:8080/"
        },
        "id": "RdwRnqqm9MXa",
        "outputId": "52fb1853-4979-4e8f-c086-4010f1738481"
      },
      "execution_count": null,
      "outputs": [
        {
          "output_type": "execute_result",
          "data": {
            "text/plain": [
              "123620"
            ]
          },
          "metadata": {},
          "execution_count": 41
        }
      ]
    },
    {
      "cell_type": "code",
      "source": [
        "a**3"
      ],
      "metadata": {
        "colab": {
          "base_uri": "https://localhost:8080/"
        },
        "id": "6COdQGta9Omh",
        "outputId": "bad8b0b0-9559-4577-f6e0-ab60cbeddebb"
      },
      "execution_count": null,
      "outputs": [
        {
          "output_type": "execute_result",
          "data": {
            "text/plain": [
              "42875"
            ]
          },
          "metadata": {},
          "execution_count": 42
        }
      ]
    },
    {
      "cell_type": "code",
      "source": [
        "a=7"
      ],
      "metadata": {
        "id": "fDV77n9c9QBR"
      },
      "execution_count": null,
      "outputs": []
    },
    {
      "cell_type": "code",
      "source": [
        "a+=1\n",
        "print(a)"
      ],
      "metadata": {
        "colab": {
          "base_uri": "https://localhost:8080/"
        },
        "id": "ovUlnq0a-f7A",
        "outputId": "0fc87fd1-2d98-46e6-fc54-890322270114"
      },
      "execution_count": null,
      "outputs": [
        {
          "output_type": "stream",
          "name": "stdout",
          "text": [
            "8\n"
          ]
        }
      ]
    },
    {
      "cell_type": "code",
      "source": [
        "a-=1\n",
        "print(a)"
      ],
      "metadata": {
        "colab": {
          "base_uri": "https://localhost:8080/"
        },
        "id": "tyJemOwZ-hIy",
        "outputId": "e4c3e2bf-62bd-4e86-b478-1ffda70fb53a"
      },
      "execution_count": null,
      "outputs": [
        {
          "output_type": "stream",
          "name": "stdout",
          "text": [
            "7\n"
          ]
        }
      ]
    },
    {
      "cell_type": "code",
      "source": [
        "user_age = int(input(\"how old are you?\"))"
      ],
      "metadata": {
        "colab": {
          "base_uri": "https://localhost:8080/"
        },
        "id": "LiJO12mT_kqY",
        "outputId": "728253a1-014f-4d0e-c406-de0b4e54f5b5"
      },
      "execution_count": null,
      "outputs": [
        {
          "name": "stdout",
          "output_type": "stream",
          "text": [
            "how old are you?21\n"
          ]
        }
      ]
    },
    {
      "cell_type": "code",
      "source": [
        "user_name = input(\"what's your name?\")"
      ],
      "metadata": {
        "colab": {
          "base_uri": "https://localhost:8080/"
        },
        "id": "nc26e640-ihE",
        "outputId": "33ebbbad-cd4b-4de2-af6d-5ce32ef87e24"
      },
      "execution_count": null,
      "outputs": [
        {
          "name": "stdout",
          "output_type": "stream",
          "text": [
            "what's your name?sj\n"
          ]
        }
      ]
    },
    {
      "cell_type": "code",
      "source": [
        "user_age = input(\"how old atae you?\")"
      ],
      "metadata": {
        "colab": {
          "base_uri": "https://localhost:8080/"
        },
        "id": "jNqWVAsY_gAv",
        "outputId": "e40f2f5e-aa52-4933-abe4-01c4b5f2d8be"
      },
      "execution_count": null,
      "outputs": [
        {
          "name": "stdout",
          "output_type": "stream",
          "text": [
            "how old atae you?32\n"
          ]
        }
      ]
    },
    {
      "cell_type": "code",
      "source": [
        "1"
      ],
      "metadata": {
        "colab": {
          "base_uri": "https://localhost:8080/"
        },
        "id": "Z6lHaqK-_5Gi",
        "outputId": "a49561b6-7faf-462a-a538-4c9b1d09c258"
      },
      "execution_count": null,
      "outputs": [
        {
          "output_type": "execute_result",
          "data": {
            "text/plain": [
              "1"
            ]
          },
          "metadata": {},
          "execution_count": 57
        }
      ]
    },
    {
      "cell_type": "code",
      "source": [
        "2141221423837293"
      ],
      "metadata": {
        "colab": {
          "base_uri": "https://localhost:8080/"
        },
        "id": "XOu8_tgmARQ7",
        "outputId": "09521c29-ef2e-4b57-9696-4378ce556022"
      },
      "execution_count": null,
      "outputs": [
        {
          "output_type": "execute_result",
          "data": {
            "text/plain": [
              "2141221423837293"
            ]
          },
          "metadata": {},
          "execution_count": 58
        }
      ]
    },
    {
      "cell_type": "code",
      "source": [
        "input()"
      ],
      "metadata": {
        "colab": {
          "base_uri": "https://localhost:8080/",
          "height": 52
        },
        "id": "rLaruUldASru",
        "outputId": "52b08a24-cc2d-46f4-cc54-7e08e7115b95"
      },
      "execution_count": null,
      "outputs": [
        {
          "name": "stdout",
          "output_type": "stream",
          "text": [
            "ㅋㅋ\n"
          ]
        },
        {
          "output_type": "execute_result",
          "data": {
            "text/plain": [
              "'ㅋㅋ'"
            ],
            "application/vnd.google.colaboratory.intrinsic+json": {
              "type": "string"
            }
          },
          "metadata": {},
          "execution_count": 59
        }
      ]
    },
    {
      "cell_type": "code",
      "source": [
        "radius = 3.5\n",
        "area = 3.14*radius**2\n",
        "print(area)"
      ],
      "metadata": {
        "colab": {
          "base_uri": "https://localhost:8080/"
        },
        "id": "CvbKRYSRAVRR",
        "outputId": "bc15f31e-8075-49c3-d927-771d728e45aa"
      },
      "execution_count": null,
      "outputs": [
        {
          "output_type": "stream",
          "name": "stdout",
          "text": [
            "38.465\n"
          ]
        }
      ]
    },
    {
      "cell_type": "code",
      "source": [
        "print(\"당신의 생년,월,일을 차례로 입력하세요\")\n",
        "year=int(input('생년?'))\n",
        "month=int(input('월?'))\n",
        "day=int(input('일?'))\n",
        "print('당신은',year,'년',month,'월',day,'일에 태어났습니다.')"
      ],
      "metadata": {
        "colab": {
          "base_uri": "https://localhost:8080/"
        },
        "id": "FBbL0KtgApx1",
        "outputId": "9d4daf96-960c-42c4-89dc-9fe9dc83b9b3"
      },
      "execution_count": null,
      "outputs": [
        {
          "output_type": "stream",
          "name": "stdout",
          "text": [
            "당신의 생년,월,일을 차례로 입력하세요\n",
            "생년?2004\n",
            "월?5\n",
            "일?17\n",
            "당신은 2004 년 5 월 17 일에 태어났습니다.\n"
          ]
        }
      ]
    },
    {
      "cell_type": "code",
      "source": [
        "love =[1004]"
      ],
      "metadata": {
        "id": "eRtHwApYBR47"
      },
      "execution_count": null,
      "outputs": []
    },
    {
      "cell_type": "code",
      "source": [
        "love.append(5)\n",
        "print(love)"
      ],
      "metadata": {
        "colab": {
          "base_uri": "https://localhost:8080/"
        },
        "id": "0T-YGcY6CXws",
        "outputId": "6783cee1-871d-434c-af23-368b57384c24"
      },
      "execution_count": null,
      "outputs": [
        {
          "output_type": "stream",
          "name": "stdout",
          "text": [
            "[1004, 5]\n"
          ]
        }
      ]
    },
    {
      "cell_type": "code",
      "source": [
        "b=[0,100,100]\n",
        "h=[70,30,0]\n",
        "w=[100,70,80]\n",
        "b.append((b[0]+b[1]+b[2])/3)\n",
        "h.append((h[0]+h[1]+h[2])/3)\n",
        "w.append((w[0]+w[1]+w[2])/3)\n",
        "print((b[3]+h[3]+w[3])/3)"
      ],
      "metadata": {
        "colab": {
          "base_uri": "https://localhost:8080/"
        },
        "id": "NBHfK9MWCcQz",
        "outputId": "04258ca5-c117-419f-dc8f-07f451301c6a"
      },
      "execution_count": null,
      "outputs": [
        {
          "output_type": "stream",
          "name": "stdout",
          "text": [
            "61.11111111111111\n"
          ]
        }
      ]
    },
    {
      "cell_type": "code",
      "source": [
        "number = [2,878,8,89,4,8,4,45]\n",
        "number.sort()\n",
        "print(number[0],number[-1])"
      ],
      "metadata": {
        "colab": {
          "base_uri": "https://localhost:8080/"
        },
        "id": "M1vHIFrUFRS1",
        "outputId": "710e0b13-e418-471e-8f6f-c4e7077d8482"
      },
      "execution_count": null,
      "outputs": [
        {
          "output_type": "stream",
          "name": "stdout",
          "text": [
            "2 878\n"
          ]
        }
      ]
    },
    {
      "cell_type": "code",
      "source": [
        "print('야호~')"
      ],
      "metadata": {
        "id": "8OcmkoAIFeTy",
        "outputId": "994f0e23-5cb4-4678-d8ea-0d30b7c9901f",
        "colab": {
          "base_uri": "https://localhost:8080/"
        }
      },
      "execution_count": null,
      "outputs": [
        {
          "output_type": "stream",
          "name": "stdout",
          "text": [
            "야호~\n"
          ]
        }
      ]
    },
    {
      "cell_type": "code",
      "source": [],
      "metadata": {
        "id": "Z9DjKUMg1oCk"
      },
      "execution_count": null,
      "outputs": []
    }
  ]
}