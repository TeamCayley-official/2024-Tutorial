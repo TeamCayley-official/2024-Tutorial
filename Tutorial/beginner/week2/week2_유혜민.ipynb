{
 "cells": [
  {
   "cell_type": "code",
   "execution_count": 2,
   "metadata": {},
   "outputs": [],
   "source": [
    "t1 = ()\n",
    "t2 = (1,) \n",
    "t3 = (1,2,3)\n",
    "t4 = 1,2,3 \n",
    "t5 = ('a', 'b', ('ab', 'cd'))"
   ]
  },
  {
   "cell_type": "code",
   "execution_count": 4,
   "metadata": {},
   "outputs": [
    {
     "ename": "TypeError",
     "evalue": "'tuple' object doesn't support item deletion",
     "output_type": "error",
     "traceback": [
      "\u001b[1;31m---------------------------------------------------------------------------\u001b[0m",
      "\u001b[1;31mTypeError\u001b[0m                                 Traceback (most recent call last)",
      "Cell \u001b[1;32mIn[4], line 1\u001b[0m\n\u001b[1;32m----> 1\u001b[0m \u001b[38;5;28;01mdel\u001b[39;00m \u001b[43mt1\u001b[49m\u001b[43m[\u001b[49m\u001b[38;5;241;43m0\u001b[39;49m\u001b[43m]\u001b[49m \u001b[38;5;66;03m#불가능\u001b[39;00m\n\u001b[0;32m      2\u001b[0m t1[\u001b[38;5;241m0\u001b[39m] \u001b[38;5;241m=\u001b[39m \u001b[38;5;241m1\u001b[39m \u001b[38;5;66;03m#불가능\u001b[39;00m\n\u001b[0;32m      3\u001b[0m t1[\u001b[38;5;241m0\u001b[39m] \u001b[38;5;66;03m#인덱싱\u001b[39;00m\n",
      "\u001b[1;31mTypeError\u001b[0m: 'tuple' object doesn't support item deletion"
     ]
    }
   ],
   "source": [
    "del t1[0] #불가능\n",
    "t1[0] = 1 #불가능\n"
   ]
  },
  {
   "cell_type": "code",
   "execution_count": 14,
   "metadata": {},
   "outputs": [
    {
     "data": {
      "text/plain": [
       "(4, 5, 4, 5, 4, 5)"
      ]
     },
     "execution_count": 14,
     "metadata": {},
     "output_type": "execute_result"
    }
   ],
   "source": [
    "t1=(1,2,3)\n",
    "t2=(4,5)\n",
    "t2 * 3 #곱하기"
   ]
  },
  {
   "cell_type": "code",
   "execution_count": 15,
   "metadata": {},
   "outputs": [
    {
     "data": {
      "text/plain": [
       "(1, 2, 3, 4, 5)"
      ]
     },
     "execution_count": 15,
     "metadata": {},
     "output_type": "execute_result"
    }
   ],
   "source": [
    "t1=(1,2,3)\n",
    "t2=(4,5)\n",
    "t1 + t2 #더하기"
   ]
  },
  {
   "cell_type": "code",
   "execution_count": 16,
   "metadata": {},
   "outputs": [],
   "source": [
    "dictionary = {'name':'유혜민', 'mobile':'010-2127-1679', 'email':'hyemin1679@naver.com'}"
   ]
  },
  {
   "cell_type": "code",
   "execution_count": 17,
   "metadata": {},
   "outputs": [],
   "source": [
    "member_list = {'마크':['엔시티', '래퍼', '댄서', '엔시티드림', '엔시티127', '엔시티u'], '아이유':['가수', '여성 솔로', '배우']}"
   ]
  },
  {
   "cell_type": "code",
   "execution_count": 18,
   "metadata": {},
   "outputs": [
    {
     "name": "stdout",
     "output_type": "stream",
     "text": [
      "{1: 'a', 2: 'b', 'name': '유혜민', 3: [1, 2, 3]}\n"
     ]
    }
   ],
   "source": [
    "dic = {1:'a'} \n",
    "dic[2] = 'b' #2라는 Key와 b라는 Value 한 세트가 추가\n",
    "dic['name']='유혜민' #name라는 Key와 유혜민이라는 Value 한 세트가 추가.\n",
    "dic[3] = [1,2,3] #3이라는 Key와 [1,2,3]이라는 Value 한 세트가 추가.\n",
    "print(dic) "
   ]
  },
  {
   "cell_type": "code",
   "execution_count": 23,
   "metadata": {},
   "outputs": [
    {
     "ename": "NameError",
     "evalue": "name 'b' is not defined",
     "output_type": "error",
     "traceback": [
      "\u001b[1;31m---------------------------------------------------------------------------\u001b[0m",
      "\u001b[1;31mNameError\u001b[0m                                 Traceback (most recent call last)",
      "Cell \u001b[1;32mIn[23], line 2\u001b[0m\n\u001b[0;32m      1\u001b[0m dic \u001b[38;5;241m=\u001b[39m {\u001b[38;5;241m1\u001b[39m:\u001b[38;5;124m'\u001b[39m\u001b[38;5;124ma\u001b[39m\u001b[38;5;124m'\u001b[39m, \u001b[38;5;241m2\u001b[39m:\u001b[38;5;124m'\u001b[39m\u001b[38;5;124mb\u001b[39m\u001b[38;5;124m'\u001b[39m, \u001b[38;5;241m3\u001b[39m:\u001b[38;5;124m'\u001b[39m\u001b[38;5;124mc\u001b[39m\u001b[38;5;124m'\u001b[39m}\n\u001b[1;32m----> 2\u001b[0m \u001b[38;5;28;01mdel\u001b[39;00m \u001b[43mb\u001b[49m[\u001b[38;5;241m2\u001b[39m]\n\u001b[0;32m      3\u001b[0m \u001b[38;5;28mprint\u001b[39m(dic)\n",
      "\u001b[1;31mNameError\u001b[0m: name 'b' is not defined"
     ]
    }
   ],
   "source": [
    "dic = {1:'a', 2:'b', 3:'c'}\n",
    "del b[2]\n",
    "print(dic)"
   ]
  },
  {
   "cell_type": "code",
   "execution_count": 24,
   "metadata": {},
   "outputs": [
    {
     "ename": "KeyError",
     "evalue": "''",
     "output_type": "error",
     "traceback": [
      "\u001b[1;31m---------------------------------------------------------------------------\u001b[0m",
      "\u001b[1;31mKeyError\u001b[0m                                  Traceback (most recent call last)",
      "Cell \u001b[1;32mIn[24], line 3\u001b[0m\n\u001b[0;32m      1\u001b[0m vegan_matzip \u001b[38;5;241m=\u001b[39m {\u001b[38;5;124m'\u001b[39m\u001b[38;5;124m제로비건\u001b[39m\u001b[38;5;124m'\u001b[39m:\u001b[38;5;124m'\u001b[39m\u001b[38;5;124m02-5145-8910\u001b[39m\u001b[38;5;124m'\u001b[39m, \u001b[38;5;124m'\u001b[39m\u001b[38;5;124m쏭타이\u001b[39m\u001b[38;5;124m'\u001b[39m:\u001b[38;5;124m'\u001b[39m\u001b[38;5;124m0507-1303-2495\u001b[39m\u001b[38;5;124m'\u001b[39m, \u001b[38;5;124m'\u001b[39m\u001b[38;5;124m몽크스부처\u001b[39m\u001b[38;5;124m'\u001b[39m:\u001b[38;5;124m'\u001b[39m\u001b[38;5;124m02-790-1108\u001b[39m\u001b[38;5;124m'\u001b[39m, \u001b[38;5;124m'\u001b[39m\u001b[38;5;124m드렁큰비건\u001b[39m\u001b[38;5;124m'\u001b[39m:\u001b[38;5;124m'\u001b[39m\u001b[38;5;124m070-7543-8101\u001b[39m\u001b[38;5;124m'\u001b[39m}\n\u001b[0;32m      2\u001b[0m matzip_name \u001b[38;5;241m=\u001b[39m \u001b[38;5;28minput\u001b[39m(\u001b[38;5;124m'\u001b[39m\u001b[38;5;124m전화번호를 알고 싶은 비건맛집의 이름이 뭔가요?\u001b[39m\u001b[38;5;124m'\u001b[39m)\n\u001b[1;32m----> 3\u001b[0m \u001b[38;5;28mprint\u001b[39m(\u001b[43mvegan_matzip\u001b[49m\u001b[43m[\u001b[49m\u001b[43mmatzip_name\u001b[49m\u001b[43m]\u001b[49m)\n",
      "\u001b[1;31mKeyError\u001b[0m: ''"
     ]
    }
   ],
   "source": [
    "vegan_matzip = {'제로비건':'02-5145-8910', '쏭타이':'0507-1303-2495', '몽크스부처':'02-790-1108', '드렁큰비건':'070-7543-8101'}\n",
    "matzip_name = input('전화번호를 알고 싶은 비건맛집의 이름이 뭔가요?')\n",
    "print(vegan_matzip[matzip_name])"
   ]
  },
  {
   "cell_type": "code",
   "execution_count": 35,
   "metadata": {},
   "outputs": [
    {
     "name": "stdout",
     "output_type": "stream",
     "text": [
      "dict_keys([1, 2, 3])\n",
      "{}\n"
     ]
    }
   ],
   "source": [
    "dic = {1:'유', 2:'혜', 3:'민'}\n",
    "keys_from_dic = dic.keys()\n",
    "print(keys_from_dic)\n",
    "dic.clear()\n",
    "print(dic)"
   ]
  },
  {
   "cell_type": "code",
   "execution_count": 36,
   "metadata": {},
   "outputs": [
    {
     "data": {
      "text/plain": [
       "dict_keys"
      ]
     },
     "execution_count": 36,
     "metadata": {},
     "output_type": "execute_result"
    }
   ],
   "source": [
    "dic = {1:'유', 2:'혜', 3:'민'}\n",
    "keys_from_dic = dic.keys()\n",
    "type(keys_from_dic) "
   ]
  },
  {
   "cell_type": "code",
   "execution_count": 37,
   "metadata": {},
   "outputs": [
    {
     "name": "stdout",
     "output_type": "stream",
     "text": [
      "dict_values(['유', '혜', '민'])\n",
      "{}\n"
     ]
    }
   ],
   "source": [
    "dic = {1:'유', 2:'혜', 3:'민'}\n",
    "values_from_dic = dic.values()\n",
    "print(values_from_dic)\n",
    "dic.clear()\n",
    "print(dic)"
   ]
  },
  {
   "cell_type": "code",
   "execution_count": 40,
   "metadata": {},
   "outputs": [
    {
     "ename": "KeyError",
     "evalue": "'학고'",
     "output_type": "error",
     "traceback": [
      "\u001b[1;31m---------------------------------------------------------------------------\u001b[0m",
      "\u001b[1;31mKeyError\u001b[0m                                  Traceback (most recent call last)",
      "Cell \u001b[1;32mIn[40], line 2\u001b[0m\n\u001b[0;32m      1\u001b[0m hm_matzip \u001b[38;5;241m=\u001b[39m {\u001b[38;5;124m'\u001b[39m\u001b[38;5;124m유혜민\u001b[39m\u001b[38;5;124m'\u001b[39m:\u001b[38;5;124m'\u001b[39m\u001b[38;5;124m02-5145-8910\u001b[39m\u001b[38;5;124m'\u001b[39m, \u001b[38;5;124m'\u001b[39m\u001b[38;5;124m혜민짱\u001b[39m\u001b[38;5;124m'\u001b[39m:\u001b[38;5;124m'\u001b[39m\u001b[38;5;124m0507-1303-2495\u001b[39m\u001b[38;5;124m'\u001b[39m, \u001b[38;5;124m'\u001b[39m\u001b[38;5;124m중대\u001b[39m\u001b[38;5;124m'\u001b[39m:\u001b[38;5;124m'\u001b[39m\u001b[38;5;124m02-790-1108\u001b[39m\u001b[38;5;124m'\u001b[39m, \u001b[38;5;124m'\u001b[39m\u001b[38;5;124m드렁큰비건\u001b[39m\u001b[38;5;124m'\u001b[39m:\u001b[38;5;124m'\u001b[39m\u001b[38;5;124m070-7543-8101\u001b[39m\u001b[38;5;124m'\u001b[39m}\n\u001b[1;32m----> 2\u001b[0m \u001b[38;5;28mprint\u001b[39m(\u001b[43mhm_matzip\u001b[49m\u001b[43m[\u001b[49m\u001b[38;5;124;43m'\u001b[39;49m\u001b[38;5;124;43m학고\u001b[39;49m\u001b[38;5;124;43m'\u001b[39;49m\u001b[43m]\u001b[49m) \n",
      "\u001b[1;31mKeyError\u001b[0m: '학고'"
     ]
    }
   ],
   "source": [
    "hm_matzip = {'유혜민':'02-5145-8910', '혜민짱':'0507-1303-2495', '중대':'02-790-1108', '드렁큰비건':'070-7543-8101'}\n",
    "print(hm_matzip['학고']) "
   ]
  },
  {
   "cell_type": "code",
   "execution_count": null,
   "metadata": {},
   "outputs": [
    {
     "name": "stdout",
     "output_type": "stream",
     "text": [
      "None\n",
      "절대 받으면 안 돼.\n"
     ]
    }
   ],
   "source": [
    "hm_matzip = {'유혜민':'02-5145-8910', '혜민짱':'0507-1303-2495', '중대':'02-790-1108', '드렁큰비건':'070-7543-8101'}\n",
    "print(hm_matzip.get('학고')) \n",
    "print(hm_matzip.get('학고', '절대 받으면 안 돼.')) "
   ]
  },
  {
   "cell_type": "code",
   "execution_count": 41,
   "metadata": {},
   "outputs": [
    {
     "name": "stdout",
     "output_type": "stream",
     "text": [
      "True\n",
      "False\n"
     ]
    }
   ],
   "source": [
    "hm_matzip = {'유혜민':'02-5145-8910', '혜민짱':'0507-1303-2495', '중대':'02-790-1108', '드렁큰비건':'070-7543-8101'}\n",
    "print('혜민짱' in hm_matzip) \n",
    "print('학고' in hm_matzip) "
   ]
  },
  {
   "cell_type": "code",
   "execution_count": 42,
   "metadata": {},
   "outputs": [
    {
     "name": "stdout",
     "output_type": "stream",
     "text": [
      "{1, 2, 3}\n"
     ]
    }
   ],
   "source": [
    "a = set([1,2,3])\n",
    "print(a)"
   ]
  },
  {
   "cell_type": "code",
   "execution_count": 43,
   "metadata": {},
   "outputs": [
    {
     "ename": "TypeError",
     "evalue": "set expected at most 1 argument, got 3",
     "output_type": "error",
     "traceback": [
      "\u001b[1;31m---------------------------------------------------------------------------\u001b[0m",
      "\u001b[1;31mTypeError\u001b[0m                                 Traceback (most recent call last)",
      "Cell \u001b[1;32mIn[43], line 1\u001b[0m\n\u001b[1;32m----> 1\u001b[0m b \u001b[38;5;241m=\u001b[39m \u001b[38;5;28;43mset\u001b[39;49m\u001b[43m(\u001b[49m\u001b[38;5;241;43m1\u001b[39;49m\u001b[43m,\u001b[49m\u001b[38;5;241;43m2\u001b[39;49m\u001b[43m,\u001b[49m\u001b[38;5;241;43m3\u001b[39;49m\u001b[43m)\u001b[49m \u001b[38;5;66;03m#에러\u001b[39;00m\n\u001b[0;32m      2\u001b[0m b \u001b[38;5;241m=\u001b[39m \u001b[38;5;28mset\u001b[39m(\u001b[38;5;241m1\u001b[39m) \u001b[38;5;66;03m#에러\u001b[39;00m\n",
      "\u001b[1;31mTypeError\u001b[0m: set expected at most 1 argument, got 3"
     ]
    }
   ],
   "source": [
    "b = set(1,2,3) #에러\n",
    "b = set(1) #에러"
   ]
  },
  {
   "cell_type": "code",
   "execution_count": 44,
   "metadata": {},
   "outputs": [
    {
     "name": "stdout",
     "output_type": "stream",
     "text": [
      "{'h', 'n', 'y', 'i', 'e', 'm'}\n"
     ]
    }
   ],
   "source": [
    "b = set(\"hyemin\")\n",
    "print(b) "
   ]
  },
  {
   "cell_type": "code",
   "execution_count": 47,
   "metadata": {},
   "outputs": [
    {
     "name": "stdout",
     "output_type": "stream",
     "text": [
      "여행 취소\n"
     ]
    }
   ],
   "source": [
    "weather = 'rain'\n",
    "if weather == 'rain': \n",
    "    print('여행 취소')\n",
    "else: \n",
    "    print('여행 고고')"
   ]
  },
  {
   "cell_type": "code",
   "execution_count": 49,
   "metadata": {},
   "outputs": [
    {
     "name": "stdout",
     "output_type": "stream",
     "text": [
      "버스\n"
     ]
    }
   ],
   "source": [
    "weather = 'cloudy'\n",
    "\n",
    "if weather == 'rain':\n",
    "    print('차')\n",
    "elif weather == 'snowy':\n",
    "    print('지하철')\n",
    "elif weather == 'cloudy':\n",
    "    print('버스')\n",
    "else:\n",
    "     print('걷기')"
   ]
  },
  {
   "cell_type": "code",
   "execution_count": 50,
   "metadata": {},
   "outputs": [
    {
     "name": "stdout",
     "output_type": "stream",
     "text": [
      "학점: B+\n"
     ]
    }
   ],
   "source": [
    "score = 3.5\n",
    "\n",
    "if score > 4.0:\n",
    "    print('학점: A+')\n",
    "elif  3.5 < score <= 4.0:\n",
    "    print('학점: A')\n",
    "elif  3 < score <= 3.5:\n",
    "    print('학점: B+')\n",
    "else:\n",
    "    print('None')"
   ]
  },
  {
   "cell_type": "code",
   "execution_count": 51,
   "metadata": {},
   "outputs": [
    {
     "name": "stdout",
     "output_type": "stream",
     "text": [
      "학점: B+\n"
     ]
    }
   ],
   "source": [
    "score = 3.5\n",
    "\n",
    "if score > 4.0:\n",
    "    print('학점: A+')\n",
    "elif  (score <= 4.0) and (score > 3.5):\n",
    "    print('학점: A')\n",
    "elif  (score <= 3.5) and (score > 3.0):\n",
    "    print('학점: B+')\n",
    "else:\n",
    "    print('None')"
   ]
  },
  {
   "cell_type": "code",
   "execution_count": 53,
   "metadata": {},
   "outputs": [
    {
     "name": "stdout",
     "output_type": "stream",
     "text": [
      "유는 a에 포함함\n"
     ]
    }
   ],
   "source": [
    "a = ['유', '혜', '민']\n",
    "\n",
    "if '유' in a:\n",
    "    print('유는 a에 포함함')\n",
    "else:\n",
    "    print('유는 a에 포함하지 않음')"
   ]
  },
  {
   "cell_type": "code",
   "execution_count": 54,
   "metadata": {},
   "outputs": [
    {
     "name": "stdout",
     "output_type": "stream",
     "text": [
      "유는 a에 포함함\n"
     ]
    }
   ],
   "source": [
    "a = ['유', '혜', '민']\n",
    "\n",
    "if '유' not in a:\n",
    "    pass\n",
    "else:\n",
    "    print('유는 a에 포함함')"
   ]
  },
  {
   "cell_type": "code",
   "execution_count": 55,
   "metadata": {},
   "outputs": [
    {
     "name": "stdout",
     "output_type": "stream",
     "text": [
      "10보다 크면서 짝수인 수\n"
     ]
    }
   ],
   "source": [
    "a = 12\n",
    "\n",
    "if a > 10:\n",
    "   if a % 2 == 0:\n",
    "      print('10보다 크면서 짝수인 수')\n",
    "   else:\n",
    "      print('10보다 크면서 홀수인 수')\n",
    "else:\n",
    "   if a % 2 == 0:\n",
    "      print('10보다 작으면서 짝수인 수')\n",
    "   else:\n",
    "      print('10보다 작으면서 홀수인 수')"
   ]
  },
  {
   "cell_type": "code",
   "execution_count": 56,
   "metadata": {},
   "outputs": [
    {
     "name": "stdout",
     "output_type": "stream",
     "text": [
      "The number is 1\n",
      "The number is 2\n",
      "The number is 3\n",
      "The number is 4\n",
      "The number is 5\n",
      "The number is 6\n",
      "The number is 7\n",
      "The number is 8\n",
      "The number is 9\n",
      "The number is 10\n"
     ]
    }
   ],
   "source": [
    "num = 1\n",
    "while num <= 10:\n",
    "    print('The number is %d' % num)\n",
    "    num += 1"
   ]
  },
  {
   "cell_type": "code",
   "execution_count": 57,
   "metadata": {},
   "outputs": [
    {
     "name": "stdout",
     "output_type": "stream",
     "text": [
      "2\n",
      "4\n",
      "6\n",
      "8\n",
      "10\n"
     ]
    }
   ],
   "source": [
    "num = 1\n",
    "\n",
    "while num < 10:\n",
    "    num += 1\n",
    "    if num % 2 == 1:\n",
    "        continue\n",
    "    print(num)"
   ]
  },
  {
   "cell_type": "code",
   "execution_count": 59,
   "metadata": {},
   "outputs": [
    {
     "name": "stdout",
     "output_type": "stream",
     "text": [
      "2\n"
     ]
    }
   ],
   "source": [
    "num = 1\n",
    "\n",
    "while num < 10:\n",
    "    num += 1\n",
    "    if num % 2 == 0:\n",
    "        print(num)\n",
    "        break"
   ]
  },
  {
   "cell_type": "code",
   "execution_count": 60,
   "metadata": {},
   "outputs": [
    {
     "name": "stdout",
     "output_type": "stream",
     "text": [
      "1\n",
      "2\n",
      "3\n",
      "4\n",
      "5\n"
     ]
    }
   ],
   "source": [
    "for h in range(1,6):\n",
    "    print(h)"
   ]
  },
  {
   "cell_type": "code",
   "execution_count": 64,
   "metadata": {},
   "outputs": [
    {
     "name": "stdout",
     "output_type": "stream",
     "text": [
      "mark\n",
      "karina\n",
      "wendy\n"
     ]
    }
   ],
   "source": [
    "idols = ['mark', 'karina', 'wendy']\n",
    "\n",
    "for idol in idols:\n",
    "    print(idol)"
   ]
  },
  {
   "cell_type": "code",
   "execution_count": 65,
   "metadata": {},
   "outputs": [
    {
     "name": "stdout",
     "output_type": "stream",
     "text": [
      "mark\n",
      "jeno\n",
      "renjun\n"
     ]
    }
   ],
   "source": [
    "idols  = (\"mark\",  \"jeno\",  \"renjun\")\n",
    "\n",
    "for idol in idols:\n",
    "    print(idol)"
   ]
  },
  {
   "cell_type": "code",
   "execution_count": 66,
   "metadata": {},
   "outputs": [
    {
     "name": "stdout",
     "output_type": "stream",
     "text": [
      "혜\n",
      "민\n",
      "이\n",
      "는\n",
      " \n",
      "짱\n",
      "이\n",
      "다\n",
      "!\n"
     ]
    }
   ],
   "source": [
    "ex = \"혜민이는 짱이다!\"\n",
    "\n",
    "for i in ex:\n",
    "    print(i)"
   ]
  },
  {
   "cell_type": "code",
   "execution_count": 67,
   "metadata": {},
   "outputs": [
    {
     "name": "stdout",
     "output_type": "stream",
     "text": [
      "1 * 1 = 1\n",
      "1 * 2 = 2\n",
      "1 * 3 = 3\n",
      "1 * 4 = 4\n",
      "1 * 5 = 5\n",
      "1 * 6 = 6\n",
      "1 * 7 = 7\n",
      "1 * 8 = 8\n",
      "1 * 9 = 9\n",
      "===1단 끝!===\n",
      "2 * 1 = 2\n",
      "2 * 2 = 4\n",
      "2 * 3 = 6\n",
      "2 * 4 = 8\n",
      "2 * 5 = 10\n",
      "2 * 6 = 12\n",
      "2 * 7 = 14\n",
      "2 * 8 = 16\n",
      "2 * 9 = 18\n",
      "===2단 끝!===\n",
      "3 * 1 = 3\n",
      "3 * 2 = 6\n",
      "3 * 3 = 9\n",
      "3 * 4 = 12\n",
      "3 * 5 = 15\n",
      "3 * 6 = 18\n",
      "3 * 7 = 21\n",
      "3 * 8 = 24\n",
      "3 * 9 = 27\n",
      "===3단 끝!===\n",
      "4 * 1 = 4\n",
      "4 * 2 = 8\n",
      "4 * 3 = 12\n",
      "4 * 4 = 16\n",
      "4 * 5 = 20\n",
      "4 * 6 = 24\n",
      "4 * 7 = 28\n",
      "4 * 8 = 32\n",
      "4 * 9 = 36\n",
      "===4단 끝!===\n",
      "5 * 1 = 5\n",
      "5 * 2 = 10\n",
      "5 * 3 = 15\n",
      "5 * 4 = 20\n",
      "5 * 5 = 25\n",
      "5 * 6 = 30\n",
      "5 * 7 = 35\n",
      "5 * 8 = 40\n",
      "5 * 9 = 45\n",
      "===5단 끝!===\n",
      "6 * 1 = 6\n",
      "6 * 2 = 12\n",
      "6 * 3 = 18\n",
      "6 * 4 = 24\n",
      "6 * 5 = 30\n",
      "6 * 6 = 36\n",
      "6 * 7 = 42\n",
      "6 * 8 = 48\n",
      "6 * 9 = 54\n",
      "===6단 끝!===\n",
      "7 * 1 = 7\n",
      "7 * 2 = 14\n",
      "7 * 3 = 21\n",
      "7 * 4 = 28\n",
      "7 * 5 = 35\n",
      "7 * 6 = 42\n",
      "7 * 7 = 49\n",
      "7 * 8 = 56\n",
      "7 * 9 = 63\n",
      "===7단 끝!===\n",
      "8 * 1 = 8\n",
      "8 * 2 = 16\n",
      "8 * 3 = 24\n",
      "8 * 4 = 32\n",
      "8 * 5 = 40\n",
      "8 * 6 = 48\n",
      "8 * 7 = 56\n",
      "8 * 8 = 64\n",
      "8 * 9 = 72\n",
      "===8단 끝!===\n",
      "9 * 1 = 9\n",
      "9 * 2 = 18\n",
      "9 * 3 = 27\n",
      "9 * 4 = 36\n",
      "9 * 5 = 45\n",
      "9 * 6 = 54\n",
      "9 * 7 = 63\n",
      "9 * 8 = 72\n",
      "9 * 9 = 81\n",
      "===9단 끝!===\n",
      "구구단 1단 부터 9단까지 끝!\n"
     ]
    }
   ],
   "source": [
    "for a in  range(1,  10):\n",
    "    for b in  range(1,  10):\n",
    "        print('%d * %d = %d'%(a, b, a * b))\n",
    "    print('===%d단 끝!==='%(a))\n",
    "print('구구단 1단 부터 9단까지 끝!')"
   ]
  },
  {
   "cell_type": "code",
   "execution_count": 68,
   "metadata": {},
   "outputs": [],
   "source": [
    "new_list=[] \n",
    "\n",
    "for i in range(1,6):\n",
    "    new_list.append(i * 10)"
   ]
  },
  {
   "cell_type": "code",
   "execution_count": 69,
   "metadata": {},
   "outputs": [],
   "source": [
    "new_list=[i*10 for i in range(1,6)]"
   ]
  },
  {
   "cell_type": "code",
   "execution_count": 70,
   "metadata": {},
   "outputs": [
    {
     "name": "stdout",
     "output_type": "stream",
     "text": [
      "1\n",
      "2\n",
      "3\n"
     ]
    }
   ],
   "source": [
    "for i in  range(1,5):\n",
    "    if i > 3:\n",
    "        break\n",
    "    print(i)"
   ]
  },
  {
   "cell_type": "code",
   "execution_count": 71,
   "metadata": {},
   "outputs": [
    {
     "name": "stdout",
     "output_type": "stream",
     "text": [
      "1\n",
      "2\n",
      "3\n"
     ]
    }
   ],
   "source": [
    "for i in  range(1,5):\n",
    "    if i > 3: continue\n",
    "    print(i)"
   ]
  },
  {
   "cell_type": "code",
   "execution_count": 72,
   "metadata": {},
   "outputs": [
    {
     "name": "stdout",
     "output_type": "stream",
     "text": [
      "0\n",
      "1\n",
      "2\n",
      "3\n",
      "4\n",
      "5\n",
      "6\n",
      "7\n",
      "8\n",
      "9\n",
      "for complete\n",
      "done\n"
     ]
    }
   ],
   "source": [
    "a = 100\n",
    "for i in range(0,10):\n",
    "    print(i)\n",
    "    if i == a: break\n",
    "else:\n",
    "    print('for complete')\n",
    "print('done')   "
   ]
  },
  {
   "cell_type": "code",
   "execution_count": 73,
   "metadata": {},
   "outputs": [
    {
     "name": "stdout",
     "output_type": "stream",
     "text": [
      "29\n",
      "28\n",
      "27\n",
      "26\n",
      "25\n"
     ]
    }
   ],
   "source": [
    "# 1. 30에서 1씩 빼다가 결과가 5의 배수가 되면 멈추는 식을 작성해보세요.\n",
    "n = 30\n",
    "\n",
    "while n <= 30:\n",
    "  n = n - 1\n",
    "  print(n)\n",
    "  if n % 5 ==0:\n",
    "    break"
   ]
  },
  {
   "cell_type": "code",
   "execution_count": 74,
   "metadata": {},
   "outputs": [
    {
     "name": "stdout",
     "output_type": "stream",
     "text": [
      "2550\n"
     ]
    }
   ],
   "source": [
    "# 2. 1에서 100사이의 모든 짝수의 합을 구해보세요.\n",
    "sum_list=[]\n",
    "\n",
    "for i in range(1,101):\n",
    "  if i%2 == 0:\n",
    "   sum_list.append(i)\n",
    "\n",
    "print(sum(sum_list))"
   ]
  },
  {
   "cell_type": "code",
   "execution_count": 75,
   "metadata": {},
   "outputs": [
    {
     "name": "stdout",
     "output_type": "stream",
     "text": [
      "드래곤후르츠: 6글자\n"
     ]
    }
   ],
   "source": [
    "# 3. 다음 과일 이름 리스트 중, 과일 이름의 길이가 가장 긴 과일을 찾아보세요.\n",
    "fruits = ['사과', '오렌지', '파인애플', '귤', '천도복숭아', '리치', '코코넛', '샤인머스켓', '드래곤후르츠', '한라봉', '감']\n",
    "\n",
    "name_len=[]\n",
    "for i in fruits:\n",
    "  a = len(i)\n",
    "  name_len.append(a)\n",
    "\n",
    "index_num = name_len.index(max(name_len))\n",
    "print('{0}: {1}글자'.format(fruits[index_num], max(name_len)))"
   ]
  },
  {
   "cell_type": "code",
   "execution_count": 76,
   "metadata": {},
   "outputs": [
    {
     "name": "stdout",
     "output_type": "stream",
     "text": [
      "1 * 1 = 1\n",
      "1 * 2 = 2\n",
      "1 * 3 = 3\n",
      "1 * 4 = 4\n",
      "1 * 5 = 5\n",
      "1 * 6 = 6\n",
      "1 * 7 = 7\n",
      "1 * 8 = 8\n",
      "1 * 9 = 9\n",
      "===1단 끝!===\n",
      "2 * 1 = 2\n",
      "2 * 2 = 4\n",
      "2 * 3 = 6\n",
      "2 * 4 = 8\n",
      "2 * 5 = 10\n",
      "2 * 6 = 12\n",
      "2 * 7 = 14\n",
      "2 * 8 = 16\n",
      "2 * 9 = 18\n",
      "===2단 끝!===\n",
      "3 * 1 = 3\n",
      "3 * 2 = 6\n",
      "3 * 3 = 9\n",
      "3 * 4 = 12\n",
      "3 * 5 = 15\n",
      "3 * 6 = 18\n",
      "3 * 7 = 21\n",
      "3 * 8 = 24\n",
      "3 * 9 = 27\n",
      "===3단 끝!===\n",
      "4 * 1 = 4\n",
      "4 * 2 = 8\n",
      "4 * 3 = 12\n",
      "4 * 4 = 16\n",
      "4 * 5 = 20\n",
      "4 * 6 = 24\n",
      "4 * 7 = 28\n",
      "4 * 8 = 32\n",
      "4 * 9 = 36\n",
      "===4단 끝!===\n",
      "5 * 1 = 5\n",
      "5 * 2 = 10\n",
      "5 * 3 = 15\n",
      "5 * 4 = 20\n",
      "5 * 5 = 25\n",
      "5 * 6 = 30\n",
      "5 * 7 = 35\n",
      "5 * 8 = 40\n",
      "5 * 9 = 45\n",
      "===5단 끝!===\n",
      "6 * 1 = 6\n",
      "6 * 2 = 12\n",
      "6 * 3 = 18\n",
      "6 * 4 = 24\n",
      "6 * 5 = 30\n",
      "6 * 6 = 36\n",
      "6 * 7 = 42\n",
      "6 * 8 = 48\n",
      "6 * 9 = 54\n",
      "===6단 끝!===\n",
      "7 * 1 = 7\n",
      "7 * 2 = 14\n",
      "7 * 3 = 21\n",
      "7 * 4 = 28\n",
      "7 * 5 = 35\n",
      "7 * 6 = 42\n",
      "7 * 7 = 49\n",
      "7 * 8 = 56\n",
      "7 * 9 = 63\n",
      "===7단 끝!===\n",
      "8 * 1 = 8\n",
      "8 * 2 = 16\n",
      "8 * 3 = 24\n",
      "8 * 4 = 32\n",
      "8 * 5 = 40\n",
      "8 * 6 = 48\n",
      "8 * 7 = 56\n",
      "8 * 8 = 64\n",
      "8 * 9 = 72\n",
      "===8단 끝!===\n",
      "9 * 1 = 9\n",
      "9 * 2 = 18\n",
      "9 * 3 = 27\n",
      "9 * 4 = 36\n",
      "9 * 5 = 45\n",
      "9 * 6 = 54\n",
      "9 * 7 = 63\n",
      "9 * 8 = 72\n",
      "9 * 9 = 81\n",
      "===9단 끝!===\n",
      "구구단 1단 부터 9단까지 끝!\n"
     ]
    }
   ],
   "source": [
    "# 4. while문을 활용하여 구구단 1단 부터 9단까지 출력해보세요.\n",
    "num = 0\n",
    "while num <= 8:\n",
    "  num += 1\n",
    "  num2 = 1\n",
    "  while num2 <=9:\n",
    "    print('%d * %d = %d'%(num, num2, num * num2))\n",
    "    num2 += 1\n",
    "  print('===%d단 끝!==='%(num))\n",
    "print('구구단 1단 부터 9단까지 끝!')"
   ]
  },
  {
   "cell_type": "code",
   "execution_count": 77,
   "metadata": {},
   "outputs": [
    {
     "name": "stdout",
     "output_type": "stream",
     "text": [
      "1\n",
      "2\n",
      "짝!\n",
      "4\n",
      "5\n",
      "짝!\n",
      "7\n",
      "8\n",
      "짝!\n",
      "10\n",
      "11\n",
      "12\n",
      "짝!\n",
      "14\n",
      "15\n",
      "짝!\n",
      "17\n",
      "18\n",
      "짝!\n",
      "20\n",
      "21\n",
      "22\n",
      "짝!\n",
      "24\n",
      "25\n",
      "짝!\n",
      "27\n",
      "28\n",
      "짝!\n",
      "짝!\n",
      "짝!\n",
      "짝!\n",
      "짝!짝!\n",
      "짝!\n",
      "짝!\n",
      "짝!짝!\n",
      "짝!\n",
      "짝!\n",
      "짝!짝!\n",
      "40\n",
      "41\n",
      "42\n",
      "짝!\n",
      "44\n",
      "45\n",
      "짝!\n",
      "47\n",
      "48\n",
      "짝!\n",
      "50\n"
     ]
    }
   ],
   "source": [
    "# 5. 369게임 결과를 출력해보세요. (단, 33은 박수 두 번치고, 50번째에 게임은 끝남)\n",
    "\n",
    "clap = ['3', '6', '9']\n",
    "\n",
    "for i in range(1, 51):\n",
    "  count = 0\n",
    "  for j in str(i):\n",
    "      if j in clap:\n",
    "          count += 1\n",
    "  if count > 0:\n",
    "      i = '짝!' * count\n",
    "  print(i)\n"
   ]
  },
  {
   "cell_type": "code",
   "execution_count": 84,
   "metadata": {},
   "outputs": [
    {
     "ename": "KeyboardInterrupt",
     "evalue": "Interrupted by user",
     "output_type": "error",
     "traceback": [
      "\u001b[1;31m---------------------------------------------------------------------------\u001b[0m",
      "\u001b[1;31mKeyboardInterrupt\u001b[0m                         Traceback (most recent call last)",
      "Cell \u001b[1;32mIn[84], line 4\u001b[0m\n\u001b[0;32m      2\u001b[0m rank \u001b[38;5;241m=\u001b[39m {\u001b[38;5;124m'\u001b[39m\u001b[38;5;124mbeyonce\u001b[39m\u001b[38;5;124m'\u001b[39m : \u001b[38;5;124m'\u001b[39m\u001b[38;5;124m1\u001b[39m\u001b[38;5;124m'\u001b[39m, \u001b[38;5;124m'\u001b[39m\u001b[38;5;124m임영웅\u001b[39m\u001b[38;5;124m'\u001b[39m:\u001b[38;5;124m'\u001b[39m\u001b[38;5;124m3\u001b[39m\u001b[38;5;124m'\u001b[39m, \u001b[38;5;124m'\u001b[39m\u001b[38;5;124m장원영\u001b[39m\u001b[38;5;124m'\u001b[39m : \u001b[38;5;124m'\u001b[39m\u001b[38;5;124m2\u001b[39m\u001b[38;5;124m'\u001b[39m}\n\u001b[0;32m      3\u001b[0m name_list \u001b[38;5;241m=\u001b[39m \u001b[38;5;28mlist\u001b[39m(rank\u001b[38;5;241m.\u001b[39mkeys())\n\u001b[1;32m----> 4\u001b[0m name \u001b[38;5;241m=\u001b[39m \u001b[38;5;28;43minput\u001b[39;49m\u001b[43m(\u001b[49m\u001b[38;5;124;43m\"\u001b[39;49m\u001b[38;5;124;43m이름은?\u001b[39;49m\u001b[38;5;124;43m\"\u001b[39;49m\u001b[43m)\u001b[49m\n\u001b[0;32m      6\u001b[0m \u001b[38;5;28;01mwhile\u001b[39;00m name :\n\u001b[0;32m      7\u001b[0m     \u001b[38;5;28;01mif\u001b[39;00m  name \u001b[38;5;129;01min\u001b[39;00m name_list:\n",
      "File \u001b[1;32m~\\AppData\\Roaming\\Python\\Python312\\site-packages\\ipykernel\\kernelbase.py:1282\u001b[0m, in \u001b[0;36mKernel.raw_input\u001b[1;34m(self, prompt)\u001b[0m\n\u001b[0;32m   1280\u001b[0m     msg \u001b[38;5;241m=\u001b[39m \u001b[38;5;124m\"\u001b[39m\u001b[38;5;124mraw_input was called, but this frontend does not support input requests.\u001b[39m\u001b[38;5;124m\"\u001b[39m\n\u001b[0;32m   1281\u001b[0m     \u001b[38;5;28;01mraise\u001b[39;00m StdinNotImplementedError(msg)\n\u001b[1;32m-> 1282\u001b[0m \u001b[38;5;28;01mreturn\u001b[39;00m \u001b[38;5;28;43mself\u001b[39;49m\u001b[38;5;241;43m.\u001b[39;49m\u001b[43m_input_request\u001b[49m\u001b[43m(\u001b[49m\n\u001b[0;32m   1283\u001b[0m \u001b[43m    \u001b[49m\u001b[38;5;28;43mstr\u001b[39;49m\u001b[43m(\u001b[49m\u001b[43mprompt\u001b[49m\u001b[43m)\u001b[49m\u001b[43m,\u001b[49m\n\u001b[0;32m   1284\u001b[0m \u001b[43m    \u001b[49m\u001b[38;5;28;43mself\u001b[39;49m\u001b[38;5;241;43m.\u001b[39;49m\u001b[43m_parent_ident\u001b[49m\u001b[43m[\u001b[49m\u001b[38;5;124;43m\"\u001b[39;49m\u001b[38;5;124;43mshell\u001b[39;49m\u001b[38;5;124;43m\"\u001b[39;49m\u001b[43m]\u001b[49m\u001b[43m,\u001b[49m\n\u001b[0;32m   1285\u001b[0m \u001b[43m    \u001b[49m\u001b[38;5;28;43mself\u001b[39;49m\u001b[38;5;241;43m.\u001b[39;49m\u001b[43mget_parent\u001b[49m\u001b[43m(\u001b[49m\u001b[38;5;124;43m\"\u001b[39;49m\u001b[38;5;124;43mshell\u001b[39;49m\u001b[38;5;124;43m\"\u001b[39;49m\u001b[43m)\u001b[49m\u001b[43m,\u001b[49m\n\u001b[0;32m   1286\u001b[0m \u001b[43m    \u001b[49m\u001b[43mpassword\u001b[49m\u001b[38;5;241;43m=\u001b[39;49m\u001b[38;5;28;43;01mFalse\u001b[39;49;00m\u001b[43m,\u001b[49m\n\u001b[0;32m   1287\u001b[0m \u001b[43m\u001b[49m\u001b[43m)\u001b[49m\n",
      "File \u001b[1;32m~\\AppData\\Roaming\\Python\\Python312\\site-packages\\ipykernel\\kernelbase.py:1325\u001b[0m, in \u001b[0;36mKernel._input_request\u001b[1;34m(self, prompt, ident, parent, password)\u001b[0m\n\u001b[0;32m   1322\u001b[0m \u001b[38;5;28;01mexcept\u001b[39;00m \u001b[38;5;167;01mKeyboardInterrupt\u001b[39;00m:\n\u001b[0;32m   1323\u001b[0m     \u001b[38;5;66;03m# re-raise KeyboardInterrupt, to truncate traceback\u001b[39;00m\n\u001b[0;32m   1324\u001b[0m     msg \u001b[38;5;241m=\u001b[39m \u001b[38;5;124m\"\u001b[39m\u001b[38;5;124mInterrupted by user\u001b[39m\u001b[38;5;124m\"\u001b[39m\n\u001b[1;32m-> 1325\u001b[0m     \u001b[38;5;28;01mraise\u001b[39;00m \u001b[38;5;167;01mKeyboardInterrupt\u001b[39;00m(msg) \u001b[38;5;28;01mfrom\u001b[39;00m \u001b[38;5;28;01mNone\u001b[39;00m\n\u001b[0;32m   1326\u001b[0m \u001b[38;5;28;01mexcept\u001b[39;00m \u001b[38;5;167;01mException\u001b[39;00m:\n\u001b[0;32m   1327\u001b[0m     \u001b[38;5;28mself\u001b[39m\u001b[38;5;241m.\u001b[39mlog\u001b[38;5;241m.\u001b[39mwarning(\u001b[38;5;124m\"\u001b[39m\u001b[38;5;124mInvalid Message:\u001b[39m\u001b[38;5;124m\"\u001b[39m, exc_info\u001b[38;5;241m=\u001b[39m\u001b[38;5;28;01mTrue\u001b[39;00m)\n",
      "\u001b[1;31mKeyboardInterrupt\u001b[0m: Interrupted by user"
     ]
    }
   ],
   "source": [
    "# 6. beyonce의 등수는 1등, 임영웅의 등수는 3등, 장원영의 등수는 2등입니다. 이 정보들을 변수에 넣어, 아래 예시와 같이 이름을 입력받고 점수를 출력하는 프로그램을 만드세요. 만약 존재하지 않는 학생의 이름을 입력 받을 경우, 입력값은 없어요. 라는 문장을 출력하도록 하세요.\n",
    "rank = {'beyonce' : '1', '임영웅':'3', '장원영' : '2'}\n",
    "name_list = list(rank.keys())\n",
    "name = input(\"이름은?\")\n",
    "\n",
    "while name :\n",
    "    if  name in name_list:\n",
    "        print(name, \"의 등수는 \", rank[name], sep='')\n",
    "\n",
    "    elif name not in name_list:\n",
    "        print(name, \"는(은) 없어요.\", sep='') \n",
    "\n",
    "        break"
   ]
  },
  {
   "cell_type": "code",
   "execution_count": 85,
   "metadata": {},
   "outputs": [
    {
     "ename": "SyntaxError",
     "evalue": "invalid non-printable character U+200B (325531675.py, line 6)",
     "output_type": "error",
     "traceback": [
      "\u001b[1;36m  Cell \u001b[1;32mIn[85], line 6\u001b[1;36m\u001b[0m\n\u001b[1;33m    ​    if  name in name_list:\u001b[0m\n\u001b[1;37m    ^\u001b[0m\n\u001b[1;31mSyntaxError\u001b[0m\u001b[1;31m:\u001b[0m invalid non-printable character U+200B\n"
     ]
    }
   ],
   "source": [
    "rank = {'beyonce' : '1', '임영웅':'3', '장원영' : '2'}\n",
    "name_list = list(rank.keys())\n",
    "name = input(\"이름은?\")\n",
    "\n",
    "while name :\n",
    "​    if  name in name_list:\n",
    "​        print(name,\"의 등수는 \",rank[name],sep='' )\n",
    "\n",
    "​    elif name not in name_list:\n",
    "​        print(name,\"는(은) 없어요\",sep='')\n",
    "\n",
    "​    break"
   ]
  },
  {
   "cell_type": "code",
   "execution_count": 88,
   "metadata": {},
   "outputs": [
    {
     "data": {
      "text/plain": [
       "25"
      ]
     },
     "execution_count": 88,
     "metadata": {},
     "output_type": "execute_result"
    }
   ],
   "source": [
    "def square (x):\n",
    "  y = x**2\n",
    "  return y\n",
    "square(5)"
   ]
  },
  {
   "cell_type": "code",
   "execution_count": 89,
   "metadata": {},
   "outputs": [
    {
     "data": {
      "text/plain": [
       "13"
      ]
     },
     "execution_count": 89,
     "metadata": {},
     "output_type": "execute_result"
    }
   ],
   "source": [
    "def plus (a, b):\n",
    "  c = a + b\n",
    "  return c\n",
    "\n",
    "plus(6,7)"
   ]
  },
  {
   "cell_type": "code",
   "execution_count": 90,
   "metadata": {},
   "outputs": [
    {
     "data": {
      "text/plain": [
       "14"
      ]
     },
     "execution_count": 90,
     "metadata": {},
     "output_type": "execute_result"
    }
   ],
   "source": [
    "plus = lambda a, b : a + b\n",
    "\n",
    "plus(6,8)"
   ]
  },
  {
   "cell_type": "code",
   "execution_count": 91,
   "metadata": {},
   "outputs": [
    {
     "data": {
      "text/plain": [
       "49"
      ]
     },
     "execution_count": 91,
     "metadata": {},
     "output_type": "execute_result"
    }
   ],
   "source": [
    "def square(a):\n",
    "  b=a**2\n",
    "  return b\n",
    "\n",
    "square(7)"
   ]
  },
  {
   "cell_type": "code",
   "execution_count": 92,
   "metadata": {},
   "outputs": [
    {
     "data": {
      "text/plain": [
       "2024"
      ]
     },
     "execution_count": 92,
     "metadata": {},
     "output_type": "execute_result"
    }
   ],
   "source": [
    "def return_2024():\n",
    "  return 2024\n",
    "\n",
    "return_2024()"
   ]
  },
  {
   "cell_type": "code",
   "execution_count": 93,
   "metadata": {},
   "outputs": [
    {
     "name": "stdout",
     "output_type": "stream",
     "text": [
      "64\n"
     ]
    }
   ],
   "source": [
    "def print_square(a):\n",
    "  print(a**2)\n",
    "  \n",
    "print_square(8)"
   ]
  },
  {
   "cell_type": "code",
   "execution_count": 95,
   "metadata": {},
   "outputs": [
    {
     "name": "stdout",
     "output_type": "stream",
     "text": [
      "제가 사는 지역은 Illinois입니다.\n",
      "제가 사는 도시는 Chicago입니다.\n",
      "제가 사는 나라는 US입니다.\n",
      "제가 사는 지역은 서울특별시입니다.\n",
      "제가 사는 도시는 서울입니다.\n",
      "제가 사는 나라는 Korea입니다.\n"
     ]
    }
   ],
   "source": [
    "def print_address(state, city, country=\"Korea\"):\n",
    "    print(\"제가 사는 지역은 %s입니다.\" %state)\n",
    "    print(\"제가 사는 도시는 %s입니다.\" %city)\n",
    "    print(\"제가 사는 나라는 %s입니다.\" %country)\n",
    "\n",
    "print_address(\"Illinois\", \"Chicago\", \"US\")\n",
    "\n",
    "print_address(\"서울특별시\", \"서울\")"
   ]
  },
  {
   "cell_type": "code",
   "execution_count": 96,
   "metadata": {},
   "outputs": [
    {
     "name": "stdout",
     "output_type": "stream",
     "text": [
      "1\n"
     ]
    }
   ],
   "source": [
    "def plus_6(b):\n",
    "  a=6\n",
    "  c=a+b\n",
    "  return c\n",
    "\n",
    "print(a)"
   ]
  },
  {
   "cell_type": "code",
   "execution_count": 97,
   "metadata": {},
   "outputs": [],
   "source": [
    "def plus_6(b):\n",
    "  a=6\n",
    "  c=a+b\n",
    "  return c"
   ]
  },
  {
   "cell_type": "code",
   "execution_count": 98,
   "metadata": {},
   "outputs": [
    {
     "data": {
      "text/plain": [
       "7"
      ]
     },
     "execution_count": 98,
     "metadata": {},
     "output_type": "execute_result"
    }
   ],
   "source": [
    "a=6\n",
    "\n",
    "def plus_6(b):\n",
    "  c=a+b\n",
    "  return c\n",
    "\n",
    "plus_6(1)"
   ]
  },
  {
   "cell_type": "code",
   "execution_count": 100,
   "metadata": {},
   "outputs": [
    {
     "name": "stdout",
     "output_type": "stream",
     "text": [
      "2\n",
      "2\n",
      "0.5335189333615443\n"
     ]
    }
   ],
   "source": [
    "import random\n",
    "\n",
    "print(random.randint(1, 5))\n",
    "print(random.randrange(1, 5))\n",
    "print(random.random())"
   ]
  },
  {
   "cell_type": "code",
   "execution_count": 102,
   "metadata": {},
   "outputs": [
    {
     "name": "stdout",
     "output_type": "stream",
     "text": [
      "마크\n",
      "['런쥔', '마크', '천러']\n"
     ]
    }
   ],
   "source": [
    "IDOL = ['마크', '런쥔', '제노', '해찬', '재민', '천러', '지성']\n",
    "\n",
    "print(random.choice(IDOL))\n",
    "print(random.sample(IDOL, 3))"
   ]
  },
  {
   "cell_type": "code",
   "execution_count": 103,
   "metadata": {},
   "outputs": [
    {
     "ename": "ValueError",
     "evalue": "invalid literal for int() with base 10: ''",
     "output_type": "error",
     "traceback": [
      "\u001b[1;31m---------------------------------------------------------------------------\u001b[0m",
      "\u001b[1;31mValueError\u001b[0m                                Traceback (most recent call last)",
      "Cell \u001b[1;32mIn[103], line 6\u001b[0m\n\u001b[0;32m      3\u001b[0m \t\u001b[38;5;28;01mfor\u001b[39;00m i \u001b[38;5;129;01min\u001b[39;00m \u001b[38;5;28mlist\u001b[39m(\u001b[38;5;28mrange\u001b[39m(\u001b[38;5;241m1\u001b[39m,\u001b[38;5;241m10\u001b[39m)):\n\u001b[0;32m      4\u001b[0m \t\t\u001b[38;5;28mprint\u001b[39m (x \u001b[38;5;241m*\u001b[39m i)\n\u001b[1;32m----> 6\u001b[0m dan \u001b[38;5;241m=\u001b[39m \u001b[38;5;28;43mint\u001b[39;49m\u001b[43m(\u001b[49m\u001b[38;5;28;43minput\u001b[39;49m\u001b[43m(\u001b[49m\u001b[38;5;124;43m\"\u001b[39;49m\u001b[38;5;124;43m숫자를 입력하세요\u001b[39;49m\u001b[38;5;124;43m\"\u001b[39;49m\u001b[43m)\u001b[49m\u001b[43m)\u001b[49m\n\u001b[0;32m      7\u001b[0m \u001b[38;5;28;01mwhile\u001b[39;00m dan \u001b[38;5;241m!=\u001b[39m \u001b[38;5;241m0\u001b[39m:\n\u001b[0;32m      8\u001b[0m \tprint_dan(dan)\n",
      "\u001b[1;31mValueError\u001b[0m: invalid literal for int() with base 10: ''"
     ]
    }
   ],
   "source": [
    "# 1. 구구단을 외자! 숫자를 입력받으면, 해당 숫자의 구구단(해당 숫자에 1~9를 곱한 값들)을 출력하는 함수를 만드세요.\n",
    "def print_dan(x):\n",
    "\tfor i in list(range(1,10)):\n",
    "\t\tprint (x * i)\n",
    "\n",
    "dan = int(input(\"숫자를 입력하세요\"))\n",
    "while dan != 0:\n",
    "\tprint_dan(dan)\n",
    "\tdan = int(input())"
   ]
  },
  {
   "cell_type": "code",
   "execution_count": 106,
   "metadata": {},
   "outputs": [
    {
     "name": "stdout",
     "output_type": "stream",
     "text": [
      "\n",
      "1회 : 37 8 21 13 5 34 \n",
      "2회 : 30 12 26 44 23 17 \n",
      "3회 : 20 14 33 33 18 15 \n",
      "4회 : 8 18 21 28 33 10 \n",
      "5회 : 15 28 35 9 44 2 \n",
      "6회 : 37 17 39 31 3 24 \n",
      "7회 : 16 30 19 4 38 27 \n",
      "8회 : 45 40 37 21 41 24 \n",
      "9회 : 27 3 6 6 19 18 \n",
      "10회 : 19 26 21 9 28 41 \n",
      "11회 : 20 18 29 14 45 32 \n",
      "12회 : 13 7 7 15 42 36 \n",
      "13회 : 14 35 11 32 30 43 \n",
      "14회 : 33 17 14 2 9 6 \n",
      "15회 : 6 8 28 27 15 35 \n",
      "16회 : 40 45 31 27 25 3 \n",
      "17회 : 29 17 43 10 43 5 \n",
      "18회 : 22 15 16 2 33 7 \n",
      "19회 : 40 16 38 39 20 33 \n",
      "20회 : 19 11 10 22 29 13 \n",
      "21회 : 10 32 8 16 6 39 \n",
      "22회 : 18 45 3 7 25 2 \n",
      "23회 : 28 25 7 20 22 6 \n",
      "24회 : 27 29 29 24 34 27 \n",
      "25회 : 34 8 3 23 1 42 \n",
      "26회 : 24 26 17 37 25 40 \n",
      "27회 : 31 14 26 45 9 16 \n",
      "28회 : 34 8 29 9 5 3 \n",
      "29회 : 20 9 27 21 32 8 \n",
      "30회 : 40 37 38 39 5 30 \n",
      "\n",
      "1 : 1회\n",
      "2 : 4회\n",
      "3 : 6회\n",
      "4 : 1회\n",
      "5 : 4회\n",
      "6 : 6회\n",
      "7 : 5회\n",
      "8 : 7회\n",
      "9 : 6회\n",
      "10 : 4회\n",
      "11 : 2회\n",
      "12 : 1회\n",
      "13 : 3회\n",
      "14 : 5회\n",
      "15 : 5회\n",
      "16 : 5회\n",
      "17 : 5회\n",
      "18 : 5회\n",
      "19 : 4회\n",
      "20 : 5회\n",
      "21 : 5회\n",
      "22 : 3회\n",
      "23 : 2회\n",
      "24 : 4회\n",
      "25 : 4회\n",
      "26 : 4회\n",
      "27 : 7회\n",
      "28 : 5회\n",
      "29 : 6회\n",
      "30 : 4회\n",
      "31 : 3회\n",
      "32 : 4회\n",
      "33 : 6회\n",
      "34 : 4회\n",
      "35 : 3회\n",
      "36 : 1회\n",
      "37 : 5회\n",
      "38 : 3회\n",
      "39 : 4회\n",
      "40 : 5회\n",
      "41 : 2회\n",
      "42 : 2회\n",
      "43 : 3회\n",
      "44 : 2회\n",
      "45 : 5회\n",
      "이 주의 로또 번호 : 8 27 3 6 9 29 "
     ]
    }
   ],
   "source": [
    "def lotto_generator(x):\n",
    "\timport random\n",
    "\tvalist = list(range(1,46))\n",
    "\tlottery_nums = []\n",
    "\tfor i in range(6):\n",
    "\t\trandom.shuffle(valist)\n",
    "\t\tval  = random.choice(valist)\n",
    "\t\tlottery_nums.append(val)\n",
    "\tprint(\"\\n%s회 :\" % x , end = \" \")\n",
    "\tfor i in lottery_nums:\n",
    "\t\tprint(i,end = \" \")\n",
    "\treturn lottery_nums\n",
    "\n",
    "def lotto_stat(x):\n",
    "    results = {}\n",
    "    for i in range(1,46):\n",
    "        results[i] = 0\n",
    "    for i in range(1,x+1):\n",
    "        lottery_nums = lotto_generator(i)\n",
    "        for i in lottery_nums:\n",
    "            results[i] = results[i] + 1\n",
    "    print(\"\\n\")\n",
    "    for i in results.keys():\n",
    "        print(\"%s : %d회\" % (i,results[i]))\n",
    "    return results\n",
    "\n",
    "\n",
    "results = lotto_stat(30)\n",
    "\n",
    "this_nums = sorted(results, key= lambda c :results[c], reverse=True)[:6]\n",
    "\n",
    "print(\"이 주의 로또 번호 :\",end = \" \")\n",
    "for i in this_nums:\n",
    "    print(i, end = \" \")"
   ]
  },
  {
   "cell_type": "code",
   "execution_count": null,
   "metadata": {},
   "outputs": [],
   "source": []
  }
 ],
 "metadata": {
  "kernelspec": {
   "display_name": "Python 3",
   "language": "python",
   "name": "python3"
  },
  "language_info": {
   "codemirror_mode": {
    "name": "ipython",
    "version": 3
   },
   "file_extension": ".py",
   "mimetype": "text/x-python",
   "name": "python",
   "nbconvert_exporter": "python",
   "pygments_lexer": "ipython3",
   "version": "3.12.3"
  }
 },
 "nbformat": 4,
 "nbformat_minor": 2
}
