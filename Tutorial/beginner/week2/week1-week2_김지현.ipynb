{
  "nbformat": 4,
  "nbformat_minor": 0,
  "metadata": {
    "colab": {
      "provenance": [],
      "toc_visible": true
    },
    "kernelspec": {
      "name": "python3",
      "display_name": "Python 3"
    },
    "language_info": {
      "name": "python"
    }
  },
  "cells": [
    {
      "cell_type": "code",
      "execution_count": 1,
      "metadata": {
        "colab": {
          "base_uri": "https://localhost:8080/"
        },
        "id": "2C1iWCdS4NO2",
        "outputId": "83c8ed5e-9147-4366-df04-4e80c1fcc617"
      },
      "outputs": [
        {
          "output_type": "stream",
          "name": "stdout",
          "text": [
            "1 2 3\n"
          ]
        }
      ],
      "source": [
        "print(1,2,3)"
      ]
    },
    {
      "cell_type": "code",
      "source": [
        "print([1,2,3])"
      ],
      "metadata": {
        "colab": {
          "base_uri": "https://localhost:8080/"
        },
        "id": "TC_lh6ta4Q_K",
        "outputId": "28204fac-5d41-4d28-eb45-52c34e3ce91b"
      },
      "execution_count": 2,
      "outputs": [
        {
          "output_type": "stream",
          "name": "stdout",
          "text": [
            "[1, 2, 3]\n"
          ]
        }
      ]
    },
    {
      "cell_type": "code",
      "source": [
        "print(\"Hello World!\")"
      ],
      "metadata": {
        "colab": {
          "base_uri": "https://localhost:8080/"
        },
        "id": "G1jYfiVG4VUC",
        "outputId": "6bf00f78-968d-4423-84c1-b4d9a52dabb2"
      },
      "execution_count": 3,
      "outputs": [
        {
          "output_type": "stream",
          "name": "stdout",
          "text": [
            "Hello World!\n"
          ]
        }
      ]
    },
    {
      "cell_type": "code",
      "source": [
        "print(\"Hello\", \"World\", \"!\")"
      ],
      "metadata": {
        "colab": {
          "base_uri": "https://localhost:8080/"
        },
        "id": "5jTDtJDs4Zxv",
        "outputId": "14fdd683-3ab9-4f9a-ca87-53c53daaf641"
      },
      "execution_count": 4,
      "outputs": [
        {
          "output_type": "stream",
          "name": "stdout",
          "text": [
            "Hello World !\n"
          ]
        }
      ]
    },
    {
      "cell_type": "code",
      "source": [
        "a=1\n",
        "b=1\n",
        "a+b"
      ],
      "metadata": {
        "colab": {
          "base_uri": "https://localhost:8080/"
        },
        "id": "2oEL3Gyx5R1g",
        "outputId": "199aab97-4a9e-4547-eb82-a097536a0d2e"
      },
      "execution_count": 5,
      "outputs": [
        {
          "output_type": "execute_result",
          "data": {
            "text/plain": [
              "2"
            ]
          },
          "metadata": {},
          "execution_count": 5
        }
      ]
    },
    {
      "cell_type": "code",
      "source": [
        "name=\"고다람\"\n",
        "print(name)"
      ],
      "metadata": {
        "colab": {
          "base_uri": "https://localhost:8080/"
        },
        "id": "hbFuypff5QMG",
        "outputId": "51149379-e72a-4f76-d06b-8cfc1c995a85"
      },
      "execution_count": 6,
      "outputs": [
        {
          "output_type": "stream",
          "name": "stdout",
          "text": [
            "고다람\n"
          ]
        }
      ]
    },
    {
      "cell_type": "code",
      "source": [
        "print(17%2)"
      ],
      "metadata": {
        "colab": {
          "base_uri": "https://localhost:8080/"
        },
        "id": "yKj5pYGD5QPH",
        "outputId": "3240d9e1-6b18-4919-f0c9-d3b21bada27d"
      },
      "execution_count": 7,
      "outputs": [
        {
          "output_type": "stream",
          "name": "stdout",
          "text": [
            "1\n"
          ]
        }
      ]
    },
    {
      "cell_type": "markdown",
      "source": [],
      "metadata": {
        "id": "betlc2dw88PY"
      }
    },
    {
      "cell_type": "code",
      "source": [
        "num='168.7'\n",
        "print(float(num))\n",
        "print(type(float(num)))"
      ],
      "metadata": {
        "colab": {
          "base_uri": "https://localhost:8080/"
        },
        "id": "9Y01heN45QRo",
        "outputId": "51553df4-0919-4f4f-b755-9fde46b3687f"
      },
      "execution_count": 8,
      "outputs": [
        {
          "output_type": "stream",
          "name": "stdout",
          "text": [
            "168.7\n",
            "<class 'float'>\n"
          ]
        }
      ]
    },
    {
      "cell_type": "code",
      "source": [
        "a= '코사다마'\n",
        "print(a[::-1])"
      ],
      "metadata": {
        "colab": {
          "base_uri": "https://localhost:8080/"
        },
        "id": "XhCGit0757a3",
        "outputId": "fad06d2e-033f-406f-85ca-229213e95ad8"
      },
      "execution_count": 9,
      "outputs": [
        {
          "output_type": "stream",
          "name": "stdout",
          "text": [
            "마다사코\n"
          ]
        }
      ]
    },
    {
      "cell_type": "code",
      "source": [
        "phone_num='010-1234-1234'\n",
        "print(phone_num.replace('-',''))"
      ],
      "metadata": {
        "colab": {
          "base_uri": "https://localhost:8080/"
        },
        "id": "oiLAUFqW6EOj",
        "outputId": "f362f822-c70d-4a57-8ad3-fcfa7d82406a"
      },
      "execution_count": 10,
      "outputs": [
        {
          "output_type": "stream",
          "name": "stdout",
          "text": [
            "01012341234\n"
          ]
        }
      ]
    },
    {
      "cell_type": "code",
      "source": [
        "studentID='20221234'\n",
        "name='고다람'\n",
        "print('입학연도:{0}/ 이름: {1}/ 학번: {2}').format(studentID[:4], name, studentID)"
      ],
      "metadata": {
        "colab": {
          "base_uri": "https://localhost:8080/",
          "height": 193
        },
        "id": "98-pJShG6G3C",
        "outputId": "1a0b38e7-992e-4c5b-a517-3cfd87b64a1b"
      },
      "execution_count": 13,
      "outputs": [
        {
          "output_type": "stream",
          "name": "stdout",
          "text": [
            "입학연도:{0}/ 이름: {1}/ 학번: {2}\n"
          ]
        },
        {
          "output_type": "error",
          "ename": "AttributeError",
          "evalue": "'NoneType' object has no attribute 'format'",
          "traceback": [
            "\u001b[0;31m---------------------------------------------------------------------------\u001b[0m",
            "\u001b[0;31mAttributeError\u001b[0m                            Traceback (most recent call last)",
            "\u001b[0;32m<ipython-input-13-722c04989551>\u001b[0m in \u001b[0;36m<cell line: 3>\u001b[0;34m()\u001b[0m\n\u001b[1;32m      1\u001b[0m \u001b[0mstudentID\u001b[0m\u001b[0;34m=\u001b[0m\u001b[0;34m'20221234'\u001b[0m\u001b[0;34m\u001b[0m\u001b[0;34m\u001b[0m\u001b[0m\n\u001b[1;32m      2\u001b[0m \u001b[0mname\u001b[0m\u001b[0;34m=\u001b[0m\u001b[0;34m'고다람'\u001b[0m\u001b[0;34m\u001b[0m\u001b[0;34m\u001b[0m\u001b[0m\n\u001b[0;32m----> 3\u001b[0;31m \u001b[0mprint\u001b[0m\u001b[0;34m(\u001b[0m\u001b[0;34m'입학연도:{0}/ 이름: {1}/ 학번: {2}'\u001b[0m\u001b[0;34m)\u001b[0m\u001b[0;34m.\u001b[0m\u001b[0mformat\u001b[0m\u001b[0;34m(\u001b[0m\u001b[0mstudentID\u001b[0m\u001b[0;34m[\u001b[0m\u001b[0;34m:\u001b[0m\u001b[0;36m4\u001b[0m\u001b[0;34m]\u001b[0m\u001b[0;34m,\u001b[0m \u001b[0mname\u001b[0m\u001b[0;34m,\u001b[0m \u001b[0mstudentID\u001b[0m\u001b[0;34m)\u001b[0m\u001b[0;34m\u001b[0m\u001b[0;34m\u001b[0m\u001b[0m\n\u001b[0m",
            "\u001b[0;31mAttributeError\u001b[0m: 'NoneType' object has no attribute 'format'"
          ]
        }
      ]
    },
    {
      "cell_type": "code",
      "source": [
        "studentID = '20221234'\n",
        "name = '고다람'\n",
        "print('입학연도: {0} / 이름: {1} / 학번: {2}'.format(studentID[:4], name, studentID))"
      ],
      "metadata": {
        "colab": {
          "base_uri": "https://localhost:8080/"
        },
        "id": "3grOkif86G8A",
        "outputId": "0c4378d4-baee-4b27-f04b-9d23c860ae99"
      },
      "execution_count": 14,
      "outputs": [
        {
          "output_type": "stream",
          "name": "stdout",
          "text": [
            "입학연도: 2022 / 이름: 고다람 / 학번: 20221234\n"
          ]
        }
      ]
    },
    {
      "cell_type": "code",
      "source": [
        "import math\n",
        "\n",
        "radius = 3.5\n",
        "area = math.pi*radius**2\n",
        "print(area)"
      ],
      "metadata": {
        "colab": {
          "base_uri": "https://localhost:8080/"
        },
        "id": "3pfzfqx56G9A",
        "outputId": "3c69c9d4-98b8-4f68-ea18-b771cb89b2c8"
      },
      "execution_count": 15,
      "outputs": [
        {
          "output_type": "stream",
          "name": "stdout",
          "text": [
            "38.48451000647496\n"
          ]
        }
      ]
    },
    {
      "cell_type": "code",
      "source": [
        "print(\"당신의 생년,월,일을 차례로 입력하세요\")\n",
        "year=int(input('생년?'))\n",
        "month=int(input('월?'))\n",
        "day=int(input('일?'))\n",
        "print('당신은',year,'년',month,'월',day,'일에 태어났습니다.')\n",
        "print('생년월일을 합하면',year+month+day,\"입니다.\")"
      ],
      "metadata": {
        "colab": {
          "base_uri": "https://localhost:8080/"
        },
        "id": "mA7tus3d6HAb",
        "outputId": "81e63e53-0b49-46f0-f7ad-da2d0923ac3b"
      },
      "execution_count": 16,
      "outputs": [
        {
          "output_type": "stream",
          "name": "stdout",
          "text": [
            "당신의 생년,월,일을 차례로 입력하세요\n",
            "생년?2004\n",
            "월?9\n",
            "일?2\n",
            "당신은 2004 년 9 월 2 일에 태어났습니다.\n",
            "생년월일을 합하면 2015 입니다.\n"
          ]
        }
      ]
    },
    {
      "cell_type": "code",
      "source": [
        "beyonce = [0, 100, 100]\n",
        "hero = [70, 30, 0]\n",
        "won0 = [100, 70, 80]\n",
        "beyonce.append((beyonce[0]+beyonce[1]+beyonce[2])/3)\n",
        "hero.append((hero[0]+hero[1]+hero[2])/3)\n",
        "won0.append((won0[0]+won0[1]+won0[2])/3)\n",
        "print((beyonce[3] + hero[3] + won0[3])/3)"
      ],
      "metadata": {
        "colab": {
          "base_uri": "https://localhost:8080/"
        },
        "id": "rz48Dt0D7ZGi",
        "outputId": "d593ce4c-d0fc-4066-e366-710e2ec5d5ab"
      },
      "execution_count": 18,
      "outputs": [
        {
          "output_type": "stream",
          "name": "stdout",
          "text": [
            "61.11111111111111\n"
          ]
        }
      ]
    },
    {
      "cell_type": "code",
      "source": [
        "number = [10, 2, 3, 4, 5, 7, 6, 8, 9, 100]\n",
        "number.sort()\n",
        "print(number[0], number[-1])"
      ],
      "metadata": {
        "colab": {
          "base_uri": "https://localhost:8080/"
        },
        "id": "QEh4hOAq7Zvx",
        "outputId": "f40f510c-9cf7-4ff2-9cdd-4d436f4e12e6"
      },
      "execution_count": 19,
      "outputs": [
        {
          "output_type": "stream",
          "name": "stdout",
          "text": [
            "2 100\n"
          ]
        }
      ]
    },
    {
      "cell_type": "markdown",
      "source": [],
      "metadata": {
        "id": "DnW9lff672YT"
      }
    },
    {
      "cell_type": "code",
      "source": [
        "vegan_matzip = {'제로비건':'02-5145-8910', '쏭타이':'0507-1303-2495', '몽크스부처':'02-790-1108', '드렁큰비건':'070-7543-8101'}\n",
        "print('쏭타이' in vegan_matzip)"
      ],
      "metadata": {
        "colab": {
          "base_uri": "https://localhost:8080/"
        },
        "id": "OZ_IxRaw71Gp",
        "outputId": "c62135ba-82f3-4c7c-adad-0f9a266c0422"
      },
      "execution_count": 21,
      "outputs": [
        {
          "output_type": "stream",
          "name": "stdout",
          "text": [
            "True\n"
          ]
        }
      ]
    },
    {
      "cell_type": "code",
      "source": [
        "n = 30\n",
        "\n",
        "while n <= 30:\n",
        "  n = n - 1\n",
        "  print(n)\n",
        "  if n % 5 ==0:\n",
        "    break"
      ],
      "metadata": {
        "colab": {
          "base_uri": "https://localhost:8080/"
        },
        "id": "-K9TOUxd8dDw",
        "outputId": "267272c8-3360-434e-f893-d4651ad36040"
      },
      "execution_count": 22,
      "outputs": [
        {
          "output_type": "stream",
          "name": "stdout",
          "text": [
            "29\n",
            "28\n",
            "27\n",
            "26\n",
            "25\n"
          ]
        }
      ]
    },
    {
      "cell_type": "code",
      "source": [
        "sum_list=[]\n",
        "\n",
        "for i in range(1,101):\n",
        "  if i%2 == 0:\n",
        "   sum_list.append(i)\n",
        "\n",
        "print(sum(sum_list))"
      ],
      "metadata": {
        "colab": {
          "base_uri": "https://localhost:8080/"
        },
        "id": "wbk9DEat8dF4",
        "outputId": "3ef62f65-bef2-4b46-807f-64547fd99091"
      },
      "execution_count": 23,
      "outputs": [
        {
          "output_type": "stream",
          "name": "stdout",
          "text": [
            "2550\n"
          ]
        }
      ]
    },
    {
      "cell_type": "code",
      "source": [
        "fruits = ['사과', '오렌지', '파인애플', '귤', '천도복숭아', '리치', '코코넛', '샤인머스켓', '드래곤후르츠', '한라봉', '감']\n",
        "\n",
        "name_len=[]\n",
        "for i in fruits:\n",
        "  a = len(i)\n",
        "  name_len.append(a)\n",
        "\n",
        "index_num = name_len.index(max(name_len))\n",
        "print('{0}: {1}글자'.format(fruits[index_num], max(name_len)))"
      ],
      "metadata": {
        "colab": {
          "base_uri": "https://localhost:8080/"
        },
        "id": "mbHsggNk8dH3",
        "outputId": "5f969979-9335-4796-eb3a-f635c5d9baf9"
      },
      "execution_count": 25,
      "outputs": [
        {
          "output_type": "stream",
          "name": "stdout",
          "text": [
            "드래곤후르츠: 6글자\n"
          ]
        }
      ]
    },
    {
      "cell_type": "code",
      "source": [
        "num = 0\n",
        "while num <= 8:\n",
        "  num += 1\n",
        "  num2 = 1\n",
        "  while num2 <=9:\n",
        "    print('%d * %d = %d'%(num, num2, num * num2))\n",
        "    num2 += 1\n",
        "  print('===%d단 끝!==='%(num))\n",
        "print('구구단 1단 부터 9단까지 끝!')"
      ],
      "metadata": {
        "colab": {
          "base_uri": "https://localhost:8080/"
        },
        "id": "hEgeFNrT82Bk",
        "outputId": "4ec7f2c8-921b-4adb-aab8-d9d794050221"
      },
      "execution_count": 26,
      "outputs": [
        {
          "output_type": "stream",
          "name": "stdout",
          "text": [
            "1 * 1 = 1\n",
            "1 * 2 = 2\n",
            "1 * 3 = 3\n",
            "1 * 4 = 4\n",
            "1 * 5 = 5\n",
            "1 * 6 = 6\n",
            "1 * 7 = 7\n",
            "1 * 8 = 8\n",
            "1 * 9 = 9\n",
            "===1단 끝!===\n",
            "2 * 1 = 2\n",
            "2 * 2 = 4\n",
            "2 * 3 = 6\n",
            "2 * 4 = 8\n",
            "2 * 5 = 10\n",
            "2 * 6 = 12\n",
            "2 * 7 = 14\n",
            "2 * 8 = 16\n",
            "2 * 9 = 18\n",
            "===2단 끝!===\n",
            "3 * 1 = 3\n",
            "3 * 2 = 6\n",
            "3 * 3 = 9\n",
            "3 * 4 = 12\n",
            "3 * 5 = 15\n",
            "3 * 6 = 18\n",
            "3 * 7 = 21\n",
            "3 * 8 = 24\n",
            "3 * 9 = 27\n",
            "===3단 끝!===\n",
            "4 * 1 = 4\n",
            "4 * 2 = 8\n",
            "4 * 3 = 12\n",
            "4 * 4 = 16\n",
            "4 * 5 = 20\n",
            "4 * 6 = 24\n",
            "4 * 7 = 28\n",
            "4 * 8 = 32\n",
            "4 * 9 = 36\n",
            "===4단 끝!===\n",
            "5 * 1 = 5\n",
            "5 * 2 = 10\n",
            "5 * 3 = 15\n",
            "5 * 4 = 20\n",
            "5 * 5 = 25\n",
            "5 * 6 = 30\n",
            "5 * 7 = 35\n",
            "5 * 8 = 40\n",
            "5 * 9 = 45\n",
            "===5단 끝!===\n",
            "6 * 1 = 6\n",
            "6 * 2 = 12\n",
            "6 * 3 = 18\n",
            "6 * 4 = 24\n",
            "6 * 5 = 30\n",
            "6 * 6 = 36\n",
            "6 * 7 = 42\n",
            "6 * 8 = 48\n",
            "6 * 9 = 54\n",
            "===6단 끝!===\n",
            "7 * 1 = 7\n",
            "7 * 2 = 14\n",
            "7 * 3 = 21\n",
            "7 * 4 = 28\n",
            "7 * 5 = 35\n",
            "7 * 6 = 42\n",
            "7 * 7 = 49\n",
            "7 * 8 = 56\n",
            "7 * 9 = 63\n",
            "===7단 끝!===\n",
            "8 * 1 = 8\n",
            "8 * 2 = 16\n",
            "8 * 3 = 24\n",
            "8 * 4 = 32\n",
            "8 * 5 = 40\n",
            "8 * 6 = 48\n",
            "8 * 7 = 56\n",
            "8 * 8 = 64\n",
            "8 * 9 = 72\n",
            "===8단 끝!===\n",
            "9 * 1 = 9\n",
            "9 * 2 = 18\n",
            "9 * 3 = 27\n",
            "9 * 4 = 36\n",
            "9 * 5 = 45\n",
            "9 * 6 = 54\n",
            "9 * 7 = 63\n",
            "9 * 8 = 72\n",
            "9 * 9 = 81\n",
            "===9단 끝!===\n",
            "구구단 1단 부터 9단까지 끝!\n"
          ]
        }
      ]
    },
    {
      "cell_type": "code",
      "source": [
        "clap = ['3', '6', '9']\n",
        "\n",
        "for i in range(1, 51):\n",
        "  count = 0\n",
        "  for j in str(i):\n",
        "      if j in clap:\n",
        "          count += 1\n",
        "  if count > 0:\n",
        "      i = '짝!' * count\n",
        "  print(i)"
      ],
      "metadata": {
        "colab": {
          "base_uri": "https://localhost:8080/"
        },
        "collapsed": true,
        "id": "pEY7OkCn8dLW",
        "outputId": "5dcfc36e-e41c-43bb-eea2-f8e203cca54a"
      },
      "execution_count": 27,
      "outputs": [
        {
          "output_type": "stream",
          "name": "stdout",
          "text": [
            "1\n",
            "2\n",
            "짝!\n",
            "4\n",
            "5\n",
            "짝!\n",
            "7\n",
            "8\n",
            "짝!\n",
            "10\n",
            "11\n",
            "12\n",
            "짝!\n",
            "14\n",
            "15\n",
            "짝!\n",
            "17\n",
            "18\n",
            "짝!\n",
            "20\n",
            "21\n",
            "22\n",
            "짝!\n",
            "24\n",
            "25\n",
            "짝!\n",
            "27\n",
            "28\n",
            "짝!\n",
            "짝!\n",
            "짝!\n",
            "짝!\n",
            "짝!짝!\n",
            "짝!\n",
            "짝!\n",
            "짝!짝!\n",
            "짝!\n",
            "짝!\n",
            "짝!짝!\n",
            "40\n",
            "41\n",
            "42\n",
            "짝!\n",
            "44\n",
            "45\n",
            "짝!\n",
            "47\n",
            "48\n",
            "짝!\n",
            "50\n"
          ]
        }
      ]
    },
    {
      "cell_type": "code",
      "source": [
        "rank = {'beyonce' : '1', '장원영' : '2', '임영웅' : '3'}\n",
        "name_list = list(rank.keys())\n",
        "name = input('이름은?')\n",
        "while name :\n",
        "    if name in name_list:\n",
        "        print('%s의 등수는 %s'%(name, rank[name]))\n",
        "    else:\n",
        "        print('%s은 없어요.'%name)\n",
        "    break"
      ],
      "metadata": {
        "colab": {
          "base_uri": "https://localhost:8080/"
        },
        "id": "zRCv5FHj9HUN",
        "outputId": "b6847bd2-de3a-4a2b-9b1e-52196cb323e3"
      },
      "execution_count": 31,
      "outputs": [
        {
          "output_type": "stream",
          "name": "stdout",
          "text": [
            "이름은?장원영\n",
            "장원영의 등수는 2\n"
          ]
        }
      ]
    },
    {
      "cell_type": "code",
      "source": [
        "def print_dan(x):\n",
        "\tfor i in list(range(1,10)):\n",
        "\t\tprint (x * i)\n",
        "\n",
        "dan = int(input(\"숫자를 입력하세요\"))2\n",
        "while dan != 0:\n",
        "\tprint_dan(dan)\n",
        "\tdan = int(input())"
      ],
      "metadata": {
        "colab": {
          "base_uri": "https://localhost:8080/",
          "height": 669
        },
        "id": "5Fg4Gva39qBR",
        "outputId": "5b60db7c-acb7-46d2-fce0-6b745813859c"
      },
      "execution_count": 34,
      "outputs": [
        {
          "output_type": "stream",
          "name": "stdout",
          "text": [
            "숫자를 입력하세요1\n",
            "1\n",
            "2\n",
            "3\n",
            "4\n",
            "5\n",
            "6\n",
            "7\n",
            "8\n",
            "9\n",
            "362880\n",
            "362880\n",
            "725760\n",
            "1088640\n",
            "1451520\n",
            "1814400\n",
            "2177280\n",
            "2540160\n",
            "2903040\n",
            "3265920\n"
          ]
        },
        {
          "output_type": "error",
          "ename": "KeyboardInterrupt",
          "evalue": "Interrupted by user",
          "traceback": [
            "\u001b[0;31m---------------------------------------------------------------------------\u001b[0m",
            "\u001b[0;31mKeyboardInterrupt\u001b[0m                         Traceback (most recent call last)",
            "\u001b[0;32m<ipython-input-34-64b22aaf1d0f>\u001b[0m in \u001b[0;36m<cell line: 6>\u001b[0;34m()\u001b[0m\n\u001b[1;32m      6\u001b[0m \u001b[0;32mwhile\u001b[0m \u001b[0mdan\u001b[0m \u001b[0;34m!=\u001b[0m \u001b[0;36m0\u001b[0m\u001b[0;34m:\u001b[0m\u001b[0;34m\u001b[0m\u001b[0;34m\u001b[0m\u001b[0m\n\u001b[1;32m      7\u001b[0m         \u001b[0mprint_dan\u001b[0m\u001b[0;34m(\u001b[0m\u001b[0mdan\u001b[0m\u001b[0;34m)\u001b[0m\u001b[0;34m\u001b[0m\u001b[0;34m\u001b[0m\u001b[0m\n\u001b[0;32m----> 8\u001b[0;31m         \u001b[0mdan\u001b[0m \u001b[0;34m=\u001b[0m \u001b[0mint\u001b[0m\u001b[0;34m(\u001b[0m\u001b[0minput\u001b[0m\u001b[0;34m(\u001b[0m\u001b[0;34m)\u001b[0m\u001b[0;34m)\u001b[0m\u001b[0;34m\u001b[0m\u001b[0;34m\u001b[0m\u001b[0m\n\u001b[0m",
            "\u001b[0;32m/usr/local/lib/python3.10/dist-packages/ipykernel/kernelbase.py\u001b[0m in \u001b[0;36mraw_input\u001b[0;34m(self, prompt)\u001b[0m\n\u001b[1;32m    849\u001b[0m                 \u001b[0;34m\"raw_input was called, but this frontend does not support input requests.\"\u001b[0m\u001b[0;34m\u001b[0m\u001b[0;34m\u001b[0m\u001b[0m\n\u001b[1;32m    850\u001b[0m             )\n\u001b[0;32m--> 851\u001b[0;31m         return self._input_request(str(prompt),\n\u001b[0m\u001b[1;32m    852\u001b[0m             \u001b[0mself\u001b[0m\u001b[0;34m.\u001b[0m\u001b[0m_parent_ident\u001b[0m\u001b[0;34m,\u001b[0m\u001b[0;34m\u001b[0m\u001b[0;34m\u001b[0m\u001b[0m\n\u001b[1;32m    853\u001b[0m             \u001b[0mself\u001b[0m\u001b[0;34m.\u001b[0m\u001b[0m_parent_header\u001b[0m\u001b[0;34m,\u001b[0m\u001b[0;34m\u001b[0m\u001b[0;34m\u001b[0m\u001b[0m\n",
            "\u001b[0;32m/usr/local/lib/python3.10/dist-packages/ipykernel/kernelbase.py\u001b[0m in \u001b[0;36m_input_request\u001b[0;34m(self, prompt, ident, parent, password)\u001b[0m\n\u001b[1;32m    893\u001b[0m             \u001b[0;32mexcept\u001b[0m \u001b[0mKeyboardInterrupt\u001b[0m\u001b[0;34m:\u001b[0m\u001b[0;34m\u001b[0m\u001b[0;34m\u001b[0m\u001b[0m\n\u001b[1;32m    894\u001b[0m                 \u001b[0;31m# re-raise KeyboardInterrupt, to truncate traceback\u001b[0m\u001b[0;34m\u001b[0m\u001b[0;34m\u001b[0m\u001b[0m\n\u001b[0;32m--> 895\u001b[0;31m                 \u001b[0;32mraise\u001b[0m \u001b[0mKeyboardInterrupt\u001b[0m\u001b[0;34m(\u001b[0m\u001b[0;34m\"Interrupted by user\"\u001b[0m\u001b[0;34m)\u001b[0m \u001b[0;32mfrom\u001b[0m \u001b[0;32mNone\u001b[0m\u001b[0;34m\u001b[0m\u001b[0;34m\u001b[0m\u001b[0m\n\u001b[0m\u001b[1;32m    896\u001b[0m             \u001b[0;32mexcept\u001b[0m \u001b[0mException\u001b[0m \u001b[0;32mas\u001b[0m \u001b[0me\u001b[0m\u001b[0;34m:\u001b[0m\u001b[0;34m\u001b[0m\u001b[0;34m\u001b[0m\u001b[0m\n\u001b[1;32m    897\u001b[0m                 \u001b[0mself\u001b[0m\u001b[0;34m.\u001b[0m\u001b[0mlog\u001b[0m\u001b[0;34m.\u001b[0m\u001b[0mwarning\u001b[0m\u001b[0;34m(\u001b[0m\u001b[0;34m\"Invalid Message:\"\u001b[0m\u001b[0;34m,\u001b[0m \u001b[0mexc_info\u001b[0m\u001b[0;34m=\u001b[0m\u001b[0;32mTrue\u001b[0m\u001b[0;34m)\u001b[0m\u001b[0;34m\u001b[0m\u001b[0;34m\u001b[0m\u001b[0m\n",
            "\u001b[0;31mKeyboardInterrupt\u001b[0m: Interrupted by user"
          ]
        }
      ]
    },
    {
      "cell_type": "code",
      "source": [
        "def lotto_generator(x):\n",
        "\timport random\n",
        "\tvalist = list(range(1,46))\n",
        "\tlottery_nums = []\n",
        "\tfor i in range(6):\n",
        "\t\trandom.shuffle(valist)\n",
        "\t\tval  = random.choice(valist)\n",
        "\t\tlottery_nums.append(val)\n",
        "\tprint(\"\\n%s회 :\" % x , end = \" \")\n",
        "\tfor i in lottery_nums:\n",
        "\t\tprint(i,end = \" \")\n",
        "\treturn lottery_nums\n",
        "\n",
        "def lotto_stat(x):\n",
        "    results = {}\n",
        "    for i in range(1,46):\n",
        "        results[i] = 0\n",
        "    for i in range(1,x+1):\n",
        "        lottery_nums = lotto_generator(i)\n",
        "        for i in lottery_nums:\n",
        "            results[i] = results[i] + 1\n",
        "    print(\"\\n\")\n",
        "    for i in results.keys():\n",
        "        print(\"%s : %d회\" % (i,results[i]))\n",
        "    return results\n",
        "\n",
        "\n",
        "results = lotto_stat(30)\n",
        "\n",
        "this_nums = sorted(results, key= lambda c :results[c], reverse=True)[:6]\n",
        "\n",
        "print(\"이 주의 로또 번호 :\",end = \" \")\n",
        "for i in this_nums:\n",
        "    print(i, end = \" \")"
      ],
      "metadata": {
        "colab": {
          "base_uri": "https://localhost:8080/"
        },
        "id": "ngYpj0wk9qFL",
        "outputId": "dce4cab3-c4cf-4bcf-f47e-40bf9c412848"
      },
      "execution_count": 35,
      "outputs": [
        {
          "output_type": "stream",
          "name": "stdout",
          "text": [
            "\n",
            "1회 : 42 25 15 31 37 4 \n",
            "2회 : 12 2 34 30 3 44 \n",
            "3회 : 40 4 22 23 26 21 \n",
            "4회 : 31 14 39 10 33 4 \n",
            "5회 : 23 12 15 31 5 3 \n",
            "6회 : 23 8 34 17 38 7 \n",
            "7회 : 39 4 10 37 15 40 \n",
            "8회 : 13 44 14 28 23 3 \n",
            "9회 : 3 34 7 9 36 35 \n",
            "10회 : 19 9 1 42 18 41 \n",
            "11회 : 19 13 17 13 36 33 \n",
            "12회 : 2 28 38 43 16 20 \n",
            "13회 : 3 4 34 28 8 42 \n",
            "14회 : 3 3 2 39 40 2 \n",
            "15회 : 17 29 5 36 13 34 \n",
            "16회 : 1 18 34 19 31 21 \n",
            "17회 : 3 42 16 43 1 21 \n",
            "18회 : 24 7 1 17 19 3 \n",
            "19회 : 40 27 31 15 44 9 \n",
            "20회 : 22 24 25 36 31 15 \n",
            "21회 : 20 2 16 31 6 29 \n",
            "22회 : 33 27 14 3 6 29 \n",
            "23회 : 34 37 33 26 4 12 \n",
            "24회 : 24 24 19 39 20 16 \n",
            "25회 : 15 6 26 38 32 20 \n",
            "26회 : 3 28 30 11 1 27 \n",
            "27회 : 38 21 1 30 11 34 \n",
            "28회 : 30 40 29 44 3 41 \n",
            "29회 : 13 16 6 43 44 15 \n",
            "30회 : 34 38 14 28 39 29 \n",
            "\n",
            "1 : 6회\n",
            "2 : 5회\n",
            "3 : 12회\n",
            "4 : 6회\n",
            "5 : 2회\n",
            "6 : 4회\n",
            "7 : 3회\n",
            "8 : 2회\n",
            "9 : 3회\n",
            "10 : 2회\n",
            "11 : 2회\n",
            "12 : 3회\n",
            "13 : 5회\n",
            "14 : 4회\n",
            "15 : 7회\n",
            "16 : 5회\n",
            "17 : 4회\n",
            "18 : 2회\n",
            "19 : 5회\n",
            "20 : 4회\n",
            "21 : 4회\n",
            "22 : 2회\n",
            "23 : 4회\n",
            "24 : 4회\n",
            "25 : 2회\n",
            "26 : 3회\n",
            "27 : 3회\n",
            "28 : 5회\n",
            "29 : 5회\n",
            "30 : 4회\n",
            "31 : 7회\n",
            "32 : 1회\n",
            "33 : 4회\n",
            "34 : 9회\n",
            "35 : 1회\n",
            "36 : 4회\n",
            "37 : 3회\n",
            "38 : 5회\n",
            "39 : 5회\n",
            "40 : 5회\n",
            "41 : 2회\n",
            "42 : 4회\n",
            "43 : 3회\n",
            "44 : 5회\n",
            "45 : 0회\n",
            "이 주의 로또 번호 : 3 34 15 31 1 4 "
          ]
        }
      ]
    }
  ]
}