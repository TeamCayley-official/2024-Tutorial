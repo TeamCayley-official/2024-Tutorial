{
 "cells": [
  {
   "cell_type": "code",
   "execution_count": null,
   "metadata": {},
   "outputs": [],
   "source": [
    "# 6장"
   ]
  },
  {
   "cell_type": "code",
   "execution_count": 1,
   "metadata": {},
   "outputs": [
    {
     "name": "stdout",
     "output_type": "stream",
     "text": [
      "apple\n",
      "banana\n",
      "orange\n"
     ]
    }
   ],
   "source": [
    "fruits = ['apple', 'banana', 'orange']\n",
    "for fruit in fruits:\n",
    "    print(fruit)"
   ]
  },
  {
   "cell_type": "code",
   "execution_count": 2,
   "metadata": {},
   "outputs": [
    {
     "name": "stdout",
     "output_type": "stream",
     "text": [
      "apple\n",
      "banana\n",
      "orange\n"
     ]
    }
   ],
   "source": [
    "fruits = (\"apple\", \"banana\", \"orange\")\n",
    "for fruit in fruits:\n",
    "    print(fruit)\n"
   ]
  },
  {
   "cell_type": "code",
   "execution_count": 3,
   "metadata": {},
   "outputs": [
    {
     "name": "stdout",
     "output_type": "stream",
     "text": [
      "파\n",
      "이\n",
      "썬\n",
      " \n",
      "공\n",
      "부\n",
      "는\n",
      " \n",
      "재\n",
      "밌\n",
      "다\n",
      "!\n"
     ]
    }
   ],
   "source": [
    "ex = \"파이썬 공부는 재밌다!\"\n",
    "for i in ex:\n",
    "    print(i)"
   ]
  },
  {
   "cell_type": "code",
   "execution_count": 8,
   "metadata": {},
   "outputs": [
    {
     "name": "stdout",
     "output_type": "stream",
     "text": [
      "1 * 1 = 1\n",
      "1 * 2 = 2\n",
      "1 * 3 = 3\n",
      "1 * 4 = 4\n",
      "1 * 5 = 5\n",
      "1 * 6 = 6\n",
      "1 * 7 = 7\n",
      "1 * 8 = 8\n",
      "1 * 9 = 9\n",
      "===1단 끝!===\n",
      "2 * 1 = 2\n",
      "2 * 2 = 4\n",
      "2 * 3 = 6\n",
      "2 * 4 = 8\n",
      "2 * 5 = 10\n",
      "2 * 6 = 12\n",
      "2 * 7 = 14\n",
      "2 * 8 = 16\n",
      "2 * 9 = 18\n",
      "===2단 끝!===\n",
      "3 * 1 = 3\n",
      "3 * 2 = 6\n",
      "3 * 3 = 9\n",
      "3 * 4 = 12\n",
      "3 * 5 = 15\n",
      "3 * 6 = 18\n",
      "3 * 7 = 21\n",
      "3 * 8 = 24\n",
      "3 * 9 = 27\n",
      "===3단 끝!===\n",
      "4 * 1 = 4\n",
      "4 * 2 = 8\n",
      "4 * 3 = 12\n",
      "4 * 4 = 16\n",
      "4 * 5 = 20\n",
      "4 * 6 = 24\n",
      "4 * 7 = 28\n",
      "4 * 8 = 32\n",
      "4 * 9 = 36\n",
      "===4단 끝!===\n",
      "5 * 1 = 5\n",
      "5 * 2 = 10\n",
      "5 * 3 = 15\n",
      "5 * 4 = 20\n",
      "5 * 5 = 25\n",
      "5 * 6 = 30\n",
      "5 * 7 = 35\n",
      "5 * 8 = 40\n",
      "5 * 9 = 45\n",
      "===5단 끝!===\n",
      "6 * 1 = 6\n",
      "6 * 2 = 12\n",
      "6 * 3 = 18\n",
      "6 * 4 = 24\n",
      "6 * 5 = 30\n",
      "6 * 6 = 36\n",
      "6 * 7 = 42\n",
      "6 * 8 = 48\n",
      "6 * 9 = 54\n",
      "===6단 끝!===\n",
      "7 * 1 = 7\n",
      "7 * 2 = 14\n",
      "7 * 3 = 21\n",
      "7 * 4 = 28\n",
      "7 * 5 = 35\n",
      "7 * 6 = 42\n",
      "7 * 7 = 49\n",
      "7 * 8 = 56\n",
      "7 * 9 = 63\n",
      "===7단 끝!===\n",
      "8 * 1 = 8\n",
      "8 * 2 = 16\n",
      "8 * 3 = 24\n",
      "8 * 4 = 32\n",
      "8 * 5 = 40\n",
      "8 * 6 = 48\n",
      "8 * 7 = 56\n",
      "8 * 8 = 64\n",
      "8 * 9 = 72\n",
      "===8단 끝!===\n",
      "9 * 1 = 9\n",
      "9 * 2 = 18\n",
      "9 * 3 = 27\n",
      "9 * 4 = 36\n",
      "9 * 5 = 45\n",
      "9 * 6 = 54\n",
      "9 * 7 = 63\n",
      "9 * 8 = 72\n",
      "9 * 9 = 81\n",
      "===9단 끝!===\n",
      "구구단 1단부터 9단까지 끝!\n"
     ]
    }
   ],
   "source": [
    "for a in range(1, 10):\n",
    "    for b in range(1, 10):\n",
    "        print('%d * %d = %d'%(a, b, a * b))\n",
    "    print('===%d단 끝!==='%(a))\n",
    "print('구구단 1단부터 9단까지 끝!')\n",
    "        "
   ]
  },
  {
   "cell_type": "code",
   "execution_count": 9,
   "metadata": {},
   "outputs": [
    {
     "name": "stdout",
     "output_type": "stream",
     "text": [
      "29\n",
      "28\n",
      "27\n",
      "26\n",
      "25\n"
     ]
    }
   ],
   "source": [
    "#1\n",
    "num = 30\n",
    "while num <= 30:\n",
    "    num -= 1\n",
    "    print(num)\n",
    "    if num % 5 == 0:\n",
    "        break  "
   ]
  },
  {
   "cell_type": "code",
   "execution_count": 10,
   "metadata": {},
   "outputs": [
    {
     "name": "stdout",
     "output_type": "stream",
     "text": [
      "2550\n"
     ]
    }
   ],
   "source": [
    "#2\n",
    "sum = 0\n",
    "for i in range(2, 101, 2):\n",
    "    sum += i\n",
    "print(sum)"
   ]
  },
  {
   "cell_type": "code",
   "execution_count": 2,
   "metadata": {},
   "outputs": [
    {
     "name": "stdout",
     "output_type": "stream",
     "text": [
      "드래곤후르츠: 6글자\n"
     ]
    }
   ],
   "source": [
    "#3\n",
    "fruits = ['사과', '오렌지', '파인애플', '귤', '천도복숭아', '리치', '코코넛', '샤인머스켓', '드래곤후르츠', '한라봉', '감']\n",
    "name_len=[]\n",
    "for i in fruits:\n",
    "    a = len(i)\n",
    "    name_len.append(a)\n",
    "index_num = name_len.index(max(name_len))\n",
    "print('{0}: {1}글자'.format(fruits[index_num],max(name_len)))"
   ]
  },
  {
   "cell_type": "code",
   "execution_count": 16,
   "metadata": {},
   "outputs": [
    {
     "name": "stdout",
     "output_type": "stream",
     "text": [
      "1 * 1 = 1\n",
      "1 * 2 = 2\n",
      "1 * 3 = 3\n",
      "1 * 4 = 4\n",
      "1 * 5 = 5\n",
      "1 * 6 = 6\n",
      "1 * 7 = 7\n",
      "1 * 8 = 8\n",
      "1 * 9 = 9\n",
      "===1단 끝!===\n",
      "2 * 1 = 2\n",
      "2 * 2 = 4\n",
      "2 * 3 = 6\n",
      "2 * 4 = 8\n",
      "2 * 5 = 10\n",
      "2 * 6 = 12\n",
      "2 * 7 = 14\n",
      "2 * 8 = 16\n",
      "2 * 9 = 18\n",
      "===2단 끝!===\n",
      "3 * 1 = 3\n",
      "3 * 2 = 6\n",
      "3 * 3 = 9\n",
      "3 * 4 = 12\n",
      "3 * 5 = 15\n",
      "3 * 6 = 18\n",
      "3 * 7 = 21\n",
      "3 * 8 = 24\n",
      "3 * 9 = 27\n",
      "===3단 끝!===\n",
      "4 * 1 = 4\n",
      "4 * 2 = 8\n",
      "4 * 3 = 12\n",
      "4 * 4 = 16\n",
      "4 * 5 = 20\n",
      "4 * 6 = 24\n",
      "4 * 7 = 28\n",
      "4 * 8 = 32\n",
      "4 * 9 = 36\n",
      "===4단 끝!===\n",
      "5 * 1 = 5\n",
      "5 * 2 = 10\n",
      "5 * 3 = 15\n",
      "5 * 4 = 20\n",
      "5 * 5 = 25\n",
      "5 * 6 = 30\n",
      "5 * 7 = 35\n",
      "5 * 8 = 40\n",
      "5 * 9 = 45\n",
      "===5단 끝!===\n",
      "6 * 1 = 6\n",
      "6 * 2 = 12\n",
      "6 * 3 = 18\n",
      "6 * 4 = 24\n",
      "6 * 5 = 30\n",
      "6 * 6 = 36\n",
      "6 * 7 = 42\n",
      "6 * 8 = 48\n",
      "6 * 9 = 54\n",
      "===6단 끝!===\n",
      "7 * 1 = 7\n",
      "7 * 2 = 14\n",
      "7 * 3 = 21\n",
      "7 * 4 = 28\n",
      "7 * 5 = 35\n",
      "7 * 6 = 42\n",
      "7 * 7 = 49\n",
      "7 * 8 = 56\n",
      "7 * 9 = 63\n",
      "===7단 끝!===\n",
      "8 * 1 = 8\n",
      "8 * 2 = 16\n",
      "8 * 3 = 24\n",
      "8 * 4 = 32\n",
      "8 * 5 = 40\n",
      "8 * 6 = 48\n",
      "8 * 7 = 56\n",
      "8 * 8 = 64\n",
      "8 * 9 = 72\n",
      "===8단 끝!===\n",
      "9 * 1 = 9\n",
      "9 * 2 = 18\n",
      "9 * 3 = 27\n",
      "9 * 4 = 36\n",
      "9 * 5 = 45\n",
      "9 * 6 = 54\n",
      "9 * 7 = 63\n",
      "9 * 8 = 72\n",
      "9 * 9 = 81\n",
      "===9단 끝!===\n",
      "구구단 1단부터 9단까지 끝!\n"
     ]
    }
   ],
   "source": [
    "#4\n",
    "num1 = 0\n",
    "while num1 <= 8:\n",
    "    num1 += 1\n",
    "    num2 = 1 \n",
    "    while num2 <= 9:\n",
    "        print('%d * %d = %d'%(num1, num2, num1 * num2))\n",
    "        num2 += 1 \n",
    "    print('===%d단 끝!==='%(num1))\n",
    "print('구구단 1단부터 9단까지 끝!')"
   ]
  },
  {
   "cell_type": "code",
   "execution_count": 6,
   "metadata": {},
   "outputs": [
    {
     "name": "stdout",
     "output_type": "stream",
     "text": [
      "1\n",
      "2\n",
      "짝!\n",
      "4\n",
      "5\n",
      "짝!\n",
      "7\n",
      "8\n",
      "짝!\n",
      "10\n",
      "11\n",
      "12\n",
      "짝!\n",
      "14\n",
      "15\n",
      "짝!\n",
      "17\n",
      "18\n",
      "짝!\n",
      "20\n",
      "21\n",
      "22\n",
      "짝!\n",
      "24\n",
      "25\n",
      "짝!\n",
      "27\n",
      "28\n",
      "짝!\n",
      "짝!\n",
      "짝!\n",
      "짝!\n",
      "짝!짝!\n",
      "짝!\n",
      "짝!\n",
      "짝!짝!\n",
      "짝!\n",
      "짝!\n",
      "짝!짝!\n",
      "40\n",
      "41\n",
      "42\n",
      "짝!\n",
      "44\n",
      "45\n",
      "짝!\n",
      "47\n",
      "48\n",
      "짝!\n",
      "50\n"
     ]
    }
   ],
   "source": [
    "#5\n",
    "clap = ['3', '6', '9']\n",
    "for i in range(1, 51):\n",
    "    count = 0\n",
    "    for j in str(i):\n",
    "        if j in clap:\n",
    "            count += 1\n",
    "    if count > 0:\n",
    "        i = '짝!' * count\n",
    "    print(i)"
   ]
  },
  {
   "cell_type": "code",
   "execution_count": 17,
   "metadata": {},
   "outputs": [],
   "source": [
    "#6\n",
    "rank = {'beyonce' : '1', '장원영' : '2', '임영웅' : '3'}\n",
    "name_list = list(rank.keys())\n",
    "name = input('이름은?')\n",
    "while name :\n",
    "    if name in name_list:\n",
    "        print('%s의 등수는 %s'%(name, rank[name]))\n",
    "    else:\n",
    "        print('%s은 없어요.'%name)\n",
    "    break\n"
   ]
  },
  {
   "cell_type": "code",
   "execution_count": null,
   "metadata": {},
   "outputs": [],
   "source": [
    "#7장"
   ]
  },
  {
   "cell_type": "code",
   "execution_count": 3,
   "metadata": {},
   "outputs": [],
   "source": [
    "#1\n",
    "def print_dan(a):\n",
    "    for i in range(1,10):\n",
    "        print(a * i)\n",
    "dan = int(input('숫자를 입력하세요.'))\n",
    "print_dan(dan)"
   ]
  },
  {
   "cell_type": "code",
   "execution_count": 2,
   "metadata": {},
   "outputs": [
    {
     "name": "stdout",
     "output_type": "stream",
     "text": [
      "\n",
      "1회 : 31 24 19 2 1 11 \n",
      "2회 : 25 4 28 15 3 27 \n",
      "3회 : 11 19 25 11 38 8 \n",
      "4회 : 2 21 7 4 19 26 \n",
      "5회 : 13 24 18 14 8 8 \n",
      "6회 : 43 45 23 16 38 12 \n",
      "7회 : 24 16 5 4 9 40 \n",
      "8회 : 30 13 11 32 25 23 \n",
      "9회 : 39 27 29 35 2 40 \n",
      "10회 : 9 28 3 14 23 22 \n",
      "11회 : 7 2 3 24 40 8 \n",
      "12회 : 6 13 3 10 13 4 \n",
      "13회 : 11 3 38 11 40 44 \n",
      "14회 : 33 26 42 32 29 1 \n",
      "15회 : 12 4 39 20 13 36 \n",
      "16회 : 20 38 15 6 37 14 \n",
      "17회 : 33 8 1 42 27 43 \n",
      "18회 : 26 15 41 13 2 23 \n",
      "19회 : 45 20 5 34 1 36 \n",
      "20회 : 25 23 24 10 18 29 \n",
      "21회 : 37 39 44 30 44 43 \n",
      "22회 : 29 43 7 23 22 6 \n",
      "23회 : 45 33 21 17 9 36 \n",
      "24회 : 37 41 8 36 36 27 \n",
      "25회 : 10 34 3 17 45 28 \n",
      "26회 : 8 1 45 34 4 25 \n",
      "27회 : 30 43 20 8 1 2 \n",
      "28회 : 22 36 6 22 41 4 \n",
      "29회 : 37 16 4 36 27 44 \n",
      "30회 : 22 44 41 31 27 20 \n",
      "\n",
      "1 : 6회\n",
      "2 : 6회\n",
      "3 : 6회\n",
      "4 : 8회\n",
      "5 : 2회\n",
      "6 : 4회\n",
      "7 : 3회\n",
      "8 : 8회\n",
      "9 : 3회\n",
      "10 : 3회\n",
      "11 : 6회\n",
      "12 : 2회\n",
      "13 : 6회\n",
      "14 : 3회\n",
      "15 : 3회\n",
      "16 : 3회\n",
      "17 : 2회\n",
      "18 : 2회\n",
      "19 : 3회\n",
      "20 : 5회\n",
      "21 : 2회\n",
      "22 : 5회\n",
      "23 : 6회\n",
      "24 : 5회\n",
      "25 : 5회\n",
      "26 : 3회\n",
      "27 : 6회\n",
      "28 : 3회\n",
      "29 : 4회\n",
      "30 : 3회\n",
      "31 : 2회\n",
      "32 : 2회\n",
      "33 : 3회\n",
      "34 : 3회\n",
      "35 : 1회\n",
      "36 : 7회\n",
      "37 : 4회\n",
      "38 : 4회\n",
      "39 : 3회\n",
      "40 : 4회\n",
      "41 : 4회\n",
      "42 : 2회\n",
      "43 : 5회\n",
      "44 : 5회\n",
      "45 : 5회\n",
      "이 주의 로또 번호 : 4 8 36 1 2 3 "
     ]
    }
   ],
   "source": [
    "#2\n",
    "import random\n",
    "def lotto_generator(x):\n",
    "\tvalist = list(range(1,46))\n",
    "\tlotto_nums = []\n",
    "\tfor i in range(6):\n",
    "\t\trandom.shuffle(valist)\n",
    "\t\tval  = random.choice(valist)\n",
    "\t\tlotto_nums.append(val)\n",
    "\tprint(\"\\n%s회 :\" % x , end = \" \")\n",
    "\tfor i in lotto_nums:\n",
    "\t\tprint(i,end = \" \")\n",
    "\treturn lotto_nums\n",
    "\n",
    "def lotto_stat(x):\n",
    "    results = {}\n",
    "    for i in range(1,46):\n",
    "        results[i] = 0\n",
    "    for i in range(1,x+1):\n",
    "        lotto_nums = lotto_generator(i)\n",
    "        for i in lotto_nums:\n",
    "            results[i] = results[i] + 1\n",
    "    print(\"\\n\")\n",
    "    for i in results.keys():\n",
    "        print(\"%s : %d회\" % (i,results[i]))\n",
    "    return results\n",
    "\n",
    "results = lotto_stat(30) \n",
    "this_nums = sorted(results, key= lambda c :results[c], reverse=True)[:6]\n",
    "print(\"이 주의 로또 번호 :\",end = \" \")\n",
    "for i in this_nums:\n",
    "    print(i, end = \" \")\n"
   ]
  }
 ],
 "metadata": {
  "kernelspec": {
   "display_name": "Python 3",
   "language": "python",
   "name": "python3"
  },
  "language_info": {
   "codemirror_mode": {
    "name": "ipython",
    "version": 3
   },
   "file_extension": ".py",
   "mimetype": "text/x-python",
   "name": "python",
   "nbconvert_exporter": "python",
   "pygments_lexer": "ipython3",
   "version": "3.12.3"
  }
 },
 "nbformat": 4,
 "nbformat_minor": 2
}
