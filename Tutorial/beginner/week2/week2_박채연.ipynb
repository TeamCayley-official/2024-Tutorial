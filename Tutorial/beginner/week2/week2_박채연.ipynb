{
  "nbformat": 4,
  "nbformat_minor": 0,
  "metadata": {
    "colab": {
      "provenance": []
    },
    "kernelspec": {
      "name": "python3",
      "display_name": "Python 3"
    },
    "language_info": {
      "name": "python"
    }
  },
  "cells": [
    {
      "cell_type": "code",
      "execution_count": null,
      "metadata": {
        "colab": {
          "base_uri": "https://localhost:8080/"
        },
        "id": "aGkuDBnYkZhb",
        "outputId": "bf0f5bfa-dd29-4cd1-8258-ef0e04b38d25"
      },
      "outputs": [
        {
          "output_type": "stream",
          "name": "stdout",
          "text": [
            "학점: B+\n"
          ]
        }
      ],
      "source": [
        "score = 3.5\n",
        "if score > 4.0:\n",
        "    print('학점: A+')\n",
        "elif  3.5 < score <= 4.0:\n",
        "    print('학점: A')\n",
        "elif  3 < score <= 3.5:\n",
        "    print('학점: B+')\n",
        "else:\n",
        "    print('None')"
      ]
    },
    {
      "cell_type": "code",
      "source": [
        "score = 3.5\n",
        "if score > 4.0:\n",
        "    print('학점: A+')\n",
        "elif  (score <= 4.0) and (score > 3.5):\n",
        "    print('학점: A')\n",
        "elif  (score <= 3.5) and (score > 3.0):\n",
        "    print('학점: B+')\n",
        "else:\n",
        "    print('None')"
      ],
      "metadata": {
        "colab": {
          "base_uri": "https://localhost:8080/"
        },
        "id": "_l3zWq_3wDP5",
        "outputId": "d0265158-59e0-4560-8f4f-30f220f1e880"
      },
      "execution_count": null,
      "outputs": [
        {
          "output_type": "stream",
          "name": "stdout",
          "text": [
            "학점: B+\n"
          ]
        }
      ]
    },
    {
      "cell_type": "code",
      "source": [
        "a = [1, 2, 3]\n",
        "if 1 in a:\n",
        "    print('1은 a에 포함함')\n",
        "else:\n",
        "    print('1은 a에 포함하지 않음')"
      ],
      "metadata": {
        "colab": {
          "base_uri": "https://localhost:8080/"
        },
        "id": "7-wnI1gCwJ-a",
        "outputId": "238b3c7e-b112-4403-ded7-fc48ad07f18f"
      },
      "execution_count": null,
      "outputs": [
        {
          "output_type": "stream",
          "name": "stdout",
          "text": [
            "1은 a에 포함함\n"
          ]
        }
      ]
    },
    {
      "cell_type": "code",
      "source": [
        "a = [1, 2, 3]\n",
        "if 1 not in a:\n",
        "    pass\n",
        "else:\n",
        "    print('1은 a에 포함함')"
      ],
      "metadata": {
        "colab": {
          "base_uri": "https://localhost:8080/"
        },
        "id": "0R2-4MOKwTgp",
        "outputId": "d3e77cea-866d-4d62-80b6-79acce13bcb2"
      },
      "execution_count": null,
      "outputs": [
        {
          "output_type": "stream",
          "name": "stdout",
          "text": [
            "1은 a에 포함함\n"
          ]
        }
      ]
    },
    {
      "cell_type": "code",
      "source": [
        "fruits = ['apple', 'banana', 'orange']\n",
        "for fruit in fruits:\n",
        "    print(fruit)"
      ],
      "metadata": {
        "colab": {
          "base_uri": "https://localhost:8080/"
        },
        "id": "svP-uM020FXt",
        "outputId": "f5b2b6ea-d3aa-4984-dfd6-3bb1ebbf3046"
      },
      "execution_count": null,
      "outputs": [
        {
          "output_type": "stream",
          "name": "stdout",
          "text": [
            "apple\n",
            "banana\n",
            "orange\n"
          ]
        }
      ]
    },
    {
      "cell_type": "code",
      "source": [
        "fruits  = (\"apple\",  \"banana\",  \"orange\")\n",
        "for fruit in fruits:\n",
        "    print(fruit)"
      ],
      "metadata": {
        "colab": {
          "base_uri": "https://localhost:8080/"
        },
        "id": "Kcemtnja0KhD",
        "outputId": "dad30439-e22b-4c5b-b8bc-bb3cd9a5f303"
      },
      "execution_count": null,
      "outputs": [
        {
          "output_type": "stream",
          "name": "stdout",
          "text": [
            "apple\n",
            "banana\n",
            "orange\n"
          ]
        }
      ]
    },
    {
      "cell_type": "code",
      "source": [
        "ex = \"파이썬 공부는 재밌다!\"\n",
        "for i in ex:\n",
        "    print(i)"
      ],
      "metadata": {
        "colab": {
          "base_uri": "https://localhost:8080/"
        },
        "id": "Cmg2g5De0Nqk",
        "outputId": "9c3a9b4a-4b59-4a23-99f9-8858a254329d"
      },
      "execution_count": null,
      "outputs": [
        {
          "output_type": "stream",
          "name": "stdout",
          "text": [
            "파\n",
            "이\n",
            "썬\n",
            " \n",
            "공\n",
            "부\n",
            "는\n",
            " \n",
            "재\n",
            "밌\n",
            "다\n",
            "!\n"
          ]
        }
      ]
    },
    {
      "cell_type": "code",
      "source": [
        "for a in  range(1,  10):\n",
        "    for b in  range(1,  10):\n",
        "        print('%d * %d = %d'%(a, b, a * b))\n",
        "    print('===%d단 끝!==='%(a))\n",
        "print('구구단 1단 부터 9단까지 끝!')"
      ],
      "metadata": {
        "colab": {
          "base_uri": "https://localhost:8080/"
        },
        "id": "P_PPwXRV0uAd",
        "outputId": "bcf0f7a1-6ece-4c77-d418-3f1677f22a5e"
      },
      "execution_count": null,
      "outputs": [
        {
          "output_type": "stream",
          "name": "stdout",
          "text": [
            "1 * 1 = 1\n",
            "1 * 2 = 2\n",
            "1 * 3 = 3\n",
            "1 * 4 = 4\n",
            "1 * 5 = 5\n",
            "1 * 6 = 6\n",
            "1 * 7 = 7\n",
            "1 * 8 = 8\n",
            "1 * 9 = 9\n",
            "===1단 끝!===\n",
            "2 * 1 = 2\n",
            "2 * 2 = 4\n",
            "2 * 3 = 6\n",
            "2 * 4 = 8\n",
            "2 * 5 = 10\n",
            "2 * 6 = 12\n",
            "2 * 7 = 14\n",
            "2 * 8 = 16\n",
            "2 * 9 = 18\n",
            "===2단 끝!===\n",
            "3 * 1 = 3\n",
            "3 * 2 = 6\n",
            "3 * 3 = 9\n",
            "3 * 4 = 12\n",
            "3 * 5 = 15\n",
            "3 * 6 = 18\n",
            "3 * 7 = 21\n",
            "3 * 8 = 24\n",
            "3 * 9 = 27\n",
            "===3단 끝!===\n",
            "4 * 1 = 4\n",
            "4 * 2 = 8\n",
            "4 * 3 = 12\n",
            "4 * 4 = 16\n",
            "4 * 5 = 20\n",
            "4 * 6 = 24\n",
            "4 * 7 = 28\n",
            "4 * 8 = 32\n",
            "4 * 9 = 36\n",
            "===4단 끝!===\n",
            "5 * 1 = 5\n",
            "5 * 2 = 10\n",
            "5 * 3 = 15\n",
            "5 * 4 = 20\n",
            "5 * 5 = 25\n",
            "5 * 6 = 30\n",
            "5 * 7 = 35\n",
            "5 * 8 = 40\n",
            "5 * 9 = 45\n",
            "===5단 끝!===\n",
            "6 * 1 = 6\n",
            "6 * 2 = 12\n",
            "6 * 3 = 18\n",
            "6 * 4 = 24\n",
            "6 * 5 = 30\n",
            "6 * 6 = 36\n",
            "6 * 7 = 42\n",
            "6 * 8 = 48\n",
            "6 * 9 = 54\n",
            "===6단 끝!===\n",
            "7 * 1 = 7\n",
            "7 * 2 = 14\n",
            "7 * 3 = 21\n",
            "7 * 4 = 28\n",
            "7 * 5 = 35\n",
            "7 * 6 = 42\n",
            "7 * 7 = 49\n",
            "7 * 8 = 56\n",
            "7 * 9 = 63\n",
            "===7단 끝!===\n",
            "8 * 1 = 8\n",
            "8 * 2 = 16\n",
            "8 * 3 = 24\n",
            "8 * 4 = 32\n",
            "8 * 5 = 40\n",
            "8 * 6 = 48\n",
            "8 * 7 = 56\n",
            "8 * 8 = 64\n",
            "8 * 9 = 72\n",
            "===8단 끝!===\n",
            "9 * 1 = 9\n",
            "9 * 2 = 18\n",
            "9 * 3 = 27\n",
            "9 * 4 = 36\n",
            "9 * 5 = 45\n",
            "9 * 6 = 54\n",
            "9 * 7 = 63\n",
            "9 * 8 = 72\n",
            "9 * 9 = 81\n",
            "===9단 끝!===\n",
            "구구단 1단 부터 9단까지 끝!\n"
          ]
        }
      ]
    },
    {
      "cell_type": "code",
      "source": [
        "n = 30\n",
        "while n <= 30:\n",
        "  n -= 1\n",
        "  print(n)\n",
        "  if n % 5 ==0:\n",
        "    break"
      ],
      "metadata": {
        "colab": {
          "base_uri": "https://localhost:8080/"
        },
        "id": "RQChRBty1I_P",
        "outputId": "f17013d1-84a0-4936-b7bf-5ce4494f533e"
      },
      "execution_count": null,
      "outputs": [
        {
          "output_type": "stream",
          "name": "stdout",
          "text": [
            "29\n",
            "28\n",
            "27\n",
            "26\n",
            "25\n"
          ]
        }
      ]
    },
    {
      "cell_type": "code",
      "source": [
        "sum = 0\n",
        "for i in range(2, 101, 2):\n",
        "  sum += i\n",
        "print(sum)"
      ],
      "metadata": {
        "colab": {
          "base_uri": "https://localhost:8080/"
        },
        "id": "IH_xy0wX2LOM",
        "outputId": "24a6c0a4-eeed-4d2e-db6a-c85c083b4daf"
      },
      "execution_count": null,
      "outputs": [
        {
          "output_type": "stream",
          "name": "stdout",
          "text": [
            "2550\n"
          ]
        }
      ]
    },
    {
      "cell_type": "code",
      "source": [
        "fruits = ['사과', '오렌지', '파인애플', '귤', '천도복숭아', '리치', '코코넛', '샤인머스켓', '드래곤후르츠', '한라봉', '감']\n",
        "name_len=[]\n",
        "for i in fruits:\n",
        "  a = len(i)\n",
        "  name_len.append(a)\n",
        "index_num = name_len.index(max(name_len))\n",
        "print('{0}: {1}글자'.format(fruits[index_num], max(name_len)))"
      ],
      "metadata": {
        "colab": {
          "base_uri": "https://localhost:8080/"
        },
        "id": "I-MJh-pP2Y26",
        "outputId": "b6bdd8ea-83ed-4a6d-b3f3-a05eb59cf61c"
      },
      "execution_count": null,
      "outputs": [
        {
          "output_type": "stream",
          "name": "stdout",
          "text": [
            "드래곤후르츠: 6글자\n"
          ]
        }
      ]
    },
    {
      "cell_type": "code",
      "source": [
        "num = 0\n",
        "while num <= 8:\n",
        "  num += 1\n",
        "  num2 = 1\n",
        "  while num2 <=9:\n",
        "    print('%d * %d = %d'%(num, num2, num * num2))\n",
        "    num2 += 1\n",
        "  print('===%d단 끝~==='%(num))\n",
        "print('구구단 완전 끝~~')"
      ],
      "metadata": {
        "colab": {
          "base_uri": "https://localhost:8080/"
        },
        "id": "vhQ9kF-K2jm0",
        "outputId": "879f8154-5f91-4bc9-9cf2-e7f2557106df"
      },
      "execution_count": null,
      "outputs": [
        {
          "output_type": "stream",
          "name": "stdout",
          "text": [
            "1 * 1 = 1\n",
            "1 * 2 = 2\n",
            "1 * 3 = 3\n",
            "1 * 4 = 4\n",
            "1 * 5 = 5\n",
            "1 * 6 = 6\n",
            "1 * 7 = 7\n",
            "1 * 8 = 8\n",
            "1 * 9 = 9\n",
            "===1단 끝~===\n",
            "2 * 1 = 2\n",
            "2 * 2 = 4\n",
            "2 * 3 = 6\n",
            "2 * 4 = 8\n",
            "2 * 5 = 10\n",
            "2 * 6 = 12\n",
            "2 * 7 = 14\n",
            "2 * 8 = 16\n",
            "2 * 9 = 18\n",
            "===2단 끝~===\n",
            "3 * 1 = 3\n",
            "3 * 2 = 6\n",
            "3 * 3 = 9\n",
            "3 * 4 = 12\n",
            "3 * 5 = 15\n",
            "3 * 6 = 18\n",
            "3 * 7 = 21\n",
            "3 * 8 = 24\n",
            "3 * 9 = 27\n",
            "===3단 끝~===\n",
            "4 * 1 = 4\n",
            "4 * 2 = 8\n",
            "4 * 3 = 12\n",
            "4 * 4 = 16\n",
            "4 * 5 = 20\n",
            "4 * 6 = 24\n",
            "4 * 7 = 28\n",
            "4 * 8 = 32\n",
            "4 * 9 = 36\n",
            "===4단 끝~===\n",
            "5 * 1 = 5\n",
            "5 * 2 = 10\n",
            "5 * 3 = 15\n",
            "5 * 4 = 20\n",
            "5 * 5 = 25\n",
            "5 * 6 = 30\n",
            "5 * 7 = 35\n",
            "5 * 8 = 40\n",
            "5 * 9 = 45\n",
            "===5단 끝~===\n",
            "6 * 1 = 6\n",
            "6 * 2 = 12\n",
            "6 * 3 = 18\n",
            "6 * 4 = 24\n",
            "6 * 5 = 30\n",
            "6 * 6 = 36\n",
            "6 * 7 = 42\n",
            "6 * 8 = 48\n",
            "6 * 9 = 54\n",
            "===6단 끝~===\n",
            "7 * 1 = 7\n",
            "7 * 2 = 14\n",
            "7 * 3 = 21\n",
            "7 * 4 = 28\n",
            "7 * 5 = 35\n",
            "7 * 6 = 42\n",
            "7 * 7 = 49\n",
            "7 * 8 = 56\n",
            "7 * 9 = 63\n",
            "===7단 끝~===\n",
            "8 * 1 = 8\n",
            "8 * 2 = 16\n",
            "8 * 3 = 24\n",
            "8 * 4 = 32\n",
            "8 * 5 = 40\n",
            "8 * 6 = 48\n",
            "8 * 7 = 56\n",
            "8 * 8 = 64\n",
            "8 * 9 = 72\n",
            "===8단 끝~===\n",
            "9 * 1 = 9\n",
            "9 * 2 = 18\n",
            "9 * 3 = 27\n",
            "9 * 4 = 36\n",
            "9 * 5 = 45\n",
            "9 * 6 = 54\n",
            "9 * 7 = 63\n",
            "9 * 8 = 72\n",
            "9 * 9 = 81\n",
            "===9단 끝~===\n",
            "구구단 완전 끝~~\n"
          ]
        }
      ]
    },
    {
      "cell_type": "code",
      "source": [
        "박수 = ['3', '6', '9']\n",
        "for i in range(1, 51):\n",
        "  count = 0\n",
        "  for j in str(i):\n",
        "      if j in 박수:\n",
        "          count += 1\n",
        "  if count > 0:\n",
        "      i = '짝!!' * count\n",
        "  print(i)"
      ],
      "metadata": {
        "colab": {
          "base_uri": "https://localhost:8080/"
        },
        "id": "vypWneGE27Bu",
        "outputId": "211152ca-14c6-4f8d-e199-7681cef8f507"
      },
      "execution_count": null,
      "outputs": [
        {
          "output_type": "stream",
          "name": "stdout",
          "text": [
            "1\n",
            "2\n",
            "짝!!\n",
            "4\n",
            "5\n",
            "짝!!\n",
            "7\n",
            "8\n",
            "짝!!\n",
            "10\n",
            "11\n",
            "12\n",
            "짝!!\n",
            "14\n",
            "15\n",
            "짝!!\n",
            "17\n",
            "18\n",
            "짝!!\n",
            "20\n",
            "21\n",
            "22\n",
            "짝!!\n",
            "24\n",
            "25\n",
            "짝!!\n",
            "27\n",
            "28\n",
            "짝!!\n",
            "짝!!\n",
            "짝!!\n",
            "짝!!\n",
            "짝!!짝!!\n",
            "짝!!\n",
            "짝!!\n",
            "짝!!짝!!\n",
            "짝!!\n",
            "짝!!\n",
            "짝!!짝!!\n",
            "40\n",
            "41\n",
            "42\n",
            "짝!!\n",
            "44\n",
            "45\n",
            "짝!!\n",
            "47\n",
            "48\n",
            "짝!!\n",
            "50\n"
          ]
        }
      ]
    },
    {
      "cell_type": "code",
      "source": [
        "rank ={'beyonce': '1', '임영웅':'3', '장원영':'2'}\n",
        "name_list = list(rank.keys())\n",
        "name = input(\"이름은?\")\n",
        "\n",
        "while name:\n",
        "  if name in name_list:\n",
        "    print(name,\"의 등수는 \",rank[name], sep='')\n",
        "\n",
        "  elif name not in name_list:\n",
        "    print(name,\"는(은) 없어요\",sep='')\n",
        "\n",
        "  break"
      ],
      "metadata": {
        "colab": {
          "base_uri": "https://localhost:8080/"
        },
        "id": "GqaEv_Wz4Dz3",
        "outputId": "5f372c63-fe11-43c7-883b-baab6ac01c46"
      },
      "execution_count": null,
      "outputs": [
        {
          "output_type": "stream",
          "name": "stdout",
          "text": [
            "이름은?박채연\n",
            "박채연는(은) 없어요\n"
          ]
        }
      ]
    },
    {
      "cell_type": "code",
      "source": [
        "def print_dan(n):\n",
        "\tfor i in range(1,10):\n",
        "\t\tprint (n * i)\n",
        "\n",
        "dan = int(input(\"원하는 숫자를 선택하세요!\"))\n",
        "print_dan(dan)"
      ],
      "metadata": {
        "colab": {
          "base_uri": "https://localhost:8080/"
        },
        "id": "ZbEAjndeYTzs",
        "outputId": "4226e398-a03f-44ef-f244-4bbfba99c49c"
      },
      "execution_count": 4,
      "outputs": [
        {
          "output_type": "stream",
          "name": "stdout",
          "text": [
            "원하는 숫자를 선택하세요!22\n",
            "22\n",
            "44\n",
            "66\n",
            "88\n",
            "110\n",
            "132\n",
            "154\n",
            "176\n",
            "198\n"
          ]
        }
      ]
    },
    {
      "cell_type": "code",
      "source": [
        "import random\n",
        "def lottery_generator(x):\n",
        "\tvalist = list(range(1,46))\n",
        "\tlottery_nums = []\n",
        "\tfor i in range(6):\n",
        "\t\trandom.shuffle(valist)\n",
        "\t\tval  = random.choice(valist)\n",
        "\t\tlottery_nums.append(val)\n",
        "\tprint(\"\\n%s회 :\" % x , end = \" \")\n",
        "\tfor i in lottery_nums:\n",
        "\t\tprint(i,end = \" \")\n",
        "\treturn lottery_nums\n",
        "\n",
        "def lottery_stat(x):\n",
        "    results = {}\n",
        "    for i in range(1,46):\n",
        "        results[i] = 0\n",
        "    for i in range(1, x+1):\n",
        "        lottery_nums = lottery_generator(i)\n",
        "        for i in lottery_nums:\n",
        "            results[i] = results[i] + 1\n",
        "    print(\"\\n\")\n",
        "    for i in results.keys():\n",
        "        print(\"%s : %d회\" % (i,results[i]))\n",
        "    return results\n",
        "\n",
        "results = lottery_stat(30)\n",
        "this_nums = sorted(results, key= lambda c :results[c], reverse=True)[:6]\n",
        "print(\"이주의 로또 번호 :\",end = \" \")\n",
        "for i in this_nums:\n",
        "    print(i, end = \" \")"
      ],
      "metadata": {
        "colab": {
          "base_uri": "https://localhost:8080/"
        },
        "id": "-_VpUMuBcO1f",
        "outputId": "0bc816c4-698f-4467-dbb1-c9a89845d854"
      },
      "execution_count": 7,
      "outputs": [
        {
          "output_type": "stream",
          "name": "stdout",
          "text": [
            "\n",
            "1회 : 44 28 37 42 37 21 \n",
            "2회 : 25 42 15 43 34 20 \n",
            "3회 : 10 7 44 37 31 3 \n",
            "4회 : 4 6 39 32 42 11 \n",
            "5회 : 32 16 38 40 38 23 \n",
            "6회 : 9 23 35 31 29 6 \n",
            "7회 : 33 21 31 5 18 3 \n",
            "8회 : 1 26 20 2 8 26 \n",
            "9회 : 26 31 35 31 24 8 \n",
            "10회 : 34 10 3 37 39 22 \n",
            "11회 : 3 5 27 33 16 38 \n",
            "12회 : 13 45 33 6 30 40 \n",
            "13회 : 22 38 13 16 17 21 \n",
            "14회 : 19 42 36 14 5 3 \n",
            "15회 : 2 9 25 41 18 2 \n",
            "16회 : 28 40 24 37 31 33 \n",
            "17회 : 35 16 43 24 6 44 \n",
            "18회 : 27 11 16 43 7 43 \n",
            "19회 : 23 36 2 5 13 43 \n",
            "20회 : 31 34 30 36 12 11 \n",
            "21회 : 40 10 42 27 41 38 \n",
            "22회 : 45 6 34 12 13 2 \n",
            "23회 : 30 22 23 14 37 44 \n",
            "24회 : 14 15 4 22 1 30 \n",
            "25회 : 21 29 16 3 8 25 \n",
            "26회 : 14 23 4 36 36 37 \n",
            "27회 : 20 2 33 43 36 17 \n",
            "28회 : 7 2 30 8 16 44 \n",
            "29회 : 18 34 21 24 20 42 \n",
            "30회 : 43 2 25 25 36 24 \n",
            "\n",
            "1 : 2회\n",
            "2 : 8회\n",
            "3 : 6회\n",
            "4 : 3회\n",
            "5 : 4회\n",
            "6 : 5회\n",
            "7 : 3회\n",
            "8 : 4회\n",
            "9 : 2회\n",
            "10 : 3회\n",
            "11 : 3회\n",
            "12 : 2회\n",
            "13 : 4회\n",
            "14 : 4회\n",
            "15 : 2회\n",
            "16 : 7회\n",
            "17 : 2회\n",
            "18 : 3회\n",
            "19 : 1회\n",
            "20 : 4회\n",
            "21 : 5회\n",
            "22 : 4회\n",
            "23 : 5회\n",
            "24 : 5회\n",
            "25 : 5회\n",
            "26 : 3회\n",
            "27 : 3회\n",
            "28 : 2회\n",
            "29 : 2회\n",
            "30 : 5회\n",
            "31 : 7회\n",
            "32 : 2회\n",
            "33 : 5회\n",
            "34 : 5회\n",
            "35 : 3회\n",
            "36 : 7회\n",
            "37 : 7회\n",
            "38 : 5회\n",
            "39 : 2회\n",
            "40 : 4회\n",
            "41 : 2회\n",
            "42 : 6회\n",
            "43 : 7회\n",
            "44 : 5회\n",
            "45 : 2회\n",
            "이주의 로또 번호 : 2 16 31 36 37 43 "
          ]
        }
      ]
    }
  ]
}