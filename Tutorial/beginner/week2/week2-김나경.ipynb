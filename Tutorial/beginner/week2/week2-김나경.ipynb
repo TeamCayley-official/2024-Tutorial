{
  "nbformat": 4,
  "nbformat_minor": 0,
  "metadata": {
    "colab": {
      "provenance": []
    },
    "kernelspec": {
      "name": "python3",
      "display_name": "Python 3"
    },
    "language_info": {
      "name": "python"
    }
  },
  "cells": [
    {
      "cell_type": "markdown",
      "source": [
        "챕터1"
      ],
      "metadata": {
        "id": "hzTAFiA9gnrm"
      }
    },
    {
      "cell_type": "code",
      "execution_count": null,
      "metadata": {
        "colab": {
          "base_uri": "https://localhost:8080/"
        },
        "id": "OpWVBLMN7rJB",
        "outputId": "2c70883c-7cf8-4276-ea67-891ebe92dec8"
      },
      "outputs": [
        {
          "output_type": "stream",
          "name": "stdout",
          "text": [
            "1 2 3\n"
          ]
        }
      ],
      "source": [
        "print(1,2,3)"
      ]
    },
    {
      "cell_type": "code",
      "source": [
        "print([1,2,3])"
      ],
      "metadata": {
        "colab": {
          "base_uri": "https://localhost:8080/"
        },
        "id": "GMGLPHOK9mkS",
        "outputId": "0c273195-c847-4786-f100-83ba7e82a753"
      },
      "execution_count": null,
      "outputs": [
        {
          "output_type": "stream",
          "name": "stdout",
          "text": [
            "[1, 2, 3]\n"
          ]
        }
      ]
    },
    {
      "cell_type": "code",
      "source": [
        "print(\"Hello World!\")"
      ],
      "metadata": {
        "colab": {
          "base_uri": "https://localhost:8080/"
        },
        "id": "3Cs-Hh089uC7",
        "outputId": "6dff1d93-17d4-4509-a792-de5ed317a709"
      },
      "execution_count": null,
      "outputs": [
        {
          "output_type": "stream",
          "name": "stdout",
          "text": [
            "Hello World!\n"
          ]
        }
      ]
    },
    {
      "cell_type": "code",
      "source": [
        "print(\"Hello\", \"World\", \"!\")"
      ],
      "metadata": {
        "colab": {
          "base_uri": "https://localhost:8080/"
        },
        "id": "oaVnN16P90J9",
        "outputId": "99a782f2-0460-4260-8092-2bd518c9097d"
      },
      "execution_count": null,
      "outputs": [
        {
          "output_type": "stream",
          "name": "stdout",
          "text": [
            "Hello World !\n"
          ]
        }
      ]
    },
    {
      "cell_type": "code",
      "source": [
        "a=1\n",
        "b=1\n",
        "a+b"
      ],
      "metadata": {
        "colab": {
          "base_uri": "https://localhost:8080/"
        },
        "id": "zJ6bAwMy9--q",
        "outputId": "41601025-71fe-4c95-8f8e-ffdc612fca91"
      },
      "execution_count": null,
      "outputs": [
        {
          "output_type": "execute_result",
          "data": {
            "text/plain": [
              "2"
            ]
          },
          "metadata": {},
          "execution_count": 5
        }
      ]
    },
    {
      "cell_type": "code",
      "source": [
        "name=\"김나경\"\n",
        "print(name)"
      ],
      "metadata": {
        "colab": {
          "base_uri": "https://localhost:8080/"
        },
        "id": "vS4RrLHG-DjL",
        "outputId": "d5e1bd42-0f0c-4002-b019-96abb175ecc5"
      },
      "execution_count": null,
      "outputs": [
        {
          "output_type": "stream",
          "name": "stdout",
          "text": [
            "김나경\n"
          ]
        }
      ]
    },
    {
      "cell_type": "code",
      "source": [
        "print('이건 한 줄 주석입니다.')\n",
        "#이건 실행이 될까요?"
      ],
      "metadata": {
        "colab": {
          "base_uri": "https://localhost:8080/"
        },
        "id": "52r7bz5L-4js",
        "outputId": "154e1ae1-1a7f-4e9f-90fb-34ff0ea383be"
      },
      "execution_count": null,
      "outputs": [
        {
          "output_type": "stream",
          "name": "stdout",
          "text": [
            "이건 한 줄 주석입니다.\n"
          ]
        }
      ]
    },
    {
      "cell_type": "code",
      "source": [
        "print('이건 여러 줄 주석입니다.')\n",
        "'''\n",
        "이건 실행이 될까요?\n",
        "'''"
      ],
      "metadata": {
        "colab": {
          "base_uri": "https://localhost:8080/",
          "height": 54
        },
        "id": "HYreIC4V_DiL",
        "outputId": "04db1674-37dc-41be-9897-9d8be1c5e424"
      },
      "execution_count": null,
      "outputs": [
        {
          "output_type": "stream",
          "name": "stdout",
          "text": [
            "이건 여러 줄 주석입니다.\n"
          ]
        },
        {
          "output_type": "execute_result",
          "data": {
            "text/plain": [
              "'\\n이건 실행이 될까요?\\n'"
            ],
            "application/vnd.google.colaboratory.intrinsic+json": {
              "type": "string"
            }
          },
          "metadata": {},
          "execution_count": 11
        }
      ]
    },
    {
      "cell_type": "code",
      "source": [
        "print('이건 여러 줄 주석입니다.')\n",
        "'''\n",
        "이건 실행이 될까요?\n",
        "'''\n",
        "print('이제 여러 줄 주석은 실행되지 않습니다.')"
      ],
      "metadata": {
        "colab": {
          "base_uri": "https://localhost:8080/"
        },
        "id": "_X6natvK_lZX",
        "outputId": "fb1f7c73-c4e0-4e56-a7f7-2abcf56fbe52"
      },
      "execution_count": null,
      "outputs": [
        {
          "output_type": "stream",
          "name": "stdout",
          "text": [
            "이건 여러 줄 주석입니다.\n",
            "이제 여러 줄 주석은 실행되지 않습니다.\n"
          ]
        }
      ]
    },
    {
      "cell_type": "code",
      "source": [
        "\n",
        "# 여러 줄 주석만들기\n",
        "# 어렵지\n",
        "# 않아요!"
      ],
      "metadata": {
        "id": "jBhnMp6V_0WR"
      },
      "execution_count": null,
      "outputs": []
    },
    {
      "cell_type": "markdown",
      "source": [
        "챕터2"
      ],
      "metadata": {
        "id": "E04VG5fCeXB1"
      }
    },
    {
      "cell_type": "code",
      "source": [
        "17 % 2\n",
        "#값이 1이면 홀수, 0이면 짝수"
      ],
      "metadata": {
        "colab": {
          "base_uri": "https://localhost:8080/"
        },
        "id": "ysdCyB3Oy_KK",
        "outputId": "fe6f1008-3dc3-4773-fe42-fb4817485ab6"
      },
      "execution_count": null,
      "outputs": [
        {
          "output_type": "execute_result",
          "data": {
            "text/plain": [
              "1"
            ]
          },
          "metadata": {},
          "execution_count": 3
        }
      ]
    },
    {
      "cell_type": "code",
      "source": [
        "print(float('168.7'))\n",
        "print(type(float('168.7')))"
      ],
      "metadata": {
        "colab": {
          "base_uri": "https://localhost:8080/"
        },
        "id": "yLhC3kHWzd0x",
        "outputId": "1520b148-264f-4da8-8700-619337f11b2c"
      },
      "execution_count": null,
      "outputs": [
        {
          "output_type": "stream",
          "name": "stdout",
          "text": [
            "168.7\n",
            "<class 'float'>\n"
          ]
        }
      ]
    },
    {
      "cell_type": "code",
      "source": [
        "a = '코사다마'\n",
        "print(a[::-1])"
      ],
      "metadata": {
        "id": "6TP1nb5E0WMe",
        "colab": {
          "base_uri": "https://localhost:8080/"
        },
        "outputId": "37c924ea-95c8-4448-e30b-bf33054bc60f"
      },
      "execution_count": null,
      "outputs": [
        {
          "output_type": "stream",
          "name": "stdout",
          "text": [
            "마다사코\n"
          ]
        }
      ]
    },
    {
      "cell_type": "code",
      "source": [
        "phone_num = '010-1234-1234'\n",
        "print(phone_num.replace('-',''))"
      ],
      "metadata": {
        "colab": {
          "base_uri": "https://localhost:8080/"
        },
        "id": "_Mzd5XP9IdHe",
        "outputId": "e620e145-a325-4615-aaa7-7f6d601e89dd"
      },
      "execution_count": null,
      "outputs": [
        {
          "output_type": "stream",
          "name": "stdout",
          "text": [
            "01012341234\n"
          ]
        }
      ]
    },
    {
      "cell_type": "code",
      "source": [
        "studentID = '20221234'\n",
        "name = '고다람'\n",
        "print('입학년도:{0} / 이름:{1} / 학번:{2}'.format(2022, name, studentID))"
      ],
      "metadata": {
        "colab": {
          "base_uri": "https://localhost:8080/"
        },
        "id": "ordwLuVCJK5t",
        "outputId": "8b485ef8-9aac-4f59-fed3-a16bf6095bae"
      },
      "execution_count": null,
      "outputs": [
        {
          "output_type": "stream",
          "name": "stdout",
          "text": [
            "입학년도:2022 / 이름:고다람 / 학번:20221234\n"
          ]
        }
      ]
    },
    {
      "cell_type": "code",
      "source": [
        "studentID = '20241234'\n",
        "name = '고다람'\n",
        "print('입학년도:{0} \\n 이름:{1} \\n 학번:{2}'.format(studentID[:4], name, studentID))"
      ],
      "metadata": {
        "colab": {
          "base_uri": "https://localhost:8080/"
        },
        "id": "lLfVcILSKGAC",
        "outputId": "aff2cf44-5111-4a1b-cf95-4eceebba5484"
      },
      "execution_count": null,
      "outputs": [
        {
          "output_type": "stream",
          "name": "stdout",
          "text": [
            "입학년도:2024 \n",
            " 이름:고다람 \n",
            " 학번:20241234\n"
          ]
        }
      ]
    },
    {
      "cell_type": "markdown",
      "source": [
        "챕터3"
      ],
      "metadata": {
        "id": "cJlBtsK3eQzt"
      }
    },
    {
      "cell_type": "code",
      "source": [
        "radius = 3.5\n",
        "area = radius * radius * 3.14\n",
        "print(area)"
      ],
      "metadata": {
        "colab": {
          "base_uri": "https://localhost:8080/"
        },
        "id": "xWnNu113eI5a",
        "outputId": "7a773104-6831-4345-93c2-27947dd2d4eb"
      },
      "execution_count": null,
      "outputs": [
        {
          "output_type": "stream",
          "name": "stdout",
          "text": [
            "38.465\n"
          ]
        }
      ]
    },
    {
      "cell_type": "code",
      "source": [
        "print('생년, 월, 일을 차례로 입력하세요.')\n",
        "year = int(input('생년?'))\n",
        "month = int(input('월?'))\n",
        "day = int(input('일?'))\n",
        "print('당신은', year, '년', month, '월', day, '일에 태어났습니다.')"
      ],
      "metadata": {
        "colab": {
          "base_uri": "https://localhost:8080/"
        },
        "id": "Gy8mG_wyfbET",
        "outputId": "79ff81a8-df81-4771-d274-6244f194a8f9"
      },
      "execution_count": null,
      "outputs": [
        {
          "output_type": "stream",
          "name": "stdout",
          "text": [
            "생년, 월, 일을 차례로 입력하세요.\n",
            "생년?2005\n",
            "월?2\n",
            "일?5\n",
            "당신은 2005 년 2 월 5 일에 태어났습니다.\n"
          ]
        }
      ]
    },
    {
      "cell_type": "markdown",
      "source": [
        "챕터4"
      ],
      "metadata": {
        "id": "bFw-Ubct_F32"
      }
    },
    {
      "cell_type": "code",
      "source": [
        "비욘세=[0,100,100]\n",
        "임영웅=[70,30,0]\n",
        "장원영=[100,70,80]\n",
        "비욘세.append((비욘세[0]+비욘세[1]+비욘세[2])/3)\n",
        "임영웅.append((임영웅[0]+임영웅[1]+임영웅[2])/3)\n",
        "장원영.append((장원영[0]+장원영[1]+장원영[2])/3)\n",
        "print((비욘세[3] + 임영웅[3] + 장원영[3])/3)"
      ],
      "metadata": {
        "colab": {
          "base_uri": "https://localhost:8080/"
        },
        "id": "hrRz5joLAsst",
        "outputId": "015e9c46-08a9-4966-a985-2e265f29b44f"
      },
      "execution_count": null,
      "outputs": [
        {
          "output_type": "stream",
          "name": "stdout",
          "text": [
            "61.11111111111111\n"
          ]
        }
      ]
    },
    {
      "cell_type": "code",
      "source": [
        "number = [3,26,5,1,4,8,77,54,31,100]\n",
        "number.sort()\n",
        "print(number[0],number[9])"
      ],
      "metadata": {
        "colab": {
          "base_uri": "https://localhost:8080/"
        },
        "id": "JQgOt38m_-7Z",
        "outputId": "ee59c585-c4e2-4dac-d9c5-3aceaffd318d"
      },
      "execution_count": null,
      "outputs": [
        {
          "output_type": "stream",
          "name": "stdout",
          "text": [
            "1 100\n"
          ]
        }
      ]
    },
    {
      "cell_type": "markdown",
      "source": [
        "챕터6"
      ],
      "metadata": {
        "id": "EadFbxuWd5OR"
      }
    },
    {
      "cell_type": "code",
      "source": [
        "num = 30\n",
        "while num <= 30:\n",
        "  num -= 1\n",
        "  print(num)\n",
        "  if num % 5==0:\n",
        "      break"
      ],
      "metadata": {
        "colab": {
          "base_uri": "https://localhost:8080/"
        },
        "id": "m3Vbn0Rad6Vf",
        "outputId": "7831b3c2-7414-4090-a64b-7706ae627ee7"
      },
      "execution_count": null,
      "outputs": [
        {
          "output_type": "stream",
          "name": "stdout",
          "text": [
            "29\n",
            "28\n",
            "27\n",
            "26\n",
            "25\n"
          ]
        }
      ]
    },
    {
      "cell_type": "code",
      "source": [
        "a=0\n",
        "for i in range(2,101,2):\n",
        "  a+=i\n",
        "print(a)\n"
      ],
      "metadata": {
        "colab": {
          "base_uri": "https://localhost:8080/"
        },
        "id": "fLvqCuXHfeON",
        "outputId": "2a2988fa-d9a9-4b27-86bb-f067bc1045e1"
      },
      "execution_count": null,
      "outputs": [
        {
          "output_type": "stream",
          "name": "stdout",
          "text": [
            "2550\n"
          ]
        }
      ]
    },
    {
      "cell_type": "code",
      "source": [
        "fruits = ['사과', '오렌지', '파인애플', '귤', '천도복숭아', '리치', '코코넛', '샤인머스켓', '드래곤후르츠', '한라봉', '감']\n",
        "fruit = []\n",
        "for i in fruits:\n",
        "  a = len(i)\n",
        "  fruit.append(a)\n",
        "\n",
        "index_f = fruit.index(max(fruit))\n",
        "\n",
        "print(fruits[index_f])\n",
        "\n"
      ],
      "metadata": {
        "id": "Sc6XU3oOgU1s",
        "colab": {
          "base_uri": "https://localhost:8080/"
        },
        "outputId": "94d77765-50a8-4b18-e529-7ea2a4cf2b93"
      },
      "execution_count": 4,
      "outputs": [
        {
          "output_type": "stream",
          "name": "stdout",
          "text": [
            "드래곤후르츠\n"
          ]
        }
      ]
    },
    {
      "cell_type": "code",
      "source": [
        "i = 0\n",
        "while i < 9:\n",
        "  i += 1\n",
        "  j = 1\n",
        "  while j <= 9:\n",
        "    print('%d * %d = %d'%(i, j, i*j))\n",
        "    j += 1\n",
        "\n"
      ],
      "metadata": {
        "colab": {
          "base_uri": "https://localhost:8080/"
        },
        "id": "7LMMmq2-hYry",
        "outputId": "697b249a-8b80-4032-9535-d5985972246b"
      },
      "execution_count": null,
      "outputs": [
        {
          "output_type": "stream",
          "name": "stdout",
          "text": [
            "1 * 1 = 1\n",
            "1 * 2 = 2\n",
            "1 * 3 = 3\n",
            "1 * 4 = 4\n",
            "1 * 5 = 5\n",
            "1 * 6 = 6\n",
            "1 * 7 = 7\n",
            "1 * 8 = 8\n",
            "1 * 9 = 9\n",
            "2 * 1 = 2\n",
            "2 * 2 = 4\n",
            "2 * 3 = 6\n",
            "2 * 4 = 8\n",
            "2 * 5 = 10\n",
            "2 * 6 = 12\n",
            "2 * 7 = 14\n",
            "2 * 8 = 16\n",
            "2 * 9 = 18\n",
            "3 * 1 = 3\n",
            "3 * 2 = 6\n",
            "3 * 3 = 9\n",
            "3 * 4 = 12\n",
            "3 * 5 = 15\n",
            "3 * 6 = 18\n",
            "3 * 7 = 21\n",
            "3 * 8 = 24\n",
            "3 * 9 = 27\n",
            "4 * 1 = 4\n",
            "4 * 2 = 8\n",
            "4 * 3 = 12\n",
            "4 * 4 = 16\n",
            "4 * 5 = 20\n",
            "4 * 6 = 24\n",
            "4 * 7 = 28\n",
            "4 * 8 = 32\n",
            "4 * 9 = 36\n",
            "5 * 1 = 5\n",
            "5 * 2 = 10\n",
            "5 * 3 = 15\n",
            "5 * 4 = 20\n",
            "5 * 5 = 25\n",
            "5 * 6 = 30\n",
            "5 * 7 = 35\n",
            "5 * 8 = 40\n",
            "5 * 9 = 45\n",
            "6 * 1 = 6\n",
            "6 * 2 = 12\n",
            "6 * 3 = 18\n",
            "6 * 4 = 24\n",
            "6 * 5 = 30\n",
            "6 * 6 = 36\n",
            "6 * 7 = 42\n",
            "6 * 8 = 48\n",
            "6 * 9 = 54\n",
            "7 * 1 = 7\n",
            "7 * 2 = 14\n",
            "7 * 3 = 21\n",
            "7 * 4 = 28\n",
            "7 * 5 = 35\n",
            "7 * 6 = 42\n",
            "7 * 7 = 49\n",
            "7 * 8 = 56\n",
            "7 * 9 = 63\n",
            "8 * 1 = 8\n",
            "8 * 2 = 16\n",
            "8 * 3 = 24\n",
            "8 * 4 = 32\n",
            "8 * 5 = 40\n",
            "8 * 6 = 48\n",
            "8 * 7 = 56\n",
            "8 * 8 = 64\n",
            "8 * 9 = 72\n",
            "9 * 1 = 9\n",
            "9 * 2 = 18\n",
            "9 * 3 = 27\n",
            "9 * 4 = 36\n",
            "9 * 5 = 45\n",
            "9 * 6 = 54\n",
            "9 * 7 = 63\n",
            "9 * 8 = 72\n",
            "9 * 9 = 81\n"
          ]
        }
      ]
    },
    {
      "cell_type": "code",
      "source": [
        "for i in range(1,51):\n",
        "  if ('3' in str(i) or '6' in str(i) or '9' in str(i)):\n",
        "    print('짝!')\n",
        "\n",
        "  else:\n",
        "    print(i)\n"
      ],
      "metadata": {
        "id": "jTYNZvz4i0ey",
        "colab": {
          "base_uri": "https://localhost:8080/"
        },
        "outputId": "08a5d306-7f02-4d5d-fa29-0c436b960029"
      },
      "execution_count": 8,
      "outputs": [
        {
          "output_type": "stream",
          "name": "stdout",
          "text": [
            "1\n",
            "2\n",
            "짝!\n",
            "4\n",
            "5\n",
            "짝!\n",
            "7\n",
            "8\n",
            "짝!\n",
            "10\n",
            "11\n",
            "12\n",
            "짝!\n",
            "14\n",
            "15\n",
            "짝!\n",
            "17\n",
            "18\n",
            "짝!\n",
            "20\n",
            "21\n",
            "22\n",
            "짝!\n",
            "24\n",
            "25\n",
            "짝!\n",
            "27\n",
            "28\n",
            "짝!\n",
            "짝!\n",
            "짝!\n",
            "짝!\n",
            "짝!\n",
            "짝!\n",
            "짝!\n",
            "짝!\n",
            "짝!\n",
            "짝!\n",
            "짝!\n",
            "40\n",
            "41\n",
            "42\n",
            "짝!\n",
            "44\n",
            "45\n",
            "짝!\n",
            "47\n",
            "48\n",
            "짝!\n",
            "50\n"
          ]
        }
      ]
    },
    {
      "cell_type": "code",
      "source": [
        "비욘세 = 1\n",
        "임영웅 = 3\n",
        "장원영 = 2\n",
        "name = input('이름은?')\n",
        "if name == '비욘세':\n",
        "  print(name,'의 등수는',비욘세)\n",
        "if name == '임영웅':\n",
        "  print(name,'의 등수는',임영웅)\n",
        "if name == '장원영':\n",
        "  print(name,'의 등수는',장원영)\n",
        "else:\n",
        "  print('이름을 다시 입력해주세요.')"
      ],
      "metadata": {
        "colab": {
          "base_uri": "https://localhost:8080/"
        },
        "id": "APJqMtGEjLl_",
        "outputId": "3a9a0f1d-9c41-42ce-c9cd-a5729a6a5859"
      },
      "execution_count": 9,
      "outputs": [
        {
          "output_type": "stream",
          "name": "stdout",
          "text": [
            "이름은?김나경\n",
            "이름을 다시 입력해주세요.\n"
          ]
        }
      ]
    },
    {
      "cell_type": "markdown",
      "source": [
        "챕터7\n"
      ],
      "metadata": {
        "id": "nlNgSepQlA4r"
      }
    },
    {
      "cell_type": "code",
      "source": [
        "def gugudan(x):\n",
        "  for i in range(1,10):\n",
        "    print(x * i)\n",
        "\n",
        "gugu = input('구구단을 외자! 몇 단?')\n",
        "gugudan(gugu)\n"
      ],
      "metadata": {
        "id": "JrbVdt_DlEYO",
        "colab": {
          "base_uri": "https://localhost:8080/"
        },
        "outputId": "0ec15082-64f8-4bbc-c7dc-89f51295299e"
      },
      "execution_count": 15,
      "outputs": [
        {
          "output_type": "stream",
          "name": "stdout",
          "text": [
            "구구단을 외자! 몇 단?9\n",
            "9\n",
            "99\n",
            "999\n",
            "9999\n",
            "99999\n",
            "999999\n",
            "9999999\n",
            "99999999\n",
            "999999999\n"
          ]
        }
      ]
    },
    {
      "cell_type": "code",
      "source": [],
      "metadata": {
        "id": "xTXunksn9JqK"
      },
      "execution_count": null,
      "outputs": []
    }
  ]
}