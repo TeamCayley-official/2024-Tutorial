{
  "cells": [
    {
      "cell_type": "code",
      "execution_count": 3,
      "metadata": {
        "id": "PurBf7fTMyjk"
      },
      "outputs": [],
      "source": [
        "dictionary={'name':'남예원', 'mobile':'010-3661-4538','email':'namdolly@hanmail.net'}\n"
      ]
    },
    {
      "cell_type": "markdown",
      "metadata": {},
      "source": [
        "테스트 문장입니다"
      ]
    },
    {
      "cell_type": "code",
      "execution_count": 4,
      "metadata": {
        "colab": {
          "base_uri": "https://localhost:8080/"
        },
        "id": "00W2w6IvTcsn",
        "outputId": "4fae89ba-9a00-4367-c36b-aab40d6fe53d"
      },
      "outputs": [
        {
          "name": "stdout",
          "output_type": "stream",
          "text": [
            "{1: 'a', 2: 'b', 'name': '남예원', 3: [1, 2, 3]}\n"
          ]
        }
      ],
      "source": [
        "dic={1:'a'}\n",
        "dic[2]='b'\n",
        "dic['name']='남예원'\n",
        "dic[3]=[1,2,3,]\n",
        "print(dic)\n"
      ]
    },
    {
      "cell_type": "code",
      "execution_count": 11,
      "metadata": {
        "colab": {
          "base_uri": "https://localhost:8080/"
        },
        "id": "yQCGeSPtTwvJ",
        "outputId": "fa675910-9a2c-421a-8124-d13caf2c4bc7"
      },
      "outputs": [
        {
          "name": "stdout",
          "output_type": "stream",
          "text": [
            "{1: 'a', 3: 'c'}\n"
          ]
        }
      ],
      "source": [
        "dic = {1:'a', 2:'b', 3:'c'}\n",
        "del dic[2]\n",
        "print(dic)\n"
      ]
    },
    {
      "cell_type": "code",
      "execution_count": 13,
      "metadata": {
        "colab": {
          "base_uri": "https://localhost:8080/"
        },
        "id": "Z-t7EiiYUZCH",
        "outputId": "a7b24022-6bdd-4c1f-dfb5-f6a562001069"
      },
      "outputs": [
        {
          "data": {
            "text/plain": [
              "dict_values(['a', 'b', 'c'])"
            ]
          },
          "execution_count": 13,
          "metadata": {},
          "output_type": "execute_result"
        }
      ],
      "source": [
        "dic = {1:'a', 2:'b', 3:'c'}\n",
        "\n",
        "dic.values()"
      ]
    },
    {
      "cell_type": "code",
      "execution_count": 18,
      "metadata": {
        "colab": {
          "base_uri": "https://localhost:8080/"
        },
        "id": "tIoWPCY_VFsH",
        "outputId": "3da30d9e-8bbd-4248-9de6-6dbec95cbf41"
      },
      "outputs": [
        {
          "name": "stdout",
          "output_type": "stream",
          "text": [
            "{}\n"
          ]
        }
      ],
      "source": [
        "dic = {1:'a', 2:'b', 3:'c'}\n",
        "dic.clear()\n",
        "print(dic)"
      ]
    },
    {
      "cell_type": "code",
      "execution_count": 30,
      "metadata": {
        "colab": {
          "base_uri": "https://localhost:8080/"
        },
        "id": "veX_qlVBaNqn",
        "outputId": "526370ae-a599-4627-ced0-96d540cef4ee"
      },
      "outputs": [
        {
          "name": "stdout",
          "output_type": "stream",
          "text": [
            "학점: B+\n"
          ]
        }
      ],
      "source": [
        "score = 3.5\n",
        "\n",
        "if score > 4.0:\n",
        "    print('학점: A+')\n",
        "elif  3.5 < score <= 4.0:\n",
        "    print('학점: A')\n",
        "elif  3 < score <= 3.5:\n",
        "    print('학점: B+')\n",
        "else:\n",
        "    print('None')"
      ]
    },
    {
      "cell_type": "code",
      "execution_count": 31,
      "metadata": {
        "colab": {
          "base_uri": "https://localhost:8080/",
          "height": 210
        },
        "id": "HDmKVl7KaPlg",
        "outputId": "85a94991-4543-4b1c-d64d-1704c0ebaa02"
      },
      "outputs": [
        {
          "ename": "NameError",
          "evalue": "name 'rain' is not defined",
          "output_type": "error",
          "traceback": [
            "\u001b[0;31m---------------------------------------------------------------------------\u001b[0m",
            "\u001b[0;31mNameError\u001b[0m                                 Traceback (most recent call last)",
            "\u001b[0;32m<ipython-input-31-5c2478abc05a>\u001b[0m in \u001b[0;36m<cell line: 1>\u001b[0;34m()\u001b[0m\n\u001b[0;32m----> 1\u001b[0;31m \u001b[0mweather\u001b[0m \u001b[0;34m=\u001b[0m \u001b[0mrain\u001b[0m\u001b[0;34m\u001b[0m\u001b[0;34m\u001b[0m\u001b[0m\n\u001b[0m\u001b[1;32m      2\u001b[0m \u001b[0;32mif\u001b[0m \u001b[0mweather\u001b[0m \u001b[0;34m==\u001b[0m \u001b[0mrain\u001b[0m\u001b[0;34m:\u001b[0m\u001b[0;34m\u001b[0m\u001b[0;34m\u001b[0m\u001b[0m\n\u001b[1;32m      3\u001b[0m     \u001b[0mprint\u001b[0m\u001b[0;34m(\u001b[0m\u001b[0;34m'여행 취소'\u001b[0m\u001b[0;34m)\u001b[0m\u001b[0;34m\u001b[0m\u001b[0;34m\u001b[0m\u001b[0m\n\u001b[1;32m      4\u001b[0m \u001b[0;32melse\u001b[0m\u001b[0;34m:\u001b[0m\u001b[0;34m\u001b[0m\u001b[0;34m\u001b[0m\u001b[0m\n\u001b[1;32m      5\u001b[0m     \u001b[0mprint\u001b[0m\u001b[0;34m(\u001b[0m\u001b[0;34m'여행 고고'\u001b[0m\u001b[0;34m)\u001b[0m\u001b[0;34m\u001b[0m\u001b[0;34m\u001b[0m\u001b[0m\n",
            "\u001b[0;31mNameError\u001b[0m: name 'rain' is not defined"
          ]
        }
      ],
      "source": [
        "weather = rain\n",
        "if weather == rain:\n",
        "    print('여행 취소')\n",
        "else:\n",
        "    print('여행 고고')"
      ]
    },
    {
      "cell_type": "code",
      "execution_count": 32,
      "metadata": {
        "colab": {
          "base_uri": "https://localhost:8080/"
        },
        "id": "NCM9ygavaQVa",
        "outputId": "25dc78f5-b581-4cdf-83b4-ebf985d4ef08"
      },
      "outputs": [
        {
          "name": "stdout",
          "output_type": "stream",
          "text": [
            "학점: B+\n"
          ]
        }
      ],
      "source": [
        "score = 3.5\n",
        "\n",
        "if score > 4.0:\n",
        "    print('학점: A+')\n",
        "elif  (score <= 4.0) and (score > 3.5):\n",
        "    print('학점: A')\n",
        "elif  (score <= 3.5) and (score > 3.0):\n",
        "    print('학점: B+')\n",
        "else:\n",
        "    print('None')"
      ]
    },
    {
      "cell_type": "code",
      "execution_count": 1,
      "metadata": {
        "colab": {
          "base_uri": "https://localhost:8080/"
        },
        "id": "9n8p3boKahZU",
        "outputId": "1d5f65de-4772-4546-ea8a-a70a7f179c30"
      },
      "outputs": [
        {
          "name": "stdout",
          "output_type": "stream",
          "text": [
            "당신의 이름은?예원\n",
            "예원님, 안녕!\n",
            "당신의 이름은?종료\n",
            "종료합니다.\n"
          ]
        }
      ],
      "source": [
        "while True:\n",
        "    name=input('당신의 이름은?')\n",
        "    if name=='종료':\n",
        "      print('종료합니다.')\n",
        "      break\n",
        "    print('{}님, 안녕!'.format(name))\n"
      ]
    },
    {
      "cell_type": "code",
      "execution_count": 2,
      "metadata": {
        "colab": {
          "base_uri": "https://localhost:8080/"
        },
        "id": "rE87Y35p2jqp",
        "outputId": "b5c2028c-1588-4956-92d9-9aa3109f5d23"
      },
      "outputs": [
        {
          "name": "stdout",
          "output_type": "stream",
          "text": [
            "apple\n",
            "banana\n",
            "orange\n"
          ]
        }
      ],
      "source": [
        "fruits = ['apple', 'banana', 'orange']\n",
        "\n",
        "for fruit in fruits:\n",
        "    print(fruit)"
      ]
    },
    {
      "cell_type": "code",
      "execution_count": 3,
      "metadata": {
        "colab": {
          "base_uri": "https://localhost:8080/"
        },
        "id": "UKCoOF0z3Y3H",
        "outputId": "64d26641-7a57-43f9-a660-2c168ef0821b"
      },
      "outputs": [
        {
          "name": "stdout",
          "output_type": "stream",
          "text": [
            "apple\n",
            "banana\n",
            "orange\n"
          ]
        }
      ],
      "source": [
        "fruits  = (\"apple\",  \"banana\",  \"orange\")\n",
        "\n",
        "for fruit in fruits:\n",
        "    print(fruit)"
      ]
    },
    {
      "cell_type": "code",
      "execution_count": 4,
      "metadata": {
        "colab": {
          "base_uri": "https://localhost:8080/"
        },
        "id": "dZDrj_103coQ",
        "outputId": "942cfae2-61d0-4606-b37b-dd9cfe3a7332"
      },
      "outputs": [
        {
          "name": "stdout",
          "output_type": "stream",
          "text": [
            "파\n",
            "이\n",
            "썬\n",
            " \n",
            "공\n",
            "부\n",
            "는\n",
            " \n",
            "재\n",
            "밌\n",
            "다\n",
            "!\n"
          ]
        }
      ],
      "source": [
        "ex = \"파이썬 공부는 재밌다!\"\n",
        "\n",
        "for i in ex:\n",
        "    print(i)"
      ]
    },
    {
      "cell_type": "code",
      "execution_count": 2,
      "metadata": {
        "colab": {
          "base_uri": "https://localhost:8080/"
        },
        "id": "Zim4KT7w4fUL",
        "outputId": "e83683ec-7502-414f-807e-1d9b95d15f8c"
      },
      "outputs": [
        {
          "name": "stdout",
          "output_type": "stream",
          "text": [
            "29\n",
            "28\n",
            "27\n",
            "26\n",
            "25\n",
            "24\n",
            "23\n",
            "22\n",
            "21\n",
            "20\n",
            "19\n",
            "18\n",
            "17\n",
            "16\n",
            "15\n",
            "14\n",
            "13\n",
            "12\n",
            "11\n",
            "10\n",
            "9\n",
            "8\n",
            "7\n",
            "6\n",
            "5\n",
            "4\n",
            "3\n",
            "2\n",
            "1\n"
          ]
        }
      ],
      "source": [
        "num=30\n",
        "\n",
        "while num<=30:\n",
        "    num=num-1\n",
        "    print(num)\n",
        "    if (num-1)==0:\n",
        "      break\n",
        "\n",
        "\n"
      ]
    },
    {
      "cell_type": "code",
      "execution_count": 5,
      "metadata": {
        "colab": {
          "base_uri": "https://localhost:8080/"
        },
        "id": "7bIq-aGW_nn_",
        "outputId": "6e0c686b-8271-496a-ee7f-d5c7670322b2"
      },
      "outputs": [
        {
          "data": {
            "text/plain": [
              "3"
            ]
          },
          "execution_count": 5,
          "metadata": {},
          "output_type": "execute_result"
        }
      ],
      "source": [
        "def add(num1,num2):\n",
        "    return num1+num2\n",
        "add(1,2)"
      ]
    },
    {
      "cell_type": "code",
      "execution_count": 6,
      "metadata": {
        "colab": {
          "base_uri": "https://localhost:8080/"
        },
        "id": "E3226kdgBD5Q",
        "outputId": "5eaef3c1-78dc-451b-aad7-1cd7f75095ec"
      },
      "outputs": [
        {
          "data": {
            "text/plain": [
              "(3, 2)"
            ]
          },
          "execution_count": 6,
          "metadata": {},
          "output_type": "execute_result"
        }
      ],
      "source": [
        "def add_mul(n1,n2):\n",
        "    return n1+n2, n1*n2\n",
        "add_mul(1,2)"
      ]
    },
    {
      "cell_type": "code",
      "execution_count": 9,
      "metadata": {
        "colab": {
          "base_uri": "https://localhost:8080/"
        },
        "id": "1H3_yHXjFGDb",
        "outputId": "c97feb33-3108-48c8-e7b2-f0a9431e9d1d"
      },
      "outputs": [
        {
          "name": "stdout",
          "output_type": "stream",
          "text": [
            "32\n"
          ]
        }
      ],
      "source": [
        "import random\n",
        "numbers=[1,2,3,4,5,6,7,8,44,56,32,46]\n",
        "print(random.choice(numbers))"
      ]
    },
    {
      "cell_type": "code",
      "execution_count": 13,
      "metadata": {
        "colab": {
          "base_uri": "https://localhost:8080/"
        },
        "id": "7LFpo_dUDmtX",
        "outputId": "12e93300-3de7-4c4e-e0be-8666e58c7fc5"
      },
      "outputs": [
        {
          "name": "stdout",
          "output_type": "stream",
          "text": [
            "[46, 3]\n"
          ]
        }
      ],
      "source": [
        "import random\n",
        "numbers=[1,2,3,4,5,6,7,8,44,56,32,46]\n",
        "print(random.sample(numbers,2))"
      ]
    },
    {
      "cell_type": "code",
      "execution_count": 18,
      "metadata": {
        "colab": {
          "base_uri": "https://localhost:8080/"
        },
        "id": "f9IdkXHwGrGX",
        "outputId": "2937b683-3d67-46ee-9392-78235ac1e5f1"
      },
      "outputs": [
        {
          "data": {
            "text/plain": [
              "2"
            ]
          },
          "execution_count": 18,
          "metadata": {},
          "output_type": "execute_result"
        }
      ],
      "source": [
        "def square1(n1):\n",
        "  return n1*1\n",
        "square1(2)"
      ]
    },
    {
      "cell_type": "code",
      "execution_count": null,
      "metadata": {
        "id": "IUfGHQ0VHmiI"
      },
      "outputs": [],
      "source": []
    }
  ],
  "metadata": {
    "colab": {
      "provenance": []
    },
    "kernelspec": {
      "display_name": "Python 3",
      "name": "python3"
    },
    "language_info": {
      "name": "python"
    }
  },
  "nbformat": 4,
  "nbformat_minor": 0
}
