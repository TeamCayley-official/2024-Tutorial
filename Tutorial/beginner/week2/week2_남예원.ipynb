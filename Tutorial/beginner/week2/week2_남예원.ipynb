{
  "nbformat": 4,
  "nbformat_minor": 0,
  "metadata": {
    "colab": {
      "provenance": []
    },
    "kernelspec": {
      "name": "python3",
      "display_name": "Python 3"
    },
    "language_info": {
      "name": "python"
    }
  },
  "cells": [
    {
      "cell_type": "code",
      "execution_count": 3,
      "metadata": {
        "id": "PurBf7fTMyjk"
      },
      "outputs": [],
      "source": [
        "dictionary={'name':'남예원', 'mobile':'010-3661-4538','email':'namdolly@hanmail.net'}\n"
      ]
    },
    {
      "cell_type": "code",
      "source": [
        "dic={1:'a'}\n",
        "dic[2]='b'\n",
        "dic['name']='남예원'\n",
        "dic[3]=[1,2,3,]\n",
        "print(dic)\n"
      ],
      "metadata": {
        "colab": {
          "base_uri": "https://localhost:8080/"
        },
        "id": "00W2w6IvTcsn",
        "outputId": "4fae89ba-9a00-4367-c36b-aab40d6fe53d"
      },
      "execution_count": 4,
      "outputs": [
        {
          "output_type": "stream",
          "name": "stdout",
          "text": [
            "{1: 'a', 2: 'b', 'name': '남예원', 3: [1, 2, 3]}\n"
          ]
        }
      ]
    },
    {
      "cell_type": "code",
      "source": [
        "dic = {1:'a', 2:'b', 3:'c'}\n",
        "del dic[2]\n",
        "print(dic)\n"
      ],
      "metadata": {
        "colab": {
          "base_uri": "https://localhost:8080/"
        },
        "id": "yQCGeSPtTwvJ",
        "outputId": "fa675910-9a2c-421a-8124-d13caf2c4bc7"
      },
      "execution_count": 11,
      "outputs": [
        {
          "output_type": "stream",
          "name": "stdout",
          "text": [
            "{1: 'a', 3: 'c'}\n"
          ]
        }
      ]
    },
    {
      "cell_type": "code",
      "source": [
        "dic = {1:'a', 2:'b', 3:'c'}\n",
        "\n",
        "dic.values()"
      ],
      "metadata": {
        "colab": {
          "base_uri": "https://localhost:8080/"
        },
        "id": "Z-t7EiiYUZCH",
        "outputId": "a7b24022-6bdd-4c1f-dfb5-f6a562001069"
      },
      "execution_count": 13,
      "outputs": [
        {
          "output_type": "execute_result",
          "data": {
            "text/plain": [
              "dict_values(['a', 'b', 'c'])"
            ]
          },
          "metadata": {},
          "execution_count": 13
        }
      ]
    },
    {
      "cell_type": "code",
      "source": [
        "dic = {1:'a', 2:'b', 3:'c'}\n",
        "dic.clear()\n",
        "print(dic)"
      ],
      "metadata": {
        "colab": {
          "base_uri": "https://localhost:8080/"
        },
        "id": "tIoWPCY_VFsH",
        "outputId": "3da30d9e-8bbd-4248-9de6-6dbec95cbf41"
      },
      "execution_count": 18,
      "outputs": [
        {
          "output_type": "stream",
          "name": "stdout",
          "text": [
            "{}\n"
          ]
        }
      ]
    },
    {
      "cell_type": "code",
      "source": [
        "score = 3.5\n",
        "\n",
        "if score > 4.0:\n",
        "    print('학점: A+')\n",
        "elif  3.5 < score <= 4.0:\n",
        "    print('학점: A')\n",
        "elif  3 < score <= 3.5:\n",
        "    print('학점: B+')\n",
        "else:\n",
        "    print('None')"
      ],
      "metadata": {
        "colab": {
          "base_uri": "https://localhost:8080/"
        },
        "id": "veX_qlVBaNqn",
        "outputId": "526370ae-a599-4627-ced0-96d540cef4ee"
      },
      "execution_count": 30,
      "outputs": [
        {
          "output_type": "stream",
          "name": "stdout",
          "text": [
            "학점: B+\n"
          ]
        }
      ]
    },
    {
      "cell_type": "code",
      "source": [
        "weather = rain\n",
        "if weather == rain:\n",
        "    print('여행 취소')\n",
        "else:\n",
        "    print('여행 고고')"
      ],
      "metadata": {
        "colab": {
          "base_uri": "https://localhost:8080/",
          "height": 210
        },
        "id": "HDmKVl7KaPlg",
        "outputId": "85a94991-4543-4b1c-d64d-1704c0ebaa02"
      },
      "execution_count": 31,
      "outputs": [
        {
          "output_type": "error",
          "ename": "NameError",
          "evalue": "name 'rain' is not defined",
          "traceback": [
            "\u001b[0;31m---------------------------------------------------------------------------\u001b[0m",
            "\u001b[0;31mNameError\u001b[0m                                 Traceback (most recent call last)",
            "\u001b[0;32m<ipython-input-31-5c2478abc05a>\u001b[0m in \u001b[0;36m<cell line: 1>\u001b[0;34m()\u001b[0m\n\u001b[0;32m----> 1\u001b[0;31m \u001b[0mweather\u001b[0m \u001b[0;34m=\u001b[0m \u001b[0mrain\u001b[0m\u001b[0;34m\u001b[0m\u001b[0;34m\u001b[0m\u001b[0m\n\u001b[0m\u001b[1;32m      2\u001b[0m \u001b[0;32mif\u001b[0m \u001b[0mweather\u001b[0m \u001b[0;34m==\u001b[0m \u001b[0mrain\u001b[0m\u001b[0;34m:\u001b[0m\u001b[0;34m\u001b[0m\u001b[0;34m\u001b[0m\u001b[0m\n\u001b[1;32m      3\u001b[0m     \u001b[0mprint\u001b[0m\u001b[0;34m(\u001b[0m\u001b[0;34m'여행 취소'\u001b[0m\u001b[0;34m)\u001b[0m\u001b[0;34m\u001b[0m\u001b[0;34m\u001b[0m\u001b[0m\n\u001b[1;32m      4\u001b[0m \u001b[0;32melse\u001b[0m\u001b[0;34m:\u001b[0m\u001b[0;34m\u001b[0m\u001b[0;34m\u001b[0m\u001b[0m\n\u001b[1;32m      5\u001b[0m     \u001b[0mprint\u001b[0m\u001b[0;34m(\u001b[0m\u001b[0;34m'여행 고고'\u001b[0m\u001b[0;34m)\u001b[0m\u001b[0;34m\u001b[0m\u001b[0;34m\u001b[0m\u001b[0m\n",
            "\u001b[0;31mNameError\u001b[0m: name 'rain' is not defined"
          ]
        }
      ]
    },
    {
      "cell_type": "code",
      "source": [
        "score = 3.5\n",
        "\n",
        "if score > 4.0:\n",
        "    print('학점: A+')\n",
        "elif  (score <= 4.0) and (score > 3.5):\n",
        "    print('학점: A')\n",
        "elif  (score <= 3.5) and (score > 3.0):\n",
        "    print('학점: B+')\n",
        "else:\n",
        "    print('None')"
      ],
      "metadata": {
        "colab": {
          "base_uri": "https://localhost:8080/"
        },
        "id": "NCM9ygavaQVa",
        "outputId": "25dc78f5-b581-4cdf-83b4-ebf985d4ef08"
      },
      "execution_count": 32,
      "outputs": [
        {
          "output_type": "stream",
          "name": "stdout",
          "text": [
            "학점: B+\n"
          ]
        }
      ]
    },
    {
      "cell_type": "code",
      "source": [
        "while True:\n",
        "    name=input('당신의 이름은?')\n",
        "    if name=='종료':\n",
        "      print('종료합니다.')\n",
        "      break\n",
        "    print('{}님, 안녕!'.format(name))\n"
      ],
      "metadata": {
        "colab": {
          "base_uri": "https://localhost:8080/"
        },
        "id": "9n8p3boKahZU",
        "outputId": "1d5f65de-4772-4546-ea8a-a70a7f179c30"
      },
      "execution_count": 1,
      "outputs": [
        {
          "output_type": "stream",
          "name": "stdout",
          "text": [
            "당신의 이름은?예원\n",
            "예원님, 안녕!\n",
            "당신의 이름은?종료\n",
            "종료합니다.\n"
          ]
        }
      ]
    },
    {
      "cell_type": "code",
      "source": [
        "fruits = ['apple', 'banana', 'orange']\n",
        "\n",
        "for fruit in fruits:\n",
        "    print(fruit)"
      ],
      "metadata": {
        "colab": {
          "base_uri": "https://localhost:8080/"
        },
        "id": "rE87Y35p2jqp",
        "outputId": "b5c2028c-1588-4956-92d9-9aa3109f5d23"
      },
      "execution_count": 2,
      "outputs": [
        {
          "output_type": "stream",
          "name": "stdout",
          "text": [
            "apple\n",
            "banana\n",
            "orange\n"
          ]
        }
      ]
    },
    {
      "cell_type": "code",
      "source": [
        "fruits  = (\"apple\",  \"banana\",  \"orange\")\n",
        "\n",
        "for fruit in fruits:\n",
        "    print(fruit)"
      ],
      "metadata": {
        "colab": {
          "base_uri": "https://localhost:8080/"
        },
        "id": "UKCoOF0z3Y3H",
        "outputId": "64d26641-7a57-43f9-a660-2c168ef0821b"
      },
      "execution_count": 3,
      "outputs": [
        {
          "output_type": "stream",
          "name": "stdout",
          "text": [
            "apple\n",
            "banana\n",
            "orange\n"
          ]
        }
      ]
    },
    {
      "cell_type": "code",
      "source": [
        "ex = \"파이썬 공부는 재밌다!\"\n",
        "\n",
        "for i in ex:\n",
        "    print(i)"
      ],
      "metadata": {
        "colab": {
          "base_uri": "https://localhost:8080/"
        },
        "id": "dZDrj_103coQ",
        "outputId": "942cfae2-61d0-4606-b37b-dd9cfe3a7332"
      },
      "execution_count": 4,
      "outputs": [
        {
          "output_type": "stream",
          "name": "stdout",
          "text": [
            "파\n",
            "이\n",
            "썬\n",
            " \n",
            "공\n",
            "부\n",
            "는\n",
            " \n",
            "재\n",
            "밌\n",
            "다\n",
            "!\n"
          ]
        }
      ]
    },
    {
      "cell_type": "code",
      "source": [
        "num=30\n",
        "\n",
        "while num<=30:\n",
        "    num=num-1\n",
        "    print(num)\n",
        "    if (num-1)==0:\n",
        "      break\n",
        "\n",
        "\n"
      ],
      "metadata": {
        "colab": {
          "base_uri": "https://localhost:8080/"
        },
        "id": "Zim4KT7w4fUL",
        "outputId": "e83683ec-7502-414f-807e-1d9b95d15f8c"
      },
      "execution_count": 2,
      "outputs": [
        {
          "output_type": "stream",
          "name": "stdout",
          "text": [
            "29\n",
            "28\n",
            "27\n",
            "26\n",
            "25\n",
            "24\n",
            "23\n",
            "22\n",
            "21\n",
            "20\n",
            "19\n",
            "18\n",
            "17\n",
            "16\n",
            "15\n",
            "14\n",
            "13\n",
            "12\n",
            "11\n",
            "10\n",
            "9\n",
            "8\n",
            "7\n",
            "6\n",
            "5\n",
            "4\n",
            "3\n",
            "2\n",
            "1\n"
          ]
        }
      ]
    },
    {
      "cell_type": "code",
      "source": [
        "def add(num1,num2):\n",
        "    return num1+num2\n",
        "add(1,2)"
      ],
      "metadata": {
        "colab": {
          "base_uri": "https://localhost:8080/"
        },
        "id": "7bIq-aGW_nn_",
        "outputId": "6e0c686b-8271-496a-ee7f-d5c7670322b2"
      },
      "execution_count": 5,
      "outputs": [
        {
          "output_type": "execute_result",
          "data": {
            "text/plain": [
              "3"
            ]
          },
          "metadata": {},
          "execution_count": 5
        }
      ]
    },
    {
      "cell_type": "code",
      "source": [
        "def add_mul(n1,n2):\n",
        "    return n1+n2, n1*n2\n",
        "add_mul(1,2)"
      ],
      "metadata": {
        "colab": {
          "base_uri": "https://localhost:8080/"
        },
        "id": "E3226kdgBD5Q",
        "outputId": "5eaef3c1-78dc-451b-aad7-1cd7f75095ec"
      },
      "execution_count": 6,
      "outputs": [
        {
          "output_type": "execute_result",
          "data": {
            "text/plain": [
              "(3, 2)"
            ]
          },
          "metadata": {},
          "execution_count": 6
        }
      ]
    },
    {
      "cell_type": "code",
      "source": [
        "import random\n",
        "numbers=[1,2,3,4,5,6,7,8,44,56,32,46]\n",
        "print(random.choice(numbers))"
      ],
      "metadata": {
        "colab": {
          "base_uri": "https://localhost:8080/"
        },
        "id": "1H3_yHXjFGDb",
        "outputId": "c97feb33-3108-48c8-e7b2-f0a9431e9d1d"
      },
      "execution_count": 9,
      "outputs": [
        {
          "output_type": "stream",
          "name": "stdout",
          "text": [
            "32\n"
          ]
        }
      ]
    },
    {
      "cell_type": "code",
      "source": [
        "import random\n",
        "numbers=[1,2,3,4,5,6,7,8,44,56,32,46]\n",
        "print(random.sample(numbers,2))"
      ],
      "metadata": {
        "colab": {
          "base_uri": "https://localhost:8080/"
        },
        "id": "7LFpo_dUDmtX",
        "outputId": "12e93300-3de7-4c4e-e0be-8666e58c7fc5"
      },
      "execution_count": 13,
      "outputs": [
        {
          "output_type": "stream",
          "name": "stdout",
          "text": [
            "[46, 3]\n"
          ]
        }
      ]
    },
    {
      "cell_type": "code",
      "source": [
        "def square1(n1):\n",
        "  return n1*1\n",
        "square1(2)"
      ],
      "metadata": {
        "colab": {
          "base_uri": "https://localhost:8080/"
        },
        "id": "f9IdkXHwGrGX",
        "outputId": "2937b683-3d67-46ee-9392-78235ac1e5f1"
      },
      "execution_count": 18,
      "outputs": [
        {
          "output_type": "execute_result",
          "data": {
            "text/plain": [
              "2"
            ]
          },
          "metadata": {},
          "execution_count": 18
        }
      ]
    },
    {
      "cell_type": "code",
      "source": [],
      "metadata": {
        "id": "IUfGHQ0VHmiI"
      },
      "execution_count": null,
      "outputs": []
    }
  ]
}