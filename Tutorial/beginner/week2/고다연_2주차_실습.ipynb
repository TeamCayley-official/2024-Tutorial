{
  "nbformat": 4,
  "nbformat_minor": 0,
  "metadata": {
    "colab": {
      "provenance": []
    },
    "kernelspec": {
      "name": "python3",
      "display_name": "Python 3"
    },
    "language_info": {
      "name": "python"
    }
  },
  "cells": [
    {
      "cell_type": "markdown",
      "source": [
        "Q1. 30에서 1씩 빼다가 결과가 5의 배수가 되면 멈추는 식을 작성해보세요."
      ],
      "metadata": {
        "id": "XWtNu3yEgKAR"
      }
    },
    {
      "cell_type": "code",
      "execution_count": null,
      "metadata": {
        "colab": {
          "base_uri": "https://localhost:8080/"
        },
        "id": "_G6QifZNelkO",
        "outputId": "4dc0d0f6-9d06-4357-c7e6-77de3a9b48af"
      },
      "outputs": [
        {
          "output_type": "stream",
          "name": "stdout",
          "text": [
            "29\n",
            "28\n",
            "27\n",
            "26\n",
            "25\n"
          ]
        }
      ],
      "source": [
        "a = 30\n",
        "\n",
        "while a <= 30:\n",
        "\ta = a - 1\n",
        "\tprint(a)\n",
        "\tif a % 5 == 0:\n",
        "\t\tbreak"
      ]
    },
    {
      "cell_type": "markdown",
      "source": [
        "Q2. 1에서 100 사이의 모든 짝수의 합을 구해보세요."
      ],
      "metadata": {
        "id": "1EugFUYvgQkp"
      }
    },
    {
      "cell_type": "code",
      "source": [
        "sum_list = []\n",
        "\n",
        "for i in range(1,101):\n",
        "  if i%2 == 0:\n",
        "    sum_list.append(i)\n",
        "print(sum(sum_list))"
      ],
      "metadata": {
        "colab": {
          "base_uri": "https://localhost:8080/"
        },
        "id": "lcCLl0f3qoPt",
        "outputId": "91157383-d400-4f53-e823-56494e8bea7f"
      },
      "execution_count": null,
      "outputs": [
        {
          "output_type": "stream",
          "name": "stdout",
          "text": [
            "2550\n"
          ]
        }
      ]
    },
    {
      "cell_type": "markdown",
      "source": [
        "Q3. 다음 과일 이름 리스트 중, 과일 이름의 길이가 가장 긴 과일을 찾아보세요.\n",
        "\n",
        "fruits = ['사과', '오렌지', '파인애플', '귤', '천도복숭아', '리치', '코코넛', '샤인머스켓', '드래곤후르츠', '한라봉', '감']"
      ],
      "metadata": {
        "id": "Wm6jTLgMroxh"
      }
    },
    {
      "cell_type": "code",
      "source": [
        "fruits = ['사과', '오렌지', '파인애플', '귤', '천도복숭아', '리치', '코코넛', '샤인머스켓', '드래곤후르츠', '한라봉', '감']\n",
        "\n",
        "name_len=[]\n",
        "for i in fruits:\n",
        "  a = len(i)\n",
        "  name_len.append(a)\n",
        "\n",
        "index_num = name_len.index(max(name_len))\n",
        "print('{0}: {1}글자'.format(fruits[index_num], max(name_len)))"
      ],
      "metadata": {
        "colab": {
          "base_uri": "https://localhost:8080/"
        },
        "id": "cTqQwl3Or2Pg",
        "outputId": "eb1d1e54-e706-4b5e-f5db-f790d788a664"
      },
      "execution_count": null,
      "outputs": [
        {
          "output_type": "stream",
          "name": "stdout",
          "text": [
            "드래곤후르츠: 6글자\n"
          ]
        }
      ]
    },
    {
      "cell_type": "markdown",
      "source": [
        "Q4. while문을 활용하여 구구단 1단부터 9단까지 출력해보세요."
      ],
      "metadata": {
        "id": "-ISvLzGTr27w"
      }
    },
    {
      "cell_type": "code",
      "source": [
        "num = 0\n",
        "\n",
        "while num <=8:\n",
        "  num += 1\n",
        "  num2 = 1\n",
        "  while num2<=9:\n",
        "    print('%d * %d = %d'%(num, num2, num * num2))\n",
        "    num2 += 1\n",
        "  print('===%d단 끝!==='%(num))\n",
        "print('구구단 1단부터 9단까지 끝!')"
      ],
      "metadata": {
        "colab": {
          "base_uri": "https://localhost:8080/"
        },
        "id": "7kzTYn9_r963",
        "outputId": "e6d33f8d-afd3-4eef-b6b4-ec6e8d2a9c11"
      },
      "execution_count": null,
      "outputs": [
        {
          "output_type": "stream",
          "name": "stdout",
          "text": [
            "1 * 1 = 1\n",
            "1 * 2 = 2\n",
            "1 * 3 = 3\n",
            "1 * 4 = 4\n",
            "1 * 5 = 5\n",
            "1 * 6 = 6\n",
            "1 * 7 = 7\n",
            "1 * 8 = 8\n",
            "1 * 9 = 9\n",
            "===1단 끝!===\n",
            "2 * 1 = 2\n",
            "2 * 2 = 4\n",
            "2 * 3 = 6\n",
            "2 * 4 = 8\n",
            "2 * 5 = 10\n",
            "2 * 6 = 12\n",
            "2 * 7 = 14\n",
            "2 * 8 = 16\n",
            "2 * 9 = 18\n",
            "===2단 끝!===\n",
            "3 * 1 = 3\n",
            "3 * 2 = 6\n",
            "3 * 3 = 9\n",
            "3 * 4 = 12\n",
            "3 * 5 = 15\n",
            "3 * 6 = 18\n",
            "3 * 7 = 21\n",
            "3 * 8 = 24\n",
            "3 * 9 = 27\n",
            "===3단 끝!===\n",
            "4 * 1 = 4\n",
            "4 * 2 = 8\n",
            "4 * 3 = 12\n",
            "4 * 4 = 16\n",
            "4 * 5 = 20\n",
            "4 * 6 = 24\n",
            "4 * 7 = 28\n",
            "4 * 8 = 32\n",
            "4 * 9 = 36\n",
            "===4단 끝!===\n",
            "5 * 1 = 5\n",
            "5 * 2 = 10\n",
            "5 * 3 = 15\n",
            "5 * 4 = 20\n",
            "5 * 5 = 25\n",
            "5 * 6 = 30\n",
            "5 * 7 = 35\n",
            "5 * 8 = 40\n",
            "5 * 9 = 45\n",
            "===5단 끝!===\n",
            "6 * 1 = 6\n",
            "6 * 2 = 12\n",
            "6 * 3 = 18\n",
            "6 * 4 = 24\n",
            "6 * 5 = 30\n",
            "6 * 6 = 36\n",
            "6 * 7 = 42\n",
            "6 * 8 = 48\n",
            "6 * 9 = 54\n",
            "===6단 끝!===\n",
            "7 * 1 = 7\n",
            "7 * 2 = 14\n",
            "7 * 3 = 21\n",
            "7 * 4 = 28\n",
            "7 * 5 = 35\n",
            "7 * 6 = 42\n",
            "7 * 7 = 49\n",
            "7 * 8 = 56\n",
            "7 * 9 = 63\n",
            "===7단 끝!===\n",
            "8 * 1 = 8\n",
            "8 * 2 = 16\n",
            "8 * 3 = 24\n",
            "8 * 4 = 32\n",
            "8 * 5 = 40\n",
            "8 * 6 = 48\n",
            "8 * 7 = 56\n",
            "8 * 8 = 64\n",
            "8 * 9 = 72\n",
            "===8단 끝!===\n",
            "9 * 1 = 9\n",
            "9 * 2 = 18\n",
            "9 * 3 = 27\n",
            "9 * 4 = 36\n",
            "9 * 5 = 45\n",
            "9 * 6 = 54\n",
            "9 * 7 = 63\n",
            "9 * 8 = 72\n",
            "9 * 9 = 81\n",
            "===9단 끝!===\n",
            "구구단 1단부터 9단까지 끝!\n"
          ]
        }
      ]
    },
    {
      "cell_type": "markdown",
      "source": [
        "Q5. 369게임 결과를 출력해보세요. (단, 33, 36, 39는 박수를 두 번치고, 50번째에 게임은 끝남)"
      ],
      "metadata": {
        "id": "nChmn_oTr-LY"
      }
    },
    {
      "cell_type": "code",
      "source": [
        "clap = ['3', '6', '9']\n",
        "\n",
        "for i in range(1, 51):\n",
        "    count = 0\n",
        "    for j in str(i):\n",
        "      if j in clap:\n",
        "        count += 1\n",
        "      if count > 0:\n",
        "        i = '짝' * count\n",
        "      print(i)"
      ],
      "metadata": {
        "colab": {
          "base_uri": "https://localhost:8080/"
        },
        "id": "z_rIhbNSsEv8",
        "outputId": "9a6911e8-9bad-4b71-e44f-57df39ddc10c"
      },
      "execution_count": null,
      "outputs": [
        {
          "output_type": "stream",
          "name": "stdout",
          "text": [
            "1\n",
            "2\n",
            "짝\n",
            "4\n",
            "5\n",
            "짝\n",
            "7\n",
            "8\n",
            "짝\n",
            "10\n",
            "10\n",
            "11\n",
            "11\n",
            "12\n",
            "12\n",
            "13\n",
            "짝\n",
            "14\n",
            "14\n",
            "15\n",
            "15\n",
            "16\n",
            "짝\n",
            "17\n",
            "17\n",
            "18\n",
            "18\n",
            "19\n",
            "짝\n",
            "20\n",
            "20\n",
            "21\n",
            "21\n",
            "22\n",
            "22\n",
            "23\n",
            "짝\n",
            "24\n",
            "24\n",
            "25\n",
            "25\n",
            "26\n",
            "짝\n",
            "27\n",
            "27\n",
            "28\n",
            "28\n",
            "29\n",
            "짝\n",
            "짝\n",
            "짝\n",
            "짝\n",
            "짝\n",
            "짝\n",
            "짝\n",
            "짝\n",
            "짝짝\n",
            "짝\n",
            "짝\n",
            "짝\n",
            "짝\n",
            "짝\n",
            "짝짝\n",
            "짝\n",
            "짝\n",
            "짝\n",
            "짝\n",
            "짝\n",
            "짝짝\n",
            "40\n",
            "40\n",
            "41\n",
            "41\n",
            "42\n",
            "42\n",
            "43\n",
            "짝\n",
            "44\n",
            "44\n",
            "45\n",
            "45\n",
            "46\n",
            "짝\n",
            "47\n",
            "47\n",
            "48\n",
            "48\n",
            "49\n",
            "짝\n",
            "50\n",
            "50\n"
          ]
        }
      ]
    },
    {
      "cell_type": "markdown",
      "source": [
        "Q6. beyonce의 등수는 1등, 임영웅의 등수는 3등, 장원영의 등수는 2등입니다. 이 정보들을 변수에 넣어 아래 예시와 같이 이름을 입력받고 점수를 출력하는 프로그램을 만드세요."
      ],
      "metadata": {
        "id": "x-GZ1fnCsFIl"
      }
    },
    {
      "cell_type": "code",
      "source": [
        "rank ={'beyonce': '1', '임영웅':'3', '장원영':'2'}\n",
        "name_list = list(rank.keys())\n",
        "name = input(\"이름은?\")\n",
        "\n",
        "while name:\n",
        "  if name in name_list:\n",
        "    print(name,\"의 등수는 \",rank[name], sep='')\n",
        "\n",
        "  elif name not in name_list:\n",
        "    print(name,\"는(은) 없어요\",sep='')\n",
        "\n",
        "  break"
      ],
      "metadata": {
        "colab": {
          "base_uri": "https://localhost:8080/"
        },
        "id": "RjnmFbyysOfl",
        "outputId": "a9669f56-808e-42bb-e078-9765edc1de78"
      },
      "execution_count": null,
      "outputs": [
        {
          "output_type": "stream",
          "name": "stdout",
          "text": [
            "이름은?고다연\n",
            "고다연는(은) 없어요\n"
          ]
        }
      ]
    },
    {
      "cell_type": "markdown",
      "source": [
        "**7. 함수**\n",
        "\n",
        "Q1. 구구단을 외자! 숫자를 입력받으면, 해당 숫자의 구구단(해당 숫자에 1~9를 곱한 값들)을 출력하는 함수를 만드세요."
      ],
      "metadata": {
        "id": "D9hr-ZTKxnrU"
      }
    },
    {
      "cell_type": "code",
      "source": [
        "def print_gugu(x):\n",
        "  for i in list(range(1,10)):\n",
        "    print(x * i)\n",
        "\n",
        "gugu = int(input(\"숫자를 입력하세요\"))\n",
        "while gugu !=0:\n",
        "  print_gugu(gugu)\n",
        "  gugu = int(input())\n",
        "\n"
      ],
      "metadata": {
        "colab": {
          "base_uri": "https://localhost:8080/"
        },
        "id": "iN6ubw7gxzxD",
        "outputId": "4892cf6f-9c9b-49fa-ff2d-f8c10595abd9"
      },
      "execution_count": null,
      "outputs": [
        {
          "output_type": "stream",
          "name": "stdout",
          "text": [
            "숫자를 입력하세요9\n",
            "9\n",
            "18\n",
            "27\n",
            "36\n",
            "45\n",
            "54\n",
            "63\n",
            "72\n",
            "81\n"
          ]
        }
      ]
    },
    {
      "cell_type": "markdown",
      "source": [
        "Q2. 이번 주 로또 번호를 화면에 표시하는 프로그램을 만들고자 합니다.\n",
        "\n",
        "로또 설명\n",
        "\n",
        "1000회분의 로또 번호를 랜덤하게 생성한 것을 지난 1000회의 로또 번호라 가정합니다.\n",
        "1회분의 로또 번호는 1-45 사이의 중복되지 않는 숫자 6개로 이뤄집니다.\n",
        "지난 1000회에서 나온 숫자(1000회*6개)의 빈도를 계산하고 표시한 후, 가장 높은 빈도를 가진 숫자 6개를 뽑아 이 주의 로또 번호로 화면에 표시합니다.\n",
        "로또 함수 설명\n",
        "\n",
        "1회분의 로또 번호 생성기를 하나의 함수로 만듭니다.\n",
        "이 함수를 1000회 사용하면 1000주 분량의 로또 번호를 만들 수 있습니다.\n",
        "1000회분의 로또 번호를 화면에 표시합니다.\n",
        "이 결과를 모아 통계를 내, 각 숫자가 몇회 등장했는지 표시합니다.\n",
        "가장 자주 나타난 숫자 6개를 고르면, 이것이 이 주의 로또 번호 예측입니다.\n",
        "동수가 동수가 있을 경우 어느 숫자를 골라도 무관합니다. 예컨대, 23과 41이 모두 80회씩 나타났다면 둘 중 아무 숫자를 써도 상관 없습니다."
      ],
      "metadata": {
        "id": "vxAfAxqjxzad"
      }
    },
    {
      "cell_type": "code",
      "source": [
        "def lotto_generator(x):\n",
        "\timport random\n",
        "\tvalist = list(range(1,46))\n",
        "\tlottery_nums = []\n",
        "\tfor i in range(6):\n",
        "\t\trandom.shuffle(valist)\n",
        "\t\tval  = random.choice(valist)\n",
        "\t\tlottery_nums.append(val)\n",
        "\tprint(\"\\n%s회 :\" % x , end = \" \")\n",
        "\tfor i in lottery_nums:\n",
        "\t\tprint(i,end = \" \")\n",
        "\treturn lottery_nums\n",
        "\n",
        "def lotto_stat(x):\n",
        "    results = {}\n",
        "    for i in range(1,46):\n",
        "        results[i] = 0\n",
        "    for i in range(1,x+1):\n",
        "        lottery_nums = lotto_generator(i)\n",
        "        for i in lottery_nums:\n",
        "            results[i] = results[i] + 1\n",
        "    print(\"\\n\")\n",
        "    for i in results.keys():\n",
        "        print(\"%s : %d회\" % (i,results[i]))\n",
        "    return results\n",
        "\n",
        "\n",
        "results = lotto_stat(30)\n",
        "\n",
        "this_nums = sorted(results, key= lambda c :results[c], reverse=True)[:6]\n",
        "\n",
        "print(\"이 주의 로또 번호 :\",end = \" \")\n",
        "for i in this_nums:\n",
        "    print(i, end = \" \")"
      ],
      "metadata": {
        "colab": {
          "base_uri": "https://localhost:8080/"
        },
        "id": "Mrnc0903x4zL",
        "outputId": "e0ae9e4e-160e-4a89-acf7-c9df9fe38fd0"
      },
      "execution_count": null,
      "outputs": [
        {
          "output_type": "stream",
          "name": "stdout",
          "text": [
            "\n",
            "1회 : 23 26 5 37 43 15 \n",
            "2회 : 20 24 45 39 43 8 \n",
            "3회 : 20 34 9 8 22 12 \n",
            "4회 : 26 42 35 25 31 32 \n",
            "5회 : 16 13 31 5 28 38 \n",
            "6회 : 34 19 16 32 1 22 \n",
            "7회 : 20 41 8 36 31 28 \n",
            "8회 : 20 32 25 23 9 30 \n",
            "9회 : 5 3 26 8 38 22 \n",
            "10회 : 18 5 19 45 16 39 \n",
            "11회 : 32 32 19 2 14 13 \n",
            "12회 : 45 14 1 11 16 28 \n",
            "13회 : 28 18 30 7 28 42 \n",
            "14회 : 2 12 4 35 17 32 \n",
            "15회 : 15 8 12 9 20 41 \n",
            "16회 : 43 7 27 32 5 22 \n",
            "17회 : 4 29 16 36 32 22 \n",
            "18회 : 14 10 37 45 4 22 \n",
            "19회 : 10 3 1 44 5 27 \n",
            "20회 : 18 30 17 7 1 29 \n",
            "21회 : 12 34 39 37 37 43 \n",
            "22회 : 19 10 41 19 39 12 \n",
            "23회 : 29 25 33 40 4 6 \n",
            "24회 : 44 18 32 27 35 15 \n",
            "25회 : 14 19 42 18 25 40 \n",
            "26회 : 5 42 38 15 1 17 \n",
            "27회 : 3 5 12 33 5 31 \n",
            "28회 : 35 12 25 28 40 28 \n",
            "29회 : 16 36 41 13 13 3 \n",
            "30회 : 10 31 9 32 38 18 \n",
            "\n",
            "1 : 5회\n",
            "2 : 2회\n",
            "3 : 4회\n",
            "4 : 4회\n",
            "5 : 9회\n",
            "6 : 1회\n",
            "7 : 3회\n",
            "8 : 5회\n",
            "9 : 4회\n",
            "10 : 4회\n",
            "11 : 1회\n",
            "12 : 7회\n",
            "13 : 4회\n",
            "14 : 4회\n",
            "15 : 4회\n",
            "16 : 6회\n",
            "17 : 3회\n",
            "18 : 6회\n",
            "19 : 6회\n",
            "20 : 5회\n",
            "21 : 0회\n",
            "22 : 6회\n",
            "23 : 2회\n",
            "24 : 1회\n",
            "25 : 5회\n",
            "26 : 3회\n",
            "27 : 3회\n",
            "28 : 7회\n",
            "29 : 3회\n",
            "30 : 3회\n",
            "31 : 5회\n",
            "32 : 10회\n",
            "33 : 2회\n",
            "34 : 3회\n",
            "35 : 4회\n",
            "36 : 3회\n",
            "37 : 4회\n",
            "38 : 4회\n",
            "39 : 4회\n",
            "40 : 3회\n",
            "41 : 4회\n",
            "42 : 4회\n",
            "43 : 4회\n",
            "44 : 2회\n",
            "45 : 4회\n",
            "이 주의 로또 번호 : 32 5 12 28 16 18 "
          ]
        }
      ]
    }
  ]
}