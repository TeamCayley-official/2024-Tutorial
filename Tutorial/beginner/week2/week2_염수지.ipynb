{
  "nbformat": 4,
  "nbformat_minor": 0,
  "metadata": {
    "colab": {
      "provenance": []
    },
    "kernelspec": {
      "name": "python3",
      "display_name": "Python 3"
    },
    "language_info": {
      "name": "python"
    }
  },
  "cells": [
    {
      "cell_type": "code",
      "source": [],
      "metadata": {
        "id": "vUGYJpOr4vtk"
      },
      "execution_count": null,
      "outputs": []
    },
    {
      "cell_type": "code",
      "execution_count": null,
      "metadata": {
        "colab": {
          "base_uri": "https://localhost:8080/"
        },
        "id": "UKAug1lSRYKV",
        "outputId": "01eae5e7-6033-4015-ecbf-bdd50379ec16"
      },
      "outputs": [
        {
          "output_type": "stream",
          "name": "stdout",
          "text": [
            "29\n",
            "28\n",
            "27\n",
            "26\n",
            "25\n"
          ]
        }
      ],
      "source": [
        "#Q1\n",
        "a = 30\n",
        "while a<=30:\n",
        "  a-=1\n",
        "  print (a)\n",
        "  if a%5==0:\n",
        "    break"
      ]
    },
    {
      "cell_type": "code",
      "source": [
        "#Q2\n",
        "sum = 0\n",
        "for i in range (2,101,2):\n",
        "  sum += i\n",
        "print(sum)\n"
      ],
      "metadata": {
        "colab": {
          "base_uri": "https://localhost:8080/"
        },
        "id": "3ljcq4meRs4g",
        "outputId": "2d7542ab-c05f-4497-9fad-895887e2e00d"
      },
      "execution_count": null,
      "outputs": [
        {
          "output_type": "stream",
          "name": "stdout",
          "text": [
            "2550\n"
          ]
        }
      ]
    },
    {
      "cell_type": "code",
      "source": [
        "#Q3\n",
        "fruits = ['사과', '오렌지', '파인애플', '귤', '천도복숭아', '리치', '코코넛', '샤인머스켓', '드래곤후르츠', '한라봉', '감']\n",
        "\n",
        "name_len=[]\n",
        "for i in fruits:\n",
        "  a=len(i)\n",
        "  name_len.append(a)\n"
      ],
      "metadata": {
        "id": "45n6UcrdRyjv"
      },
      "execution_count": null,
      "outputs": []
    },
    {
      "cell_type": "code",
      "source": [
        "#Q4\n",
        " dan = 0\n",
        " while dan<9:\n",
        "  dan += 1\n",
        "  num = 1\n",
        "  while num<10:\n",
        "    print(\"%d * %d = %d\" %(dan, num, dan*num))\n",
        "    num+=1"
      ],
      "metadata": {
        "colab": {
          "base_uri": "https://localhost:8080/"
        },
        "id": "9c_bA-4BR1s3",
        "outputId": "03456520-b685-4420-f3a0-df8c0f62cc8c"
      },
      "execution_count": null,
      "outputs": [
        {
          "output_type": "stream",
          "name": "stdout",
          "text": [
            "1 * 1 = 1\n",
            "1 * 2 = 2\n",
            "1 * 3 = 3\n",
            "1 * 4 = 4\n",
            "1 * 5 = 5\n",
            "1 * 6 = 6\n",
            "1 * 7 = 7\n",
            "1 * 8 = 8\n",
            "1 * 9 = 9\n",
            "2 * 1 = 2\n",
            "2 * 2 = 4\n",
            "2 * 3 = 6\n",
            "2 * 4 = 8\n",
            "2 * 5 = 10\n",
            "2 * 6 = 12\n",
            "2 * 7 = 14\n",
            "2 * 8 = 16\n",
            "2 * 9 = 18\n",
            "3 * 1 = 3\n",
            "3 * 2 = 6\n",
            "3 * 3 = 9\n",
            "3 * 4 = 12\n",
            "3 * 5 = 15\n",
            "3 * 6 = 18\n",
            "3 * 7 = 21\n",
            "3 * 8 = 24\n",
            "3 * 9 = 27\n",
            "4 * 1 = 4\n",
            "4 * 2 = 8\n",
            "4 * 3 = 12\n",
            "4 * 4 = 16\n",
            "4 * 5 = 20\n",
            "4 * 6 = 24\n",
            "4 * 7 = 28\n",
            "4 * 8 = 32\n",
            "4 * 9 = 36\n",
            "5 * 1 = 5\n",
            "5 * 2 = 10\n",
            "5 * 3 = 15\n",
            "5 * 4 = 20\n",
            "5 * 5 = 25\n",
            "5 * 6 = 30\n",
            "5 * 7 = 35\n",
            "5 * 8 = 40\n",
            "5 * 9 = 45\n",
            "6 * 1 = 6\n",
            "6 * 2 = 12\n",
            "6 * 3 = 18\n",
            "6 * 4 = 24\n",
            "6 * 5 = 30\n",
            "6 * 6 = 36\n",
            "6 * 7 = 42\n",
            "6 * 8 = 48\n",
            "6 * 9 = 54\n",
            "7 * 1 = 7\n",
            "7 * 2 = 14\n",
            "7 * 3 = 21\n",
            "7 * 4 = 28\n",
            "7 * 5 = 35\n",
            "7 * 6 = 42\n",
            "7 * 7 = 49\n",
            "7 * 8 = 56\n",
            "7 * 9 = 63\n",
            "8 * 1 = 8\n",
            "8 * 2 = 16\n",
            "8 * 3 = 24\n",
            "8 * 4 = 32\n",
            "8 * 5 = 40\n",
            "8 * 6 = 48\n",
            "8 * 7 = 56\n",
            "8 * 8 = 64\n",
            "8 * 9 = 72\n",
            "9 * 1 = 9\n",
            "9 * 2 = 18\n",
            "9 * 3 = 27\n",
            "9 * 4 = 36\n",
            "9 * 5 = 45\n",
            "9 * 6 = 54\n",
            "9 * 7 = 63\n",
            "9 * 8 = 72\n",
            "9 * 9 = 81\n"
          ]
        }
      ]
    },
    {
      "cell_type": "code",
      "source": [
        "#Q5\n",
        "clap = ['3','6','9']\n",
        "\n",
        "for i in range(1,51):\n",
        "  count = 0\n",
        "  for j in str(i):\n",
        "    if j in clap:\n",
        "      count += 1\n",
        "  if count>0:\n",
        "    i = '짝!'* count\n",
        "  print(i)\n"
      ],
      "metadata": {
        "colab": {
          "base_uri": "https://localhost:8080/"
        },
        "id": "Gh4PTx3WR4tG",
        "outputId": "584eba84-a28f-443d-8e86-7111e94eb2bd"
      },
      "execution_count": null,
      "outputs": [
        {
          "output_type": "stream",
          "name": "stdout",
          "text": [
            "1\n",
            "2\n",
            "짝!\n",
            "4\n",
            "5\n",
            "짝!\n",
            "7\n",
            "8\n",
            "짝!\n",
            "10\n",
            "11\n",
            "12\n",
            "짝!\n",
            "14\n",
            "15\n",
            "짝!\n",
            "17\n",
            "18\n",
            "짝!\n",
            "20\n",
            "21\n",
            "22\n",
            "짝!\n",
            "24\n",
            "25\n",
            "짝!\n",
            "27\n",
            "28\n",
            "짝!\n",
            "짝!\n",
            "짝!\n",
            "짝!\n",
            "짝!짝!\n",
            "짝!\n",
            "짝!\n",
            "짝!짝!\n",
            "짝!\n",
            "짝!\n",
            "짝!짝!\n",
            "40\n",
            "41\n",
            "42\n",
            "짝!\n",
            "44\n",
            "45\n",
            "짝!\n",
            "47\n",
            "48\n",
            "짝!\n",
            "50\n"
          ]
        }
      ]
    },
    {
      "cell_type": "code",
      "source": [
        "#Q6\n",
        "rank = {'beyonce':'1', '임영웅': '3', '장원영':'2'}\n",
        "name_list = list(rank.keys())\n",
        "name = input(\"이름은?\")\n",
        "\n",
        "if name in name_list:\n",
        "  print(name,\"의 등수는 \",rank[name])\n",
        "elif name not in name_list:\n",
        "  print(name, \"는(은) 없어요\")"
      ],
      "metadata": {
        "colab": {
          "base_uri": "https://localhost:8080/"
        },
        "id": "DHyUop5HR6CV",
        "outputId": "23442eba-f912-4634-8fdf-089d755d9769"
      },
      "execution_count": null,
      "outputs": [
        {
          "output_type": "stream",
          "name": "stdout",
          "text": [
            "이름은?beyonce\n",
            "beyonce 의 등수는  1\n"
          ]
        }
      ]
    },
    {
      "cell_type": "code",
      "source": [
        "#7-4 실습\n",
        "#Q1\n",
        "def print_dan(x):\n",
        "  for i in list (range(1,10)):\n",
        "    print (x * i)\n",
        "\n",
        "dan = int(input(\"숫자를 입력하세요\"))\n",
        "print_dan((dan))\n"
      ],
      "metadata": {
        "colab": {
          "base_uri": "https://localhost:8080/"
        },
        "id": "i8bzo0miZkpG",
        "outputId": "c09f7d27-6d51-473d-c43b-f45eb7955b4d"
      },
      "execution_count": null,
      "outputs": [
        {
          "output_type": "stream",
          "name": "stdout",
          "text": [
            "숫자를 입력하세요3\n",
            "3\n",
            "6\n",
            "9\n",
            "12\n",
            "15\n",
            "18\n",
            "21\n",
            "24\n",
            "27\n"
          ]
        }
      ]
    },
    {
      "cell_type": "code",
      "source": [
        "#Q2\n",
        "def lotto_generator(x):\n",
        "\timport random\n",
        "\tvalist = list(range(1,46))\n",
        "\tlottery_nums = []\n",
        "\tfor i in range(6):\n",
        "\t\trandom.shuffle(valist)\n",
        "\t\tval  = random.choice(valist)\n",
        "\t\tlottery_nums.append(val)\n",
        "\tprint(\"\\n%s회 :\" % x , end = \" \")\n",
        "\tfor i in lottery_nums:\n",
        "\t\tprint(i,end = \" \")\n",
        "\treturn lottery_nums\n",
        "\n",
        "def lotto_stat(x):\n",
        "    results = {}\n",
        "    for i in range(1,46):\n",
        "        results[i] = 0\n",
        "    for i in range(1,x+1):\n",
        "        lottery_nums = lotto_generator(i)\n",
        "        for i in lottery_nums:\n",
        "            results[i] = results[i] + 1\n",
        "    print(\"\\n\")\n",
        "    for i in results.keys():\n",
        "        print(\"%s : %d회\" % (i,results[i]))\n",
        "    return results\n",
        "\n",
        "\n",
        "results = lotto_stat(30)\n",
        "\n",
        "this_nums = sorted(results, key= lambda c :results[c], reverse=True)[:6]\n",
        "\n",
        "print(\"이 주의 로또 번호 :\",end = \" \")\n",
        "for i in this_nums:\n",
        "    print(i, end = \" \")"
      ],
      "metadata": {
        "id": "UFlLCwfDZ65L"
      },
      "execution_count": null,
      "outputs": []
    }
  ]
}