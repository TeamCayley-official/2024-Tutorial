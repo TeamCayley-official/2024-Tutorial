{
  "nbformat": 4,
  "nbformat_minor": 0,
  "metadata": {
    "colab": {
      "provenance": []
    },
    "kernelspec": {
      "name": "python3",
      "display_name": "Python 3"
    },
    "language_info": {
      "name": "python"
    }
  },
  "cells": [
    {
      "cell_type": "markdown",
      "source": [
        "2주차 실습 - 5"
      ],
      "metadata": {
        "id": "fYFe45_FCCQk"
      }
    },
    {
      "cell_type": "code",
      "execution_count": 2,
      "metadata": {
        "colab": {
          "base_uri": "https://localhost:8080/"
        },
        "id": "3UCe939PB_Gn",
        "outputId": "edfa38d0-3d86-4a3e-8fff-5034afe60492"
      },
      "outputs": [
        {
          "output_type": "stream",
          "name": "stdout",
          "text": [
            "True\n"
          ]
        }
      ],
      "source": [
        "vegan_matzip = {'제로비건':'02-5145-8910','쏭타이':'0507-1303-2495','몽크스부처':'02-790-1108','드렁큰비건':'070-7543-8101'}\n",
        "print('쏭타이' in vegan_matzip)"
      ]
    },
    {
      "cell_type": "code",
      "source": [
        "print('플랜트' in vegan_matzip)"
      ],
      "metadata": {
        "colab": {
          "base_uri": "https://localhost:8080/"
        },
        "id": "fujrFZj7DE6Q",
        "outputId": "afaccd73-99ef-4461-ad56-f50aed0e630b"
      },
      "execution_count": 3,
      "outputs": [
        {
          "output_type": "stream",
          "name": "stdout",
          "text": [
            "False\n"
          ]
        }
      ]
    },
    {
      "cell_type": "markdown",
      "source": [
        "2주차 실습 - 6"
      ],
      "metadata": {
        "id": "RJAg5NcfEsGf"
      }
    },
    {
      "cell_type": "code",
      "source": [
        "weather = rain\n",
        "if weather = rain:\n",
        "  print('여행 취소')\n",
        "else:\n",
        "  print('여행 고고')\n"
      ],
      "metadata": {
        "colab": {
          "base_uri": "https://localhost:8080/",
          "height": 110
        },
        "id": "lr-E3ihGDQ0h",
        "outputId": "fe8f19d9-4e83-4797-a4a0-960b1b89d832"
      },
      "execution_count": 5,
      "outputs": [
        {
          "output_type": "error",
          "ename": "SyntaxError",
          "evalue": "invalid syntax. Maybe you meant '==' or ':=' instead of '='? (<ipython-input-5-8326ed732204>, line 2)",
          "traceback": [
            "\u001b[0;36m  File \u001b[0;32m\"<ipython-input-5-8326ed732204>\"\u001b[0;36m, line \u001b[0;32m2\u001b[0m\n\u001b[0;31m    if weather = rain:\u001b[0m\n\u001b[0m       ^\u001b[0m\n\u001b[0;31mSyntaxError\u001b[0m\u001b[0;31m:\u001b[0m invalid syntax. Maybe you meant '==' or ':=' instead of '='?\n"
          ]
        }
      ]
    },
    {
      "cell_type": "code",
      "source": [
        "# 비교연산자 사용예시\n",
        "score = 3.5\n",
        "\n",
        "if score > 4.0:\n",
        "  print('학점:A+')\n",
        "elif 3.5 < score <= 4.0:\n",
        "  print('학점:A')\n",
        "elif 3 < score <= 3.5:\n",
        "  print('학점:B+')\n",
        "else:\n",
        "  print('None')"
      ],
      "metadata": {
        "colab": {
          "base_uri": "https://localhost:8080/"
        },
        "id": "5nzJpg4cFGpk",
        "outputId": "754cbfdb-3ca1-4bb6-8ad1-3bb423a133cd"
      },
      "execution_count": 7,
      "outputs": [
        {
          "output_type": "stream",
          "name": "stdout",
          "text": [
            "학점:B+\n"
          ]
        }
      ]
    },
    {
      "cell_type": "code",
      "source": [
        "# 논리연산자 사용예시\n",
        "score = 3.5\n",
        "\n",
        "if score > 4.0:\n",
        "  print('학점:A+')\n",
        "elif (score <= 4.0) and (score > 3.5):\n",
        "  print('학점:A')\n",
        "elif (score <= 3.5) and (score > 3.0):\n",
        "  print('학점:B+')\n",
        "else:\n",
        "  print('None')"
      ],
      "metadata": {
        "colab": {
          "base_uri": "https://localhost:8080/"
        },
        "id": "A_5GPfyIFs8G",
        "outputId": "b161987a-1954-41f0-8fcb-618905e80cfd"
      },
      "execution_count": 8,
      "outputs": [
        {
          "output_type": "stream",
          "name": "stdout",
          "text": [
            "학점:B+\n"
          ]
        }
      ]
    },
    {
      "cell_type": "code",
      "source": [
        "# 리스트\n",
        "fruits = ['apple', 'banana', 'orange']\n",
        "\n",
        "for fruit in fruits:\n",
        "  print(fruit)"
      ],
      "metadata": {
        "colab": {
          "base_uri": "https://localhost:8080/"
        },
        "id": "eR8xOMDzGSJ8",
        "outputId": "a3923f67-1b07-42a8-fdeb-2a1238c18f90"
      },
      "execution_count": 9,
      "outputs": [
        {
          "output_type": "stream",
          "name": "stdout",
          "text": [
            "apple\n",
            "banana\n",
            "orange\n"
          ]
        }
      ]
    },
    {
      "cell_type": "code",
      "source": [
        "# 튜플\n",
        "fruiuts = (\"apple\", \"banana\", \"orange\")\n",
        "\n",
        "for fruit in fruits:\n",
        "  print(fruit)"
      ],
      "metadata": {
        "colab": {
          "base_uri": "https://localhost:8080/"
        },
        "id": "4ybSbicMGyHa",
        "outputId": "efe15675-bba1-49f3-90f8-2b93cf00a3f3"
      },
      "execution_count": 10,
      "outputs": [
        {
          "output_type": "stream",
          "name": "stdout",
          "text": [
            "apple\n",
            "banana\n",
            "orange\n"
          ]
        }
      ]
    },
    {
      "cell_type": "code",
      "source": [
        "# 문자열\n",
        "ex = \"파이썬 공부는 재밌다!\"\n",
        "\n",
        "for i in ex:\n",
        "  print(i)"
      ],
      "metadata": {
        "colab": {
          "base_uri": "https://localhost:8080/"
        },
        "id": "4QQNEdN8G7L4",
        "outputId": "280a59ba-5f83-47c6-a079-02d467abb399"
      },
      "execution_count": 12,
      "outputs": [
        {
          "output_type": "stream",
          "name": "stdout",
          "text": [
            "파\n",
            "이\n",
            "썬\n",
            " \n",
            "공\n",
            "부\n",
            "는\n",
            " \n",
            "재\n",
            "밌\n",
            "다\n",
            "!\n"
          ]
        }
      ]
    },
    {
      "cell_type": "code",
      "source": [
        "for a in range(1, 10):\n",
        "  for b in range(1, 10):\n",
        "    print('%d'* %d = %d%(a, b, a * b))\n",
        "    print('===%d단 끝!==='%(a))\n",
        "  print('구구단 1단부터 9단까지 끝!')"
      ],
      "metadata": {
        "colab": {
          "base_uri": "https://localhost:8080/",
          "height": 110
        },
        "id": "9pieLuk_HCSh",
        "outputId": "ba665eb4-1d90-4615-8351-9e5d9ba55368"
      },
      "execution_count": 15,
      "outputs": [
        {
          "output_type": "error",
          "ename": "SyntaxError",
          "evalue": "invalid syntax (<ipython-input-15-e228b60e7881>, line 3)",
          "traceback": [
            "\u001b[0;36m  File \u001b[0;32m\"<ipython-input-15-e228b60e7881>\"\u001b[0;36m, line \u001b[0;32m3\u001b[0m\n\u001b[0;31m    print('%d'* %d = %d%(a, b, a * b))\u001b[0m\n\u001b[0m                ^\u001b[0m\n\u001b[0;31mSyntaxError\u001b[0m\u001b[0;31m:\u001b[0m invalid syntax\n"
          ]
        }
      ]
    },
    {
      "cell_type": "code",
      "source": [
        "for a in  range(1,  10):\n",
        "    for b in  range(1,  10):\n",
        "        print('%d * %d = %d'%(a, b, a * b))\n",
        "    print('===%d단 끝!==='%(a))\n",
        "print('구구단 1단 부터 9단까지 끝!')"
      ],
      "metadata": {
        "colab": {
          "base_uri": "https://localhost:8080/"
        },
        "id": "3cxVB5CLH4lI",
        "outputId": "bc46b022-26af-4c0e-a9a0-e0ff1398b1fe"
      },
      "execution_count": 14,
      "outputs": [
        {
          "output_type": "stream",
          "name": "stdout",
          "text": [
            "1 * 1 = 1\n",
            "1 * 2 = 2\n",
            "1 * 3 = 3\n",
            "1 * 4 = 4\n",
            "1 * 5 = 5\n",
            "1 * 6 = 6\n",
            "1 * 7 = 7\n",
            "1 * 8 = 8\n",
            "1 * 9 = 9\n",
            "===1단 끝!===\n",
            "2 * 1 = 2\n",
            "2 * 2 = 4\n",
            "2 * 3 = 6\n",
            "2 * 4 = 8\n",
            "2 * 5 = 10\n",
            "2 * 6 = 12\n",
            "2 * 7 = 14\n",
            "2 * 8 = 16\n",
            "2 * 9 = 18\n",
            "===2단 끝!===\n",
            "3 * 1 = 3\n",
            "3 * 2 = 6\n",
            "3 * 3 = 9\n",
            "3 * 4 = 12\n",
            "3 * 5 = 15\n",
            "3 * 6 = 18\n",
            "3 * 7 = 21\n",
            "3 * 8 = 24\n",
            "3 * 9 = 27\n",
            "===3단 끝!===\n",
            "4 * 1 = 4\n",
            "4 * 2 = 8\n",
            "4 * 3 = 12\n",
            "4 * 4 = 16\n",
            "4 * 5 = 20\n",
            "4 * 6 = 24\n",
            "4 * 7 = 28\n",
            "4 * 8 = 32\n",
            "4 * 9 = 36\n",
            "===4단 끝!===\n",
            "5 * 1 = 5\n",
            "5 * 2 = 10\n",
            "5 * 3 = 15\n",
            "5 * 4 = 20\n",
            "5 * 5 = 25\n",
            "5 * 6 = 30\n",
            "5 * 7 = 35\n",
            "5 * 8 = 40\n",
            "5 * 9 = 45\n",
            "===5단 끝!===\n",
            "6 * 1 = 6\n",
            "6 * 2 = 12\n",
            "6 * 3 = 18\n",
            "6 * 4 = 24\n",
            "6 * 5 = 30\n",
            "6 * 6 = 36\n",
            "6 * 7 = 42\n",
            "6 * 8 = 48\n",
            "6 * 9 = 54\n",
            "===6단 끝!===\n",
            "7 * 1 = 7\n",
            "7 * 2 = 14\n",
            "7 * 3 = 21\n",
            "7 * 4 = 28\n",
            "7 * 5 = 35\n",
            "7 * 6 = 42\n",
            "7 * 7 = 49\n",
            "7 * 8 = 56\n",
            "7 * 9 = 63\n",
            "===7단 끝!===\n",
            "8 * 1 = 8\n",
            "8 * 2 = 16\n",
            "8 * 3 = 24\n",
            "8 * 4 = 32\n",
            "8 * 5 = 40\n",
            "8 * 6 = 48\n",
            "8 * 7 = 56\n",
            "8 * 8 = 64\n",
            "8 * 9 = 72\n",
            "===8단 끝!===\n",
            "9 * 1 = 9\n",
            "9 * 2 = 18\n",
            "9 * 3 = 27\n",
            "9 * 4 = 36\n",
            "9 * 5 = 45\n",
            "9 * 6 = 54\n",
            "9 * 7 = 63\n",
            "9 * 8 = 72\n",
            "9 * 9 = 81\n",
            "===9단 끝!===\n",
            "구구단 1단 부터 9단까지 끝!\n"
          ]
        }
      ]
    },
    {
      "cell_type": "code",
      "source": [
        "# 30에서 1씩 빼다가 결과가 5의 배수가 되면 멈추는 식을 작성해보세요.\n",
        "\n",
        "n = 30\n",
        "\n",
        "while n <= 30:\n",
        "  n = n - 1\n",
        "  print(n)\n",
        "  if n % 5 ==0:\n",
        "    break"
      ],
      "metadata": {
        "colab": {
          "base_uri": "https://localhost:8080/"
        },
        "id": "BNSvZuq_IQ7M",
        "outputId": "76af7d7a-4f2a-4041-8d77-bd31b1705415"
      },
      "execution_count": 16,
      "outputs": [
        {
          "output_type": "stream",
          "name": "stdout",
          "text": [
            "29\n",
            "28\n",
            "27\n",
            "26\n",
            "25\n"
          ]
        }
      ]
    },
    {
      "cell_type": "code",
      "source": [
        "# 1에서 100사이의 모든 짝수의 합을 구해보세요.\n",
        "\n",
        "sum_list=[]\n",
        "\n",
        "for i in range(1, 100):\n",
        "  if i%2 == 0:\n",
        "    sum_list.append(i)\n",
        "\n",
        "print(sum(sum_list))"
      ],
      "metadata": {
        "colab": {
          "base_uri": "https://localhost:8080/"
        },
        "id": "atX4MV_XIfUV",
        "outputId": "8a7f11d5-ee36-4ed8-c373-44de38c11bbb"
      },
      "execution_count": 17,
      "outputs": [
        {
          "output_type": "stream",
          "name": "stdout",
          "text": [
            "2450\n"
          ]
        }
      ]
    },
    {
      "cell_type": "code",
      "source": [
        "# 다음 과일 이름 리스트 중, 과일 이름의 길이가 가장 긴 과일을 찾아보세요.\n",
        "fruits = ['사과', '오렌지', '파인애플', '귤', '천도복숭아', '리치', '코코넛', '샤인머스켓', '드래곤후르츠', '한라봉', '감']\n",
        "\n",
        "name_len=[]\n",
        "for i in fruits:\n",
        "  a = len(i)\n",
        "  name_len.append(a)\n",
        "\n",
        "index_num = name_len.index(max(name_len))\n",
        "print('{0}: {1}글자'. format(fruits[index_num], max(name_len)))"
      ],
      "metadata": {
        "colab": {
          "base_uri": "https://localhost:8080/"
        },
        "id": "vBxbDqpMI81j",
        "outputId": "7c963d8c-e874-4931-e750-2aea3bcf0db5"
      },
      "execution_count": 18,
      "outputs": [
        {
          "output_type": "stream",
          "name": "stdout",
          "text": [
            "드래곤후르츠: 6글자\n"
          ]
        }
      ]
    },
    {
      "cell_type": "code",
      "source": [
        "#while문을 활용하여 구구단 1단 부터 9단까지 출력해보세요.\n",
        "\n",
        "num = 0\n",
        "while num <= 8:\n",
        "  num += 1\n",
        "  num2 = 1\n",
        "  while num2 <=9:\n",
        "    print('%d * %d = %d'%(num, num2, num * num2))\n",
        "    num2 += 1\n",
        "  print('===%d단 끝!==='%(num))\n",
        "print('구구단 1단 부터 9단까지 끝!')"
      ],
      "metadata": {
        "colab": {
          "base_uri": "https://localhost:8080/"
        },
        "id": "SZYWP27qJvgB",
        "outputId": "9e8f1e7c-441b-4051-f231-36174984cfe5"
      },
      "execution_count": 19,
      "outputs": [
        {
          "output_type": "stream",
          "name": "stdout",
          "text": [
            "1 * 1 = 1\n",
            "1 * 2 = 2\n",
            "1 * 3 = 3\n",
            "1 * 4 = 4\n",
            "1 * 5 = 5\n",
            "1 * 6 = 6\n",
            "1 * 7 = 7\n",
            "1 * 8 = 8\n",
            "1 * 9 = 9\n",
            "===1단 끝!===\n",
            "2 * 1 = 2\n",
            "2 * 2 = 4\n",
            "2 * 3 = 6\n",
            "2 * 4 = 8\n",
            "2 * 5 = 10\n",
            "2 * 6 = 12\n",
            "2 * 7 = 14\n",
            "2 * 8 = 16\n",
            "2 * 9 = 18\n",
            "===2단 끝!===\n",
            "3 * 1 = 3\n",
            "3 * 2 = 6\n",
            "3 * 3 = 9\n",
            "3 * 4 = 12\n",
            "3 * 5 = 15\n",
            "3 * 6 = 18\n",
            "3 * 7 = 21\n",
            "3 * 8 = 24\n",
            "3 * 9 = 27\n",
            "===3단 끝!===\n",
            "4 * 1 = 4\n",
            "4 * 2 = 8\n",
            "4 * 3 = 12\n",
            "4 * 4 = 16\n",
            "4 * 5 = 20\n",
            "4 * 6 = 24\n",
            "4 * 7 = 28\n",
            "4 * 8 = 32\n",
            "4 * 9 = 36\n",
            "===4단 끝!===\n",
            "5 * 1 = 5\n",
            "5 * 2 = 10\n",
            "5 * 3 = 15\n",
            "5 * 4 = 20\n",
            "5 * 5 = 25\n",
            "5 * 6 = 30\n",
            "5 * 7 = 35\n",
            "5 * 8 = 40\n",
            "5 * 9 = 45\n",
            "===5단 끝!===\n",
            "6 * 1 = 6\n",
            "6 * 2 = 12\n",
            "6 * 3 = 18\n",
            "6 * 4 = 24\n",
            "6 * 5 = 30\n",
            "6 * 6 = 36\n",
            "6 * 7 = 42\n",
            "6 * 8 = 48\n",
            "6 * 9 = 54\n",
            "===6단 끝!===\n",
            "7 * 1 = 7\n",
            "7 * 2 = 14\n",
            "7 * 3 = 21\n",
            "7 * 4 = 28\n",
            "7 * 5 = 35\n",
            "7 * 6 = 42\n",
            "7 * 7 = 49\n",
            "7 * 8 = 56\n",
            "7 * 9 = 63\n",
            "===7단 끝!===\n",
            "8 * 1 = 8\n",
            "8 * 2 = 16\n",
            "8 * 3 = 24\n",
            "8 * 4 = 32\n",
            "8 * 5 = 40\n",
            "8 * 6 = 48\n",
            "8 * 7 = 56\n",
            "8 * 8 = 64\n",
            "8 * 9 = 72\n",
            "===8단 끝!===\n",
            "9 * 1 = 9\n",
            "9 * 2 = 18\n",
            "9 * 3 = 27\n",
            "9 * 4 = 36\n",
            "9 * 5 = 45\n",
            "9 * 6 = 54\n",
            "9 * 7 = 63\n",
            "9 * 8 = 72\n",
            "9 * 9 = 81\n",
            "===9단 끝!===\n",
            "구구단 1단 부터 9단까지 끝!\n"
          ]
        }
      ]
    },
    {
      "cell_type": "code",
      "source": [
        "#369게임 결과를 출력해보세요. (단, 33, 36, 39는 박수를 두 번치고, 50번째에 게임은 끝남)\n",
        "✔️ 369게임은 1부터 시작해서 1씩 더하면서 말하다가 3, 6, 9가 들어가는 순서에서는 숫자 대신 박수를 치는 게임입니다.\n",
        "\n",
        "# 출력예시\n",
        "1\n",
        "2\n",
        "짝!!\n",
        "4\n",
        "5\n",
        "짝!!\n",
        "7\n",
        "8\n",
        "짝!!\n",
        "10"
      ],
      "metadata": {
        "id": "23b2cXEaJ8C4"
      },
      "execution_count": null,
      "outputs": []
    },
    {
      "cell_type": "code",
      "source": [
        "clap = ['3', '6', '9']\n",
        "\n",
        "for i in range(1, 51):\n",
        "  count = 0\n",
        "  for j in str(i):\n",
        "    if j in clap:\n",
        "      count += 1\n",
        "    if count > 0:\n",
        "      i = '짝!' * count\n",
        "    print(i)"
      ],
      "metadata": {
        "colab": {
          "base_uri": "https://localhost:8080/"
        },
        "id": "-hq2QtBAKH87",
        "outputId": "c3fcecf9-dfb5-4466-a85f-74e91b9e79f5"
      },
      "execution_count": 21,
      "outputs": [
        {
          "output_type": "stream",
          "name": "stdout",
          "text": [
            "1\n",
            "2\n",
            "짝!\n",
            "4\n",
            "5\n",
            "짝!\n",
            "7\n",
            "8\n",
            "짝!\n",
            "10\n",
            "10\n",
            "11\n",
            "11\n",
            "12\n",
            "12\n",
            "13\n",
            "짝!\n",
            "14\n",
            "14\n",
            "15\n",
            "15\n",
            "16\n",
            "짝!\n",
            "17\n",
            "17\n",
            "18\n",
            "18\n",
            "19\n",
            "짝!\n",
            "20\n",
            "20\n",
            "21\n",
            "21\n",
            "22\n",
            "22\n",
            "23\n",
            "짝!\n",
            "24\n",
            "24\n",
            "25\n",
            "25\n",
            "26\n",
            "짝!\n",
            "27\n",
            "27\n",
            "28\n",
            "28\n",
            "29\n",
            "짝!\n",
            "짝!\n",
            "짝!\n",
            "짝!\n",
            "짝!\n",
            "짝!\n",
            "짝!\n",
            "짝!\n",
            "짝!짝!\n",
            "짝!\n",
            "짝!\n",
            "짝!\n",
            "짝!\n",
            "짝!\n",
            "짝!짝!\n",
            "짝!\n",
            "짝!\n",
            "짝!\n",
            "짝!\n",
            "짝!\n",
            "짝!짝!\n",
            "40\n",
            "40\n",
            "41\n",
            "41\n",
            "42\n",
            "42\n",
            "43\n",
            "짝!\n",
            "44\n",
            "44\n",
            "45\n",
            "45\n",
            "46\n",
            "짝!\n",
            "47\n",
            "47\n",
            "48\n",
            "48\n",
            "49\n",
            "짝!\n",
            "50\n",
            "50\n"
          ]
        }
      ]
    },
    {
      "cell_type": "code",
      "source": [
        "# beyonce의 등수는 1등, 임영웅의 등수는 3등, 장원영의 등수는 2등입니다. 이 정보들을 변수에 넣어, 아래 예시와 같이 이름을 입력받고 점수를 출력하는 프로그램을 만드세요.\n",
        "이름은? beyonce\n",
        "beyonce의 등수는 1"
      ],
      "metadata": {
        "id": "UhgGMEnbKm_N"
      },
      "execution_count": null,
      "outputs": []
    },
    {
      "cell_type": "code",
      "source": [
        "rank = {'beyonce : '1, '임영웅':'3', '장원영': 2 }\n",
        "name_list = list(rank.keys())\n",
        "name = input(\"이름은?\")\n",
        "\n",
        "while name:\n",
        "        if name in name_list:\n",
        "        print(name,\"의 등수는\", rank[name],sep='')\n",
        "        elif name not in name_list:\n",
        "        print(name,\"는 없어요\", sep='')\n",
        "        break"
      ],
      "metadata": {
        "colab": {
          "base_uri": "https://localhost:8080/",
          "height": 110
        },
        "id": "BssoKrdtLB4-",
        "outputId": "2ff9aee2-b474-4311-847a-647a811bf4c6"
      },
      "execution_count": 28,
      "outputs": [
        {
          "output_type": "error",
          "ename": "SyntaxError",
          "evalue": "invalid syntax. Perhaps you forgot a comma? (<ipython-input-28-48b94fc12e34>, line 1)",
          "traceback": [
            "\u001b[0;36m  File \u001b[0;32m\"<ipython-input-28-48b94fc12e34>\"\u001b[0;36m, line \u001b[0;32m1\u001b[0m\n\u001b[0;31m    rank = {'beyonce : '1, '임영웅':'3', '장원영': 2 }\u001b[0m\n\u001b[0m            ^\u001b[0m\n\u001b[0;31mSyntaxError\u001b[0m\u001b[0;31m:\u001b[0m invalid syntax. Perhaps you forgot a comma?\n"
          ]
        }
      ]
    },
    {
      "cell_type": "code",
      "source": [
        "rank = {'beyonce': '1', '임영웅': '3', '장원영': '2'}\n",
        "name_list = list(rank.keys())\n",
        "name = input(\"이름은? \")\n",
        "\n",
        "while name:\n",
        "    if name in name_list:\n",
        "        print(name, \"의 등수는\", rank[name], sep='')\n",
        "    else:\n",
        "        print(name, \"는 없어요\", sep='')\n",
        "    name = input(\"이름은? \")\n"
      ],
      "metadata": {
        "colab": {
          "base_uri": "https://localhost:8080/"
        },
        "id": "pik8Kvn-Mk41",
        "outputId": "b399d275-992b-4d98-801f-501e7ff4aee6"
      },
      "execution_count": null,
      "outputs": [
        {
          "metadata": {
            "tags": null
          },
          "name": "stdout",
          "output_type": "stream",
          "text": [
            "임영웅의 등수는3\n"
          ]
        }
      ]
    },
    {
      "cell_type": "markdown",
      "source": [
        "2주차 실습 - 7"
      ],
      "metadata": {
        "id": "Ob9NxXC3M1uF"
      }
    },
    {
      "cell_type": "code",
      "source": [
        "# 구구단을 외자! 숫자를 입력받으면, 해당 숫자의 구구단(해당 숫자에 1~9를 곱한 값들)을 출력하는 함수를 만드세요.\n",
        "\n",
        "def print_dan(x):\n",
        "  for i in list(range(1,10)):\n",
        "    print (x*i)\n",
        "\n",
        "dan = int(input(\"숫자 입력\"))\n",
        "while dan != 0:\n",
        "  print_dan(dan)\n",
        "  dan = int(input())"
      ],
      "metadata": {
        "colab": {
          "base_uri": "https://localhost:8080/"
        },
        "id": "jOc6Ie4OM0DX",
        "outputId": "a6ae3974-db75-4739-e616-d2019e693216"
      },
      "execution_count": null,
      "outputs": [
        {
          "output_type": "stream",
          "name": "stdout",
          "text": [
            "숫자 입력3\n",
            "3\n",
            "6\n",
            "9\n",
            "12\n",
            "15\n",
            "18\n",
            "21\n",
            "24\n",
            "27\n"
          ]
        }
      ]
    },
    {
      "cell_type": "code",
      "source": [
        "# 이번 주 로또 번호를 화면에 표시하는 프로그램을 만들고자 합니다.\n",
        "로또 설명\n",
        "\n",
        "1000회분의 로또 번호를 랜덤하게 생성한 것을 지난 1000회의 로또 번호라 가정합니다.\n",
        "1회분의 로또 번호는 1-45 사이의 중복되지 않는 숫자 6개로 이뤄집니다.\n",
        "지난 1000회에서 나온 숫자(1000회*6개)의 빈도를 계산하고 표시한 후, 가장 높은 빈도를 가진 숫자 6개를 뽑아 이 주의 로또 번호로 화면에 표시합니다.\n",
        "로또 함수 설명\n",
        "\n",
        "1회분의 로또 번호 생성기를 하나의 함수로 만듭니다.\n",
        "이 함수를 1000회 사용하면 1000주 분량의 로또 번호를 만들 수 있습니다.\n",
        "1000회분의 로또 번호를 화면에 표시합니다.\n",
        "이 결과를 모아 통계를 내, 각 숫자가 몇회 등장했는지 표시합니다.\n",
        "가장 자주 나타난 숫자 6개를 고르면, 이것이 이 주의 로또 번호 예측입니다.\n",
        "동수가 동수가 있을 경우 어느 숫자를 골라도 무관합니다. 예컨대, 23과 41이 모두 80회씩 나타났다면 둘 중 아무 숫자를 써도 상관 없습니다."
      ],
      "metadata": {
        "id": "4O0NhgVgZUmZ"
      },
      "execution_count": null,
      "outputs": []
    },
    {
      "cell_type": "code",
      "source": [
        "def lotto_generator(x):\n",
        "  import random\n",
        "  valist = list(range(1,46))\n",
        "  lottery_nums = []\n",
        "  for i in range(6):\n",
        "    random.shuffle(valist)\n",
        "    val = random.choice(valist)\n",
        "    lottery_nums.append(val)\n",
        "  print(\"\")"
      ],
      "metadata": {
        "id": "Ten9gXE-aDrx"
      },
      "execution_count": null,
      "outputs": []
    },
    {
      "cell_type": "code",
      "source": [
        "# 다시 해보기"
      ],
      "metadata": {
        "id": "HCWSmXqwbdFd"
      },
      "execution_count": null,
      "outputs": []
    },
    {
      "cell_type": "code",
      "source": [
        "def lotto_generator(x):\n",
        "\timport random\n",
        "\tvalist = list(range(1,46))\n",
        "\tlottery_nums = []\n",
        "\tfor i in range(6):\n",
        "\t\trandom.shuffle(valist)\n",
        "\t\tval  = random.choice(valist)\n",
        "\t\tlottery_nums.append(val)\n",
        "\tprint(\"\\n%s회 :\" % x , end = \" \")\n",
        "\tfor i in lottery_nums:\n",
        "\t\tprint(i,end = \" \")\n",
        "\treturn lottery_nums\n",
        "\n",
        "def lotto_stat(x):\n",
        "    results = {}\n",
        "    for i in range(1,46):\n",
        "        results[i] = 0\n",
        "    for i in range(1,x+1):\n",
        "        lottery_nums = lotto_generator(i)\n",
        "        for i in lottery_nums:\n",
        "            results[i] = results[i] + 1\n",
        "    print(\"\\n\")\n",
        "    for i in results.keys():\n",
        "        print(\"%s : %d회\" % (i,results[i]))\n",
        "    return results\n",
        "\n",
        "\n",
        "results = lotto_stat(30) \"\"\" 람다에 들어가서 무한 루프하는 것을\n",
        " \t\t\t\t\t\t\t방지하기 위해 담아줍니다.\"\"\"\n",
        "\n",
        "this_nums = sorted(results, key= lambda c :results[c], reverse=True)[:6]\n",
        "\n",
        "print(\"이 주의 로또 번호 :\",end = \" \")\n",
        "for i in this_nums:\n",
        "    print(i, end = \" \")"
      ],
      "metadata": {
        "id": "k4AydGo44jRj"
      },
      "execution_count": null,
      "outputs": []
    }
  ]
}