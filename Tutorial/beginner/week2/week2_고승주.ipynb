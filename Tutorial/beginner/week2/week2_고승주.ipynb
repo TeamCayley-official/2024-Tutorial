{
  "nbformat": 4,
  "nbformat_minor": 0,
  "metadata": {
    "colab": {
      "provenance": []
    },
    "kernelspec": {
      "name": "python3",
      "display_name": "Python 3"
    },
    "language_info": {
      "name": "python"
    }
  },
  "cells": [
    {
      "cell_type": "code",
      "execution_count": null,
      "metadata": {
        "colab": {
          "base_uri": "https://localhost:8080/"
        },
        "id": "koSgU2daVi-U",
        "outputId": "18968b45-951e-4285-ff36-638f78d2b87f"
      },
      "outputs": [
        {
          "output_type": "stream",
          "name": "stdout",
          "text": [
            "29\n",
            "28\n",
            "27\n",
            "26\n",
            "25\n"
          ]
        }
      ],
      "source": [
        "n = 30\n",
        "\n",
        "while n <= 30:\n",
        "  n = n - 1\n",
        "  print(n)\n",
        "  if n % 5 ==0:\n",
        "    break\n"
      ]
    },
    {
      "cell_type": "code",
      "source": [
        "sum_list=[]\n",
        "\n",
        "for i in range(1,101):\n",
        "  if i%2 == 0:\n",
        "   sum_list.append(i)\n",
        "\n",
        "print(sum(sum_list))"
      ],
      "metadata": {
        "colab": {
          "base_uri": "https://localhost:8080/"
        },
        "id": "qQ8sjHgQVvls",
        "outputId": "1f2ff153-81d4-46bf-a9b1-bd67b29a2dd5"
      },
      "execution_count": null,
      "outputs": [
        {
          "output_type": "stream",
          "name": "stdout",
          "text": [
            "2550\n"
          ]
        }
      ]
    },
    {
      "cell_type": "code",
      "source": [
        "fruits = ['사과', '오렌지', '파인애플', '귤', '천도복숭아', '리치', '코코넛', '샤인머스켓', '드래곤후르츠', '한라봉', '감']\n",
        "\n",
        "name_len=[]\n",
        "for i in fruits:\n",
        "  a = len(i)\n",
        "  name_len.append(a)\n",
        "\n",
        "index_num = name_len.index(max(name_len))\n",
        "print('{0}: {1}글자'.format(fruits[index_num], max(name_len)))"
      ],
      "metadata": {
        "colab": {
          "base_uri": "https://localhost:8080/"
        },
        "id": "k7IaBjhzV0Rf",
        "outputId": "bb60ffda-7b20-4c14-8d92-b817b207db7e"
      },
      "execution_count": null,
      "outputs": [
        {
          "output_type": "stream",
          "name": "stdout",
          "text": [
            "드래곤후르츠: 6글자\n"
          ]
        }
      ]
    },
    {
      "cell_type": "code",
      "source": [
        "num = 0\n",
        "while num <= 8:\n",
        "  num += 1\n",
        "  num2 = 1\n",
        "  while num2 <=9:\n",
        "    print('%d * %d = %d'%(num, num2, num * num2))\n",
        "    num2 += 1\n",
        "  print('===%d단 끝!==='%(num))\n",
        "print('구구단 1단 부터 9단까지 끝!')"
      ],
      "metadata": {
        "colab": {
          "base_uri": "https://localhost:8080/"
        },
        "id": "9MsuvFh8V1Dq",
        "outputId": "d4f5f4cb-0266-469a-f6ce-8ef9e64f0642"
      },
      "execution_count": null,
      "outputs": [
        {
          "output_type": "stream",
          "name": "stdout",
          "text": [
            "1 * 1 = 1\n",
            "1 * 2 = 2\n",
            "1 * 3 = 3\n",
            "1 * 4 = 4\n",
            "1 * 5 = 5\n",
            "1 * 6 = 6\n",
            "1 * 7 = 7\n",
            "1 * 8 = 8\n",
            "1 * 9 = 9\n",
            "===1단 끝!===\n",
            "2 * 1 = 2\n",
            "2 * 2 = 4\n",
            "2 * 3 = 6\n",
            "2 * 4 = 8\n",
            "2 * 5 = 10\n",
            "2 * 6 = 12\n",
            "2 * 7 = 14\n",
            "2 * 8 = 16\n",
            "2 * 9 = 18\n",
            "===2단 끝!===\n",
            "3 * 1 = 3\n",
            "3 * 2 = 6\n",
            "3 * 3 = 9\n",
            "3 * 4 = 12\n",
            "3 * 5 = 15\n",
            "3 * 6 = 18\n",
            "3 * 7 = 21\n",
            "3 * 8 = 24\n",
            "3 * 9 = 27\n",
            "===3단 끝!===\n",
            "4 * 1 = 4\n",
            "4 * 2 = 8\n",
            "4 * 3 = 12\n",
            "4 * 4 = 16\n",
            "4 * 5 = 20\n",
            "4 * 6 = 24\n",
            "4 * 7 = 28\n",
            "4 * 8 = 32\n",
            "4 * 9 = 36\n",
            "===4단 끝!===\n",
            "5 * 1 = 5\n",
            "5 * 2 = 10\n",
            "5 * 3 = 15\n",
            "5 * 4 = 20\n",
            "5 * 5 = 25\n",
            "5 * 6 = 30\n",
            "5 * 7 = 35\n",
            "5 * 8 = 40\n",
            "5 * 9 = 45\n",
            "===5단 끝!===\n",
            "6 * 1 = 6\n",
            "6 * 2 = 12\n",
            "6 * 3 = 18\n",
            "6 * 4 = 24\n",
            "6 * 5 = 30\n",
            "6 * 6 = 36\n",
            "6 * 7 = 42\n",
            "6 * 8 = 48\n",
            "6 * 9 = 54\n",
            "===6단 끝!===\n",
            "7 * 1 = 7\n",
            "7 * 2 = 14\n",
            "7 * 3 = 21\n",
            "7 * 4 = 28\n",
            "7 * 5 = 35\n",
            "7 * 6 = 42\n",
            "7 * 7 = 49\n",
            "7 * 8 = 56\n",
            "7 * 9 = 63\n",
            "===7단 끝!===\n",
            "8 * 1 = 8\n",
            "8 * 2 = 16\n",
            "8 * 3 = 24\n",
            "8 * 4 = 32\n",
            "8 * 5 = 40\n",
            "8 * 6 = 48\n",
            "8 * 7 = 56\n",
            "8 * 8 = 64\n",
            "8 * 9 = 72\n",
            "===8단 끝!===\n",
            "9 * 1 = 9\n",
            "9 * 2 = 18\n",
            "9 * 3 = 27\n",
            "9 * 4 = 36\n",
            "9 * 5 = 45\n",
            "9 * 6 = 54\n",
            "9 * 7 = 63\n",
            "9 * 8 = 72\n",
            "9 * 9 = 81\n",
            "===9단 끝!===\n",
            "구구단 1단 부터 9단까지 끝!\n"
          ]
        }
      ]
    },
    {
      "cell_type": "code",
      "source": [
        "clap = ['3', '6', '9']\n",
        "\n",
        "for i in range(1, 51):\n",
        "  count = 0\n",
        "  for j in str(i):\n",
        "      if j in clap:\n",
        "          count += 1\n",
        "  if count > 0:\n",
        "      i = '짝!' * count\n",
        "  print(i)"
      ],
      "metadata": {
        "colab": {
          "base_uri": "https://localhost:8080/"
        },
        "id": "A9hNkVbzV86S",
        "outputId": "bc460a0d-5027-4391-82cb-3501bb454b0b"
      },
      "execution_count": null,
      "outputs": [
        {
          "output_type": "stream",
          "name": "stdout",
          "text": [
            "1\n",
            "2\n",
            "짝!\n",
            "4\n",
            "5\n",
            "짝!\n",
            "7\n",
            "8\n",
            "짝!\n",
            "10\n",
            "11\n",
            "12\n",
            "짝!\n",
            "14\n",
            "15\n",
            "짝!\n",
            "17\n",
            "18\n",
            "짝!\n",
            "20\n",
            "21\n",
            "22\n",
            "짝!\n",
            "24\n",
            "25\n",
            "짝!\n",
            "27\n",
            "28\n",
            "짝!\n",
            "짝!\n",
            "짝!\n",
            "짝!\n",
            "짝!짝!\n",
            "짝!\n",
            "짝!\n",
            "짝!짝!\n",
            "짝!\n",
            "짝!\n",
            "짝!짝!\n",
            "40\n",
            "41\n",
            "42\n",
            "짝!\n",
            "44\n",
            "45\n",
            "짝!\n",
            "47\n",
            "48\n",
            "짝!\n",
            "50\n"
          ]
        }
      ]
    },
    {
      "cell_type": "code",
      "source": [
        "rank = {'beyonce' : '1', '임영웅':'3', '장원영' : '2'}\n",
        "name_list = list(rank.keys())\n",
        "name = input(\"이름은?\")\n",
        "\n",
        "while name :\n",
        "​    if  name in name_list:\n",
        "​        print(name,\"의 등수는 \",rank[name],sep='' )\n",
        "\n",
        "​    elif name not in name_list:\n",
        "​        print(name,\"는(은) 없어요\",sep='')\n",
        "\n",
        "​    break"
      ],
      "metadata": {
        "colab": {
          "base_uri": "https://localhost:8080/",
          "height": 106
        },
        "id": "jjyH6pcLV_aN",
        "outputId": "4a56dc06-326a-45c0-e7f6-ab6a299080be"
      },
      "execution_count": null,
      "outputs": [
        {
          "output_type": "error",
          "ename": "SyntaxError",
          "evalue": "invalid non-printable character U+200B (<ipython-input-8-f0428899691a>, line 6)",
          "traceback": [
            "\u001b[0;36m  File \u001b[0;32m\"<ipython-input-8-f0428899691a>\"\u001b[0;36m, line \u001b[0;32m6\u001b[0m\n\u001b[0;31m    ​    if  name in name_list:\u001b[0m\n\u001b[0m    ^\u001b[0m\n\u001b[0;31mSyntaxError\u001b[0m\u001b[0;31m:\u001b[0m invalid non-printable character U+200B\n"
          ]
        }
      ]
    },
    {
      "cell_type": "code",
      "source": [
        "def print_dan(x):\n",
        "\tfor i in list(range(1,10)):\n",
        "\t\tprint (x * i)\n",
        "\n",
        "dan = int(input(\"숫자를 입력하세요\"))\n",
        "while dan != 0:\n",
        "\tprint_dan(dan)\n",
        "\tdan = int(input())"
      ],
      "metadata": {
        "colab": {
          "base_uri": "https://localhost:8080/",
          "height": 842
        },
        "id": "fm9bpC5ZWdWm",
        "outputId": "9ea5f07e-2e6a-46ef-c231-a106bfb8e874"
      },
      "execution_count": null,
      "outputs": [
        {
          "output_type": "stream",
          "name": "stdout",
          "text": [
            "숫자를 입력하세요17\n",
            "17\n",
            "34\n",
            "51\n",
            "68\n",
            "85\n",
            "102\n",
            "119\n",
            "136\n",
            "153\n",
            "160\n",
            "160\n",
            "320\n",
            "480\n",
            "640\n",
            "800\n",
            "960\n",
            "1120\n",
            "1280\n",
            "1440\n",
            "7\n",
            "7\n",
            "14\n",
            "21\n",
            "28\n",
            "35\n",
            "42\n",
            "49\n",
            "56\n",
            "63\n"
          ]
        },
        {
          "output_type": "error",
          "ename": "KeyboardInterrupt",
          "evalue": "Interrupted by user",
          "traceback": [
            "\u001b[0;31m---------------------------------------------------------------------------\u001b[0m",
            "\u001b[0;31mKeyboardInterrupt\u001b[0m                         Traceback (most recent call last)",
            "\u001b[0;32m<ipython-input-9-64b22aaf1d0f>\u001b[0m in \u001b[0;36m<cell line: 6>\u001b[0;34m()\u001b[0m\n\u001b[1;32m      6\u001b[0m \u001b[0;32mwhile\u001b[0m \u001b[0mdan\u001b[0m \u001b[0;34m!=\u001b[0m \u001b[0;36m0\u001b[0m\u001b[0;34m:\u001b[0m\u001b[0;34m\u001b[0m\u001b[0;34m\u001b[0m\u001b[0m\n\u001b[1;32m      7\u001b[0m         \u001b[0mprint_dan\u001b[0m\u001b[0;34m(\u001b[0m\u001b[0mdan\u001b[0m\u001b[0;34m)\u001b[0m\u001b[0;34m\u001b[0m\u001b[0;34m\u001b[0m\u001b[0m\n\u001b[0;32m----> 8\u001b[0;31m         \u001b[0mdan\u001b[0m \u001b[0;34m=\u001b[0m \u001b[0mint\u001b[0m\u001b[0;34m(\u001b[0m\u001b[0minput\u001b[0m\u001b[0;34m(\u001b[0m\u001b[0;34m)\u001b[0m\u001b[0;34m)\u001b[0m\u001b[0;34m\u001b[0m\u001b[0;34m\u001b[0m\u001b[0m\n\u001b[0m",
            "\u001b[0;32m/usr/local/lib/python3.10/dist-packages/ipykernel/kernelbase.py\u001b[0m in \u001b[0;36mraw_input\u001b[0;34m(self, prompt)\u001b[0m\n\u001b[1;32m    849\u001b[0m                 \u001b[0;34m\"raw_input was called, but this frontend does not support input requests.\"\u001b[0m\u001b[0;34m\u001b[0m\u001b[0;34m\u001b[0m\u001b[0m\n\u001b[1;32m    850\u001b[0m             )\n\u001b[0;32m--> 851\u001b[0;31m         return self._input_request(str(prompt),\n\u001b[0m\u001b[1;32m    852\u001b[0m             \u001b[0mself\u001b[0m\u001b[0;34m.\u001b[0m\u001b[0m_parent_ident\u001b[0m\u001b[0;34m,\u001b[0m\u001b[0;34m\u001b[0m\u001b[0;34m\u001b[0m\u001b[0m\n\u001b[1;32m    853\u001b[0m             \u001b[0mself\u001b[0m\u001b[0;34m.\u001b[0m\u001b[0m_parent_header\u001b[0m\u001b[0;34m,\u001b[0m\u001b[0;34m\u001b[0m\u001b[0;34m\u001b[0m\u001b[0m\n",
            "\u001b[0;32m/usr/local/lib/python3.10/dist-packages/ipykernel/kernelbase.py\u001b[0m in \u001b[0;36m_input_request\u001b[0;34m(self, prompt, ident, parent, password)\u001b[0m\n\u001b[1;32m    893\u001b[0m             \u001b[0;32mexcept\u001b[0m \u001b[0mKeyboardInterrupt\u001b[0m\u001b[0;34m:\u001b[0m\u001b[0;34m\u001b[0m\u001b[0;34m\u001b[0m\u001b[0m\n\u001b[1;32m    894\u001b[0m                 \u001b[0;31m# re-raise KeyboardInterrupt, to truncate traceback\u001b[0m\u001b[0;34m\u001b[0m\u001b[0;34m\u001b[0m\u001b[0m\n\u001b[0;32m--> 895\u001b[0;31m                 \u001b[0;32mraise\u001b[0m \u001b[0mKeyboardInterrupt\u001b[0m\u001b[0;34m(\u001b[0m\u001b[0;34m\"Interrupted by user\"\u001b[0m\u001b[0;34m)\u001b[0m \u001b[0;32mfrom\u001b[0m \u001b[0;32mNone\u001b[0m\u001b[0;34m\u001b[0m\u001b[0;34m\u001b[0m\u001b[0m\n\u001b[0m\u001b[1;32m    896\u001b[0m             \u001b[0;32mexcept\u001b[0m \u001b[0mException\u001b[0m \u001b[0;32mas\u001b[0m \u001b[0me\u001b[0m\u001b[0;34m:\u001b[0m\u001b[0;34m\u001b[0m\u001b[0;34m\u001b[0m\u001b[0m\n\u001b[1;32m    897\u001b[0m                 \u001b[0mself\u001b[0m\u001b[0;34m.\u001b[0m\u001b[0mlog\u001b[0m\u001b[0;34m.\u001b[0m\u001b[0mwarning\u001b[0m\u001b[0;34m(\u001b[0m\u001b[0;34m\"Invalid Message:\"\u001b[0m\u001b[0;34m,\u001b[0m \u001b[0mexc_info\u001b[0m\u001b[0;34m=\u001b[0m\u001b[0;32mTrue\u001b[0m\u001b[0;34m)\u001b[0m\u001b[0;34m\u001b[0m\u001b[0;34m\u001b[0m\u001b[0m\n",
            "\u001b[0;31mKeyboardInterrupt\u001b[0m: Interrupted by user"
          ]
        }
      ]
    },
    {
      "cell_type": "code",
      "source": [
        "def lotto_generator(x):\n",
        "\timport random\n",
        "\tvalist = list(range(1,46))\n",
        "\tlottery_nums = []\n",
        "\tfor i in range(6):\n",
        "\t\trandom.shuffle(valist)\n",
        "\t\tval  = random.choice(valist)\n",
        "\t\tlottery_nums.append(val)\n",
        "\tprint(\"\\n%s회 :\" % x , end = \" \")\n",
        "\tfor i in lottery_nums:\n",
        "\t\tprint(i,end = \" \")\n",
        "\treturn lottery_nums\n",
        "\n",
        "def lotto_stat(x):\n",
        "    results = {}\n",
        "    for i in range(1,46):\n",
        "        results[i] = 0\n",
        "    for i in range(1,x+1):\n",
        "        lottery_nums = lotto_generator(i)\n",
        "        for i in lottery_nums:\n",
        "            results[i] = results[i] + 1\n",
        "    print(\"\\n\")\n",
        "    for i in results.keys():\n",
        "        print(\"%s : %d회\" % (i,results[i]))\n",
        "    return results\n",
        "\n",
        "\n",
        "results = lotto_stat(30)\n",
        "\n",
        "this_nums = sorted(results, key= lambda c :results[c], reverse=True)[:6]\n",
        "\n",
        "print(\"이 주의 로또 번호 :\",end = \" \")\n",
        "for i in this_nums:\n",
        "    print(i, end = \" \")"
      ],
      "metadata": {
        "colab": {
          "base_uri": "https://localhost:8080/"
        },
        "id": "MkBxoQT7WnuT",
        "outputId": "a52d905c-b13b-4f16-c932-79c8b094b020"
      },
      "execution_count": null,
      "outputs": [
        {
          "output_type": "stream",
          "name": "stdout",
          "text": [
            "\n",
            "1회 : 29 25 16 10 44 18 \n",
            "2회 : 34 45 25 37 42 10 \n",
            "3회 : 4 38 6 33 37 33 \n",
            "4회 : 28 5 21 11 41 18 \n",
            "5회 : 27 25 12 8 45 28 \n",
            "6회 : 10 33 24 22 15 16 \n",
            "7회 : 15 40 29 38 43 20 \n",
            "8회 : 38 34 36 35 16 12 \n",
            "9회 : 38 26 44 23 13 45 \n",
            "10회 : 42 45 6 5 1 40 \n",
            "11회 : 20 34 40 2 36 35 \n",
            "12회 : 26 1 25 30 15 19 \n",
            "13회 : 28 10 24 5 7 45 \n",
            "14회 : 30 18 25 4 40 26 \n",
            "15회 : 11 12 20 13 18 43 \n",
            "16회 : 40 34 14 3 43 7 \n",
            "17회 : 11 5 7 17 35 7 \n",
            "18회 : 31 16 1 10 5 4 \n",
            "19회 : 22 33 11 15 23 6 \n",
            "20회 : 39 23 24 20 32 18 \n",
            "21회 : 30 22 24 39 30 18 \n",
            "22회 : 35 44 18 5 22 6 \n",
            "23회 : 18 22 43 31 17 8 \n",
            "24회 : 31 9 38 39 2 19 \n",
            "25회 : 25 22 38 7 30 36 \n",
            "26회 : 27 20 33 35 14 15 \n",
            "27회 : 8 41 34 13 26 9 \n",
            "28회 : 1 42 44 2 19 29 \n",
            "29회 : 1 29 10 5 10 14 \n",
            "30회 : 30 1 30 38 25 15 \n",
            "\n",
            "1 : 6회\n",
            "2 : 3회\n",
            "3 : 1회\n",
            "4 : 3회\n",
            "5 : 7회\n",
            "6 : 4회\n",
            "7 : 5회\n",
            "8 : 3회\n",
            "9 : 2회\n",
            "10 : 7회\n",
            "11 : 4회\n",
            "12 : 3회\n",
            "13 : 3회\n",
            "14 : 3회\n",
            "15 : 6회\n",
            "16 : 4회\n",
            "17 : 2회\n",
            "18 : 8회\n",
            "19 : 3회\n",
            "20 : 5회\n",
            "21 : 1회\n",
            "22 : 6회\n",
            "23 : 3회\n",
            "24 : 4회\n",
            "25 : 7회\n",
            "26 : 4회\n",
            "27 : 2회\n",
            "28 : 3회\n",
            "29 : 4회\n",
            "30 : 7회\n",
            "31 : 3회\n",
            "32 : 1회\n",
            "33 : 5회\n",
            "34 : 5회\n",
            "35 : 5회\n",
            "36 : 3회\n",
            "37 : 2회\n",
            "38 : 7회\n",
            "39 : 3회\n",
            "40 : 5회\n",
            "41 : 2회\n",
            "42 : 3회\n",
            "43 : 4회\n",
            "44 : 4회\n",
            "45 : 5회\n",
            "이 주의 로또 번호 : 18 5 10 25 30 38 "
          ]
        }
      ]
    }
  ]
}