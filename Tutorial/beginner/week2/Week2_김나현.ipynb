{
  "cells": [
    {
      "cell_type": "markdown",
      "metadata": {
        "id": "96V4F6HB_4qM"
      },
      "source": [
        "챕터6"
      ]
    },
    {
      "cell_type": "code",
      "execution_count": 2,
      "metadata": {
        "colab": {
          "base_uri": "https://localhost:8080/"
        },
        "id": "qYAG-OgJ2Tot",
        "outputId": "efbc20b6-da82-416e-850c-90b91c41c5eb"
      },
      "outputs": [
        {
          "name": "stdout",
          "output_type": "stream",
          "text": [
            "29\n",
            "28\n",
            "27\n",
            "26\n",
            "25\n"
          ]
        }
      ],
      "source": [
        "num=30\n",
        "while num<=30:\n",
        "  num=num-1\n",
        "  print(num)\n",
        "  if num%5==0:\n",
        "    break"
      ]
    },
    {
      "cell_type": "code",
      "execution_count": 4,
      "metadata": {
        "colab": {
          "base_uri": "https://localhost:8080/"
        },
        "id": "yDW0f4NGApX1",
        "outputId": "f0651e6a-f265-4ecf-eaa0-d01b2f4f3a88"
      },
      "outputs": [
        {
          "name": "stdout",
          "output_type": "stream",
          "text": [
            "2550\n"
          ]
        }
      ],
      "source": [
        "sum_list=[]\n",
        "for i in range(1,101):\n",
        "  if i%2==0:\n",
        "    sum_list.append(i)\n",
        "print(sum(sum_list))\n",
        "\n"
      ]
    },
    {
      "cell_type": "code",
      "execution_count": 5,
      "metadata": {
        "colab": {
          "base_uri": "https://localhost:8080/"
        },
        "id": "P95tqweyB7iK",
        "outputId": "c2fd5e8c-51cc-4f1a-d420-57f788768b1a"
      },
      "outputs": [
        {
          "name": "stdout",
          "output_type": "stream",
          "text": [
            "드래곤후르츠:6글자\n"
          ]
        }
      ],
      "source": [
        "fruits=['사과', '오렌지','파인애플','귤','천도복숭아','리치','코코넛','샤인머스캣','드래곤후르츠','한라봉','감']\n",
        "\n",
        "name_len=[]\n",
        "for i in fruits:\n",
        "  a=len(i)\n",
        "  name_len.append(a)\n",
        "\n",
        "index_num=name_len.index(max(name_len))\n",
        "print('{0}:{1}글자'.format(fruits[index_num],max(name_len)))"
      ]
    },
    {
      "cell_type": "code",
      "execution_count": 7,
      "metadata": {
        "colab": {
          "base_uri": "https://localhost:8080/"
        },
        "id": "oGVs1DCVEITP",
        "outputId": "f5d87d14-96c7-4e3c-9931-de7fdde91fab"
      },
      "outputs": [
        {
          "name": "stdout",
          "output_type": "stream",
          "text": [
            "1*1=1\n",
            "1*2=2\n",
            "1*3=3\n",
            "1*4=4\n",
            "1*5=5\n",
            "1*6=6\n",
            "1*7=7\n",
            "1*8=8\n",
            "1*9=9\n",
            "===1단 끝!===\n",
            "2*1=2\n",
            "2*2=4\n",
            "2*3=6\n",
            "2*4=8\n",
            "2*5=10\n",
            "2*6=12\n",
            "2*7=14\n",
            "2*8=16\n",
            "2*9=18\n",
            "===2단 끝!===\n",
            "3*1=3\n",
            "3*2=6\n",
            "3*3=9\n",
            "3*4=12\n",
            "3*5=15\n",
            "3*6=18\n",
            "3*7=21\n",
            "3*8=24\n",
            "3*9=27\n",
            "===3단 끝!===\n",
            "4*1=4\n",
            "4*2=8\n",
            "4*3=12\n",
            "4*4=16\n",
            "4*5=20\n",
            "4*6=24\n",
            "4*7=28\n",
            "4*8=32\n",
            "4*9=36\n",
            "===4단 끝!===\n",
            "5*1=5\n",
            "5*2=10\n",
            "5*3=15\n",
            "5*4=20\n",
            "5*5=25\n",
            "5*6=30\n",
            "5*7=35\n",
            "5*8=40\n",
            "5*9=45\n",
            "===5단 끝!===\n",
            "6*1=6\n",
            "6*2=12\n",
            "6*3=18\n",
            "6*4=24\n",
            "6*5=30\n",
            "6*6=36\n",
            "6*7=42\n",
            "6*8=48\n",
            "6*9=54\n",
            "===6단 끝!===\n",
            "7*1=7\n",
            "7*2=14\n",
            "7*3=21\n",
            "7*4=28\n",
            "7*5=35\n",
            "7*6=42\n",
            "7*7=49\n",
            "7*8=56\n",
            "7*9=63\n",
            "===7단 끝!===\n",
            "8*1=8\n",
            "8*2=16\n",
            "8*3=24\n",
            "8*4=32\n",
            "8*5=40\n",
            "8*6=48\n",
            "8*7=56\n",
            "8*8=64\n",
            "8*9=72\n",
            "===8단 끝!===\n",
            "9*1=9\n",
            "9*2=18\n",
            "9*3=27\n",
            "9*4=36\n",
            "9*5=45\n",
            "9*6=54\n",
            "9*7=63\n",
            "9*8=72\n",
            "9*9=81\n",
            "===9단 끝!===\n",
            "구구단 1단부터 9단까지 끝!\n"
          ]
        }
      ],
      "source": [
        "num=0\n",
        "while num<=8:\n",
        "  num+=1\n",
        "  num2=1\n",
        "  while num2<=9:\n",
        "    print('%d*%d=%d'%(num,num2,num*num2))\n",
        "    num2+=1\n",
        "  print('===%d단 끝!==='%(num))\n",
        "print('구구단 1단부터 9단까지 끝!')"
      ]
    },
    {
      "cell_type": "code",
      "execution_count": 8,
      "metadata": {
        "colab": {
          "base_uri": "https://localhost:8080/"
        },
        "id": "AoDBrpQIFTSI",
        "outputId": "681575b1-487d-4b93-b7ed-6c4b4bfb3427"
      },
      "outputs": [
        {
          "name": "stdout",
          "output_type": "stream",
          "text": [
            "1\n",
            "2\n",
            "짝!\n",
            "4\n",
            "5\n",
            "짝!\n",
            "7\n",
            "8\n",
            "짝!\n",
            "10\n",
            "10\n",
            "11\n",
            "11\n",
            "12\n",
            "12\n",
            "13\n",
            "짝!\n",
            "14\n",
            "14\n",
            "15\n",
            "15\n",
            "16\n",
            "짝!\n",
            "17\n",
            "17\n",
            "18\n",
            "18\n",
            "19\n",
            "짝!\n",
            "20\n",
            "20\n",
            "21\n",
            "21\n",
            "22\n",
            "22\n",
            "23\n",
            "짝!\n",
            "24\n",
            "24\n",
            "25\n",
            "25\n",
            "26\n",
            "짝!\n",
            "27\n",
            "27\n",
            "28\n",
            "28\n",
            "29\n",
            "짝!\n",
            "짝!\n",
            "짝!\n",
            "짝!\n",
            "짝!\n",
            "짝!\n",
            "짝!\n",
            "짝!\n",
            "짝!짝!\n",
            "짝!\n",
            "짝!\n",
            "짝!\n",
            "짝!\n",
            "짝!\n",
            "짝!짝!\n",
            "짝!\n",
            "짝!\n",
            "짝!\n",
            "짝!\n",
            "짝!\n",
            "짝!짝!\n",
            "40\n",
            "40\n",
            "41\n",
            "41\n",
            "42\n",
            "42\n",
            "43\n",
            "짝!\n",
            "44\n",
            "44\n",
            "45\n",
            "45\n",
            "46\n",
            "짝!\n",
            "47\n",
            "47\n",
            "48\n",
            "48\n",
            "49\n",
            "짝!\n",
            "50\n",
            "50\n"
          ]
        }
      ],
      "source": [
        "for i in range(1,51):\n",
        "  count=0\n",
        "  for j in str(i):\n",
        "    if('3'in str(j)) or ('6' in str(j)) or ('9' in str(j)):\n",
        "      count+=1\n",
        "    if count>0:\n",
        "      i='짝!'*count\n",
        "    print(i)"
      ]
    },
    {
      "cell_type": "code",
      "execution_count": 10,
      "metadata": {
        "colab": {
          "base_uri": "https://localhost:8080/"
        },
        "id": "cLAkXyLjGZJS",
        "outputId": "9b7f6cba-04eb-4c82-e83f-d27df2877a63"
      },
      "outputs": [
        {
          "name": "stdout",
          "output_type": "stream",
          "text": [
            "이름은?장원영\n",
            "장원영의 등수는2\n"
          ]
        }
      ],
      "source": [
        "rank={'beyonce':'1', '임영웅':'3', '장원영':'2'}\n",
        "name_list=list(rank.keys())\n",
        "name=input(\"이름은?\")\n",
        "\n",
        "while name:\n",
        "  if name in name_list:\n",
        "    print(name,\"의 등수는\",rank[name],sep='')\n",
        "\n",
        "  elif name not in name_list:\n",
        "    print(name,\"는(은) 없어요\",sep='')\n",
        "\n",
        "  break"
      ]
    },
    {
      "cell_type": "markdown",
      "metadata": {
        "id": "LfikJ0kDHlBv"
      },
      "source": [
        "챕터7"
      ]
    },
    {
      "cell_type": "code",
      "execution_count": 12,
      "metadata": {
        "colab": {
          "base_uri": "https://localhost:8080/",
          "height": 512
        },
        "id": "atUgzf8kHdxM",
        "outputId": "05d88360-65ae-4778-c195-5bbed85c40ba"
      },
      "outputs": [
        {
          "name": "stdout",
          "output_type": "stream",
          "text": [
            "숫자를 입력하세요4\n",
            "4\n",
            "8\n",
            "12\n",
            "16\n",
            "20\n",
            "24\n",
            "28\n",
            "32\n",
            "36\n"
          ]
        },
        {
          "ename": "KeyboardInterrupt",
          "evalue": "Interrupted by user",
          "output_type": "error",
          "traceback": [
            "\u001b[0;31m---------------------------------------------------------------------------\u001b[0m",
            "\u001b[0;31mKeyboardInterrupt\u001b[0m                         Traceback (most recent call last)",
            "\u001b[0;32m<ipython-input-12-3afbebb5b704>\u001b[0m in \u001b[0;36m<cell line: 6>\u001b[0;34m()\u001b[0m\n\u001b[1;32m      6\u001b[0m \u001b[0;32mwhile\u001b[0m \u001b[0mdan\u001b[0m\u001b[0;34m!=\u001b[0m\u001b[0;36m0\u001b[0m\u001b[0;34m:\u001b[0m\u001b[0;34m\u001b[0m\u001b[0;34m\u001b[0m\u001b[0m\n\u001b[1;32m      7\u001b[0m   \u001b[0mprint_dan\u001b[0m\u001b[0;34m(\u001b[0m\u001b[0mdan\u001b[0m\u001b[0;34m)\u001b[0m\u001b[0;34m\u001b[0m\u001b[0;34m\u001b[0m\u001b[0m\n\u001b[0;32m----> 8\u001b[0;31m   \u001b[0mdan\u001b[0m\u001b[0;34m=\u001b[0m\u001b[0mint\u001b[0m\u001b[0;34m(\u001b[0m\u001b[0minput\u001b[0m\u001b[0;34m(\u001b[0m\u001b[0;34m)\u001b[0m\u001b[0;34m)\u001b[0m\u001b[0;34m\u001b[0m\u001b[0;34m\u001b[0m\u001b[0m\n\u001b[0m",
            "\u001b[0;32m/usr/local/lib/python3.10/dist-packages/ipykernel/kernelbase.py\u001b[0m in \u001b[0;36mraw_input\u001b[0;34m(self, prompt)\u001b[0m\n\u001b[1;32m    849\u001b[0m                 \u001b[0;34m\"raw_input was called, but this frontend does not support input requests.\"\u001b[0m\u001b[0;34m\u001b[0m\u001b[0;34m\u001b[0m\u001b[0m\n\u001b[1;32m    850\u001b[0m             )\n\u001b[0;32m--> 851\u001b[0;31m         return self._input_request(str(prompt),\n\u001b[0m\u001b[1;32m    852\u001b[0m             \u001b[0mself\u001b[0m\u001b[0;34m.\u001b[0m\u001b[0m_parent_ident\u001b[0m\u001b[0;34m,\u001b[0m\u001b[0;34m\u001b[0m\u001b[0;34m\u001b[0m\u001b[0m\n\u001b[1;32m    853\u001b[0m             \u001b[0mself\u001b[0m\u001b[0;34m.\u001b[0m\u001b[0m_parent_header\u001b[0m\u001b[0;34m,\u001b[0m\u001b[0;34m\u001b[0m\u001b[0;34m\u001b[0m\u001b[0m\n",
            "\u001b[0;32m/usr/local/lib/python3.10/dist-packages/ipykernel/kernelbase.py\u001b[0m in \u001b[0;36m_input_request\u001b[0;34m(self, prompt, ident, parent, password)\u001b[0m\n\u001b[1;32m    893\u001b[0m             \u001b[0;32mexcept\u001b[0m \u001b[0mKeyboardInterrupt\u001b[0m\u001b[0;34m:\u001b[0m\u001b[0;34m\u001b[0m\u001b[0;34m\u001b[0m\u001b[0m\n\u001b[1;32m    894\u001b[0m                 \u001b[0;31m# re-raise KeyboardInterrupt, to truncate traceback\u001b[0m\u001b[0;34m\u001b[0m\u001b[0;34m\u001b[0m\u001b[0m\n\u001b[0;32m--> 895\u001b[0;31m                 \u001b[0;32mraise\u001b[0m \u001b[0mKeyboardInterrupt\u001b[0m\u001b[0;34m(\u001b[0m\u001b[0;34m\"Interrupted by user\"\u001b[0m\u001b[0;34m)\u001b[0m \u001b[0;32mfrom\u001b[0m \u001b[0;32mNone\u001b[0m\u001b[0;34m\u001b[0m\u001b[0;34m\u001b[0m\u001b[0m\n\u001b[0m\u001b[1;32m    896\u001b[0m             \u001b[0;32mexcept\u001b[0m \u001b[0mException\u001b[0m \u001b[0;32mas\u001b[0m \u001b[0me\u001b[0m\u001b[0;34m:\u001b[0m\u001b[0;34m\u001b[0m\u001b[0;34m\u001b[0m\u001b[0m\n\u001b[1;32m    897\u001b[0m                 \u001b[0mself\u001b[0m\u001b[0;34m.\u001b[0m\u001b[0mlog\u001b[0m\u001b[0;34m.\u001b[0m\u001b[0mwarning\u001b[0m\u001b[0;34m(\u001b[0m\u001b[0;34m\"Invalid Message:\"\u001b[0m\u001b[0;34m,\u001b[0m \u001b[0mexc_info\u001b[0m\u001b[0;34m=\u001b[0m\u001b[0;32mTrue\u001b[0m\u001b[0;34m)\u001b[0m\u001b[0;34m\u001b[0m\u001b[0;34m\u001b[0m\u001b[0m\n",
            "\u001b[0;31mKeyboardInterrupt\u001b[0m: Interrupted by user"
          ]
        }
      ],
      "source": [
        "def print_dan(x):\n",
        "  for i in list(range(1,10)):\n",
        "    print(x*i)\n",
        "\n",
        "dan=int(input(\"숫자를 입력하세요\"))\n",
        "while dan!=0:\n",
        "  print_dan(dan)\n",
        "  dan=int(input())"
      ]
    },
    {
      "cell_type": "code",
      "execution_count": 15,
      "metadata": {
        "colab": {
          "base_uri": "https://localhost:8080/",
          "height": 1000
        },
        "id": "zJ__ax6CI5C1",
        "outputId": "d5889991-f5cb-4087-899c-5dad9039d686"
      },
      "outputs": [
        {
          "name": "stdout",
          "output_type": "stream",
          "text": [
            "\n",
            "1회:8342543932\n",
            "2회:3153414420\n",
            "3회:42912363914\n",
            "4회:113138271032\n",
            "5회:632412127\n",
            "6회:334417432011\n",
            "7회:29273412231\n",
            "8회:2319312439\n",
            "9회:3334344628\n",
            "10회:3381374333\n",
            "11회:4221410312\n",
            "12회:272616171941\n",
            "13회:74456163\n",
            "14회:304431403221\n",
            "15회:35106304333\n",
            "16회:40337303921\n",
            "17회:40211924926\n",
            "18회:63140363729\n",
            "19회:31164239345\n",
            "20회:3445774323\n",
            "21회:2816293788\n",
            "22회:3211356331\n",
            "23회:153922382223\n",
            "24회:403730122043\n",
            "25회:23241831\n",
            "26회:282341768\n",
            "27회:15831153717\n",
            "28회:41353822928\n",
            "29회:393221214336\n",
            "30회:14243181142\n",
            "\n",
            "1:3회\n",
            "2:3회\n",
            "3:9회\n",
            "4:5회\n",
            "5:1회\n",
            "6:7회\n",
            "7:5회\n",
            "8:6회\n",
            "9:3회\n",
            "10:3회\n",
            "11:4회\n",
            "12:4회\n",
            "13:1회\n",
            "14:2회\n",
            "15:4회\n",
            "16:4회\n",
            "17:4회\n",
            "18:1회\n",
            "19:2회\n",
            "20:3회\n",
            "21:7회\n",
            "22:2회\n",
            "23:4회\n",
            "24:4회\n",
            "25:1회\n",
            "26:2회\n",
            "27:4회\n",
            "28:4회\n",
            "29:5회\n",
            "30:4회\n",
            "31:9회\n",
            "32:6회\n",
            "33:5회\n",
            "34:5회\n",
            "35:3회\n",
            "36:3회\n",
            "37:4회\n",
            "38:4회\n",
            "39:6회\n",
            "40:5회\n",
            "41:3회\n",
            "42:3회\n",
            "43:7회\n",
            "44:4회\n",
            "45:2회\n"
          ]
        },
        {
          "ename": "SyntaxError",
          "evalue": "keyword argument repeated: reverse (<ipython-input-15-165ab4aa68b1>, line 29)",
          "output_type": "error",
          "traceback": [
            "\u001b[0;36m  File \u001b[0;32m\"<ipython-input-15-165ab4aa68b1>\"\u001b[0;36m, line \u001b[0;32m29\u001b[0m\n\u001b[0;31m    this_nums = sorted(results,key=lambda c:results[c], reverse=True, reverse=True)[:6]\u001b[0m\n\u001b[0m                                                                      ^\u001b[0m\n\u001b[0;31mSyntaxError\u001b[0m\u001b[0;31m:\u001b[0m keyword argument repeated: reverse\n"
          ]
        }
      ],
      "source": [
        "def lotto_generator(x):\n",
        "  import random\n",
        "  valist=list(range(1,46))\n",
        "  lottery_nums=[]\n",
        "  for i in range(6):\n",
        "    random.shuffle(valist)\n",
        "    val=random.choice(valist)\n",
        "    lottery_nums.append(val)\n",
        "  print(\"\\n%s회:\"%x, end=\"\")\n",
        "  for i in lottery_nums:\n",
        "    print(i,end=\"\")\n",
        "  return lottery_nums\n",
        "\n",
        "def lotto_stat(x):\n",
        "    results={}\n",
        "    for i in range(1,46):\n",
        "      results[i]=0\n",
        "    for i in range(1,x+1):\n",
        "      lottery_nums=lotto_generator(i)\n",
        "      for i in lottery_nums:\n",
        "        results[i]=results[i]+1\n",
        "    print(\"\\n\")\n",
        "    for i in results.keys():\n",
        "      print(\"%s:%d회\" %(i,results[i]))\n",
        "    return results\n",
        "\n",
        "results=lotto_stat(30)\n",
        "\n",
        "this_nums = sorted(results,key=lambda c:results[c], reverse=True, reverse=True)[:6]\n",
        "\n",
        "print(\"이 주의 로또 번호:\",end=\"\")\n",
        "for i in this_nums:\n",
        "    print(i,end=\"\")\n",
        "\n",
        "\n"
      ]
    },
    {
      "cell_type": "code",
      "execution_count": null,
      "metadata": {
        "id": "hwzdJbnqKHVr"
      },
      "outputs": [],
      "source": [
        "\"|\""
      ]
    }
  ],
  "metadata": {
    "colab": {
      "provenance": []
    },
    "kernelspec": {
      "display_name": "Python 3",
      "name": "python3"
    },
    "language_info": {
      "name": "python"
    }
  },
  "nbformat": 4,
  "nbformat_minor": 0
}
