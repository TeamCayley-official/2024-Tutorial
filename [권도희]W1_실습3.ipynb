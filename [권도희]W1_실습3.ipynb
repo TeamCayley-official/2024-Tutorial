{
  "nbformat": 4,
  "nbformat_minor": 0,
  "metadata": {
    "colab": {
      "provenance": []
    },
    "kernelspec": {
      "name": "python3",
      "display_name": "Python 3"
    },
    "language_info": {
      "name": "python"
    }
  },
  "cells": [
    {
      "cell_type": "code",
      "execution_count": null,
      "metadata": {
        "id": "C-vEXmOd0SVi"
      },
      "outputs": [],
      "source": [
        "radius = 3.5\n",
        "area = radius**2\n",
        "\n",
        "#파이를 어떻게 해야할지 몰라서 파이를 제한 값을 구함"
      ]
    },
    {
      "cell_type": "code",
      "source": [
        "print (area)"
      ],
      "metadata": {
        "colab": {
          "base_uri": "https://localhost:8080/"
        },
        "id": "efF8ik3Y5tzM",
        "outputId": "1abc5c93-0ac6-498d-a3c1-ad26c3356064"
      },
      "execution_count": null,
      "outputs": [
        {
          "output_type": "stream",
          "name": "stdout",
          "text": [
            "12.25\n"
          ]
        }
      ]
    },
    {
      "cell_type": "code",
      "source": [
        "user_birth_y = int ( input (\"When is your birth year?\") )\n",
        "user_birth_m= int ( input (\"When is your birth month?\") )\n",
        "user_birth_d= int ( input (\"When is your birth day?\") )\n",
        "\n",
        "#input 함수 안에 질문을 작성할 때 따옴표를 빼먹어서 오류가 발생했음\n",
        "#따옴표를 빼먹지 말자"
      ],
      "metadata": {
        "id": "UxBK3YmL3iMk",
        "colab": {
          "base_uri": "https://localhost:8080/"
        },
        "outputId": "c1c4be53-4d3a-430f-dd46-d4d96d683558"
      },
      "execution_count": null,
      "outputs": [
        {
          "name": "stdout",
          "output_type": "stream",
          "text": [
            "When is your birth year?2005\n",
            "When is your birth month?11\n",
            "When is your birth day?08\n"
          ]
        }
      ]
    },
    {
      "cell_type": "code",
      "source": [
        "print ( \" You were born in %d %d, %d. \"% (user_birth_d, user_birth_m, user_birth_y) )\n",
        "\n",
        "#한국어로 하니 오류가 뜸\n",
        "#오류를 살펴보니 세 변수 중 하나가 정의되지 않았다고 뜸 (d일 때도, y일 때도 있었음)\n",
        "#그래서 영어로 진행함"
      ],
      "metadata": {
        "colab": {
          "base_uri": "https://localhost:8080/"
        },
        "id": "Xfm4pcgc5Ijd",
        "outputId": "59ddb0ea-2460-4395-eb25-26633d49f7eb"
      },
      "execution_count": null,
      "outputs": [
        {
          "output_type": "stream",
          "name": "stdout",
          "text": [
            " You were born in 8 11, 2005. \n"
          ]
        }
      ]
    },
    {
      "cell_type": "code",
      "source": [
        "print ( \" You were born in %d. %d. %d. \"% (user_birth_y, user_birth_m, user_birth_d) )"
      ],
      "metadata": {
        "colab": {
          "base_uri": "https://localhost:8080/"
        },
        "id": "zs7qeSFr6C4X",
        "outputId": "d16cb602-b6b3-4e64-9d72-3ccc766a0936"
      },
      "execution_count": null,
      "outputs": [
        {
          "output_type": "stream",
          "name": "stdout",
          "text": [
            " You were born in 2005. 11. 8. \n"
          ]
        }
      ]
    }
  ]
}