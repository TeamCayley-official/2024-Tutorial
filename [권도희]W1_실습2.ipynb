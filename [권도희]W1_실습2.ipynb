{
  "nbformat": 4,
  "nbformat_minor": 0,
  "metadata": {
    "colab": {
      "provenance": []
    },
    "kernelspec": {
      "name": "python3",
      "display_name": "Python 3"
    },
    "language_info": {
      "name": "python"
    }
  },
  "cells": [
    {
      "cell_type": "code",
      "source": [
        "my_bool1 = True\n",
        "my_bool2 = False\n",
        "my_bool3 = 17%2\n",
        "my_bool4 = 1==0\n",
        "my_bool5 = '17 is even number'\n",
        "\n",
        "print (my_bool3)"
      ],
      "metadata": {
        "colab": {
          "base_uri": "https://localhost:8080/"
        },
        "id": "YSqfr5VKEByI",
        "outputId": "042652df-2259-4207-fccf-c3e03f06f9cb"
      },
      "execution_count": 9,
      "outputs": [
        {
          "output_type": "stream",
          "name": "stdout",
          "text": [
            "1\n"
          ]
        }
      ]
    },
    {
      "cell_type": "code",
      "source": [
        "print (my_bool3)"
      ],
      "metadata": {
        "colab": {
          "base_uri": "https://localhost:8080/"
        },
        "id": "c8ZUtr9-Gtg6",
        "outputId": "94484281-0702-4804-e0e5-8e22d21448ec"
      },
      "execution_count": 12,
      "outputs": [
        {
          "output_type": "stream",
          "name": "stdout",
          "text": [
            "1\n"
          ]
        }
      ]
    },
    {
      "cell_type": "code",
      "source": [
        "my_bool4= 1==0\n",
        "print(my_bool2)"
      ],
      "metadata": {
        "colab": {
          "base_uri": "https://localhost:8080/"
        },
        "id": "fJ9WgbJmGPMK",
        "outputId": "83347556-564c-437a-b351-8efd3fc97c61"
      },
      "execution_count": 10,
      "outputs": [
        {
          "output_type": "stream",
          "name": "stdout",
          "text": [
            "False\n"
          ]
        }
      ]
    },
    {
      "cell_type": "code",
      "source": [
        "my_bool5 = '17 is even number'\n",
        "print (my_bool2)"
      ],
      "metadata": {
        "colab": {
          "base_uri": "https://localhost:8080/"
        },
        "id": "9RtKRzvgGZya",
        "outputId": "f9a4bcc3-6346-48bd-f3c5-c33390ee7dac"
      },
      "execution_count": 11,
      "outputs": [
        {
          "output_type": "stream",
          "name": "stdout",
          "text": [
            "False\n"
          ]
        }
      ]
    },
    {
      "cell_type": "code",
      "source": [
        "num = '168.7'\n",
        "float(num)"
      ],
      "metadata": {
        "colab": {
          "base_uri": "https://localhost:8080/"
        },
        "id": "e4fqLz7qGxCK",
        "outputId": "3a7fe710-d276-4a2a-ea1c-287ce39c72d0"
      },
      "execution_count": 13,
      "outputs": [
        {
          "output_type": "execute_result",
          "data": {
            "text/plain": [
              "168.7"
            ]
          },
          "metadata": {},
          "execution_count": 13
        }
      ]
    },
    {
      "cell_type": "code",
      "source": [
        "a = '코사다마'"
      ],
      "metadata": {
        "id": "xBrkQOQNHFpr"
      },
      "execution_count": 14,
      "outputs": []
    },
    {
      "cell_type": "code",
      "source": [
        "print(a[3]+a[2]+a[1]+a[0])"
      ],
      "metadata": {
        "colab": {
          "base_uri": "https://localhost:8080/"
        },
        "id": "fh4NxqfrIYti",
        "outputId": "04e4bfd4-89df-4e2f-bc7e-381ffd323add"
      },
      "execution_count": 17,
      "outputs": [
        {
          "output_type": "stream",
          "name": "stdout",
          "text": [
            "마다사코\n"
          ]
        }
      ]
    },
    {
      "cell_type": "code",
      "source": [
        "phone_num = '010-3945-2379'\n",
        "phone_num.replace('-','')"
      ],
      "metadata": {
        "colab": {
          "base_uri": "https://localhost:8080/",
          "height": 35
        },
        "id": "gED41fvxJvMq",
        "outputId": "fedd54d6-69dd-4054-e4b0-d044a7044e20"
      },
      "execution_count": 22,
      "outputs": [
        {
          "output_type": "execute_result",
          "data": {
            "text/plain": [
              "'01039452379'"
            ],
            "application/vnd.google.colaboratory.intrinsic+json": {
              "type": "string"
            }
          },
          "metadata": {},
          "execution_count": 22
        }
      ]
    },
    {
      "cell_type": "code",
      "source": [
        "a = '010-3945-2379'\n",
        "a.replace('-', '')"
      ],
      "metadata": {
        "colab": {
          "base_uri": "https://localhost:8080/",
          "height": 35
        },
        "id": "3RWyUxhCKWap",
        "outputId": "3d4fcbf9-bc76-4051-d9b8-7b5ec7a500e2"
      },
      "execution_count": 21,
      "outputs": [
        {
          "output_type": "execute_result",
          "data": {
            "text/plain": [
              "'01039452379'"
            ],
            "application/vnd.google.colaboratory.intrinsic+json": {
              "type": "string"
            }
          },
          "metadata": {},
          "execution_count": 21
        }
      ]
    },
    {
      "cell_type": "code",
      "source": [
        "studentID = '20242673'\n",
        "name = '권도희'\n",
        "\n",
        "print('입학연도:studentID[0:4]','/','이름:name[0:4]', '/', '학번:studentID[0:9]')"
      ],
      "metadata": {
        "colab": {
          "base_uri": "https://localhost:8080/"
        },
        "id": "LZkF3CqLKeoA",
        "outputId": "145e13b9-0813-4f06-dd6e-ede7f8e57bed"
      },
      "execution_count": 24,
      "outputs": [
        {
          "output_type": "stream",
          "name": "stdout",
          "text": [
            "입학연도:studentID[0:4] / 이름:name[0:4] / 학번:studentID[0:9]\n"
          ]
        }
      ]
    },
    {
      "cell_type": "code",
      "source": [
        "studentID = '20242673'\n",
        "name = '권도희'\n",
        "\n",
        "a1=studentID\n",
        "a2=name\n",
        "'입학연도:%d / 이름:%s / 학번:%d'%(a1[0:4],a2[0:4],a1[0:9])"
      ],
      "metadata": {
        "colab": {
          "base_uri": "https://localhost:8080/",
          "height": 176
        },
        "id": "ZnCC9offLxaY",
        "outputId": "75842b4e-fbc1-40b2-905f-493b7b1e24b0"
      },
      "execution_count": 29,
      "outputs": [
        {
          "output_type": "error",
          "ename": "TypeError",
          "evalue": "%d format: a real number is required, not str",
          "traceback": [
            "\u001b[0;31m---------------------------------------------------------------------------\u001b[0m",
            "\u001b[0;31mTypeError\u001b[0m                                 Traceback (most recent call last)",
            "\u001b[0;32m<ipython-input-29-0c508e5464a2>\u001b[0m in \u001b[0;36m<cell line: 6>\u001b[0;34m()\u001b[0m\n\u001b[1;32m      4\u001b[0m \u001b[0ma1\u001b[0m\u001b[0;34m=\u001b[0m\u001b[0mstudentID\u001b[0m\u001b[0;34m\u001b[0m\u001b[0;34m\u001b[0m\u001b[0m\n\u001b[1;32m      5\u001b[0m \u001b[0ma2\u001b[0m\u001b[0;34m=\u001b[0m\u001b[0mname\u001b[0m\u001b[0;34m\u001b[0m\u001b[0;34m\u001b[0m\u001b[0m\n\u001b[0;32m----> 6\u001b[0;31m \u001b[0;34m'입학연도:%d / 이름:%s / 학번:%d'\u001b[0m\u001b[0;34m%\u001b[0m\u001b[0;34m(\u001b[0m\u001b[0ma1\u001b[0m\u001b[0;34m[\u001b[0m\u001b[0;36m0\u001b[0m\u001b[0;34m:\u001b[0m\u001b[0;36m4\u001b[0m\u001b[0;34m]\u001b[0m\u001b[0;34m,\u001b[0m\u001b[0ma2\u001b[0m\u001b[0;34m[\u001b[0m\u001b[0;36m0\u001b[0m\u001b[0;34m:\u001b[0m\u001b[0;36m4\u001b[0m\u001b[0;34m]\u001b[0m\u001b[0;34m,\u001b[0m\u001b[0ma1\u001b[0m\u001b[0;34m[\u001b[0m\u001b[0;36m0\u001b[0m\u001b[0;34m:\u001b[0m\u001b[0;36m9\u001b[0m\u001b[0;34m]\u001b[0m\u001b[0;34m)\u001b[0m\u001b[0;34m\u001b[0m\u001b[0;34m\u001b[0m\u001b[0m\n\u001b[0m",
            "\u001b[0;31mTypeError\u001b[0m: %d format: a real number is required, not str"
          ]
        }
      ]
    },
    {
      "cell_type": "code",
      "source": [
        "studentID = '20242673'\n",
        "name = '권도희'\n",
        "\n",
        "a1=studentID\n",
        "a2=name\n",
        "\n",
        "print(a1[0:4], a2[0:4], a1[0:9])"
      ],
      "metadata": {
        "colab": {
          "base_uri": "https://localhost:8080/"
        },
        "id": "klNdgsvyMtvt",
        "outputId": "2c5e495e-0235-44bc-82da-35e98c821ce5"
      },
      "execution_count": 31,
      "outputs": [
        {
          "output_type": "stream",
          "name": "stdout",
          "text": [
            "2024 권도희 20242673\n"
          ]
        }
      ]
    },
    {
      "cell_type": "code",
      "source": [
        "print('입학연도'+': ',a1[0:4],' / '+'이름'+': ',a2[0:4],' / '+'학번'+': ',a1[0:9])"
      ],
      "metadata": {
        "colab": {
          "base_uri": "https://localhost:8080/"
        },
        "id": "ZOi6-Ms4ODBh",
        "outputId": "093e81b4-f572-4ca7-ebf8-e58f4e9c7b5f"
      },
      "execution_count": 33,
      "outputs": [
        {
          "output_type": "stream",
          "name": "stdout",
          "text": [
            "입학연도:  2024  / 이름:  권도희  / 학번:  20242673\n"
          ]
        }
      ]
    }
  ]
}