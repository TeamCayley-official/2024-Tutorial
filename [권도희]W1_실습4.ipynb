{
  "nbformat": 4,
  "nbformat_minor": 0,
  "metadata": {
    "colab": {
      "provenance": []
    },
    "kernelspec": {
      "name": "python3",
      "display_name": "Python 3"
    },
    "language_info": {
      "name": "python"
    }
  },
  "cells": [
    {
      "cell_type": "code",
      "execution_count": 6,
      "metadata": {
        "id": "e4pIQWihVo-1",
        "colab": {
          "base_uri": "https://localhost:8080/",
          "height": 0
        },
        "outputId": "8046dd14-3d7f-4858-c4aa-b9ede44995b2"
      },
      "outputs": [
        {
          "output_type": "stream",
          "name": "stdout",
          "text": [
            "[0, 70, 100, 56.666666666666664] [100, 30, 70, 66.66666666666667] [100, 0, 80, 60.0]\n"
          ]
        }
      ],
      "source": [
        "Beyonce = [0, 100, 100]\n",
        "Hero = [70, 30, 0]\n",
        "Vicky = [100, 70, 80]\n",
        "\n",
        "Korea = []\n",
        "Korea [0:3] = [ Beyonce[0], Hero[0], Vicky[0], (Beyonce[0]+Hero[0] + Vicky[0])/3 ]\n",
        "Math = []\n",
        "Math [0:3] = [ Beyonce[1], Hero[1], Vicky[1], (Beyonce[1]+Hero[1] + Vicky[1])/3 ]\n",
        "Eglish = []\n",
        "Eglish [0:3] = [ Beyonce[2], Hero[2], Vicky[2], (Beyonce[2]+Hero[2] + Vicky[2])/3 ]\n",
        "print (Korea, Math, Eglish)"
      ]
    },
    {
      "cell_type": "code",
      "source": [
        "# 랜덤으로 수를 삽입하는 법을 몰라서 검색 사용\n",
        "# 랜덤 리스트를 만든 것까지는 내가 쓰지 않음\n",
        "\n",
        "import random\n",
        "\n",
        "def generate_random_list():\n",
        "    my_list = []\n",
        "    for i in range(10):\n",
        "        random_num = random.randint(1, 100)\n",
        "        my_list.append(random_num)\n",
        "    return my_list\n",
        "\n",
        "# 함수 호출 및 반환값 저장\n",
        "random_list = generate_random_list()\n",
        "print (random_list)\n",
        "\n",
        "random_list.sort()\n",
        "print(random_list[0], random_list[9])"
      ],
      "metadata": {
        "colab": {
          "base_uri": "https://localhost:8080/",
          "height": 0
        },
        "id": "RdclJwqgfxIX",
        "outputId": "1025d569-dc0e-4078-88ce-e1478a23a723"
      },
      "execution_count": 32,
      "outputs": [
        {
          "output_type": "stream",
          "name": "stdout",
          "text": [
            "[60, 18, 7, 49, 85, 40, 47, 3, 60, 56]\n",
            "3 85\n"
          ]
        }
      ]
    }
  ]
}